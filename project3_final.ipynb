{
 "cells": [
  {
   "cell_type": "markdown",
   "metadata": {
    "id": "kPCJxfHOMe6q"
   },
   "source": [
    "### Project's Description"
   ]
  },
  {
   "cell_type": "markdown",
   "metadata": {
    "id": "461lHd3IGvNT"
   },
   "source": [
    "**Content**\n",
    "The Global Health Observatory (GHO) data repository under World Health Organization (WHO) keeps track of the health status as well as many other related factors for all countries <br>\n",
    "\n",
    "The data-set related to life expectancy, health factors for 193 countries has been collected from the same WHO data repository and its corresponding economic data was collected from United Nation website. <br>\n",
    "\n",
    "In this project we have considered data from year 2000-2015 for 193 countries for further analysis. The final dataset consists of 22 Columns and 2938 rows which meant 20 predicting variables."
   ]
  },
  {
   "cell_type": "markdown",
   "metadata": {
    "id": "Ol2M6WQog1EB"
   },
   "source": [
    "**Variable Descriptions:** <br>\n",
    "1. **country** (Nominal) - the country in which the indicators are from (i.e. United States of America or Congo) <br>\n",
    "2. **year**(Ordinal) - the calendar year the indicators are from (ranging from 2000 to 2015) <br>\n",
    "3. **status** (Nominal) - whether a country is considered to be 'Developing' or 'Developed' by WHO standards\n",
    "4. **life_expectancy** (Ratio) - the life expectancy of people in years for a particular country and year\n",
    "5. **adult_mortality** (Ratio) - the adult mortality rate per 1000 population (i.e. number of people dying between 15 and 60 years per 1000 population); if the rate is 263 then that means 263 people will die out of 1000 between the ages of 15 and 60; another way to think of this is that the chance an individual will die between 15 and 60 is 26.3%\n",
    "\n",
    "6. **infant_deaths** (Ratio) - number of infant deaths per 1000 population; similar to above, but for infants\n",
    "\n",
    "7. **alcohol**(Ratio) - a country's alcohol consumption rate measured as liters of pure alcohol consumption per capita\n",
    "\n",
    "8. **percentage_expenditure** (Ratio) - expenditure on health as a percentage of Gross Domestic Product (gdp)\n",
    "9. **hepatitis_b** (Ratio) - number of 1 year olds with Hepatitis B immunization over all 1 year olds in population\n",
    "10. **measles** (Ratio) - number of reported Measles cases per 1000 population\n",
    "11. **bmi** (Interval/Ordinal) - average Body Mass Index (BMI) of a country's total population\n",
    "12. **under-five_deaths** (Ratio) - number of people under the age of five deaths per 1000 population\n",
    "13. **polio** (Ratio) - number of 1 year olds with Polio immunization over the number of all 1 year olds in population\n",
    "14. **total_expenditure** (Ratio) - government expenditure on health as a percentage of total government expenditure\n",
    "15. **diphtheria** (Ratio) - Diphtheria tetanus toxoid and pertussis (DTP3) immunization rate of 1 year olds\n",
    "16. **hiv/aids** (Ratio) - deaths per 1000 live births caused by HIV/AIDS for people under 5; number of people under 5 who die due to HIV/AIDS per 1000 births\n",
    "17. **gdp** (Ratio) - Gross Domestic Product per capita\n",
    "18. **population** (Ratio) - population of a country\n",
    "19. **thinness_1-19_years** (Ratio) - rate of thinness among people aged 10-19 (Note: variable should be renamed to thinness_10-19_years to more accurately represent the variable)\n",
    "20. **thinness_5-9_years** (Ratio) - rate of thinness among people aged 5-9\n",
    "21. **income_composition_of_resources** (Ratio) - Human Development Index in terms of income composition of resources (index ranging from 0 to 1)\n",
    "22. **schooling** (Ratio) - average number of years of schooling of a population\n",
    "\n"
   ]
  },
  {
   "cell_type": "markdown",
   "metadata": {
    "id": "hH0onhQvIixO"
   },
   "source": [
    "## **Introduction** \n",
    "\n",
    "Today, we are stepping into the role of data analytics consultants for the World Health Organization (WHO). Our task is to analyze global health indicators and uncover key differences between developed and developing countries. WHO wants us to explore how economic development, healthcare spending, and immunization rates impact overall health outcomes.\n",
    "\n",
    "Previously, WHO included BMI and body weight-related measures in its analysis, but they’ve concluded that these indicators don’t actually differ between developed and developing nations. So, we won’t be using them in our methodology moving forward.\n",
    "\n",
    "**Over the course of this workshop and the next, we will:**\n",
    "* Compare life expectancy between developed and developing countries.\n",
    "* Identify high-risk countries with concerning mortality rates.\n",
    "* Look for paradoxes in GDP vs. healthcare expenditure.\n",
    "* Analyze immunization trends across different economic groups.\n",
    "* Reevaluate WHO’s decision to exclude BMI and body weight measures.\n",
    "\n",
    "By the end, we’ll have real-world experience in data-driven decision-making, helping WHO refine its approach to global health assessment. Let’s dive in!"
   ]
  },
  {
   "cell_type": "markdown",
   "metadata": {
    "id": "Es1yQvj-UaEg"
   },
   "source": [
    "**Why WHO needs that?**\n",
    "One of the goals of WHO is helping countries in creating better health programs. Over the years they've created several methods on analyzing which parameters work better/worse for specific countries. They have already filtered out some of the parameters that they're particular interested what is the difference in general health indicators between developed and developing countries, especially in terms of economic development/expenditure and immunization. If WHO knows which indicators are the same for two types of countires and which are different, it will help them to adjust recommendations for types of countries, make them more unique."
   ]
  },
  {
   "cell_type": "code",
   "execution_count": 68,
   "metadata": {
    "id": "Ngs7KG6e3nKq"
   },
   "outputs": [],
   "source": [
    "# required libraries\n",
    "import pandas as pd\n",
    "import numpy as np\n",
    "\n",
    "import matplotlib.pyplot as plt \n",
    "import seaborn as sns\n",
    "\n",
    "from scipy import stats"
   ]
  },
  {
   "cell_type": "code",
   "execution_count": 69,
   "metadata": {
    "id": "1s1xm0V94oJr"
   },
   "outputs": [
    {
     "data": {
      "text/html": [
       "<div>\n",
       "<style scoped>\n",
       "    .dataframe tbody tr th:only-of-type {\n",
       "        vertical-align: middle;\n",
       "    }\n",
       "\n",
       "    .dataframe tbody tr th {\n",
       "        vertical-align: top;\n",
       "    }\n",
       "\n",
       "    .dataframe thead th {\n",
       "        text-align: right;\n",
       "    }\n",
       "</style>\n",
       "<table border=\"1\" class=\"dataframe\">\n",
       "  <thead>\n",
       "    <tr style=\"text-align: right;\">\n",
       "      <th></th>\n",
       "      <th>Country</th>\n",
       "      <th>Year</th>\n",
       "      <th>Status</th>\n",
       "      <th>Life expectancy</th>\n",
       "      <th>Adult Mortality</th>\n",
       "      <th>infant deaths</th>\n",
       "      <th>Alcohol</th>\n",
       "      <th>percentage expenditure</th>\n",
       "      <th>Hepatitis B</th>\n",
       "      <th>Measles</th>\n",
       "      <th>...</th>\n",
       "      <th>Polio</th>\n",
       "      <th>Total expenditure</th>\n",
       "      <th>Diphtheria</th>\n",
       "      <th>HIV/AIDS</th>\n",
       "      <th>GDP</th>\n",
       "      <th>Population</th>\n",
       "      <th>thinness  1-19 years</th>\n",
       "      <th>thinness 5-9 years</th>\n",
       "      <th>Income composition of resources</th>\n",
       "      <th>Schooling</th>\n",
       "    </tr>\n",
       "  </thead>\n",
       "  <tbody>\n",
       "    <tr>\n",
       "      <th>0</th>\n",
       "      <td>Afghanistan</td>\n",
       "      <td>2015</td>\n",
       "      <td>Developing</td>\n",
       "      <td>65.0</td>\n",
       "      <td>263.0</td>\n",
       "      <td>62</td>\n",
       "      <td>0.01</td>\n",
       "      <td>71.279624</td>\n",
       "      <td>65.0</td>\n",
       "      <td>1154</td>\n",
       "      <td>...</td>\n",
       "      <td>6.0</td>\n",
       "      <td>8.16</td>\n",
       "      <td>65.0</td>\n",
       "      <td>0.1</td>\n",
       "      <td>584.259210</td>\n",
       "      <td>33736494.0</td>\n",
       "      <td>17.2</td>\n",
       "      <td>17.3</td>\n",
       "      <td>0.479</td>\n",
       "      <td>10.1</td>\n",
       "    </tr>\n",
       "    <tr>\n",
       "      <th>1</th>\n",
       "      <td>Afghanistan</td>\n",
       "      <td>2014</td>\n",
       "      <td>Developing</td>\n",
       "      <td>59.9</td>\n",
       "      <td>271.0</td>\n",
       "      <td>64</td>\n",
       "      <td>0.01</td>\n",
       "      <td>73.523582</td>\n",
       "      <td>62.0</td>\n",
       "      <td>492</td>\n",
       "      <td>...</td>\n",
       "      <td>58.0</td>\n",
       "      <td>8.18</td>\n",
       "      <td>62.0</td>\n",
       "      <td>0.1</td>\n",
       "      <td>612.696514</td>\n",
       "      <td>327582.0</td>\n",
       "      <td>17.5</td>\n",
       "      <td>17.5</td>\n",
       "      <td>0.476</td>\n",
       "      <td>10.0</td>\n",
       "    </tr>\n",
       "    <tr>\n",
       "      <th>2</th>\n",
       "      <td>Afghanistan</td>\n",
       "      <td>2013</td>\n",
       "      <td>Developing</td>\n",
       "      <td>59.9</td>\n",
       "      <td>268.0</td>\n",
       "      <td>66</td>\n",
       "      <td>0.01</td>\n",
       "      <td>73.219243</td>\n",
       "      <td>64.0</td>\n",
       "      <td>430</td>\n",
       "      <td>...</td>\n",
       "      <td>62.0</td>\n",
       "      <td>8.13</td>\n",
       "      <td>64.0</td>\n",
       "      <td>0.1</td>\n",
       "      <td>631.744976</td>\n",
       "      <td>31731688.0</td>\n",
       "      <td>17.7</td>\n",
       "      <td>17.7</td>\n",
       "      <td>0.470</td>\n",
       "      <td>9.9</td>\n",
       "    </tr>\n",
       "    <tr>\n",
       "      <th>3</th>\n",
       "      <td>Afghanistan</td>\n",
       "      <td>2012</td>\n",
       "      <td>Developing</td>\n",
       "      <td>59.5</td>\n",
       "      <td>272.0</td>\n",
       "      <td>69</td>\n",
       "      <td>0.01</td>\n",
       "      <td>78.184215</td>\n",
       "      <td>67.0</td>\n",
       "      <td>2787</td>\n",
       "      <td>...</td>\n",
       "      <td>67.0</td>\n",
       "      <td>8.52</td>\n",
       "      <td>67.0</td>\n",
       "      <td>0.1</td>\n",
       "      <td>669.959000</td>\n",
       "      <td>3696958.0</td>\n",
       "      <td>17.9</td>\n",
       "      <td>18.0</td>\n",
       "      <td>0.463</td>\n",
       "      <td>9.8</td>\n",
       "    </tr>\n",
       "    <tr>\n",
       "      <th>4</th>\n",
       "      <td>Afghanistan</td>\n",
       "      <td>2011</td>\n",
       "      <td>Developing</td>\n",
       "      <td>59.2</td>\n",
       "      <td>275.0</td>\n",
       "      <td>71</td>\n",
       "      <td>0.01</td>\n",
       "      <td>7.097109</td>\n",
       "      <td>68.0</td>\n",
       "      <td>3013</td>\n",
       "      <td>...</td>\n",
       "      <td>68.0</td>\n",
       "      <td>7.87</td>\n",
       "      <td>68.0</td>\n",
       "      <td>0.1</td>\n",
       "      <td>63.537231</td>\n",
       "      <td>2978599.0</td>\n",
       "      <td>18.2</td>\n",
       "      <td>18.2</td>\n",
       "      <td>0.454</td>\n",
       "      <td>9.5</td>\n",
       "    </tr>\n",
       "  </tbody>\n",
       "</table>\n",
       "<p>5 rows × 22 columns</p>\n",
       "</div>"
      ],
      "text/plain": [
       "       Country  Year      Status  Life expectancy   Adult Mortality  \\\n",
       "0  Afghanistan  2015  Developing              65.0            263.0   \n",
       "1  Afghanistan  2014  Developing              59.9            271.0   \n",
       "2  Afghanistan  2013  Developing              59.9            268.0   \n",
       "3  Afghanistan  2012  Developing              59.5            272.0   \n",
       "4  Afghanistan  2011  Developing              59.2            275.0   \n",
       "\n",
       "   infant deaths  Alcohol  percentage expenditure  Hepatitis B  Measles   ...  \\\n",
       "0             62     0.01               71.279624         65.0      1154  ...   \n",
       "1             64     0.01               73.523582         62.0       492  ...   \n",
       "2             66     0.01               73.219243         64.0       430  ...   \n",
       "3             69     0.01               78.184215         67.0      2787  ...   \n",
       "4             71     0.01                7.097109         68.0      3013  ...   \n",
       "\n",
       "   Polio  Total expenditure  Diphtheria    HIV/AIDS         GDP  Population  \\\n",
       "0    6.0               8.16         65.0        0.1  584.259210  33736494.0   \n",
       "1   58.0               8.18         62.0        0.1  612.696514    327582.0   \n",
       "2   62.0               8.13         64.0        0.1  631.744976  31731688.0   \n",
       "3   67.0               8.52         67.0        0.1  669.959000   3696958.0   \n",
       "4   68.0               7.87         68.0        0.1   63.537231   2978599.0   \n",
       "\n",
       "    thinness  1-19 years   thinness 5-9 years  \\\n",
       "0                   17.2                 17.3   \n",
       "1                   17.5                 17.5   \n",
       "2                   17.7                 17.7   \n",
       "3                   17.9                 18.0   \n",
       "4                   18.2                 18.2   \n",
       "\n",
       "   Income composition of resources  Schooling  \n",
       "0                            0.479       10.1  \n",
       "1                            0.476       10.0  \n",
       "2                            0.470        9.9  \n",
       "3                            0.463        9.8  \n",
       "4                            0.454        9.5  \n",
       "\n",
       "[5 rows x 22 columns]"
      ]
     },
     "execution_count": 69,
     "metadata": {},
     "output_type": "execute_result"
    }
   ],
   "source": [
    "data = pd.read_csv('/Users/keithrobinson/Desktop/TripleTen/Projects/project3/Life Expectancy Data.csv')\n",
    "data.head()"
   ]
  },
  {
   "cell_type": "code",
   "execution_count": 70,
   "metadata": {},
   "outputs": [
    {
     "data": {
      "text/plain": [
       "(2938, 22)"
      ]
     },
     "execution_count": 70,
     "metadata": {},
     "output_type": "execute_result"
    }
   ],
   "source": [
    "data.shape"
   ]
  },
  {
   "cell_type": "code",
   "execution_count": 71,
   "metadata": {
    "id": "zyousT0wqdPU"
   },
   "outputs": [
    {
     "data": {
      "text/plain": [
       "Index(['country', 'year', 'status', 'life_expectancy', 'adult_mortality',\n",
       "       'infant_deaths', 'alcohol', 'percentage_expenditure', 'hepatitis_b',\n",
       "       'measles', 'bmi', 'under_five_deaths', 'polio', 'total_expenditure',\n",
       "       'diphtheria', 'hiv_aids', 'gdp', 'population', 'thinness__1_19_years',\n",
       "       'thinness_5_9_years', 'income_composition_of_resources', 'schooling'],\n",
       "      dtype='object')"
      ]
     },
     "execution_count": 71,
     "metadata": {},
     "output_type": "execute_result"
    }
   ],
   "source": [
    "#renaming columns\n",
    "data.columns=data.columns.str.lower()\n",
    "data.columns=data.columns.str.strip()\n",
    "data.columns=data.columns.str.replace(' ','_').str.replace('-','_').str.replace('/', '_')\n",
    "data.columns"
   ]
  },
  {
   "cell_type": "markdown",
   "metadata": {
    "id": "BoQ-jK0-gp8y"
   },
   "source": [
    "## Analysis of immunization"
   ]
  },
  {
   "cell_type": "markdown",
   "metadata": {
    "id": "dJyKfIkIis_p"
   },
   "source": [
    "**For each country find an average immunization rate for all years. Calculate the mean, dispersion, standard deviation. Plot histograms, describe how distributions varies among two groups of countries**"
   ]
  },
  {
   "cell_type": "code",
   "execution_count": 72,
   "metadata": {
    "colab": {
     "base_uri": "https://localhost:8080/",
     "height": 241
    },
    "id": "IOFF8Cw1_uJD",
    "outputId": "fa637d35-0a2d-40ac-d752-49d5ebb6231b"
   },
   "outputs": [
    {
     "data": {
      "text/html": [
       "<div>\n",
       "<style scoped>\n",
       "    .dataframe tbody tr th:only-of-type {\n",
       "        vertical-align: middle;\n",
       "    }\n",
       "\n",
       "    .dataframe tbody tr th {\n",
       "        vertical-align: top;\n",
       "    }\n",
       "\n",
       "    .dataframe thead th {\n",
       "        text-align: right;\n",
       "    }\n",
       "</style>\n",
       "<table border=\"1\" class=\"dataframe\">\n",
       "  <thead>\n",
       "    <tr style=\"text-align: right;\">\n",
       "      <th></th>\n",
       "      <th>country</th>\n",
       "      <th>year</th>\n",
       "      <th>status</th>\n",
       "      <th>life_expectancy</th>\n",
       "      <th>adult_mortality</th>\n",
       "      <th>infant_deaths</th>\n",
       "      <th>alcohol</th>\n",
       "      <th>percentage_expenditure</th>\n",
       "      <th>hepatitis_b</th>\n",
       "      <th>measles</th>\n",
       "      <th>...</th>\n",
       "      <th>polio</th>\n",
       "      <th>total_expenditure</th>\n",
       "      <th>diphtheria</th>\n",
       "      <th>hiv_aids</th>\n",
       "      <th>gdp</th>\n",
       "      <th>population</th>\n",
       "      <th>thinness__1_19_years</th>\n",
       "      <th>thinness_5_9_years</th>\n",
       "      <th>income_composition_of_resources</th>\n",
       "      <th>schooling</th>\n",
       "    </tr>\n",
       "  </thead>\n",
       "  <tbody>\n",
       "    <tr>\n",
       "      <th>0</th>\n",
       "      <td>Afghanistan</td>\n",
       "      <td>2015</td>\n",
       "      <td>Developing</td>\n",
       "      <td>65.0</td>\n",
       "      <td>263.0</td>\n",
       "      <td>62</td>\n",
       "      <td>0.01</td>\n",
       "      <td>71.279624</td>\n",
       "      <td>65.0</td>\n",
       "      <td>1154</td>\n",
       "      <td>...</td>\n",
       "      <td>6.0</td>\n",
       "      <td>8.16</td>\n",
       "      <td>65.0</td>\n",
       "      <td>0.1</td>\n",
       "      <td>584.259210</td>\n",
       "      <td>33736494.0</td>\n",
       "      <td>17.2</td>\n",
       "      <td>17.3</td>\n",
       "      <td>0.479</td>\n",
       "      <td>10.1</td>\n",
       "    </tr>\n",
       "    <tr>\n",
       "      <th>1</th>\n",
       "      <td>Afghanistan</td>\n",
       "      <td>2014</td>\n",
       "      <td>Developing</td>\n",
       "      <td>59.9</td>\n",
       "      <td>271.0</td>\n",
       "      <td>64</td>\n",
       "      <td>0.01</td>\n",
       "      <td>73.523582</td>\n",
       "      <td>62.0</td>\n",
       "      <td>492</td>\n",
       "      <td>...</td>\n",
       "      <td>58.0</td>\n",
       "      <td>8.18</td>\n",
       "      <td>62.0</td>\n",
       "      <td>0.1</td>\n",
       "      <td>612.696514</td>\n",
       "      <td>327582.0</td>\n",
       "      <td>17.5</td>\n",
       "      <td>17.5</td>\n",
       "      <td>0.476</td>\n",
       "      <td>10.0</td>\n",
       "    </tr>\n",
       "    <tr>\n",
       "      <th>2</th>\n",
       "      <td>Afghanistan</td>\n",
       "      <td>2013</td>\n",
       "      <td>Developing</td>\n",
       "      <td>59.9</td>\n",
       "      <td>268.0</td>\n",
       "      <td>66</td>\n",
       "      <td>0.01</td>\n",
       "      <td>73.219243</td>\n",
       "      <td>64.0</td>\n",
       "      <td>430</td>\n",
       "      <td>...</td>\n",
       "      <td>62.0</td>\n",
       "      <td>8.13</td>\n",
       "      <td>64.0</td>\n",
       "      <td>0.1</td>\n",
       "      <td>631.744976</td>\n",
       "      <td>31731688.0</td>\n",
       "      <td>17.7</td>\n",
       "      <td>17.7</td>\n",
       "      <td>0.470</td>\n",
       "      <td>9.9</td>\n",
       "    </tr>\n",
       "    <tr>\n",
       "      <th>3</th>\n",
       "      <td>Afghanistan</td>\n",
       "      <td>2012</td>\n",
       "      <td>Developing</td>\n",
       "      <td>59.5</td>\n",
       "      <td>272.0</td>\n",
       "      <td>69</td>\n",
       "      <td>0.01</td>\n",
       "      <td>78.184215</td>\n",
       "      <td>67.0</td>\n",
       "      <td>2787</td>\n",
       "      <td>...</td>\n",
       "      <td>67.0</td>\n",
       "      <td>8.52</td>\n",
       "      <td>67.0</td>\n",
       "      <td>0.1</td>\n",
       "      <td>669.959000</td>\n",
       "      <td>3696958.0</td>\n",
       "      <td>17.9</td>\n",
       "      <td>18.0</td>\n",
       "      <td>0.463</td>\n",
       "      <td>9.8</td>\n",
       "    </tr>\n",
       "    <tr>\n",
       "      <th>4</th>\n",
       "      <td>Afghanistan</td>\n",
       "      <td>2011</td>\n",
       "      <td>Developing</td>\n",
       "      <td>59.2</td>\n",
       "      <td>275.0</td>\n",
       "      <td>71</td>\n",
       "      <td>0.01</td>\n",
       "      <td>7.097109</td>\n",
       "      <td>68.0</td>\n",
       "      <td>3013</td>\n",
       "      <td>...</td>\n",
       "      <td>68.0</td>\n",
       "      <td>7.87</td>\n",
       "      <td>68.0</td>\n",
       "      <td>0.1</td>\n",
       "      <td>63.537231</td>\n",
       "      <td>2978599.0</td>\n",
       "      <td>18.2</td>\n",
       "      <td>18.2</td>\n",
       "      <td>0.454</td>\n",
       "      <td>9.5</td>\n",
       "    </tr>\n",
       "  </tbody>\n",
       "</table>\n",
       "<p>5 rows × 22 columns</p>\n",
       "</div>"
      ],
      "text/plain": [
       "       country  year      status  life_expectancy  adult_mortality  \\\n",
       "0  Afghanistan  2015  Developing             65.0            263.0   \n",
       "1  Afghanistan  2014  Developing             59.9            271.0   \n",
       "2  Afghanistan  2013  Developing             59.9            268.0   \n",
       "3  Afghanistan  2012  Developing             59.5            272.0   \n",
       "4  Afghanistan  2011  Developing             59.2            275.0   \n",
       "\n",
       "   infant_deaths  alcohol  percentage_expenditure  hepatitis_b  measles  ...  \\\n",
       "0             62     0.01               71.279624         65.0     1154  ...   \n",
       "1             64     0.01               73.523582         62.0      492  ...   \n",
       "2             66     0.01               73.219243         64.0      430  ...   \n",
       "3             69     0.01               78.184215         67.0     2787  ...   \n",
       "4             71     0.01                7.097109         68.0     3013  ...   \n",
       "\n",
       "   polio  total_expenditure  diphtheria  hiv_aids         gdp  population  \\\n",
       "0    6.0               8.16        65.0       0.1  584.259210  33736494.0   \n",
       "1   58.0               8.18        62.0       0.1  612.696514    327582.0   \n",
       "2   62.0               8.13        64.0       0.1  631.744976  31731688.0   \n",
       "3   67.0               8.52        67.0       0.1  669.959000   3696958.0   \n",
       "4   68.0               7.87        68.0       0.1   63.537231   2978599.0   \n",
       "\n",
       "   thinness__1_19_years  thinness_5_9_years  income_composition_of_resources  \\\n",
       "0                  17.2                17.3                            0.479   \n",
       "1                  17.5                17.5                            0.476   \n",
       "2                  17.7                17.7                            0.470   \n",
       "3                  17.9                18.0                            0.463   \n",
       "4                  18.2                18.2                            0.454   \n",
       "\n",
       "   schooling  \n",
       "0       10.1  \n",
       "1       10.0  \n",
       "2        9.9  \n",
       "3        9.8  \n",
       "4        9.5  \n",
       "\n",
       "[5 rows x 22 columns]"
      ]
     },
     "execution_count": 72,
     "metadata": {},
     "output_type": "execute_result"
    }
   ],
   "source": [
    "data.head()"
   ]
  },
  {
   "cell_type": "markdown",
   "metadata": {
    "id": "rvrtvZXec4i0"
   },
   "source": [
    "Let's find average immunization rate for each country"
   ]
  },
  {
   "cell_type": "code",
   "execution_count": 73,
   "metadata": {
    "colab": {
     "base_uri": "https://localhost:8080/",
     "height": 258
    },
    "id": "uvk9_d5b_avg",
    "outputId": "3724fa13-c673-4de2-daee-3fb5c2a7c754"
   },
   "outputs": [
    {
     "data": {
      "text/html": [
       "<div>\n",
       "<style scoped>\n",
       "    .dataframe tbody tr th:only-of-type {\n",
       "        vertical-align: middle;\n",
       "    }\n",
       "\n",
       "    .dataframe tbody tr th {\n",
       "        vertical-align: top;\n",
       "    }\n",
       "\n",
       "    .dataframe thead th {\n",
       "        text-align: right;\n",
       "    }\n",
       "</style>\n",
       "<table border=\"1\" class=\"dataframe\">\n",
       "  <thead>\n",
       "    <tr style=\"text-align: right;\">\n",
       "      <th></th>\n",
       "      <th>country</th>\n",
       "      <th>status</th>\n",
       "      <th>hepatitis_b</th>\n",
       "      <th>diphtheria</th>\n",
       "      <th>polio</th>\n",
       "    </tr>\n",
       "  </thead>\n",
       "  <tbody>\n",
       "    <tr>\n",
       "      <th>0</th>\n",
       "      <td>Afghanistan</td>\n",
       "      <td>Developing</td>\n",
       "      <td>64.562500</td>\n",
       "      <td>52.3125</td>\n",
       "      <td>48.3750</td>\n",
       "    </tr>\n",
       "    <tr>\n",
       "      <th>1</th>\n",
       "      <td>Albania</td>\n",
       "      <td>Developing</td>\n",
       "      <td>98.000000</td>\n",
       "      <td>98.0625</td>\n",
       "      <td>98.1250</td>\n",
       "    </tr>\n",
       "    <tr>\n",
       "      <th>2</th>\n",
       "      <td>Algeria</td>\n",
       "      <td>Developing</td>\n",
       "      <td>78.000000</td>\n",
       "      <td>91.8750</td>\n",
       "      <td>91.7500</td>\n",
       "    </tr>\n",
       "    <tr>\n",
       "      <th>3</th>\n",
       "      <td>Angola</td>\n",
       "      <td>Developing</td>\n",
       "      <td>70.222222</td>\n",
       "      <td>47.6875</td>\n",
       "      <td>46.1250</td>\n",
       "    </tr>\n",
       "    <tr>\n",
       "      <th>4</th>\n",
       "      <td>Antigua and Barbuda</td>\n",
       "      <td>Developing</td>\n",
       "      <td>98.266667</td>\n",
       "      <td>98.3125</td>\n",
       "      <td>96.9375</td>\n",
       "    </tr>\n",
       "  </tbody>\n",
       "</table>\n",
       "</div>"
      ],
      "text/plain": [
       "               country      status  hepatitis_b  diphtheria    polio\n",
       "0          Afghanistan  Developing    64.562500     52.3125  48.3750\n",
       "1              Albania  Developing    98.000000     98.0625  98.1250\n",
       "2              Algeria  Developing    78.000000     91.8750  91.7500\n",
       "3               Angola  Developing    70.222222     47.6875  46.1250\n",
       "4  Antigua and Barbuda  Developing    98.266667     98.3125  96.9375"
      ]
     },
     "execution_count": 73,
     "metadata": {},
     "output_type": "execute_result"
    }
   ],
   "source": [
    "immunization=data.groupby(['country','status'])[['hepatitis_b','diphtheria','polio']].mean().reset_index()\n",
    "immunization.head()"
   ]
  },
  {
   "cell_type": "markdown",
   "metadata": {
    "id": "Vj-aZI4fdO0I"
   },
   "source": [
    "We can automate the process from the task. Last time we've built histograms, calculated mean/std/var and cv, so we can bring everything in one function."
   ]
  },
  {
   "cell_type": "code",
   "execution_count": 74,
   "metadata": {},
   "outputs": [
    {
     "data": {
      "text/html": [
       "<div>\n",
       "<style scoped>\n",
       "    .dataframe tbody tr th:only-of-type {\n",
       "        vertical-align: middle;\n",
       "    }\n",
       "\n",
       "    .dataframe tbody tr th {\n",
       "        vertical-align: top;\n",
       "    }\n",
       "\n",
       "    .dataframe thead th {\n",
       "        text-align: right;\n",
       "    }\n",
       "</style>\n",
       "<table border=\"1\" class=\"dataframe\">\n",
       "  <thead>\n",
       "    <tr style=\"text-align: right;\">\n",
       "      <th></th>\n",
       "      <th>country</th>\n",
       "      <th>year</th>\n",
       "      <th>status</th>\n",
       "      <th>life_expectancy</th>\n",
       "      <th>adult_mortality</th>\n",
       "      <th>infant_deaths</th>\n",
       "      <th>alcohol</th>\n",
       "      <th>percentage_expenditure</th>\n",
       "      <th>hepatitis_b</th>\n",
       "      <th>measles</th>\n",
       "      <th>...</th>\n",
       "      <th>polio</th>\n",
       "      <th>total_expenditure</th>\n",
       "      <th>diphtheria</th>\n",
       "      <th>hiv_aids</th>\n",
       "      <th>gdp</th>\n",
       "      <th>population</th>\n",
       "      <th>thinness__1_19_years</th>\n",
       "      <th>thinness_5_9_years</th>\n",
       "      <th>income_composition_of_resources</th>\n",
       "      <th>schooling</th>\n",
       "    </tr>\n",
       "  </thead>\n",
       "  <tbody>\n",
       "    <tr>\n",
       "      <th>0</th>\n",
       "      <td>Afghanistan</td>\n",
       "      <td>2015</td>\n",
       "      <td>Developing</td>\n",
       "      <td>65.0</td>\n",
       "      <td>263.0</td>\n",
       "      <td>62</td>\n",
       "      <td>0.01</td>\n",
       "      <td>71.279624</td>\n",
       "      <td>65.0</td>\n",
       "      <td>1154</td>\n",
       "      <td>...</td>\n",
       "      <td>6.0</td>\n",
       "      <td>8.16</td>\n",
       "      <td>65.0</td>\n",
       "      <td>0.1</td>\n",
       "      <td>584.259210</td>\n",
       "      <td>33736494.0</td>\n",
       "      <td>17.2</td>\n",
       "      <td>17.3</td>\n",
       "      <td>0.479</td>\n",
       "      <td>10.1</td>\n",
       "    </tr>\n",
       "    <tr>\n",
       "      <th>1</th>\n",
       "      <td>Afghanistan</td>\n",
       "      <td>2014</td>\n",
       "      <td>Developing</td>\n",
       "      <td>59.9</td>\n",
       "      <td>271.0</td>\n",
       "      <td>64</td>\n",
       "      <td>0.01</td>\n",
       "      <td>73.523582</td>\n",
       "      <td>62.0</td>\n",
       "      <td>492</td>\n",
       "      <td>...</td>\n",
       "      <td>58.0</td>\n",
       "      <td>8.18</td>\n",
       "      <td>62.0</td>\n",
       "      <td>0.1</td>\n",
       "      <td>612.696514</td>\n",
       "      <td>327582.0</td>\n",
       "      <td>17.5</td>\n",
       "      <td>17.5</td>\n",
       "      <td>0.476</td>\n",
       "      <td>10.0</td>\n",
       "    </tr>\n",
       "    <tr>\n",
       "      <th>2</th>\n",
       "      <td>Afghanistan</td>\n",
       "      <td>2013</td>\n",
       "      <td>Developing</td>\n",
       "      <td>59.9</td>\n",
       "      <td>268.0</td>\n",
       "      <td>66</td>\n",
       "      <td>0.01</td>\n",
       "      <td>73.219243</td>\n",
       "      <td>64.0</td>\n",
       "      <td>430</td>\n",
       "      <td>...</td>\n",
       "      <td>62.0</td>\n",
       "      <td>8.13</td>\n",
       "      <td>64.0</td>\n",
       "      <td>0.1</td>\n",
       "      <td>631.744976</td>\n",
       "      <td>31731688.0</td>\n",
       "      <td>17.7</td>\n",
       "      <td>17.7</td>\n",
       "      <td>0.470</td>\n",
       "      <td>9.9</td>\n",
       "    </tr>\n",
       "    <tr>\n",
       "      <th>3</th>\n",
       "      <td>Afghanistan</td>\n",
       "      <td>2012</td>\n",
       "      <td>Developing</td>\n",
       "      <td>59.5</td>\n",
       "      <td>272.0</td>\n",
       "      <td>69</td>\n",
       "      <td>0.01</td>\n",
       "      <td>78.184215</td>\n",
       "      <td>67.0</td>\n",
       "      <td>2787</td>\n",
       "      <td>...</td>\n",
       "      <td>67.0</td>\n",
       "      <td>8.52</td>\n",
       "      <td>67.0</td>\n",
       "      <td>0.1</td>\n",
       "      <td>669.959000</td>\n",
       "      <td>3696958.0</td>\n",
       "      <td>17.9</td>\n",
       "      <td>18.0</td>\n",
       "      <td>0.463</td>\n",
       "      <td>9.8</td>\n",
       "    </tr>\n",
       "    <tr>\n",
       "      <th>4</th>\n",
       "      <td>Afghanistan</td>\n",
       "      <td>2011</td>\n",
       "      <td>Developing</td>\n",
       "      <td>59.2</td>\n",
       "      <td>275.0</td>\n",
       "      <td>71</td>\n",
       "      <td>0.01</td>\n",
       "      <td>7.097109</td>\n",
       "      <td>68.0</td>\n",
       "      <td>3013</td>\n",
       "      <td>...</td>\n",
       "      <td>68.0</td>\n",
       "      <td>7.87</td>\n",
       "      <td>68.0</td>\n",
       "      <td>0.1</td>\n",
       "      <td>63.537231</td>\n",
       "      <td>2978599.0</td>\n",
       "      <td>18.2</td>\n",
       "      <td>18.2</td>\n",
       "      <td>0.454</td>\n",
       "      <td>9.5</td>\n",
       "    </tr>\n",
       "  </tbody>\n",
       "</table>\n",
       "<p>5 rows × 22 columns</p>\n",
       "</div>"
      ],
      "text/plain": [
       "       country  year      status  life_expectancy  adult_mortality  \\\n",
       "0  Afghanistan  2015  Developing             65.0            263.0   \n",
       "1  Afghanistan  2014  Developing             59.9            271.0   \n",
       "2  Afghanistan  2013  Developing             59.9            268.0   \n",
       "3  Afghanistan  2012  Developing             59.5            272.0   \n",
       "4  Afghanistan  2011  Developing             59.2            275.0   \n",
       "\n",
       "   infant_deaths  alcohol  percentage_expenditure  hepatitis_b  measles  ...  \\\n",
       "0             62     0.01               71.279624         65.0     1154  ...   \n",
       "1             64     0.01               73.523582         62.0      492  ...   \n",
       "2             66     0.01               73.219243         64.0      430  ...   \n",
       "3             69     0.01               78.184215         67.0     2787  ...   \n",
       "4             71     0.01                7.097109         68.0     3013  ...   \n",
       "\n",
       "   polio  total_expenditure  diphtheria  hiv_aids         gdp  population  \\\n",
       "0    6.0               8.16        65.0       0.1  584.259210  33736494.0   \n",
       "1   58.0               8.18        62.0       0.1  612.696514    327582.0   \n",
       "2   62.0               8.13        64.0       0.1  631.744976  31731688.0   \n",
       "3   67.0               8.52        67.0       0.1  669.959000   3696958.0   \n",
       "4   68.0               7.87        68.0       0.1   63.537231   2978599.0   \n",
       "\n",
       "   thinness__1_19_years  thinness_5_9_years  income_composition_of_resources  \\\n",
       "0                  17.2                17.3                            0.479   \n",
       "1                  17.5                17.5                            0.476   \n",
       "2                  17.7                17.7                            0.470   \n",
       "3                  17.9                18.0                            0.463   \n",
       "4                  18.2                18.2                            0.454   \n",
       "\n",
       "   schooling  \n",
       "0       10.1  \n",
       "1       10.0  \n",
       "2        9.9  \n",
       "3        9.8  \n",
       "4        9.5  \n",
       "\n",
       "[5 rows x 22 columns]"
      ]
     },
     "execution_count": 74,
     "metadata": {},
     "output_type": "execute_result"
    }
   ],
   "source": [
    "data.head()"
   ]
  },
  {
   "cell_type": "code",
   "execution_count": 75,
   "metadata": {
    "id": "pd6IS1NmDEI6"
   },
   "outputs": [],
   "source": [
    "def immunization_stat(vaccine):\n",
    "    plt.figure(figsize=(8,7))\n",
    "    sns.histplot(immunization, x=vaccine, hue=\"status\")\n",
    "    plt.show()\n",
    "    \n",
    "    mean=round(immunization[vaccine].mean())\n",
    "    std=round(immunization[vaccine].std())\n",
    "    var=round(immunization[vaccine].var())\n",
    "\n",
    "    \n",
    "    print(\"The overall average for\",vaccine, \"is:\", mean)\n",
    "    print(\"The variance for\",vaccine, \"is:\", var)\n",
    "    print(\"The standard deviation for\",vaccine, \"is:\", std)\n",
    "    print(\"The averages per status:\")\n",
    "    print(immunization.groupby(['status'])[vaccine].mean())"
   ]
  },
  {
   "cell_type": "code",
   "execution_count": 76,
   "metadata": {
    "colab": {
     "base_uri": "https://localhost:8080/",
     "height": 596
    },
    "id": "BXIRL0TID5Ti",
    "outputId": "1be7e3d8-29e9-4c60-a708-a2f57d807d9d",
    "scrolled": false
   },
   "outputs": [
    {
     "data": {
      "image/png": "[encoded data removed]",
      "text/plain": [
       "<Figure size 800x700 with 1 Axes>"
      ]
     },
     "metadata": {},
     "output_type": "display_data"
    },
    {
     "name": "stdout",
     "output_type": "stream",
     "text": [
      "The overall average for diphtheria is: 82\n",
      "The variance for diphtheria is: 295\n",
      "The standard deviation for diphtheria is: 17\n",
      "The averages per status:\n",
      "status\n",
      "Developed     93.476562\n",
      "Developing    79.992791\n",
      "Name: diphtheria, dtype: float64\n"
     ]
    }
   ],
   "source": [
    "immunization_stat('diphtheria')"
   ]
  },
  {
   "cell_type": "markdown",
   "metadata": {
    "id": "GOJ7akr4e6P8"
   },
   "source": [
    "**Task for students:**<br>\n",
    "On your own check other 2 vaccines, and answer the following questions:\n",
    "1. Which vaccine out of all 3 has the highest average immunization rate across all countries.\n",
    "2. Which vaccine has the lowest rate in developing countries?"
   ]
  },
  {
   "cell_type": "code",
   "execution_count": 77,
   "metadata": {
    "colab": {
     "base_uri": "https://localhost:8080/",
     "height": 596
    },
    "id": "8hhy8dNEgDRf",
    "outputId": "70429c5b-0a24-4971-c84c-e08e3f00f0a9",
    "scrolled": false
   },
   "outputs": [
    {
     "data": {
      "image/png": "[encoded data removed]",
      "text/plain": [
       "<Figure size 800x700 with 1 Axes>"
      ]
     },
     "metadata": {},
     "output_type": "display_data"
    },
    {
     "name": "stdout",
     "output_type": "stream",
     "text": [
      "The overall average for hepatitis_b is: 79\n",
      "The variance for hepatitis_b is: 354\n",
      "The standard deviation for hepatitis_b is: 19\n",
      "The averages per status:\n",
      "status\n",
      "Developed     86.194989\n",
      "Developing    77.366776\n",
      "Name: hepatitis_b, dtype: float64\n"
     ]
    }
   ],
   "source": [
    "immunization_stat('hepatitis_b')"
   ]
  },
  {
   "cell_type": "code",
   "execution_count": 78,
   "metadata": {
    "colab": {
     "base_uri": "https://localhost:8080/",
     "height": 595
    },
    "id": "SFAEGIoTgL1j",
    "outputId": "a55d39cc-4df6-46b3-d61c-b537ddd4a889"
   },
   "outputs": [
    {
     "data": {
      "image/png": "[encoded data removed]",
      "text/plain": [
       "<Figure size 800x700 with 1 Axes>"
      ]
     },
     "metadata": {},
     "output_type": "display_data"
    },
    {
     "name": "stdout",
     "output_type": "stream",
     "text": [
      "The overall average for polio is: 82\n",
      "The variance for polio is: 279\n",
      "The standard deviation for polio is: 17\n",
      "The averages per status:\n",
      "status\n",
      "Developed     93.736328\n",
      "Developing    80.183319\n",
      "Name: polio, dtype: float64\n"
     ]
    }
   ],
   "source": [
    "immunization_stat('polio')"
   ]
  },
  {
   "cell_type": "markdown",
   "metadata": {
    "id": "kZ8MF3DMgJOZ"
   },
   "source": [
    "Answers: \n",
    "1. Polio\n",
    "2. Hepapatitis B"
   ]
  },
  {
   "cell_type": "markdown",
   "metadata": {
    "id": "pg1CKFE0hluQ"
   },
   "source": [
    "## Checking WHO's hypothesis on whether averages of body weight indicators are the same for developed and developing countries"
   ]
  },
  {
   "cell_type": "code",
   "execution_count": 79,
   "metadata": {
    "colab": {
     "base_uri": "https://localhost:8080/",
     "height": 204
    },
    "id": "rbDj_q0Q1vaw",
    "outputId": "4fbd2c1f-db2c-49b7-ed5c-b22985aac788"
   },
   "outputs": [
    {
     "data": {
      "text/html": [
       "<div>\n",
       "<style scoped>\n",
       "    .dataframe tbody tr th:only-of-type {\n",
       "        vertical-align: middle;\n",
       "    }\n",
       "\n",
       "    .dataframe tbody tr th {\n",
       "        vertical-align: top;\n",
       "    }\n",
       "\n",
       "    .dataframe thead th {\n",
       "        text-align: right;\n",
       "    }\n",
       "</style>\n",
       "<table border=\"1\" class=\"dataframe\">\n",
       "  <thead>\n",
       "    <tr style=\"text-align: right;\">\n",
       "      <th></th>\n",
       "      <th>country</th>\n",
       "      <th>status</th>\n",
       "      <th>bmi</th>\n",
       "      <th>thinness__1_19_years</th>\n",
       "      <th>thinness_5_9_years</th>\n",
       "    </tr>\n",
       "  </thead>\n",
       "  <tbody>\n",
       "    <tr>\n",
       "      <th>0</th>\n",
       "      <td>Afghanistan</td>\n",
       "      <td>Developing</td>\n",
       "      <td>19.1</td>\n",
       "      <td>17.2</td>\n",
       "      <td>17.3</td>\n",
       "    </tr>\n",
       "    <tr>\n",
       "      <th>1</th>\n",
       "      <td>Afghanistan</td>\n",
       "      <td>Developing</td>\n",
       "      <td>18.6</td>\n",
       "      <td>17.5</td>\n",
       "      <td>17.5</td>\n",
       "    </tr>\n",
       "    <tr>\n",
       "      <th>2</th>\n",
       "      <td>Afghanistan</td>\n",
       "      <td>Developing</td>\n",
       "      <td>18.1</td>\n",
       "      <td>17.7</td>\n",
       "      <td>17.7</td>\n",
       "    </tr>\n",
       "    <tr>\n",
       "      <th>3</th>\n",
       "      <td>Afghanistan</td>\n",
       "      <td>Developing</td>\n",
       "      <td>17.6</td>\n",
       "      <td>17.9</td>\n",
       "      <td>18.0</td>\n",
       "    </tr>\n",
       "    <tr>\n",
       "      <th>4</th>\n",
       "      <td>Afghanistan</td>\n",
       "      <td>Developing</td>\n",
       "      <td>17.2</td>\n",
       "      <td>18.2</td>\n",
       "      <td>18.2</td>\n",
       "    </tr>\n",
       "  </tbody>\n",
       "</table>\n",
       "</div>"
      ],
      "text/plain": [
       "       country      status   bmi  thinness__1_19_years  thinness_5_9_years\n",
       "0  Afghanistan  Developing  19.1                  17.2                17.3\n",
       "1  Afghanistan  Developing  18.6                  17.5                17.5\n",
       "2  Afghanistan  Developing  18.1                  17.7                17.7\n",
       "3  Afghanistan  Developing  17.6                  17.9                18.0\n",
       "4  Afghanistan  Developing  17.2                  18.2                18.2"
      ]
     },
     "execution_count": 79,
     "metadata": {},
     "output_type": "execute_result"
    }
   ],
   "source": [
    "bmi=data[['country','status','bmi','thinness__1_19_years','thinness_5_9_years']]\n",
    "bmi.head()"
   ]
  },
  {
   "cell_type": "markdown",
   "metadata": {
    "id": "TH4K6b1x2EW7"
   },
   "source": [
    "Let's formulate hypothesis that we're going to check. In statistical testing we're calling it Null Hypothesis, it's always about equality of the groups, or that the difference between two groups is equal to zero (null, thus the name of hypothesis)"
   ]
  },
  {
   "cell_type": "markdown",
   "metadata": {
    "id": "8PWQq-Sp25Wh"
   },
   "source": [
    "Let's start with the first parameter: BMI index. "
   ]
  },
  {
   "cell_type": "code",
   "execution_count": 80,
   "metadata": {
    "colab": {
     "base_uri": "https://localhost:8080/",
     "height": 443
    },
    "id": "myThH2_C4k0g",
    "outputId": "1f6901d2-75db-4853-dc27-8d48e7fbb5eb"
   },
   "outputs": [
    {
     "data": {
      "image/png": "[encoded data removed]",
      "text/plain": [
       "<Figure size 800x700 with 1 Axes>"
      ]
     },
     "metadata": {},
     "output_type": "display_data"
    }
   ],
   "source": [
    "fig, ax = plt.subplots(figsize=(8,7))\n",
    "ax = sns.histplot(bmi, x=\"bmi\", hue=\"status\")"
   ]
  },
  {
   "cell_type": "markdown",
   "metadata": {
    "id": "F0mdgkrH4wUH"
   },
   "source": [
    "Not normal, should use median"
   ]
  },
  {
   "cell_type": "code",
   "execution_count": 81,
   "metadata": {
    "colab": {
     "base_uri": "https://localhost:8080/"
    },
    "id": "XiLk8lkd478M",
    "outputId": "f829d019-c0ad-4722-f22e-1b65fa0a0edf"
   },
   "outputs": [
    {
     "data": {
      "text/plain": [
       "status\n",
       "Developed     57.45\n",
       "Developing    35.20\n",
       "Name: bmi, dtype: float64"
      ]
     },
     "execution_count": 81,
     "metadata": {},
     "output_type": "execute_result"
    }
   ],
   "source": [
    "bmi.groupby(['status'])['bmi'].median()"
   ]
  },
  {
   "cell_type": "markdown",
   "metadata": {
    "id": "HUcZTi1C5sb1"
   },
   "source": [
    "The difference between groups in median is actually pretty big, so the null hypothesis of WHO is wrong!\n",
    "\n",
    "What do we suggest to WHO regarding the hypothesis? That we can't exclude bmi from the model, cause it's different for the groups. Let's move to another feature - `_thinness__1-19_years`:"
   ]
  },
  {
   "cell_type": "code",
   "execution_count": 82,
   "metadata": {
    "colab": {
     "base_uri": "https://localhost:8080/",
     "height": 443
    },
    "id": "eZc46MBO6W-7",
    "outputId": "6aa0e0f8-52b7-43c7-f6b2-a54a360edb2f"
   },
   "outputs": [
    {
     "data": {
      "image/png": "[encoded data removed]",
      "text/plain": [
       "<Figure size 800x700 with 1 Axes>"
      ]
     },
     "metadata": {},
     "output_type": "display_data"
    }
   ],
   "source": [
    "fig, ax = plt.subplots(figsize=(8,7))\n",
    "ax = sns.histplot(bmi, x=\"thinness__1_19_years\", hue=\"status\")"
   ]
  },
  {
   "cell_type": "markdown",
   "metadata": {},
   "source": [
    "Let's look at all features related to weight in a form of a table:"
   ]
  },
  {
   "cell_type": "code",
   "execution_count": 83,
   "metadata": {},
   "outputs": [
    {
     "data": {
      "text/html": [
       "<div>\n",
       "<style scoped>\n",
       "    .dataframe tbody tr th:only-of-type {\n",
       "        vertical-align: middle;\n",
       "    }\n",
       "\n",
       "    .dataframe tbody tr th {\n",
       "        vertical-align: top;\n",
       "    }\n",
       "\n",
       "    .dataframe thead th {\n",
       "        text-align: right;\n",
       "    }\n",
       "</style>\n",
       "<table border=\"1\" class=\"dataframe\">\n",
       "  <thead>\n",
       "    <tr style=\"text-align: right;\">\n",
       "      <th></th>\n",
       "      <th>country</th>\n",
       "      <th>status</th>\n",
       "      <th>bmi</th>\n",
       "      <th>thinness__1_19_years</th>\n",
       "      <th>thinness_5_9_years</th>\n",
       "    </tr>\n",
       "  </thead>\n",
       "  <tbody>\n",
       "    <tr>\n",
       "      <th>0</th>\n",
       "      <td>Afghanistan</td>\n",
       "      <td>Developing</td>\n",
       "      <td>19.1</td>\n",
       "      <td>17.2</td>\n",
       "      <td>17.3</td>\n",
       "    </tr>\n",
       "    <tr>\n",
       "      <th>1</th>\n",
       "      <td>Afghanistan</td>\n",
       "      <td>Developing</td>\n",
       "      <td>18.6</td>\n",
       "      <td>17.5</td>\n",
       "      <td>17.5</td>\n",
       "    </tr>\n",
       "    <tr>\n",
       "      <th>2</th>\n",
       "      <td>Afghanistan</td>\n",
       "      <td>Developing</td>\n",
       "      <td>18.1</td>\n",
       "      <td>17.7</td>\n",
       "      <td>17.7</td>\n",
       "    </tr>\n",
       "    <tr>\n",
       "      <th>3</th>\n",
       "      <td>Afghanistan</td>\n",
       "      <td>Developing</td>\n",
       "      <td>17.6</td>\n",
       "      <td>17.9</td>\n",
       "      <td>18.0</td>\n",
       "    </tr>\n",
       "    <tr>\n",
       "      <th>4</th>\n",
       "      <td>Afghanistan</td>\n",
       "      <td>Developing</td>\n",
       "      <td>17.2</td>\n",
       "      <td>18.2</td>\n",
       "      <td>18.2</td>\n",
       "    </tr>\n",
       "    <tr>\n",
       "      <th>...</th>\n",
       "      <td>...</td>\n",
       "      <td>...</td>\n",
       "      <td>...</td>\n",
       "      <td>...</td>\n",
       "      <td>...</td>\n",
       "    </tr>\n",
       "    <tr>\n",
       "      <th>2933</th>\n",
       "      <td>Zimbabwe</td>\n",
       "      <td>Developing</td>\n",
       "      <td>27.1</td>\n",
       "      <td>9.4</td>\n",
       "      <td>9.4</td>\n",
       "    </tr>\n",
       "    <tr>\n",
       "      <th>2934</th>\n",
       "      <td>Zimbabwe</td>\n",
       "      <td>Developing</td>\n",
       "      <td>26.7</td>\n",
       "      <td>9.8</td>\n",
       "      <td>9.9</td>\n",
       "    </tr>\n",
       "    <tr>\n",
       "      <th>2935</th>\n",
       "      <td>Zimbabwe</td>\n",
       "      <td>Developing</td>\n",
       "      <td>26.3</td>\n",
       "      <td>1.2</td>\n",
       "      <td>1.3</td>\n",
       "    </tr>\n",
       "    <tr>\n",
       "      <th>2936</th>\n",
       "      <td>Zimbabwe</td>\n",
       "      <td>Developing</td>\n",
       "      <td>25.9</td>\n",
       "      <td>1.6</td>\n",
       "      <td>1.7</td>\n",
       "    </tr>\n",
       "    <tr>\n",
       "      <th>2937</th>\n",
       "      <td>Zimbabwe</td>\n",
       "      <td>Developing</td>\n",
       "      <td>25.5</td>\n",
       "      <td>11.0</td>\n",
       "      <td>11.2</td>\n",
       "    </tr>\n",
       "  </tbody>\n",
       "</table>\n",
       "<p>2938 rows × 5 columns</p>\n",
       "</div>"
      ],
      "text/plain": [
       "          country      status   bmi  thinness__1_19_years  thinness_5_9_years\n",
       "0     Afghanistan  Developing  19.1                  17.2                17.3\n",
       "1     Afghanistan  Developing  18.6                  17.5                17.5\n",
       "2     Afghanistan  Developing  18.1                  17.7                17.7\n",
       "3     Afghanistan  Developing  17.6                  17.9                18.0\n",
       "4     Afghanistan  Developing  17.2                  18.2                18.2\n",
       "...           ...         ...   ...                   ...                 ...\n",
       "2933     Zimbabwe  Developing  27.1                   9.4                 9.4\n",
       "2934     Zimbabwe  Developing  26.7                   9.8                 9.9\n",
       "2935     Zimbabwe  Developing  26.3                   1.2                 1.3\n",
       "2936     Zimbabwe  Developing  25.9                   1.6                 1.7\n",
       "2937     Zimbabwe  Developing  25.5                  11.0                11.2\n",
       "\n",
       "[2938 rows x 5 columns]"
      ]
     },
     "execution_count": 83,
     "metadata": {},
     "output_type": "execute_result"
    }
   ],
   "source": [
    "bmi"
   ]
  },
  {
   "cell_type": "code",
   "execution_count": 84,
   "metadata": {
    "colab": {
     "base_uri": "https://localhost:8080/",
     "height": 142
    },
    "id": "QEJ4EpnM6bA8",
    "outputId": "ac36ad0a-8650-47af-a8e9-63a96c9db623"
   },
   "outputs": [
    {
     "data": {
      "text/html": [
       "<div>\n",
       "<style scoped>\n",
       "    .dataframe tbody tr th:only-of-type {\n",
       "        vertical-align: middle;\n",
       "    }\n",
       "\n",
       "    .dataframe tbody tr th {\n",
       "        vertical-align: top;\n",
       "    }\n",
       "\n",
       "    .dataframe thead th {\n",
       "        text-align: right;\n",
       "    }\n",
       "</style>\n",
       "<table border=\"1\" class=\"dataframe\">\n",
       "  <thead>\n",
       "    <tr style=\"text-align: right;\">\n",
       "      <th></th>\n",
       "      <th>bmi</th>\n",
       "      <th>thinness__1_19_years</th>\n",
       "      <th>thinness_5_9_years</th>\n",
       "    </tr>\n",
       "    <tr>\n",
       "      <th>status</th>\n",
       "      <th></th>\n",
       "      <th></th>\n",
       "      <th></th>\n",
       "    </tr>\n",
       "  </thead>\n",
       "  <tbody>\n",
       "    <tr>\n",
       "      <th>Developed</th>\n",
       "      <td>57.45</td>\n",
       "      <td>1.1</td>\n",
       "      <td>1.0</td>\n",
       "    </tr>\n",
       "    <tr>\n",
       "      <th>Developing</th>\n",
       "      <td>35.20</td>\n",
       "      <td>4.5</td>\n",
       "      <td>4.6</td>\n",
       "    </tr>\n",
       "  </tbody>\n",
       "</table>\n",
       "</div>"
      ],
      "text/plain": [
       "              bmi  thinness__1_19_years  thinness_5_9_years\n",
       "status                                                     \n",
       "Developed   57.45                   1.1                 1.0\n",
       "Developing  35.20                   4.5                 4.6"
      ]
     },
     "execution_count": 84,
     "metadata": {},
     "output_type": "execute_result"
    }
   ],
   "source": [
    "bmi.groupby(['status'])[['bmi', 'thinness__1_19_years', 'thinness_5_9_years']].median()"
   ]
  },
  {
   "cell_type": "markdown",
   "metadata": {
    "id": "G3ehpNnt7HvL"
   },
   "source": [
    "All weight indicators differ for categories, so we can't exclude them from the model. Before we move on, let's have a look at all medians/means between groups:"
   ]
  },
  {
   "cell_type": "code",
   "execution_count": 85,
   "metadata": {
    "colab": {
     "base_uri": "https://localhost:8080/",
     "height": 669
    },
    "id": "kLBVD6236xbp",
    "outputId": "c1a62b1e-86b0-4a98-f45a-7b5a8840bd8a"
   },
   "outputs": [
    {
     "data": {
      "text/html": [
       "<div>\n",
       "<style scoped>\n",
       "    .dataframe tbody tr th:only-of-type {\n",
       "        vertical-align: middle;\n",
       "    }\n",
       "\n",
       "    .dataframe tbody tr th {\n",
       "        vertical-align: top;\n",
       "    }\n",
       "\n",
       "    .dataframe thead th {\n",
       "        text-align: right;\n",
       "    }\n",
       "</style>\n",
       "<table border=\"1\" class=\"dataframe\">\n",
       "  <thead>\n",
       "    <tr style=\"text-align: right;\">\n",
       "      <th>status</th>\n",
       "      <th>Developed</th>\n",
       "      <th>Developing</th>\n",
       "    </tr>\n",
       "  </thead>\n",
       "  <tbody>\n",
       "    <tr>\n",
       "      <th>bmi</th>\n",
       "      <td>57</td>\n",
       "      <td>35</td>\n",
       "    </tr>\n",
       "    <tr>\n",
       "      <th>thinness__1_19_years</th>\n",
       "      <td>1</td>\n",
       "      <td>4</td>\n",
       "    </tr>\n",
       "    <tr>\n",
       "      <th>thinness_5_9_years</th>\n",
       "      <td>1</td>\n",
       "      <td>4</td>\n",
       "    </tr>\n",
       "  </tbody>\n",
       "</table>\n",
       "</div>"
      ],
      "text/plain": [
       "status                Developed  Developing\n",
       "bmi                          57          35\n",
       "thinness__1_19_years          1           4\n",
       "thinness_5_9_years            1           4"
      ]
     },
     "execution_count": 85,
     "metadata": {},
     "output_type": "execute_result"
    }
   ],
   "source": [
    "# median\n",
    "data.groupby(['status'])[['bmi', 'thinness__1_19_years', 'thinness_5_9_years']].median().T.astype(int)"
   ]
  },
  {
   "cell_type": "code",
   "execution_count": 86,
   "metadata": {
    "colab": {
     "base_uri": "https://localhost:8080/",
     "height": 669
    },
    "id": "Z4Vq4_BWpoQm",
    "outputId": "c8c57b02-1acd-4603-d8de-92d79980f594"
   },
   "outputs": [
    {
     "data": {
      "text/html": [
       "<div>\n",
       "<style scoped>\n",
       "    .dataframe tbody tr th:only-of-type {\n",
       "        vertical-align: middle;\n",
       "    }\n",
       "\n",
       "    .dataframe tbody tr th {\n",
       "        vertical-align: top;\n",
       "    }\n",
       "\n",
       "    .dataframe thead th {\n",
       "        text-align: right;\n",
       "    }\n",
       "</style>\n",
       "<table border=\"1\" class=\"dataframe\">\n",
       "  <thead>\n",
       "    <tr style=\"text-align: right;\">\n",
       "      <th>status</th>\n",
       "      <th>Developed</th>\n",
       "      <th>Developing</th>\n",
       "    </tr>\n",
       "  </thead>\n",
       "  <tbody>\n",
       "    <tr>\n",
       "      <th>bmi</th>\n",
       "      <td>51</td>\n",
       "      <td>35</td>\n",
       "    </tr>\n",
       "    <tr>\n",
       "      <th>thinness__1_19_years</th>\n",
       "      <td>1</td>\n",
       "      <td>5</td>\n",
       "    </tr>\n",
       "    <tr>\n",
       "      <th>thinness_5_9_years</th>\n",
       "      <td>1</td>\n",
       "      <td>5</td>\n",
       "    </tr>\n",
       "  </tbody>\n",
       "</table>\n",
       "</div>"
      ],
      "text/plain": [
       "status                Developed  Developing\n",
       "bmi                          51          35\n",
       "thinness__1_19_years          1           5\n",
       "thinness_5_9_years            1           5"
      ]
     },
     "execution_count": 86,
     "metadata": {},
     "output_type": "execute_result"
    }
   ],
   "source": [
    "# mean\n",
    "data.groupby(['status'])[['bmi', 'thinness__1_19_years', 'thinness_5_9_years']].mean().T.astype(int)"
   ]
  },
  {
   "cell_type": "markdown",
   "metadata": {
    "id": "e-5UFUOm8G0q"
   },
   "source": [
    "While for some parameters the difference in average  is obvious, for others, like hepatitis_b  is not. In statistics we never just do the comparison on average, because average (even median) doesn't fully represent the distribution. To prove that averages are not the same between groups we're using hypothesis testing"
   ]
  },
  {
   "cell_type": "markdown",
   "metadata": {
    "id": "4Dw5_1budoBH"
   },
   "source": [
    "### Theory on t-test "
   ]
  },
  {
   "cell_type": "markdown",
   "metadata": {
    "id": "eFtG0fxcmJGR"
   },
   "source": [
    "Since we have limited number of countries and limited number of years - we're working with samples! <br>"
   ]
  },
  {
   "cell_type": "markdown",
   "metadata": {
    "id": "jP-FL_HXL7bI"
   },
   "source": [
    "Let's define two datasets for future samples of \"developed\" and \"developing\" countries."
   ]
  },
  {
   "cell_type": "code",
   "execution_count": 87,
   "metadata": {
    "id": "MwLDH6QGpSEh"
   },
   "outputs": [],
   "source": [
    "developed=data.query('status==\"Developed\"')\n",
    "developing=data.query('status==\"Developing\"')\n"
   ]
  },
  {
   "cell_type": "markdown",
   "metadata": {
    "id": "8XPYPPe3qV2z"
   },
   "source": [
    "Ok, samples are defined. Any chosen column can be sample. \n",
    "\n",
    "Let's get back to out BMI identificator. We've already stated Null Hypothesis: \"Average yearly BMI index of Developed countries is equal to Average yearly BMI index of Developing countries\" What other Hypothesis do we need? What is the opposite to this statement? "
   ]
  },
  {
   "cell_type": "markdown",
   "metadata": {
    "id": "sdrCk7kaOJzV"
   },
   "source": [
    "**$H_o$:** \"Average yearly BMI index of Developed countries is equal to Average yearly BMI index of Developing countries\" <br>\n",
    "**$H_A$:** \"Average yearly BMI index of Developed countries does not equal to Average yearly BMI index of Developing countries\""
   ]
  },
  {
   "cell_type": "code",
   "execution_count": 88,
   "metadata": {
    "id": "6MuN4ZfvOafx"
   },
   "outputs": [],
   "source": [
    "sample1=developed['bmi']\n",
    "sample2=developing['bmi']"
   ]
  },
  {
   "cell_type": "code",
   "execution_count": 89,
   "metadata": {
    "colab": {
     "base_uri": "https://localhost:8080/"
    },
    "id": "RcOV9sh7O4ot",
    "outputId": "bfc08a4a-e07d-4952-8c48-3be7e6540e5d"
   },
   "outputs": [
    {
     "data": {
      "text/plain": [
       "TtestResult(statistic=nan, pvalue=nan, df=nan)"
      ]
     },
     "execution_count": 89,
     "metadata": {},
     "output_type": "execute_result"
    }
   ],
   "source": [
    "stats.ttest_ind(sample1, sample2)"
   ]
  },
  {
   "cell_type": "markdown",
   "metadata": {
    "id": "BJQD3ewKRjFT"
   },
   "source": [
    "If we have missing values in samples. We can omit them using nan_policy parameter"
   ]
  },
  {
   "cell_type": "code",
   "execution_count": 90,
   "metadata": {
    "colab": {
     "base_uri": "https://localhost:8080/"
    },
    "id": "8qu2NQXSSBIA",
    "outputId": "4390f4e1-c98f-4aa2-c743-6fdbcdcc8f08"
   },
   "outputs": [
    {
     "data": {
      "text/plain": [
       "TtestResult(statistic=17.64395264477269, pvalue=2.896770114683063e-66, df=2902.0)"
      ]
     },
     "execution_count": 90,
     "metadata": {},
     "output_type": "execute_result"
    }
   ],
   "source": [
    "stats.ttest_ind(sample1, sample2, nan_policy='omit')"
   ]
  },
  {
   "cell_type": "markdown",
   "metadata": {
    "id": "ajkuIfFcSK-q"
   },
   "source": [
    "You can use p-value from the method like this (using an attribute):"
   ]
  },
  {
   "cell_type": "code",
   "execution_count": 91,
   "metadata": {
    "colab": {
     "base_uri": "https://localhost:8080/"
    },
    "id": "vqVXo8qLSRrX",
    "outputId": "6ce6d931-fea8-4368-8665-24600d5f382d"
   },
   "outputs": [
    {
     "data": {
      "text/plain": [
       "2.896770114683063e-66"
      ]
     },
     "execution_count": 91,
     "metadata": {},
     "output_type": "execute_result"
    }
   ],
   "source": [
    "p_value=stats.ttest_ind(sample1, sample2,nan_policy='omit').pvalue\n",
    "p_value"
   ]
  },
  {
   "cell_type": "markdown",
   "metadata": {
    "id": "lBG5h5ZpT3Qq"
   },
   "source": [
    "So do we reject or fail to reject our Null Hypothesis?"
   ]
  },
  {
   "cell_type": "code",
   "execution_count": 92,
   "metadata": {
    "colab": {
     "base_uri": "https://localhost:8080/",
     "height": 130
    },
    "id": "W-IfJJ4MVWNz",
    "outputId": "eaa69ab9-ea45-49b8-c0a8-e1b64f7af74e"
   },
   "outputs": [
    {
     "name": "stdout",
     "output_type": "stream",
     "text": [
      "Reject H_o: average of sample 1 is not equal to average of sample 2\n"
     ]
    }
   ],
   "source": [
    "p_value=p_value.astype(int)\n",
    "alpha=0.05\n",
    "if p_value<alpha:\n",
    "    print('Reject H_o: average of sample 1 is not equal to average of sample 2')\n",
    "else:\n",
    "    print( \"Fail to Reject H_o: We don't have enough evidence to say that averages of sample 1 \\\n",
    "    and sample 2 are not the same\")"
   ]
  },
  {
   "cell_type": "markdown",
   "metadata": {
    "id": "na8oyWqpWYCa"
   },
   "source": [
    "Now we have a statistical proof that bmi is not the same for developed and developing countries and thus, should be included  as a parameter in the models/recommendations of WHO. Let's create a function that will make our testing easier"
   ]
  },
  {
   "cell_type": "code",
   "execution_count": 93,
   "metadata": {
    "id": "b7W-IinRWm0g"
   },
   "outputs": [],
   "source": [
    "def t_test(sample1,sample2,alpha=0.05):\n",
    "    p_value=stats.ttest_ind(sample1, sample2, nan_policy='omit').pvalue.astype(int)\n",
    "    if p_value<alpha:\n",
    "        print('Reject H_o: average of sample 1 is not equal to average of sample 2')\n",
    "    else:\n",
    "        print( \"Fail to Reject H_o: We don't have enough evidence to say that averages of sample 1 \\\n",
    "        and sample 2 are not the same\") "
   ]
  },
  {
   "cell_type": "markdown",
   "metadata": {
    "id": "tPaydsp1W_a3"
   },
   "source": [
    "Let's try this function on the next weight-related index:_thinness_5-9_years"
   ]
  },
  {
   "cell_type": "code",
   "execution_count": 94,
   "metadata": {
    "colab": {
     "base_uri": "https://localhost:8080/"
    },
    "id": "RHOFLheWX3w5",
    "outputId": "45b915d4-b67d-421f-bae4-70cc9240b30b"
   },
   "outputs": [
    {
     "name": "stdout",
     "output_type": "stream",
     "text": [
      "Reject H_o: average of sample 1 is not equal to average of sample 2\n"
     ]
    }
   ],
   "source": [
    "t_test(developed['thinness_5_9_years'],developing['thinness_5_9_years'],alpha=0.05)"
   ]
  },
  {
   "cell_type": "markdown",
   "metadata": {
    "id": "I4LxI6KVYGK6"
   },
   "source": [
    "Great!Our function works! Now we can check each of the parameter and, if we can't prove that for some parameters the average are not equal, we will recommend WHO to exlude these parameters from methodology. But before we start checking other parameters, there is something about t-test that we should know"
   ]
  },
  {
   "cell_type": "markdown",
   "metadata": {
    "id": "64shwhmfaZfU"
   },
   "source": [
    "But how do we define if variances are equal or not? We can use special tests for that: either Levene or Bartlett’s. It works just like t-test, but instead of checking averages, it checks the variances"
   ]
  },
  {
   "cell_type": "code",
   "execution_count": 95,
   "metadata": {
    "colab": {
     "base_uri": "https://localhost:8080/"
    },
    "id": "u_LsRELzbO0n",
    "outputId": "7436e6cc-8433-4945-8357-149c37a3e663"
   },
   "outputs": [
    {
     "name": "stdout",
     "output_type": "stream",
     "text": [
      "Reject H_o: variance of sample 1 is not equal to variance of sample 2\n"
     ]
    },
    {
     "name": "stderr",
     "output_type": "stream",
     "text": [
      "/var/folders/2c/tfkhfg6d5jj1g3ttv18s3t5r0000gn/T/ipykernel_82260/2701087826.py:1: RuntimeWarning: invalid value encountered in cast\n",
      "  p_value_levene=stats.levene(sample1, sample2).pvalue.astype(int)\n"
     ]
    }
   ],
   "source": [
    "p_value_levene=stats.levene(sample1, sample2).pvalue.astype(int)\n",
    "if p_value_levene<alpha:\n",
    "    print('Reject H_o: variance of sample 1 is not equal to variance of sample 2')\n",
    "else:\n",
    "    print( \"Fail to Reject H_o: We don't have enough evidence to say that variances of sample 1 \\\n",
    "    and sample 2 are not the same\") "
   ]
  },
  {
   "cell_type": "markdown",
   "metadata": {
    "id": "CYibQI-vWXLA"
   },
   "source": [
    "Let's include that in our function, so that our testing is more accurate"
   ]
  },
  {
   "cell_type": "code",
   "execution_count": 96,
   "metadata": {
    "id": "aOWAvMJkbmVF"
   },
   "outputs": [],
   "source": [
    "def t_test(sample1,sample2,alpha=0.05):\n",
    "    p_value_levene=stats.levene(sample1, sample2).pvalue.astype(int)\n",
    "    \n",
    "    if p_value_levene<alpha:\n",
    "        option_var=False\n",
    "    else:\n",
    "        option_var=True\n",
    "        \n",
    "    p_value=stats.ttest_ind(sample1, sample2, nan_policy='omit', equal_var=option_var).pvalue.astype(int)\n",
    "    if p_value<alpha:\n",
    "        print('Reject H_o: average of sample 1 is not equal to average of sample 2')\n",
    "    else:\n",
    "        print( \"Fail to Reject H_o: We don't have enough evidence to say that averages of sample 1 \\\n",
    "        and sample 2 are not the same\") "
   ]
  },
  {
   "cell_type": "markdown",
   "metadata": {
    "id": "gQ7J7cTldX2W"
   },
   "source": [
    "Let's test it on our last weight-related parameter"
   ]
  },
  {
   "cell_type": "code",
   "execution_count": 101,
   "metadata": {
    "colab": {
     "base_uri": "https://localhost:8080/"
    },
    "id": "G8m8QK1kcHyg",
    "outputId": "a176f77f-972a-4ec2-aff3-1adde2021284"
   },
   "outputs": [
    {
     "name": "stdout",
     "output_type": "stream",
     "text": [
      "Reject H_o: average of sample 1 is not equal to average of sample 2\n"
     ]
    },
    {
     "name": "stderr",
     "output_type": "stream",
     "text": [
      "/var/folders/2c/tfkhfg6d5jj1g3ttv18s3t5r0000gn/T/ipykernel_82260/2696122248.py:2: RuntimeWarning: invalid value encountered in cast\n",
      "  p_value_levene=stats.levene(sample1, sample2).pvalue.astype(int)\n"
     ]
    }
   ],
   "source": [
    " t_test(developed['thinness__1_19_years'],developing['thinness__1_19_years'],alpha=0.05)"
   ]
  },
  {
   "cell_type": "markdown",
   "metadata": {
    "id": "Nh62yWzFgEkN"
   },
   "source": [
    "Now we have a function that can test differences between developed and developing countries for all parameters! Now we can iterate over all of them and find out which parameters are equal and we can exclude them from the model"
   ]
  },
  {
   "cell_type": "code",
   "execution_count": 102,
   "metadata": {
    "colab": {
     "base_uri": "https://localhost:8080/"
    },
    "id": "50nPvc6jeIuB",
    "outputId": "e2f01fd9-3d91-4a18-907f-47d520a8c167"
   },
   "outputs": [
    {
     "name": "stdout",
     "output_type": "stream",
     "text": [
      "life_expectancy\n",
      "adult_mortality\n",
      "infant_deaths\n",
      "alcohol\n",
      "percentage_expenditure\n",
      "hepatitis_b\n",
      "measles\n",
      "bmi\n",
      "under_five_deaths\n",
      "polio\n",
      "total_expenditure\n",
      "diphtheria\n",
      "hiv_aids\n",
      "gdp\n",
      "population\n",
      "thinness__1_19_years\n",
      "thinness_5_9_years\n",
      "income_composition_of_resources\n",
      "schooling\n"
     ]
    }
   ],
   "source": [
    "for i in data.columns:\n",
    "    if i in ['country','year','status']:\n",
    "        continue\n",
    "    else:\n",
    "        print(i)"
   ]
  },
  {
   "cell_type": "markdown",
   "metadata": {
    "id": "uMns77QphDxC"
   },
   "source": [
    "Now let's actually call our function on each parameter!"
   ]
  },
  {
   "cell_type": "code",
   "execution_count": 103,
   "metadata": {
    "colab": {
     "base_uri": "https://localhost:8080/"
    },
    "id": "wGX1iHFVtzwA",
    "outputId": "680b3dc0-9017-4950-87f0-7fce65bdfab0"
   },
   "outputs": [
    {
     "name": "stdout",
     "output_type": "stream",
     "text": [
      "Index(['country', 'year', 'status', 'life_expectancy', 'adult_mortality',\n",
      "       'infant_deaths', 'alcohol', 'percentage_expenditure', 'hepatitis_b',\n",
      "       'measles', 'bmi', 'under_five_deaths', 'polio', 'total_expenditure',\n",
      "       'diphtheria', 'hiv_aids', 'gdp', 'population', 'thinness__1_19_years',\n",
      "       'thinness_5_9_years', 'income_composition_of_resources', 'schooling'],\n",
      "      dtype='object')\n",
      "Result for : life_expectancy\n",
      "Reject H_o: average of sample 1 is not equal to average of sample 2\n",
      "----------------------------\n",
      "Result for : adult_mortality\n",
      "Reject H_o: average of sample 1 is not equal to average of sample 2\n",
      "----------------------------\n",
      "Result for : infant_deaths\n",
      "Reject H_o: average of sample 1 is not equal to average of sample 2\n",
      "----------------------------\n",
      "Result for : alcohol\n",
      "Reject H_o: average of sample 1 is not equal to average of sample 2\n",
      "----------------------------\n",
      "Result for : percentage_expenditure\n",
      "Reject H_o: average of sample 1 is not equal to average of sample 2\n",
      "----------------------------\n",
      "Result for : hepatitis_b\n",
      "Reject H_o: average of sample 1 is not equal to average of sample 2\n",
      "----------------------------\n",
      "Result for : measles\n",
      "Reject H_o: average of sample 1 is not equal to average of sample 2\n",
      "----------------------------\n",
      "Result for : bmi\n",
      "Reject H_o: average of sample 1 is not equal to average of sample 2\n",
      "----------------------------\n",
      "Result for : under_five_deaths\n",
      "Reject H_o: average of sample 1 is not equal to average of sample 2\n",
      "----------------------------\n",
      "Result for : polio\n",
      "Reject H_o: average of sample 1 is not equal to average of sample 2\n",
      "----------------------------\n",
      "Result for : total_expenditure\n",
      "Reject H_o: average of sample 1 is not equal to average of sample 2\n",
      "----------------------------\n",
      "Result for : diphtheria\n",
      "Reject H_o: average of sample 1 is not equal to average of sample 2\n",
      "----------------------------\n",
      "Result for : hiv_aids\n",
      "Reject H_o: average of sample 1 is not equal to average of sample 2\n",
      "----------------------------\n",
      "Result for : gdp\n",
      "Reject H_o: average of sample 1 is not equal to average of sample 2\n",
      "----------------------------\n",
      "Result for : population\n",
      "Reject H_o: average of sample 1 is not equal to average of sample 2\n",
      "----------------------------\n",
      "Result for : thinness__1_19_years\n",
      "Reject H_o: average of sample 1 is not equal to average of sample 2\n",
      "----------------------------\n",
      "Result for : thinness_5_9_years\n",
      "Reject H_o: average of sample 1 is not equal to average of sample 2\n",
      "----------------------------\n",
      "Result for : income_composition_of_resources\n",
      "Reject H_o: average of sample 1 is not equal to average of sample 2\n",
      "----------------------------\n",
      "Result for : schooling\n",
      "Reject H_o: average of sample 1 is not equal to average of sample 2\n",
      "----------------------------\n"
     ]
    },
    {
     "name": "stderr",
     "output_type": "stream",
     "text": [
      "/var/folders/2c/tfkhfg6d5jj1g3ttv18s3t5r0000gn/T/ipykernel_82260/2696122248.py:2: RuntimeWarning: invalid value encountered in cast\n",
      "  p_value_levene=stats.levene(sample1, sample2).pvalue.astype(int)\n",
      "/opt/anaconda3/envs/python311/lib/python3.11/site-packages/scipy/stats/_axis_nan_policy.py:586: RuntimeWarning: Precision loss occurred in moment calculation due to catastrophic cancellation. This occurs when the data are nearly identical. Results may be unreliable.\n",
      "  res = hypotest_fun_out(*samples, **kwds)\n"
     ]
    }
   ],
   "source": [
    "print(data.columns)\n",
    "for i in data.columns:\n",
    "    if i in ['country','year','status']:\n",
    "        continue\n",
    "    else:\n",
    "        print('Result for :',i)\n",
    "        t_test(developed[i],developing[i],alpha=0.05)\n",
    "        print('----------------------------')"
   ]
  },
  {
   "cell_type": "markdown",
   "metadata": {
    "id": "z-gbmPI3iB39"
   },
   "source": [
    "While groups are different in the parameters, WHO wants to know whether the \"cut off\" that they make in determing whether country is developed or developing is accurate. They have doubts and think that maybe top developing and worst developed countries are not that far from each other. Let's check that also"
   ]
  },
  {
   "cell_type": "markdown",
   "metadata": {
    "id": "cB6IGfrCfW22"
   },
   "source": [
    "**Given that, our goal is:**\n",
    "- find out the top developing country and the worst developed country based on max and min gdp in the group accordingly. \n",
    "- create sample datasets with all parameters only for these 2 countries\n",
    "- check the differences between these two countries for all of the parameters\n",
    "- conclude whether these countries are really different and WHO's methodology works. If they're the same, in which way?"
   ]
  },
  {
   "cell_type": "markdown",
   "metadata": {
    "id": "1pEAyo0rf9Xi"
   },
   "source": [
    "Solution:"
   ]
  },
  {
   "cell_type": "code",
   "execution_count": 104,
   "metadata": {
    "id": "KhKOA37hfq5N"
   },
   "outputs": [
    {
     "data": {
      "text/plain": [
       "'Romania'"
      ]
     },
     "execution_count": 104,
     "metadata": {},
     "output_type": "execute_result"
    }
   ],
   "source": [
    "b_depd_country=developed[developed.gdp==developed.gdp.min()]['country'].iloc[0]\n",
    "b_depd_country"
   ]
  },
  {
   "cell_type": "code",
   "execution_count": 105,
   "metadata": {
    "id": "0aPrFRloguyX"
   },
   "outputs": [
    {
     "data": {
      "text/plain": [
       "'Qatar'"
      ]
     },
     "execution_count": 105,
     "metadata": {},
     "output_type": "execute_result"
    }
   ],
   "source": [
    "t_deping_country=developing[developing.gdp==developing.gdp.max()]['country'].iloc[0]\n",
    "t_deping_country"
   ]
  },
  {
   "cell_type": "code",
   "execution_count": 106,
   "metadata": {},
   "outputs": [
    {
     "data": {
      "text/html": [
       "<div>\n",
       "<style scoped>\n",
       "    .dataframe tbody tr th:only-of-type {\n",
       "        vertical-align: middle;\n",
       "    }\n",
       "\n",
       "    .dataframe tbody tr th {\n",
       "        vertical-align: top;\n",
       "    }\n",
       "\n",
       "    .dataframe thead th {\n",
       "        text-align: right;\n",
       "    }\n",
       "</style>\n",
       "<table border=\"1\" class=\"dataframe\">\n",
       "  <thead>\n",
       "    <tr style=\"text-align: right;\">\n",
       "      <th></th>\n",
       "      <th>country</th>\n",
       "      <th>year</th>\n",
       "      <th>status</th>\n",
       "      <th>life_expectancy</th>\n",
       "      <th>adult_mortality</th>\n",
       "      <th>infant_deaths</th>\n",
       "      <th>alcohol</th>\n",
       "      <th>percentage_expenditure</th>\n",
       "      <th>hepatitis_b</th>\n",
       "      <th>measles</th>\n",
       "      <th>...</th>\n",
       "      <th>polio</th>\n",
       "      <th>total_expenditure</th>\n",
       "      <th>diphtheria</th>\n",
       "      <th>hiv_aids</th>\n",
       "      <th>gdp</th>\n",
       "      <th>population</th>\n",
       "      <th>thinness__1_19_years</th>\n",
       "      <th>thinness_5_9_years</th>\n",
       "      <th>income_composition_of_resources</th>\n",
       "      <th>schooling</th>\n",
       "    </tr>\n",
       "  </thead>\n",
       "  <tbody>\n",
       "    <tr>\n",
       "      <th>2119</th>\n",
       "      <td>Romania</td>\n",
       "      <td>2015</td>\n",
       "      <td>Developed</td>\n",
       "      <td>75.0</td>\n",
       "      <td>133.0</td>\n",
       "      <td>2</td>\n",
       "      <td>NaN</td>\n",
       "      <td>0.000000</td>\n",
       "      <td>9.0</td>\n",
       "      <td>4</td>\n",
       "      <td>...</td>\n",
       "      <td>89.0</td>\n",
       "      <td>NaN</td>\n",
       "      <td>89.0</td>\n",
       "      <td>0.1</td>\n",
       "      <td>8958.788593</td>\n",
       "      <td>19815481.0</td>\n",
       "      <td>2.5</td>\n",
       "      <td>2.7</td>\n",
       "      <td>0.798</td>\n",
       "      <td>14.7</td>\n",
       "    </tr>\n",
       "    <tr>\n",
       "      <th>2120</th>\n",
       "      <td>Romania</td>\n",
       "      <td>2014</td>\n",
       "      <td>Developed</td>\n",
       "      <td>74.8</td>\n",
       "      <td>135.0</td>\n",
       "      <td>2</td>\n",
       "      <td>0.01</td>\n",
       "      <td>1.576409</td>\n",
       "      <td>94.0</td>\n",
       "      <td>59</td>\n",
       "      <td>...</td>\n",
       "      <td>94.0</td>\n",
       "      <td>5.57</td>\n",
       "      <td>94.0</td>\n",
       "      <td>0.1</td>\n",
       "      <td>12.277330</td>\n",
       "      <td>1998979.0</td>\n",
       "      <td>2.6</td>\n",
       "      <td>2.8</td>\n",
       "      <td>0.797</td>\n",
       "      <td>14.7</td>\n",
       "    </tr>\n",
       "    <tr>\n",
       "      <th>2121</th>\n",
       "      <td>Romania</td>\n",
       "      <td>2013</td>\n",
       "      <td>Developed</td>\n",
       "      <td>74.6</td>\n",
       "      <td>138.0</td>\n",
       "      <td>2</td>\n",
       "      <td>9.59</td>\n",
       "      <td>1230.748231</td>\n",
       "      <td>96.0</td>\n",
       "      <td>1159</td>\n",
       "      <td>...</td>\n",
       "      <td>88.0</td>\n",
       "      <td>5.60</td>\n",
       "      <td>92.0</td>\n",
       "      <td>0.1</td>\n",
       "      <td>9585.266593</td>\n",
       "      <td>19983693.0</td>\n",
       "      <td>2.7</td>\n",
       "      <td>2.9</td>\n",
       "      <td>0.794</td>\n",
       "      <td>14.7</td>\n",
       "    </tr>\n",
       "    <tr>\n",
       "      <th>2122</th>\n",
       "      <td>Romania</td>\n",
       "      <td>2012</td>\n",
       "      <td>Developed</td>\n",
       "      <td>74.4</td>\n",
       "      <td>138.0</td>\n",
       "      <td>2</td>\n",
       "      <td>9.58</td>\n",
       "      <td>1078.358105</td>\n",
       "      <td>96.0</td>\n",
       "      <td>7450</td>\n",
       "      <td>...</td>\n",
       "      <td>92.0</td>\n",
       "      <td>5.48</td>\n",
       "      <td>91.0</td>\n",
       "      <td>0.1</td>\n",
       "      <td>8558.397660</td>\n",
       "      <td>25835.0</td>\n",
       "      <td>2.8</td>\n",
       "      <td>3.0</td>\n",
       "      <td>0.797</td>\n",
       "      <td>15.3</td>\n",
       "    </tr>\n",
       "    <tr>\n",
       "      <th>2123</th>\n",
       "      <td>Romania</td>\n",
       "      <td>2011</td>\n",
       "      <td>Developed</td>\n",
       "      <td>74.3</td>\n",
       "      <td>139.0</td>\n",
       "      <td>2</td>\n",
       "      <td>9.10</td>\n",
       "      <td>10.325889</td>\n",
       "      <td>96.0</td>\n",
       "      <td>4189</td>\n",
       "      <td>...</td>\n",
       "      <td>89.0</td>\n",
       "      <td>5.53</td>\n",
       "      <td>89.0</td>\n",
       "      <td>0.1</td>\n",
       "      <td>92.277825</td>\n",
       "      <td>2147528.0</td>\n",
       "      <td>2.9</td>\n",
       "      <td>3.1</td>\n",
       "      <td>0.798</td>\n",
       "      <td>15.7</td>\n",
       "    </tr>\n",
       "  </tbody>\n",
       "</table>\n",
       "<p>5 rows × 22 columns</p>\n",
       "</div>"
      ],
      "text/plain": [
       "      country  year     status  life_expectancy  adult_mortality  \\\n",
       "2119  Romania  2015  Developed             75.0            133.0   \n",
       "2120  Romania  2014  Developed             74.8            135.0   \n",
       "2121  Romania  2013  Developed             74.6            138.0   \n",
       "2122  Romania  2012  Developed             74.4            138.0   \n",
       "2123  Romania  2011  Developed             74.3            139.0   \n",
       "\n",
       "      infant_deaths  alcohol  percentage_expenditure  hepatitis_b  measles  \\\n",
       "2119              2      NaN                0.000000          9.0        4   \n",
       "2120              2     0.01                1.576409         94.0       59   \n",
       "2121              2     9.59             1230.748231         96.0     1159   \n",
       "2122              2     9.58             1078.358105         96.0     7450   \n",
       "2123              2     9.10               10.325889         96.0     4189   \n",
       "\n",
       "      ...  polio  total_expenditure  diphtheria  hiv_aids          gdp  \\\n",
       "2119  ...   89.0                NaN        89.0       0.1  8958.788593   \n",
       "2120  ...   94.0               5.57        94.0       0.1    12.277330   \n",
       "2121  ...   88.0               5.60        92.0       0.1  9585.266593   \n",
       "2122  ...   92.0               5.48        91.0       0.1  8558.397660   \n",
       "2123  ...   89.0               5.53        89.0       0.1    92.277825   \n",
       "\n",
       "      population  thinness__1_19_years  thinness_5_9_years  \\\n",
       "2119  19815481.0                   2.5                 2.7   \n",
       "2120   1998979.0                   2.6                 2.8   \n",
       "2121  19983693.0                   2.7                 2.9   \n",
       "2122     25835.0                   2.8                 3.0   \n",
       "2123   2147528.0                   2.9                 3.1   \n",
       "\n",
       "      income_composition_of_resources  schooling  \n",
       "2119                            0.798       14.7  \n",
       "2120                            0.797       14.7  \n",
       "2121                            0.794       14.7  \n",
       "2122                            0.797       15.3  \n",
       "2123                            0.798       15.7  \n",
       "\n",
       "[5 rows x 22 columns]"
      ]
     },
     "execution_count": 106,
     "metadata": {},
     "output_type": "execute_result"
    }
   ],
   "source": [
    "bottom_developed=developed.query('country==@b_depd_country')\n",
    "bottom_developed.head()"
   ]
  },
  {
   "cell_type": "code",
   "execution_count": 107,
   "metadata": {
    "id": "-GMB_wx1g0eW"
   },
   "outputs": [
    {
     "data": {
      "text/html": [
       "<div>\n",
       "<style scoped>\n",
       "    .dataframe tbody tr th:only-of-type {\n",
       "        vertical-align: middle;\n",
       "    }\n",
       "\n",
       "    .dataframe tbody tr th {\n",
       "        vertical-align: top;\n",
       "    }\n",
       "\n",
       "    .dataframe thead th {\n",
       "        text-align: right;\n",
       "    }\n",
       "</style>\n",
       "<table border=\"1\" class=\"dataframe\">\n",
       "  <thead>\n",
       "    <tr style=\"text-align: right;\">\n",
       "      <th></th>\n",
       "      <th>country</th>\n",
       "      <th>year</th>\n",
       "      <th>status</th>\n",
       "      <th>life_expectancy</th>\n",
       "      <th>adult_mortality</th>\n",
       "      <th>infant_deaths</th>\n",
       "      <th>alcohol</th>\n",
       "      <th>percentage_expenditure</th>\n",
       "      <th>hepatitis_b</th>\n",
       "      <th>measles</th>\n",
       "      <th>...</th>\n",
       "      <th>polio</th>\n",
       "      <th>total_expenditure</th>\n",
       "      <th>diphtheria</th>\n",
       "      <th>hiv_aids</th>\n",
       "      <th>gdp</th>\n",
       "      <th>population</th>\n",
       "      <th>thinness__1_19_years</th>\n",
       "      <th>thinness_5_9_years</th>\n",
       "      <th>income_composition_of_resources</th>\n",
       "      <th>schooling</th>\n",
       "    </tr>\n",
       "  </thead>\n",
       "  <tbody>\n",
       "    <tr>\n",
       "      <th>2071</th>\n",
       "      <td>Qatar</td>\n",
       "      <td>2015</td>\n",
       "      <td>Developing</td>\n",
       "      <td>78.2</td>\n",
       "      <td>68.0</td>\n",
       "      <td>0</td>\n",
       "      <td>NaN</td>\n",
       "      <td>0.000000</td>\n",
       "      <td>99.0</td>\n",
       "      <td>18</td>\n",
       "      <td>...</td>\n",
       "      <td>99.0</td>\n",
       "      <td>NaN</td>\n",
       "      <td>99.0</td>\n",
       "      <td>0.1</td>\n",
       "      <td>66346.52267</td>\n",
       "      <td>NaN</td>\n",
       "      <td>5.2</td>\n",
       "      <td>4.9</td>\n",
       "      <td>0.855</td>\n",
       "      <td>13.4</td>\n",
       "    </tr>\n",
       "    <tr>\n",
       "      <th>2072</th>\n",
       "      <td>Qatar</td>\n",
       "      <td>2014</td>\n",
       "      <td>Developing</td>\n",
       "      <td>78.1</td>\n",
       "      <td>69.0</td>\n",
       "      <td>0</td>\n",
       "      <td>1.15</td>\n",
       "      <td>5063.513104</td>\n",
       "      <td>89.0</td>\n",
       "      <td>46</td>\n",
       "      <td>...</td>\n",
       "      <td>99.0</td>\n",
       "      <td>2.19</td>\n",
       "      <td>89.0</td>\n",
       "      <td>0.1</td>\n",
       "      <td>86852.71190</td>\n",
       "      <td>NaN</td>\n",
       "      <td>5.2</td>\n",
       "      <td>4.8</td>\n",
       "      <td>0.854</td>\n",
       "      <td>13.4</td>\n",
       "    </tr>\n",
       "    <tr>\n",
       "      <th>2073</th>\n",
       "      <td>Qatar</td>\n",
       "      <td>2013</td>\n",
       "      <td>Developing</td>\n",
       "      <td>77.9</td>\n",
       "      <td>7.0</td>\n",
       "      <td>0</td>\n",
       "      <td>1.20</td>\n",
       "      <td>515.073479</td>\n",
       "      <td>97.0</td>\n",
       "      <td>73</td>\n",
       "      <td>...</td>\n",
       "      <td>99.0</td>\n",
       "      <td>2.15</td>\n",
       "      <td>97.0</td>\n",
       "      <td>0.1</td>\n",
       "      <td>8834.87958</td>\n",
       "      <td>NaN</td>\n",
       "      <td>5.1</td>\n",
       "      <td>4.7</td>\n",
       "      <td>0.843</td>\n",
       "      <td>13.4</td>\n",
       "    </tr>\n",
       "    <tr>\n",
       "      <th>2074</th>\n",
       "      <td>Qatar</td>\n",
       "      <td>2012</td>\n",
       "      <td>Developing</td>\n",
       "      <td>77.8</td>\n",
       "      <td>72.0</td>\n",
       "      <td>0</td>\n",
       "      <td>1.13</td>\n",
       "      <td>5163.329180</td>\n",
       "      <td>93.0</td>\n",
       "      <td>160</td>\n",
       "      <td>...</td>\n",
       "      <td>93.0</td>\n",
       "      <td>2.16</td>\n",
       "      <td>92.0</td>\n",
       "      <td>0.1</td>\n",
       "      <td>88564.82298</td>\n",
       "      <td>NaN</td>\n",
       "      <td>5.1</td>\n",
       "      <td>4.7</td>\n",
       "      <td>0.837</td>\n",
       "      <td>13.4</td>\n",
       "    </tr>\n",
       "    <tr>\n",
       "      <th>2075</th>\n",
       "      <td>Qatar</td>\n",
       "      <td>2011</td>\n",
       "      <td>Developing</td>\n",
       "      <td>77.5</td>\n",
       "      <td>74.0</td>\n",
       "      <td>0</td>\n",
       "      <td>1.16</td>\n",
       "      <td>4409.170670</td>\n",
       "      <td>93.0</td>\n",
       "      <td>101</td>\n",
       "      <td>...</td>\n",
       "      <td>92.0</td>\n",
       "      <td>1.93</td>\n",
       "      <td>93.0</td>\n",
       "      <td>0.1</td>\n",
       "      <td>85948.74600</td>\n",
       "      <td>NaN</td>\n",
       "      <td>5.1</td>\n",
       "      <td>4.6</td>\n",
       "      <td>0.827</td>\n",
       "      <td>12.4</td>\n",
       "    </tr>\n",
       "  </tbody>\n",
       "</table>\n",
       "<p>5 rows × 22 columns</p>\n",
       "</div>"
      ],
      "text/plain": [
       "     country  year      status  life_expectancy  adult_mortality  \\\n",
       "2071   Qatar  2015  Developing             78.2             68.0   \n",
       "2072   Qatar  2014  Developing             78.1             69.0   \n",
       "2073   Qatar  2013  Developing             77.9              7.0   \n",
       "2074   Qatar  2012  Developing             77.8             72.0   \n",
       "2075   Qatar  2011  Developing             77.5             74.0   \n",
       "\n",
       "      infant_deaths  alcohol  percentage_expenditure  hepatitis_b  measles  \\\n",
       "2071              0      NaN                0.000000         99.0       18   \n",
       "2072              0     1.15             5063.513104         89.0       46   \n",
       "2073              0     1.20              515.073479         97.0       73   \n",
       "2074              0     1.13             5163.329180         93.0      160   \n",
       "2075              0     1.16             4409.170670         93.0      101   \n",
       "\n",
       "      ...  polio  total_expenditure  diphtheria  hiv_aids          gdp  \\\n",
       "2071  ...   99.0                NaN        99.0       0.1  66346.52267   \n",
       "2072  ...   99.0               2.19        89.0       0.1  86852.71190   \n",
       "2073  ...   99.0               2.15        97.0       0.1   8834.87958   \n",
       "2074  ...   93.0               2.16        92.0       0.1  88564.82298   \n",
       "2075  ...   92.0               1.93        93.0       0.1  85948.74600   \n",
       "\n",
       "      population  thinness__1_19_years  thinness_5_9_years  \\\n",
       "2071         NaN                   5.2                 4.9   \n",
       "2072         NaN                   5.2                 4.8   \n",
       "2073         NaN                   5.1                 4.7   \n",
       "2074         NaN                   5.1                 4.7   \n",
       "2075         NaN                   5.1                 4.6   \n",
       "\n",
       "      income_composition_of_resources  schooling  \n",
       "2071                            0.855       13.4  \n",
       "2072                            0.854       13.4  \n",
       "2073                            0.843       13.4  \n",
       "2074                            0.837       13.4  \n",
       "2075                            0.827       12.4  \n",
       "\n",
       "[5 rows x 22 columns]"
      ]
     },
     "execution_count": 107,
     "metadata": {},
     "output_type": "execute_result"
    }
   ],
   "source": [
    "top_developing=developing.query('country==@t_deping_country')\n",
    "top_developing.head()"
   ]
  },
  {
   "cell_type": "code",
   "execution_count": 108,
   "metadata": {
    "colab": {
     "base_uri": "https://localhost:8080/"
    },
    "id": "ImhG47qrhdsi",
    "outputId": "3fa394a2-6066-44f2-9fdc-6cb0ada314b2"
   },
   "outputs": [
    {
     "name": "stdout",
     "output_type": "stream",
     "text": [
      "Result for : life_expectancy\n",
      "Reject H_o: average of sample 1 is not equal to average of sample 2\n",
      "----------------------------\n",
      "Result for : adult_mortality\n",
      "Reject H_o: average of sample 1 is not equal to average of sample 2\n",
      "----------------------------\n",
      "Result for : infant_deaths\n",
      "Reject H_o: average of sample 1 is not equal to average of sample 2\n",
      "----------------------------\n",
      "Result for : alcohol\n",
      "Reject H_o: average of sample 1 is not equal to average of sample 2\n",
      "----------------------------\n",
      "Result for : percentage_expenditure\n",
      "Reject H_o: average of sample 1 is not equal to average of sample 2\n",
      "----------------------------\n",
      "Result for : hepatitis_b\n",
      "Reject H_o: average of sample 1 is not equal to average of sample 2\n",
      "----------------------------\n",
      "Result for : measles\n",
      "Reject H_o: average of sample 1 is not equal to average of sample 2\n",
      "----------------------------\n",
      "Result for : bmi\n",
      "Reject H_o: average of sample 1 is not equal to average of sample 2\n",
      "----------------------------\n",
      "Result for : under_five_deaths\n",
      "Reject H_o: average of sample 1 is not equal to average of sample 2\n",
      "----------------------------\n",
      "Result for : polio\n",
      "Reject H_o: average of sample 1 is not equal to average of sample 2\n",
      "----------------------------\n",
      "Result for : total_expenditure\n",
      "Reject H_o: average of sample 1 is not equal to average of sample 2\n",
      "----------------------------\n",
      "Result for : diphtheria\n",
      "Reject H_o: average of sample 1 is not equal to average of sample 2\n",
      "----------------------------\n",
      "Result for : hiv_aids\n",
      "Reject H_o: average of sample 1 is not equal to average of sample 2\n",
      "----------------------------\n",
      "Result for : gdp\n",
      "Reject H_o: average of sample 1 is not equal to average of sample 2\n",
      "----------------------------\n",
      "Result for : population\n",
      "Reject H_o: average of sample 1 is not equal to average of sample 2\n",
      "----------------------------\n",
      "Result for : thinness__1_19_years\n",
      "Reject H_o: average of sample 1 is not equal to average of sample 2\n",
      "----------------------------\n",
      "Result for : thinness_5_9_years\n",
      "Reject H_o: average of sample 1 is not equal to average of sample 2\n",
      "----------------------------\n",
      "Result for : income_composition_of_resources\n",
      "Reject H_o: average of sample 1 is not equal to average of sample 2\n",
      "----------------------------\n",
      "Result for : schooling\n",
      "Reject H_o: average of sample 1 is not equal to average of sample 2\n",
      "----------------------------\n"
     ]
    },
    {
     "name": "stderr",
     "output_type": "stream",
     "text": [
      "/var/folders/2c/tfkhfg6d5jj1g3ttv18s3t5r0000gn/T/ipykernel_82260/2696122248.py:2: RuntimeWarning: invalid value encountered in cast\n",
      "  p_value_levene=stats.levene(sample1, sample2).pvalue.astype(int)\n",
      "/opt/anaconda3/envs/python311/lib/python3.11/site-packages/scipy/stats/_morestats.py:3057: RuntimeWarning: invalid value encountered in scalar divide\n",
      "  W = numer / denom\n",
      "/opt/anaconda3/envs/python311/lib/python3.11/site-packages/scipy/stats/_axis_nan_policy.py:586: RuntimeWarning: Precision loss occurred in moment calculation due to catastrophic cancellation. This occurs when the data are nearly identical. Results may be unreliable.\n",
      "  res = hypotest_fun_out(*samples, **kwds)\n",
      "/var/folders/2c/tfkhfg6d5jj1g3ttv18s3t5r0000gn/T/ipykernel_82260/2696122248.py:9: RuntimeWarning: invalid value encountered in cast\n",
      "  p_value=stats.ttest_ind(sample1, sample2, nan_policy='omit', equal_var=option_var).pvalue.astype(int)\n",
      "/opt/anaconda3/envs/python311/lib/python3.11/site-packages/scipy/_lib/deprecation.py:234: SmallSampleWarning: After omitting NaNs, one or more sample arguments is too small; all returned values will be NaN. See documentation for sample size requirements.\n",
      "  return f(*args, **kwargs)\n"
     ]
    }
   ],
   "source": [
    "for i in data.columns:\n",
    "    if i in ['country','year','status']:\n",
    "        continue\n",
    "    else:\n",
    "        print('Result for :',i)\n",
    "        t_test(bottom_developed[i],top_developing[i],alpha=0.05)\n",
    "        print('----------------------------')"
   ]
  },
  {
   "cell_type": "markdown",
   "metadata": {
    "id": "zVDJMq08mOPF"
   },
   "source": [
    "**Overall conclusion:** we can assure WHO that none of the parameters should be excluded from their models, because values for countries indeed vary and the methodology of splitting really works"
   ]
  }
 ],
 "metadata": {
  "colab": {
   "name": " SDA workshop 2draft.ipynb",
   "provenance": []
  },
  "kernelspec": {
   "display_name": "python311",
   "language": "python",
   "name": "python3"
  },
  "language_info": {
   "codemirror_mode": {
    "name": "ipython",
    "version": 3
   },
   "file_extension": ".py",
   "mimetype": "text/x-python",
   "name": "python",
   "nbconvert_exporter": "python",
   "pygments_lexer": "ipython3",
   "version": "3.11.11"
  }
 },
 "nbformat": 4,
 "nbformat_minor": 1
}
