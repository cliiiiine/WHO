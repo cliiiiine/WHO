{
 "cells": [
  {
   "metadata": {},
   "cell_type": "markdown",
   "source": "<div style=\"border-radius: 15px; border: 3px solid indigo; padding: 15px;\">\n<b> Reviewer's comment 3</b>\n\n\nThank you for sending the updated version of the project. My new comments have digit 3, but there's nothing that needs to be fixed. The project is accepted, good luck! \n    \n\n</div>"
  },
  {
   "metadata": {},
   "cell_type": "markdown",
   "source": "<div style=\"border-radius: 15px; border: 3px solid indigo; padding: 15px;\">\n<b> Reviewer's comment 2</b>\n\n\nKeith, thank you very much for the updates! I've left a few comments titled as **Reviewer's comment 2**. There're a couple of tiny issues, but it will definitely not take much time. Some of the cells do not work, and the second hypotheses pair does not have wordings of H0 and H1. Would you fix that please? \n\n     \nEverything else is perfect! </div>"
  },
  {
   "metadata": {},
   "cell_type": "markdown",
   "source": "<div style=\"border-radius: 15px; border: 3px solid indigo; padding: 15px;\">\n<b> Reviewer's comment</b>\n    \nHi, Keith! I am a reviewer on this project. Congratulations on submitting your project! 🎉\n\nBefore we start, I want to pay your attention to the color marking:\n    \n<div class=\"alert alert-success\" style=\"border-radius: 15px; box-shadow: 4px 4px 4px; border: 1px solid \">\n<b> Reviewer's comment</b>\n    \nGreat solutions and ideas that can and should be used in the future are in green comments.   \n</div>    \n    \n    \n<div class=\"alert alert-warning\" style=\"border-radius: 15px; box-shadow: 4px 4px 4px; border: 1px solid \">\n<b> Reviewer's comment</b>\n\nYellow color indicates what should be optimized. This is not necessary, but it will be great if you make changes to this project.\n</div>      \n    \n    \n<div class=\"alert alert-danger\" style=\"border-radius: 15px; box-shadow: 4px 4px 4px; border: 1px solid \">\n<b> Reviewer's comment</b>\n\nIssues that need to be corrected to get right results are indicated in red comments. Note that the project cannot be accepted until these issues are resolved.\n</div>    \n\n<hr>\n    \n**Please, use some color other than those listed to highlight answers to my comments.**\nI would also ask you **not to change, move or delete my comments** so that it would be easier for me to navigate during the next review.\n    \nIn addition, my comments are defined as headings. \nThey can mess up the content but they are convenient, since you can immediately go to them. I will remove the headings from my comments in the next review. \n   \n    \n    \n<hr>\n    \n<font color='dodgerblue'>**A few words about the project:**</font> thank you very much for submitting your project! You did a great job here!\n    \n    \n- You have successfully explored and prepared the dataframes;\n\n\n- Merged pivot tables; \n\n\n- Calculated revenue; \n\n\n- Displayed and analyzed distributions; \n\n\n- Conducted statistical tests; \n\n\n- Wrote an excellent conclusion!     \n    \n    \nHowever, there are several issues that need your attention. I tried to outline and explain them in my comments. Would you take a look? \n<hr>\n    \nPlease feel free to schedule a 1:1 with our tutors or TAs, join daily coworking sessions, or ask questions in the sprint channels on Discord if you need assistance. \n\n</div>"
  },
  {
   "metadata": {},
   "cell_type": "markdown",
   "source": "# Which one is a better plan?\n\nYou work as an analyst for the telecom operator Megaline. The company offers its clients two prepaid plans, Surf and Ultimate. The commercial department wants to know which of the plans brings in more revenue in order to adjust the advertising budget.\n\nYou are going to carry out a preliminary analysis of the plans based on a relatively small client selection. You'll have the data on 500 Megaline clients: who the clients are, where they're from, which plan they use, and the number of calls they made and text messages they sent in 2018. Your job is to analyze the clients' behavior and determine which prepaid plan brings in more revenue."
  },
  {
   "metadata": {},
   "cell_type": "markdown",
   "source": "<div class=\"alert alert-info\" style=\"border-radius: 15px; box-shadow: 4px 4px 4px; border: 1px solid \">\n<b> Keith's comment<b/>\n\nThe objective of this assignment is to analyze the data for the telecom operator Megaline and figure out which plan they should focus more heavily on with their operating budget. Using the data from 500 clients, it is being asked to analyze clients' behavior and determine which prepaid plan brings in more revenue to the company. \n    \n<div/>"
  },
  {
   "metadata": {},
   "cell_type": "markdown",
   "source": "[We've provided you with some commentary to guide your thinking as you complete this project. However, make sure to remove all the bracketed comments before submitting your project.]\n\n[Before you dive into analyzing your data, explain for yourself the purpose of the project and actions you plan to take.]\n\n[Please bear in mind that studying, amending, and analyzing data is an iterative process. It is normal to return to previous steps and correct/expand them to allow for further steps.]"
  },
  {
   "metadata": {},
   "cell_type": "markdown",
   "source": "<div class=\"alert alert-success\" style=\"border-radius: 15px; box-shadow: 4px 4px 4px; border: 1px solid \">\n<h2> Reviewer's comment</h2>\n    \nThere's an introduction, which is good. It is important to write an introductory part because it gives an idea about the content of the project.\n    \n</div>\n<div class=\"alert alert-warning\" style=\"border-radius: 15px; box-shadow: 4px 4px 4px; border: 1px solid \">\n<b>  Reviewer's comment </b>\n    \n\nHowever, I recommend that you write it by yourself and avoid using personal pronouns 😊 You can include a short data description.\n    \n</div>\n<div class=\"alert alert-success\" style=\"border-radius: 15px; box-shadow: 4px 4px 4px; border: 1px solid \">\n<h2> Reviewer's comment 2</h2>\n    \nExcellent! \n    \n</div>"
  },
  {
   "metadata": {},
   "cell_type": "markdown",
   "source": "## Initialization"
  },
  {
   "metadata": {},
   "cell_type": "markdown",
   "source": ""
  },
  {
   "metadata": {
    "trusted": false
   },
   "cell_type": "code",
   "source": "import pandas as pd\nimport numpy as np\nfrom matplotlib import pyplot as plt\nfrom scipy import stats as st\nimport seaborn as sns\nimport math",
   "execution_count": 1,
   "outputs": []
  },
  {
   "metadata": {},
   "cell_type": "markdown",
   "source": "## Load data"
  },
  {
   "metadata": {},
   "cell_type": "markdown",
   "source": ""
  },
  {
   "metadata": {
    "trusted": false
   },
   "cell_type": "code",
   "source": "calls = pd.read_csv('/datasets/megaline_calls.csv')\ninternet = pd.read_csv('/datasets/megaline_internet.csv')\nmessages = pd.read_csv('/datasets/megaline_messages.csv')\nplans = pd.read_csv('/datasets/megaline_plans.csv')\nusers = pd.read_csv('/datasets/megaline_users.csv')",
   "execution_count": 2,
   "outputs": []
  },
  {
   "metadata": {},
   "cell_type": "markdown",
   "source": "## Prepare the data"
  },
  {
   "metadata": {},
   "cell_type": "markdown",
   "source": "[The data for this project is split into several tables. Explore each one to get an initial understanding of the data. Do necessary corrections to each table if necessary.]"
  },
  {
   "metadata": {
    "trusted": false
   },
   "cell_type": "code",
   "source": "calls.info()",
   "execution_count": 3,
   "outputs": [
    {
     "name": "stdout",
     "output_type": "stream",
     "text": "<class 'pandas.core.frame.DataFrame'>\nRangeIndex: 137735 entries, 0 to 137734\nData columns (total 4 columns):\n #   Column     Non-Null Count   Dtype  \n---  ------     --------------   -----  \n 0   id         137735 non-null  object \n 1   user_id    137735 non-null  int64  \n 2   call_date  137735 non-null  object \n 3   duration   137735 non-null  float64\ndtypes: float64(1), int64(1), object(2)\nmemory usage: 4.2+ MB\n"
    }
   ]
  },
  {
   "metadata": {
    "trusted": false
   },
   "cell_type": "code",
   "source": "calls['user_id'] = calls['user_id'].astype('str')",
   "execution_count": 4,
   "outputs": []
  },
  {
   "metadata": {
    "trusted": false
   },
   "cell_type": "code",
   "source": "calls.info()",
   "execution_count": 5,
   "outputs": [
    {
     "name": "stdout",
     "output_type": "stream",
     "text": "<class 'pandas.core.frame.DataFrame'>\nRangeIndex: 137735 entries, 0 to 137734\nData columns (total 4 columns):\n #   Column     Non-Null Count   Dtype  \n---  ------     --------------   -----  \n 0   id         137735 non-null  object \n 1   user_id    137735 non-null  object \n 2   call_date  137735 non-null  object \n 3   duration   137735 non-null  float64\ndtypes: float64(1), object(3)\nmemory usage: 4.2+ MB\n"
    }
   ]
  },
  {
   "metadata": {
    "trusted": false
   },
   "cell_type": "code",
   "source": "messages.info()",
   "execution_count": 6,
   "outputs": [
    {
     "name": "stdout",
     "output_type": "stream",
     "text": "<class 'pandas.core.frame.DataFrame'>\nRangeIndex: 76051 entries, 0 to 76050\nData columns (total 3 columns):\n #   Column        Non-Null Count  Dtype \n---  ------        --------------  ----- \n 0   id            76051 non-null  object\n 1   user_id       76051 non-null  int64 \n 2   message_date  76051 non-null  object\ndtypes: int64(1), object(2)\nmemory usage: 1.7+ MB\n"
    }
   ]
  },
  {
   "metadata": {
    "trusted": false
   },
   "cell_type": "code",
   "source": "messages['user_id'] = messages['user_id'].astype('str')",
   "execution_count": 7,
   "outputs": []
  },
  {
   "metadata": {},
   "cell_type": "markdown",
   "source": "<div class=\"alert alert-warning\" style=\"border-radius: 15px; box-shadow: 4px 4px 4px; border: 1px solid \">\n<b>  Reviewer's comment </b>\n    \n\nId is a number. Do we need to convert it to string?     \n</div>"
  },
  {
   "metadata": {},
   "cell_type": "markdown",
   "source": "<div class=\"alert alert-info\" style=\"border-radius: 15px; box-shadow: 4px 4px 4px; border: 1px solid \">\n<b> Keith's comment<b/>\n\nConverting an ID to a string isn't necessary BUT it can help display labels correctly without Python interpreting them as numeric values. Being that we aren't using the IDs as \"numbers\" it was more of a safety net, but probably an unnecessary step in this case.\n    \n<div/>"
  },
  {
   "metadata": {},
   "cell_type": "markdown",
   "source": "<div class=\"alert alert-success\" style=\"border-radius: 15px; box-shadow: 4px 4px 4px; border: 1px solid \">\n<h2> Reviewer's comment 2</h2>\n    \nMakes sense. \n    \n</div>"
  },
  {
   "metadata": {
    "trusted": false
   },
   "cell_type": "code",
   "source": "messages.info()",
   "execution_count": 8,
   "outputs": [
    {
     "name": "stdout",
     "output_type": "stream",
     "text": "<class 'pandas.core.frame.DataFrame'>\nRangeIndex: 76051 entries, 0 to 76050\nData columns (total 3 columns):\n #   Column        Non-Null Count  Dtype \n---  ------        --------------  ----- \n 0   id            76051 non-null  object\n 1   user_id       76051 non-null  object\n 2   message_date  76051 non-null  object\ndtypes: object(3)\nmemory usage: 1.7+ MB\n"
    }
   ]
  },
  {
   "metadata": {
    "trusted": false
   },
   "cell_type": "code",
   "source": "users.info()",
   "execution_count": 9,
   "outputs": [
    {
     "name": "stdout",
     "output_type": "stream",
     "text": "<class 'pandas.core.frame.DataFrame'>\nRangeIndex: 500 entries, 0 to 499\nData columns (total 8 columns):\n #   Column      Non-Null Count  Dtype \n---  ------      --------------  ----- \n 0   user_id     500 non-null    int64 \n 1   first_name  500 non-null    object\n 2   last_name   500 non-null    object\n 3   age         500 non-null    int64 \n 4   city        500 non-null    object\n 5   reg_date    500 non-null    object\n 6   plan        500 non-null    object\n 7   churn_date  34 non-null     object\ndtypes: int64(2), object(6)\nmemory usage: 31.4+ KB\n"
    }
   ]
  },
  {
   "metadata": {
    "trusted": false
   },
   "cell_type": "code",
   "source": "users['user_id'] = users['user_id'].astype('str')",
   "execution_count": 10,
   "outputs": []
  },
  {
   "metadata": {
    "trusted": false
   },
   "cell_type": "code",
   "source": "users.info()",
   "execution_count": 11,
   "outputs": [
    {
     "name": "stdout",
     "output_type": "stream",
     "text": "<class 'pandas.core.frame.DataFrame'>\nRangeIndex: 500 entries, 0 to 499\nData columns (total 8 columns):\n #   Column      Non-Null Count  Dtype \n---  ------      --------------  ----- \n 0   user_id     500 non-null    object\n 1   first_name  500 non-null    object\n 2   last_name   500 non-null    object\n 3   age         500 non-null    int64 \n 4   city        500 non-null    object\n 5   reg_date    500 non-null    object\n 6   plan        500 non-null    object\n 7   churn_date  34 non-null     object\ndtypes: int64(1), object(7)\nmemory usage: 31.4+ KB\n"
    }
   ]
  },
  {
   "metadata": {
    "trusted": false
   },
   "cell_type": "code",
   "source": "internet.info()",
   "execution_count": 12,
   "outputs": [
    {
     "name": "stdout",
     "output_type": "stream",
     "text": "<class 'pandas.core.frame.DataFrame'>\nRangeIndex: 104825 entries, 0 to 104824\nData columns (total 4 columns):\n #   Column        Non-Null Count   Dtype  \n---  ------        --------------   -----  \n 0   id            104825 non-null  object \n 1   user_id       104825 non-null  int64  \n 2   session_date  104825 non-null  object \n 3   mb_used       104825 non-null  float64\ndtypes: float64(1), int64(1), object(2)\nmemory usage: 3.2+ MB\n"
    }
   ]
  },
  {
   "metadata": {
    "trusted": false
   },
   "cell_type": "code",
   "source": "internet['user_id'] = internet['user_id'].astype('str')",
   "execution_count": 13,
   "outputs": []
  },
  {
   "metadata": {
    "trusted": false
   },
   "cell_type": "code",
   "source": "internet.info()",
   "execution_count": 14,
   "outputs": [
    {
     "name": "stdout",
     "output_type": "stream",
     "text": "<class 'pandas.core.frame.DataFrame'>\nRangeIndex: 104825 entries, 0 to 104824\nData columns (total 4 columns):\n #   Column        Non-Null Count   Dtype  \n---  ------        --------------   -----  \n 0   id            104825 non-null  object \n 1   user_id       104825 non-null  object \n 2   session_date  104825 non-null  object \n 3   mb_used       104825 non-null  float64\ndtypes: float64(1), object(3)\nmemory usage: 3.2+ MB\n"
    }
   ]
  },
  {
   "metadata": {
    "trusted": false
   },
   "cell_type": "code",
   "source": "plans.info()",
   "execution_count": 15,
   "outputs": [
    {
     "name": "stdout",
     "output_type": "stream",
     "text": "<class 'pandas.core.frame.DataFrame'>\nRangeIndex: 2 entries, 0 to 1\nData columns (total 8 columns):\n #   Column                 Non-Null Count  Dtype  \n---  ------                 --------------  -----  \n 0   messages_included      2 non-null      int64  \n 1   mb_per_month_included  2 non-null      int64  \n 2   minutes_included       2 non-null      int64  \n 3   usd_monthly_pay        2 non-null      int64  \n 4   usd_per_gb             2 non-null      int64  \n 5   usd_per_message        2 non-null      float64\n 6   usd_per_minute         2 non-null      float64\n 7   plan_name              2 non-null      object \ndtypes: float64(2), int64(5), object(1)\nmemory usage: 256.0+ bytes\n"
    }
   ]
  },
  {
   "metadata": {},
   "cell_type": "markdown",
   "source": "With this particular section, I checked the information from each dataframe to make sure there wasn't any missing data and checked the dtype of each column to be sure that made sense. The dtype on all of the user_id columns was an int64 so I converted those over to objects because we want those user_id numbers to not actually be numbers."
  },
  {
   "metadata": {},
   "cell_type": "markdown",
   "source": "## Plans"
  },
  {
   "metadata": {
    "trusted": false
   },
   "cell_type": "code",
   "source": "print('General information:')\nplans.info()\n\nprint('\\nSummary Statistics:')\nplans.describe()",
   "execution_count": 16,
   "outputs": [
    {
     "name": "stdout",
     "output_type": "stream",
     "text": "General information:\n<class 'pandas.core.frame.DataFrame'>\nRangeIndex: 2 entries, 0 to 1\nData columns (total 8 columns):\n #   Column                 Non-Null Count  Dtype  \n---  ------                 --------------  -----  \n 0   messages_included      2 non-null      int64  \n 1   mb_per_month_included  2 non-null      int64  \n 2   minutes_included       2 non-null      int64  \n 3   usd_monthly_pay        2 non-null      int64  \n 4   usd_per_gb             2 non-null      int64  \n 5   usd_per_message        2 non-null      float64\n 6   usd_per_minute         2 non-null      float64\n 7   plan_name              2 non-null      object \ndtypes: float64(2), int64(5), object(1)\nmemory usage: 256.0+ bytes\n\nSummary Statistics:\n"
    },
    {
     "data": {
      "text/html": "<div>\n<style scoped>\n    .dataframe tbody tr th:only-of-type {\n        vertical-align: middle;\n    }\n\n    .dataframe tbody tr th {\n        vertical-align: top;\n    }\n\n    .dataframe thead th {\n        text-align: right;\n    }\n</style>\n<table border=\"1\" class=\"dataframe\">\n  <thead>\n    <tr style=\"text-align: right;\">\n      <th></th>\n      <th>messages_included</th>\n      <th>mb_per_month_included</th>\n      <th>minutes_included</th>\n      <th>usd_monthly_pay</th>\n      <th>usd_per_gb</th>\n      <th>usd_per_message</th>\n      <th>usd_per_minute</th>\n    </tr>\n  </thead>\n  <tbody>\n    <tr>\n      <th>count</th>\n      <td>2.000000</td>\n      <td>2.000000</td>\n      <td>2.000000</td>\n      <td>2.000000</td>\n      <td>2.00000</td>\n      <td>2.000000</td>\n      <td>2.000000</td>\n    </tr>\n    <tr>\n      <th>mean</th>\n      <td>525.000000</td>\n      <td>23040.000000</td>\n      <td>1750.000000</td>\n      <td>45.000000</td>\n      <td>8.50000</td>\n      <td>0.020000</td>\n      <td>0.020000</td>\n    </tr>\n    <tr>\n      <th>std</th>\n      <td>671.751442</td>\n      <td>10861.160159</td>\n      <td>1767.766953</td>\n      <td>35.355339</td>\n      <td>2.12132</td>\n      <td>0.014142</td>\n      <td>0.014142</td>\n    </tr>\n    <tr>\n      <th>min</th>\n      <td>50.000000</td>\n      <td>15360.000000</td>\n      <td>500.000000</td>\n      <td>20.000000</td>\n      <td>7.00000</td>\n      <td>0.010000</td>\n      <td>0.010000</td>\n    </tr>\n    <tr>\n      <th>25%</th>\n      <td>287.500000</td>\n      <td>19200.000000</td>\n      <td>1125.000000</td>\n      <td>32.500000</td>\n      <td>7.75000</td>\n      <td>0.015000</td>\n      <td>0.015000</td>\n    </tr>\n    <tr>\n      <th>50%</th>\n      <td>525.000000</td>\n      <td>23040.000000</td>\n      <td>1750.000000</td>\n      <td>45.000000</td>\n      <td>8.50000</td>\n      <td>0.020000</td>\n      <td>0.020000</td>\n    </tr>\n    <tr>\n      <th>75%</th>\n      <td>762.500000</td>\n      <td>26880.000000</td>\n      <td>2375.000000</td>\n      <td>57.500000</td>\n      <td>9.25000</td>\n      <td>0.025000</td>\n      <td>0.025000</td>\n    </tr>\n    <tr>\n      <th>max</th>\n      <td>1000.000000</td>\n      <td>30720.000000</td>\n      <td>3000.000000</td>\n      <td>70.000000</td>\n      <td>10.00000</td>\n      <td>0.030000</td>\n      <td>0.030000</td>\n    </tr>\n  </tbody>\n</table>\n</div>",
      "text/plain": "       messages_included  mb_per_month_included  minutes_included  \\\ncount           2.000000               2.000000          2.000000   \nmean          525.000000           23040.000000       1750.000000   \nstd           671.751442           10861.160159       1767.766953   \nmin            50.000000           15360.000000        500.000000   \n25%           287.500000           19200.000000       1125.000000   \n50%           525.000000           23040.000000       1750.000000   \n75%           762.500000           26880.000000       2375.000000   \nmax          1000.000000           30720.000000       3000.000000   \n\n       usd_monthly_pay  usd_per_gb  usd_per_message  usd_per_minute  \ncount         2.000000     2.00000         2.000000        2.000000  \nmean         45.000000     8.50000         0.020000        0.020000  \nstd          35.355339     2.12132         0.014142        0.014142  \nmin          20.000000     7.00000         0.010000        0.010000  \n25%          32.500000     7.75000         0.015000        0.015000  \n50%          45.000000     8.50000         0.020000        0.020000  \n75%          57.500000     9.25000         0.025000        0.025000  \nmax          70.000000    10.00000         0.030000        0.030000  "
     },
     "execution_count": 16,
     "metadata": {},
     "output_type": "execute_result"
    }
   ]
  },
  {
   "metadata": {
    "trusted": false
   },
   "cell_type": "code",
   "source": "plans.sample()\n",
   "execution_count": 17,
   "outputs": [
    {
     "data": {
      "text/html": "<div>\n<style scoped>\n    .dataframe tbody tr th:only-of-type {\n        vertical-align: middle;\n    }\n\n    .dataframe tbody tr th {\n        vertical-align: top;\n    }\n\n    .dataframe thead th {\n        text-align: right;\n    }\n</style>\n<table border=\"1\" class=\"dataframe\">\n  <thead>\n    <tr style=\"text-align: right;\">\n      <th></th>\n      <th>messages_included</th>\n      <th>mb_per_month_included</th>\n      <th>minutes_included</th>\n      <th>usd_monthly_pay</th>\n      <th>usd_per_gb</th>\n      <th>usd_per_message</th>\n      <th>usd_per_minute</th>\n      <th>plan_name</th>\n    </tr>\n  </thead>\n  <tbody>\n    <tr>\n      <th>1</th>\n      <td>1000</td>\n      <td>30720</td>\n      <td>3000</td>\n      <td>70</td>\n      <td>7</td>\n      <td>0.01</td>\n      <td>0.01</td>\n      <td>ultimate</td>\n    </tr>\n  </tbody>\n</table>\n</div>",
      "text/plain": "   messages_included  mb_per_month_included  minutes_included  \\\n1               1000                  30720              3000   \n\n   usd_monthly_pay  usd_per_gb  usd_per_message  usd_per_minute plan_name  \n1               70           7             0.01            0.01  ultimate  "
     },
     "execution_count": 17,
     "metadata": {},
     "output_type": "execute_result"
    }
   ]
  },
  {
   "metadata": {},
   "cell_type": "markdown",
   "source": "[Describe what you see and notice in the general information and the printed data sample for the above price of data. Are there any issues (inappropriate data types, missing data etc) that may need further investigation and changes? How that can be fixed?]"
  },
  {
   "metadata": {},
   "cell_type": "markdown",
   "source": "There are only 2 plans to choose from: surf and ultimate. Meaning the quartile information is useless and so is the std information. I cleaned up the data above as best as I could. There wasn't any missing values and all of the dtypes make sense."
  },
  {
   "metadata": {},
   "cell_type": "markdown",
   "source": " "
  },
  {
   "metadata": {},
   "cell_type": "markdown",
   "source": "## Fix data"
  },
  {
   "metadata": {},
   "cell_type": "markdown",
   "source": "[Fix obvious issues with the data given the initial observations.]"
  },
  {
   "metadata": {},
   "cell_type": "markdown",
   "source": "The minor issues to this df were fixed above."
  },
  {
   "metadata": {},
   "cell_type": "markdown",
   "source": "## Enrich data"
  },
  {
   "metadata": {},
   "cell_type": "markdown",
   "source": "[Add additional factors to the data if you believe they might be useful.]"
  },
  {
   "metadata": {},
   "cell_type": "markdown",
   "source": "No additional factors needed for this df."
  },
  {
   "metadata": {},
   "cell_type": "markdown",
   "source": "## Users"
  },
  {
   "metadata": {
    "trusted": false
   },
   "cell_type": "code",
   "source": "print('General information:')\nusers.info()\n\nprint('\\nSummary Statistics:')\nusers.describe()",
   "execution_count": 18,
   "outputs": [
    {
     "name": "stdout",
     "output_type": "stream",
     "text": "General information:\n<class 'pandas.core.frame.DataFrame'>\nRangeIndex: 500 entries, 0 to 499\nData columns (total 8 columns):\n #   Column      Non-Null Count  Dtype \n---  ------      --------------  ----- \n 0   user_id     500 non-null    object\n 1   first_name  500 non-null    object\n 2   last_name   500 non-null    object\n 3   age         500 non-null    int64 \n 4   city        500 non-null    object\n 5   reg_date    500 non-null    object\n 6   plan        500 non-null    object\n 7   churn_date  34 non-null     object\ndtypes: int64(1), object(7)\nmemory usage: 31.4+ KB\n\nSummary Statistics:\n"
    },
    {
     "data": {
      "text/html": "<div>\n<style scoped>\n    .dataframe tbody tr th:only-of-type {\n        vertical-align: middle;\n    }\n\n    .dataframe tbody tr th {\n        vertical-align: top;\n    }\n\n    .dataframe thead th {\n        text-align: right;\n    }\n</style>\n<table border=\"1\" class=\"dataframe\">\n  <thead>\n    <tr style=\"text-align: right;\">\n      <th></th>\n      <th>age</th>\n    </tr>\n  </thead>\n  <tbody>\n    <tr>\n      <th>count</th>\n      <td>500.000000</td>\n    </tr>\n    <tr>\n      <th>mean</th>\n      <td>45.486000</td>\n    </tr>\n    <tr>\n      <th>std</th>\n      <td>16.972269</td>\n    </tr>\n    <tr>\n      <th>min</th>\n      <td>18.000000</td>\n    </tr>\n    <tr>\n      <th>25%</th>\n      <td>30.000000</td>\n    </tr>\n    <tr>\n      <th>50%</th>\n      <td>46.000000</td>\n    </tr>\n    <tr>\n      <th>75%</th>\n      <td>61.000000</td>\n    </tr>\n    <tr>\n      <th>max</th>\n      <td>75.000000</td>\n    </tr>\n  </tbody>\n</table>\n</div>",
      "text/plain": "              age\ncount  500.000000\nmean    45.486000\nstd     16.972269\nmin     18.000000\n25%     30.000000\n50%     46.000000\n75%     61.000000\nmax     75.000000"
     },
     "execution_count": 18,
     "metadata": {},
     "output_type": "execute_result"
    }
   ]
  },
  {
   "metadata": {
    "trusted": false
   },
   "cell_type": "code",
   "source": "users.sample(10)",
   "execution_count": 19,
   "outputs": [
    {
     "data": {
      "text/html": "<div>\n<style scoped>\n    .dataframe tbody tr th:only-of-type {\n        vertical-align: middle;\n    }\n\n    .dataframe tbody tr th {\n        vertical-align: top;\n    }\n\n    .dataframe thead th {\n        text-align: right;\n    }\n</style>\n<table border=\"1\" class=\"dataframe\">\n  <thead>\n    <tr style=\"text-align: right;\">\n      <th></th>\n      <th>user_id</th>\n      <th>first_name</th>\n      <th>last_name</th>\n      <th>age</th>\n      <th>city</th>\n      <th>reg_date</th>\n      <th>plan</th>\n      <th>churn_date</th>\n    </tr>\n  </thead>\n  <tbody>\n    <tr>\n      <th>229</th>\n      <td>1229</td>\n      <td>Augustus</td>\n      <td>Barker</td>\n      <td>69</td>\n      <td>Austin-Round Rock-Georgetown, TX MSA</td>\n      <td>2018-12-09</td>\n      <td>ultimate</td>\n      <td>NaN</td>\n    </tr>\n    <tr>\n      <th>388</th>\n      <td>1388</td>\n      <td>Thu</td>\n      <td>Noel</td>\n      <td>75</td>\n      <td>New York-Newark-Jersey City, NY-NJ-PA MSA</td>\n      <td>2018-03-28</td>\n      <td>ultimate</td>\n      <td>NaN</td>\n    </tr>\n    <tr>\n      <th>24</th>\n      <td>1024</td>\n      <td>Yuki</td>\n      <td>Tyson</td>\n      <td>74</td>\n      <td>New York-Newark-Jersey City, NY-NJ-PA MSA</td>\n      <td>2018-08-21</td>\n      <td>surf</td>\n      <td>NaN</td>\n    </tr>\n    <tr>\n      <th>419</th>\n      <td>1419</td>\n      <td>Bryon</td>\n      <td>Gordon</td>\n      <td>45</td>\n      <td>Phoenix-Mesa-Chandler, AZ MSA</td>\n      <td>2018-03-29</td>\n      <td>surf</td>\n      <td>NaN</td>\n    </tr>\n    <tr>\n      <th>412</th>\n      <td>1412</td>\n      <td>Cortez</td>\n      <td>Reese</td>\n      <td>61</td>\n      <td>Detroit-Warren-Dearborn, MI MSA</td>\n      <td>2018-04-08</td>\n      <td>ultimate</td>\n      <td>NaN</td>\n    </tr>\n    <tr>\n      <th>211</th>\n      <td>1211</td>\n      <td>Vito</td>\n      <td>Cameron</td>\n      <td>60</td>\n      <td>New York-Newark-Jersey City, NY-NJ-PA MSA</td>\n      <td>2018-06-30</td>\n      <td>ultimate</td>\n      <td>NaN</td>\n    </tr>\n    <tr>\n      <th>310</th>\n      <td>1310</td>\n      <td>Vincent</td>\n      <td>Fry</td>\n      <td>73</td>\n      <td>Portland-Vancouver-Hillsboro, OR-WA MSA</td>\n      <td>2018-11-29</td>\n      <td>surf</td>\n      <td>NaN</td>\n    </tr>\n    <tr>\n      <th>416</th>\n      <td>1416</td>\n      <td>Deja</td>\n      <td>Moss</td>\n      <td>25</td>\n      <td>Minneapolis-St. Paul-Bloomington, MN-WI MSA</td>\n      <td>2018-10-03</td>\n      <td>surf</td>\n      <td>2018-11-21</td>\n    </tr>\n    <tr>\n      <th>431</th>\n      <td>1431</td>\n      <td>Napoleon</td>\n      <td>Burt</td>\n      <td>74</td>\n      <td>Sacramento–Roseville–Folsom, CA MSA</td>\n      <td>2018-01-28</td>\n      <td>surf</td>\n      <td>NaN</td>\n    </tr>\n    <tr>\n      <th>409</th>\n      <td>1409</td>\n      <td>Elvis</td>\n      <td>Vargas</td>\n      <td>38</td>\n      <td>Charlotte-Concord-Gastonia, NC-SC MSA</td>\n      <td>2018-10-04</td>\n      <td>ultimate</td>\n      <td>NaN</td>\n    </tr>\n  </tbody>\n</table>\n</div>",
      "text/plain": "    user_id first_name last_name  age  \\\n229    1229   Augustus    Barker   69   \n388    1388        Thu      Noel   75   \n24     1024       Yuki     Tyson   74   \n419    1419      Bryon    Gordon   45   \n412    1412     Cortez     Reese   61   \n211    1211       Vito   Cameron   60   \n310    1310    Vincent       Fry   73   \n416    1416       Deja      Moss   25   \n431    1431   Napoleon      Burt   74   \n409    1409      Elvis    Vargas   38   \n\n                                            city    reg_date      plan  \\\n229         Austin-Round Rock-Georgetown, TX MSA  2018-12-09  ultimate   \n388    New York-Newark-Jersey City, NY-NJ-PA MSA  2018-03-28  ultimate   \n24     New York-Newark-Jersey City, NY-NJ-PA MSA  2018-08-21      surf   \n419                Phoenix-Mesa-Chandler, AZ MSA  2018-03-29      surf   \n412              Detroit-Warren-Dearborn, MI MSA  2018-04-08  ultimate   \n211    New York-Newark-Jersey City, NY-NJ-PA MSA  2018-06-30  ultimate   \n310      Portland-Vancouver-Hillsboro, OR-WA MSA  2018-11-29      surf   \n416  Minneapolis-St. Paul-Bloomington, MN-WI MSA  2018-10-03      surf   \n431          Sacramento–Roseville–Folsom, CA MSA  2018-01-28      surf   \n409        Charlotte-Concord-Gastonia, NC-SC MSA  2018-10-04  ultimate   \n\n     churn_date  \n229         NaN  \n388         NaN  \n24          NaN  \n419         NaN  \n412         NaN  \n211         NaN  \n310         NaN  \n416  2018-11-21  \n431         NaN  \n409         NaN  "
     },
     "execution_count": 19,
     "metadata": {},
     "output_type": "execute_result"
    }
   ]
  },
  {
   "metadata": {},
   "cell_type": "markdown",
   "source": "[Describe what you see and notice in the general information and the printed data sample for the above price of data. Are there any issues (inappropriate data types, missing data etc) that may need further investigation and changes? How that can be fixed?]"
  },
  {
   "metadata": {},
   "cell_type": "markdown",
   "source": "In this particular table, in order for the city column to make more sense we need to split it out into [city, state, country]. Also 'MSA' needs to be changed to 'USA'.\n"
  },
  {
   "metadata": {},
   "cell_type": "markdown",
   "source": "### Fix Data"
  },
  {
   "metadata": {},
   "cell_type": "markdown",
   "source": "[Fix obvious issues with the data given the initial observations.]"
  },
  {
   "metadata": {
    "trusted": false
   },
   "cell_type": "code",
   "source": "users['city'] = users['city'].str.replace('MSA', 'USA').str.replace(', ', ': ')",
   "execution_count": 20,
   "outputs": []
  },
  {
   "metadata": {
    "trusted": false
   },
   "cell_type": "code",
   "source": "split_data = users['city'].str.rsplit(' ', n=2, expand=True)",
   "execution_count": 21,
   "outputs": []
  },
  {
   "metadata": {},
   "cell_type": "markdown",
   "source": "<div class=\"alert alert-warning\" style=\"border-radius: 15px; box-shadow: 4px 4px 4px; border: 1px solid \">\n<b>  Reviewer's comment </b>\n    \n\n`str` methods can be applied one after another.     \n</div>\n<div class=\"alert alert-success\" style=\"border-radius: 15px; box-shadow: 4px 4px 4px; border: 1px solid \">\n<h2> Reviewer's comment 2</h2>\n    \nLooks great!     \n</div>"
  },
  {
   "metadata": {
    "trusted": false
   },
   "cell_type": "code",
   "source": "users['city'] = split_data[0]\nusers['state'] = split_data[1]\nusers['country'] = split_data[2]",
   "execution_count": 22,
   "outputs": []
  },
  {
   "metadata": {
    "trusted": false
   },
   "cell_type": "code",
   "source": "users['city'] = users['city'].str.replace(':', '')",
   "execution_count": 23,
   "outputs": []
  },
  {
   "metadata": {
    "trusted": false
   },
   "cell_type": "code",
   "source": "users.head()",
   "execution_count": 24,
   "outputs": [
    {
     "data": {
      "text/html": "<div>\n<style scoped>\n    .dataframe tbody tr th:only-of-type {\n        vertical-align: middle;\n    }\n\n    .dataframe tbody tr th {\n        vertical-align: top;\n    }\n\n    .dataframe thead th {\n        text-align: right;\n    }\n</style>\n<table border=\"1\" class=\"dataframe\">\n  <thead>\n    <tr style=\"text-align: right;\">\n      <th></th>\n      <th>user_id</th>\n      <th>first_name</th>\n      <th>last_name</th>\n      <th>age</th>\n      <th>city</th>\n      <th>reg_date</th>\n      <th>plan</th>\n      <th>churn_date</th>\n      <th>state</th>\n      <th>country</th>\n    </tr>\n  </thead>\n  <tbody>\n    <tr>\n      <th>0</th>\n      <td>1000</td>\n      <td>Anamaria</td>\n      <td>Bauer</td>\n      <td>45</td>\n      <td>Atlanta-Sandy Springs-Roswell</td>\n      <td>2018-12-24</td>\n      <td>ultimate</td>\n      <td>NaN</td>\n      <td>GA</td>\n      <td>USA</td>\n    </tr>\n    <tr>\n      <th>1</th>\n      <td>1001</td>\n      <td>Mickey</td>\n      <td>Wilkerson</td>\n      <td>28</td>\n      <td>Seattle-Tacoma-Bellevue</td>\n      <td>2018-08-13</td>\n      <td>surf</td>\n      <td>NaN</td>\n      <td>WA</td>\n      <td>USA</td>\n    </tr>\n    <tr>\n      <th>2</th>\n      <td>1002</td>\n      <td>Carlee</td>\n      <td>Hoffman</td>\n      <td>36</td>\n      <td>Las Vegas-Henderson-Paradise</td>\n      <td>2018-10-21</td>\n      <td>surf</td>\n      <td>NaN</td>\n      <td>NV</td>\n      <td>USA</td>\n    </tr>\n    <tr>\n      <th>3</th>\n      <td>1003</td>\n      <td>Reynaldo</td>\n      <td>Jenkins</td>\n      <td>52</td>\n      <td>Tulsa</td>\n      <td>2018-01-28</td>\n      <td>surf</td>\n      <td>NaN</td>\n      <td>OK</td>\n      <td>USA</td>\n    </tr>\n    <tr>\n      <th>4</th>\n      <td>1004</td>\n      <td>Leonila</td>\n      <td>Thompson</td>\n      <td>40</td>\n      <td>Seattle-Tacoma-Bellevue</td>\n      <td>2018-05-23</td>\n      <td>surf</td>\n      <td>NaN</td>\n      <td>WA</td>\n      <td>USA</td>\n    </tr>\n  </tbody>\n</table>\n</div>",
      "text/plain": "  user_id first_name  last_name  age                           city  \\\n0    1000   Anamaria      Bauer   45  Atlanta-Sandy Springs-Roswell   \n1    1001     Mickey  Wilkerson   28        Seattle-Tacoma-Bellevue   \n2    1002     Carlee    Hoffman   36   Las Vegas-Henderson-Paradise   \n3    1003   Reynaldo    Jenkins   52                          Tulsa   \n4    1004    Leonila   Thompson   40        Seattle-Tacoma-Bellevue   \n\n     reg_date      plan churn_date state country  \n0  2018-12-24  ultimate        NaN    GA     USA  \n1  2018-08-13      surf        NaN    WA     USA  \n2  2018-10-21      surf        NaN    NV     USA  \n3  2018-01-28      surf        NaN    OK     USA  \n4  2018-05-23      surf        NaN    WA     USA  "
     },
     "execution_count": 24,
     "metadata": {},
     "output_type": "execute_result"
    }
   ]
  },
  {
   "metadata": {},
   "cell_type": "markdown",
   "source": "I initially tried to split it space without changing the delimiter to ';' but some of the cities had spaces so it caused a bit of an issue. So I changed the commas over to semi-colons then split the data. Onec the data was split I assigned the 3 categories to their own columns. And after that was done I replaced those semi-colons with commas."
  },
  {
   "metadata": {},
   "cell_type": "markdown",
   "source": "### Enrich Data"
  },
  {
   "metadata": {},
   "cell_type": "markdown",
   "source": "[Add additional factors to the data if you believe they might be useful.]"
  },
  {
   "metadata": {},
   "cell_type": "markdown",
   "source": "I would like to rearrange the order of the columns so that city is next to state, country."
  },
  {
   "metadata": {
    "trusted": false
   },
   "cell_type": "code",
   "source": "new_order = ['user_id', 'first_name', 'last_name', 'age', 'city', 'state', 'country', 'reg_date', 'plan', 'churn_date']\nusers = users[new_order]\nusers.head()",
   "execution_count": 25,
   "outputs": [
    {
     "data": {
      "text/html": "<div>\n<style scoped>\n    .dataframe tbody tr th:only-of-type {\n        vertical-align: middle;\n    }\n\n    .dataframe tbody tr th {\n        vertical-align: top;\n    }\n\n    .dataframe thead th {\n        text-align: right;\n    }\n</style>\n<table border=\"1\" class=\"dataframe\">\n  <thead>\n    <tr style=\"text-align: right;\">\n      <th></th>\n      <th>user_id</th>\n      <th>first_name</th>\n      <th>last_name</th>\n      <th>age</th>\n      <th>city</th>\n      <th>state</th>\n      <th>country</th>\n      <th>reg_date</th>\n      <th>plan</th>\n      <th>churn_date</th>\n    </tr>\n  </thead>\n  <tbody>\n    <tr>\n      <th>0</th>\n      <td>1000</td>\n      <td>Anamaria</td>\n      <td>Bauer</td>\n      <td>45</td>\n      <td>Atlanta-Sandy Springs-Roswell</td>\n      <td>GA</td>\n      <td>USA</td>\n      <td>2018-12-24</td>\n      <td>ultimate</td>\n      <td>NaN</td>\n    </tr>\n    <tr>\n      <th>1</th>\n      <td>1001</td>\n      <td>Mickey</td>\n      <td>Wilkerson</td>\n      <td>28</td>\n      <td>Seattle-Tacoma-Bellevue</td>\n      <td>WA</td>\n      <td>USA</td>\n      <td>2018-08-13</td>\n      <td>surf</td>\n      <td>NaN</td>\n    </tr>\n    <tr>\n      <th>2</th>\n      <td>1002</td>\n      <td>Carlee</td>\n      <td>Hoffman</td>\n      <td>36</td>\n      <td>Las Vegas-Henderson-Paradise</td>\n      <td>NV</td>\n      <td>USA</td>\n      <td>2018-10-21</td>\n      <td>surf</td>\n      <td>NaN</td>\n    </tr>\n    <tr>\n      <th>3</th>\n      <td>1003</td>\n      <td>Reynaldo</td>\n      <td>Jenkins</td>\n      <td>52</td>\n      <td>Tulsa</td>\n      <td>OK</td>\n      <td>USA</td>\n      <td>2018-01-28</td>\n      <td>surf</td>\n      <td>NaN</td>\n    </tr>\n    <tr>\n      <th>4</th>\n      <td>1004</td>\n      <td>Leonila</td>\n      <td>Thompson</td>\n      <td>40</td>\n      <td>Seattle-Tacoma-Bellevue</td>\n      <td>WA</td>\n      <td>USA</td>\n      <td>2018-05-23</td>\n      <td>surf</td>\n      <td>NaN</td>\n    </tr>\n  </tbody>\n</table>\n</div>",
      "text/plain": "  user_id first_name  last_name  age                           city state  \\\n0    1000   Anamaria      Bauer   45  Atlanta-Sandy Springs-Roswell    GA   \n1    1001     Mickey  Wilkerson   28        Seattle-Tacoma-Bellevue    WA   \n2    1002     Carlee    Hoffman   36   Las Vegas-Henderson-Paradise    NV   \n3    1003   Reynaldo    Jenkins   52                          Tulsa    OK   \n4    1004    Leonila   Thompson   40        Seattle-Tacoma-Bellevue    WA   \n\n  country    reg_date      plan churn_date  \n0     USA  2018-12-24  ultimate        NaN  \n1     USA  2018-08-13      surf        NaN  \n2     USA  2018-10-21      surf        NaN  \n3     USA  2018-01-28      surf        NaN  \n4     USA  2018-05-23      surf        NaN  "
     },
     "execution_count": 25,
     "metadata": {},
     "output_type": "execute_result"
    }
   ]
  },
  {
   "metadata": {},
   "cell_type": "markdown",
   "source": "<div class=\"alert alert-success\" style=\"border-radius: 15px; box-shadow: 4px 4px 4px; border: 1px solid \">\n<h2> Reviewer's comment</h2>\n    \nLooks good!     \n</div>"
  },
  {
   "metadata": {},
   "cell_type": "markdown",
   "source": "## Calls"
  },
  {
   "metadata": {
    "trusted": false
   },
   "cell_type": "code",
   "source": "print('General information:')\ncalls.info()\n\nprint('\\nSummary Statistics:')\ncalls.describe()\n",
   "execution_count": 26,
   "outputs": [
    {
     "name": "stdout",
     "output_type": "stream",
     "text": "General information:\n<class 'pandas.core.frame.DataFrame'>\nRangeIndex: 137735 entries, 0 to 137734\nData columns (total 4 columns):\n #   Column     Non-Null Count   Dtype  \n---  ------     --------------   -----  \n 0   id         137735 non-null  object \n 1   user_id    137735 non-null  object \n 2   call_date  137735 non-null  object \n 3   duration   137735 non-null  float64\ndtypes: float64(1), object(3)\nmemory usage: 4.2+ MB\n\nSummary Statistics:\n"
    },
    {
     "data": {
      "text/html": "<div>\n<style scoped>\n    .dataframe tbody tr th:only-of-type {\n        vertical-align: middle;\n    }\n\n    .dataframe tbody tr th {\n        vertical-align: top;\n    }\n\n    .dataframe thead th {\n        text-align: right;\n    }\n</style>\n<table border=\"1\" class=\"dataframe\">\n  <thead>\n    <tr style=\"text-align: right;\">\n      <th></th>\n      <th>duration</th>\n    </tr>\n  </thead>\n  <tbody>\n    <tr>\n      <th>count</th>\n      <td>137735.000000</td>\n    </tr>\n    <tr>\n      <th>mean</th>\n      <td>6.745927</td>\n    </tr>\n    <tr>\n      <th>std</th>\n      <td>5.839241</td>\n    </tr>\n    <tr>\n      <th>min</th>\n      <td>0.000000</td>\n    </tr>\n    <tr>\n      <th>25%</th>\n      <td>1.290000</td>\n    </tr>\n    <tr>\n      <th>50%</th>\n      <td>5.980000</td>\n    </tr>\n    <tr>\n      <th>75%</th>\n      <td>10.690000</td>\n    </tr>\n    <tr>\n      <th>max</th>\n      <td>37.600000</td>\n    </tr>\n  </tbody>\n</table>\n</div>",
      "text/plain": "            duration\ncount  137735.000000\nmean        6.745927\nstd         5.839241\nmin         0.000000\n25%         1.290000\n50%         5.980000\n75%        10.690000\nmax        37.600000"
     },
     "execution_count": 26,
     "metadata": {},
     "output_type": "execute_result"
    }
   ]
  },
  {
   "metadata": {
    "trusted": false
   },
   "cell_type": "code",
   "source": "calls.sample(10)\n#convert to datetime format\n",
   "execution_count": 27,
   "outputs": [
    {
     "data": {
      "text/html": "<div>\n<style scoped>\n    .dataframe tbody tr th:only-of-type {\n        vertical-align: middle;\n    }\n\n    .dataframe tbody tr th {\n        vertical-align: top;\n    }\n\n    .dataframe thead th {\n        text-align: right;\n    }\n</style>\n<table border=\"1\" class=\"dataframe\">\n  <thead>\n    <tr style=\"text-align: right;\">\n      <th></th>\n      <th>id</th>\n      <th>user_id</th>\n      <th>call_date</th>\n      <th>duration</th>\n    </tr>\n  </thead>\n  <tbody>\n    <tr>\n      <th>26207</th>\n      <td>1099_533</td>\n      <td>1099</td>\n      <td>2018-10-04</td>\n      <td>10.75</td>\n    </tr>\n    <tr>\n      <th>114944</th>\n      <td>1403_18</td>\n      <td>1403</td>\n      <td>2018-08-01</td>\n      <td>1.85</td>\n    </tr>\n    <tr>\n      <th>117364</th>\n      <td>1410_355</td>\n      <td>1410</td>\n      <td>2018-12-02</td>\n      <td>1.23</td>\n    </tr>\n    <tr>\n      <th>49208</th>\n      <td>1178_112</td>\n      <td>1178</td>\n      <td>2018-10-17</td>\n      <td>8.91</td>\n    </tr>\n    <tr>\n      <th>108175</th>\n      <td>1382_1324</td>\n      <td>1382</td>\n      <td>2018-12-26</td>\n      <td>14.98</td>\n    </tr>\n    <tr>\n      <th>87749</th>\n      <td>1321_557</td>\n      <td>1321</td>\n      <td>2018-07-28</td>\n      <td>0.00</td>\n    </tr>\n    <tr>\n      <th>116351</th>\n      <td>1408_0</td>\n      <td>1408</td>\n      <td>2018-03-16</td>\n      <td>5.76</td>\n    </tr>\n    <tr>\n      <th>29031</th>\n      <td>1110_82</td>\n      <td>1110</td>\n      <td>2018-12-14</td>\n      <td>0.00</td>\n    </tr>\n    <tr>\n      <th>12001</th>\n      <td>1053_40</td>\n      <td>1053</td>\n      <td>2018-09-17</td>\n      <td>3.96</td>\n    </tr>\n    <tr>\n      <th>53850</th>\n      <td>1195_20</td>\n      <td>1195</td>\n      <td>2018-10-17</td>\n      <td>0.00</td>\n    </tr>\n  </tbody>\n</table>\n</div>",
      "text/plain": "               id user_id   call_date  duration\n26207    1099_533    1099  2018-10-04     10.75\n114944    1403_18    1403  2018-08-01      1.85\n117364   1410_355    1410  2018-12-02      1.23\n49208    1178_112    1178  2018-10-17      8.91\n108175  1382_1324    1382  2018-12-26     14.98\n87749    1321_557    1321  2018-07-28      0.00\n116351     1408_0    1408  2018-03-16      5.76\n29031     1110_82    1110  2018-12-14      0.00\n12001     1053_40    1053  2018-09-17      3.96\n53850     1195_20    1195  2018-10-17      0.00"
     },
     "execution_count": 27,
     "metadata": {},
     "output_type": "execute_result"
    }
   ]
  },
  {
   "metadata": {},
   "cell_type": "markdown",
   "source": "[Describe what you see and notice in the general information and the printed data sample for the above price of data. Are there any issues (inappropriate data types, missing data etc) that may need further investigation and changes? How that can be fixed?]"
  },
  {
   "metadata": {},
   "cell_type": "markdown",
   "source": "### Fix data"
  },
  {
   "metadata": {},
   "cell_type": "markdown",
   "source": "[Fix obvious issues with the data given the initial observations.]"
  },
  {
   "metadata": {},
   "cell_type": "markdown",
   "source": "No issues with this df"
  },
  {
   "metadata": {},
   "cell_type": "markdown",
   "source": "### Enrich data"
  },
  {
   "metadata": {},
   "cell_type": "markdown",
   "source": "[Add additional factors to the data if you believe they might be useful.]"
  },
  {
   "metadata": {},
   "cell_type": "markdown",
   "source": "N/A"
  },
  {
   "metadata": {},
   "cell_type": "markdown",
   "source": "## Messages"
  },
  {
   "metadata": {
    "trusted": false
   },
   "cell_type": "code",
   "source": "print('General information:')\nmessages.info()\n\nprint('\\nSummary Statistics:')\nmessages.describe()\n",
   "execution_count": 28,
   "outputs": [
    {
     "name": "stdout",
     "output_type": "stream",
     "text": "General information:\n<class 'pandas.core.frame.DataFrame'>\nRangeIndex: 76051 entries, 0 to 76050\nData columns (total 3 columns):\n #   Column        Non-Null Count  Dtype \n---  ------        --------------  ----- \n 0   id            76051 non-null  object\n 1   user_id       76051 non-null  object\n 2   message_date  76051 non-null  object\ndtypes: object(3)\nmemory usage: 1.7+ MB\n\nSummary Statistics:\n"
    },
    {
     "data": {
      "text/html": "<div>\n<style scoped>\n    .dataframe tbody tr th:only-of-type {\n        vertical-align: middle;\n    }\n\n    .dataframe tbody tr th {\n        vertical-align: top;\n    }\n\n    .dataframe thead th {\n        text-align: right;\n    }\n</style>\n<table border=\"1\" class=\"dataframe\">\n  <thead>\n    <tr style=\"text-align: right;\">\n      <th></th>\n      <th>id</th>\n      <th>user_id</th>\n      <th>message_date</th>\n    </tr>\n  </thead>\n  <tbody>\n    <tr>\n      <th>count</th>\n      <td>76051</td>\n      <td>76051</td>\n      <td>76051</td>\n    </tr>\n    <tr>\n      <th>unique</th>\n      <td>76051</td>\n      <td>402</td>\n      <td>351</td>\n    </tr>\n    <tr>\n      <th>top</th>\n      <td>1312_177</td>\n      <td>1132</td>\n      <td>2018-12-28</td>\n    </tr>\n    <tr>\n      <th>freq</th>\n      <td>1</td>\n      <td>1288</td>\n      <td>702</td>\n    </tr>\n  </tbody>\n</table>\n</div>",
      "text/plain": "              id user_id message_date\ncount      76051   76051        76051\nunique     76051     402          351\ntop     1312_177    1132   2018-12-28\nfreq           1    1288          702"
     },
     "execution_count": 28,
     "metadata": {},
     "output_type": "execute_result"
    }
   ]
  },
  {
   "metadata": {
    "trusted": false
   },
   "cell_type": "code",
   "source": "messages.sample(10)\n",
   "execution_count": 29,
   "outputs": [
    {
     "data": {
      "text/html": "<div>\n<style scoped>\n    .dataframe tbody tr th:only-of-type {\n        vertical-align: middle;\n    }\n\n    .dataframe tbody tr th {\n        vertical-align: top;\n    }\n\n    .dataframe thead th {\n        text-align: right;\n    }\n</style>\n<table border=\"1\" class=\"dataframe\">\n  <thead>\n    <tr style=\"text-align: right;\">\n      <th></th>\n      <th>id</th>\n      <th>user_id</th>\n      <th>message_date</th>\n    </tr>\n  </thead>\n  <tbody>\n    <tr>\n      <th>55206</th>\n      <td>1347_243</td>\n      <td>1347</td>\n      <td>2018-10-30</td>\n    </tr>\n    <tr>\n      <th>447</th>\n      <td>1004_121</td>\n      <td>1004</td>\n      <td>2018-07-24</td>\n    </tr>\n    <tr>\n      <th>2839</th>\n      <td>1028_769</td>\n      <td>1028</td>\n      <td>2018-05-11</td>\n    </tr>\n    <tr>\n      <th>47917</th>\n      <td>1324_643</td>\n      <td>1324</td>\n      <td>2018-05-28</td>\n    </tr>\n    <tr>\n      <th>30151</th>\n      <td>1188_169</td>\n      <td>1188</td>\n      <td>2018-11-07</td>\n    </tr>\n    <tr>\n      <th>19445</th>\n      <td>1126_97</td>\n      <td>1126</td>\n      <td>2018-11-01</td>\n    </tr>\n    <tr>\n      <th>24609</th>\n      <td>1146_40</td>\n      <td>1146</td>\n      <td>2018-11-21</td>\n    </tr>\n    <tr>\n      <th>23900</th>\n      <td>1144_396</td>\n      <td>1144</td>\n      <td>2018-06-04</td>\n    </tr>\n    <tr>\n      <th>53132</th>\n      <td>1339_266</td>\n      <td>1339</td>\n      <td>2018-09-16</td>\n    </tr>\n    <tr>\n      <th>34813</th>\n      <td>1222_26</td>\n      <td>1222</td>\n      <td>2018-10-19</td>\n    </tr>\n  </tbody>\n</table>\n</div>",
      "text/plain": "             id user_id message_date\n55206  1347_243    1347   2018-10-30\n447    1004_121    1004   2018-07-24\n2839   1028_769    1028   2018-05-11\n47917  1324_643    1324   2018-05-28\n30151  1188_169    1188   2018-11-07\n19445   1126_97    1126   2018-11-01\n24609   1146_40    1146   2018-11-21\n23900  1144_396    1144   2018-06-04\n53132  1339_266    1339   2018-09-16\n34813   1222_26    1222   2018-10-19"
     },
     "execution_count": 29,
     "metadata": {},
     "output_type": "execute_result"
    }
   ]
  },
  {
   "metadata": {},
   "cell_type": "markdown",
   "source": "[Describe what you see and notice in the general information and the printed data sample for the above price of data. Are there any issues (inappropriate data types, missing data etc) that may need further investigation and changes? How that can be fixed?]"
  },
  {
   "metadata": {},
   "cell_type": "markdown",
   "source": " "
  },
  {
   "metadata": {},
   "cell_type": "markdown",
   "source": "### Fix data"
  },
  {
   "metadata": {},
   "cell_type": "markdown",
   "source": "[Fix obvious issues with the data given the initial observations.]"
  },
  {
   "metadata": {},
   "cell_type": "markdown",
   "source": "No issues with this df"
  },
  {
   "metadata": {},
   "cell_type": "markdown",
   "source": "### Enrich data"
  },
  {
   "metadata": {},
   "cell_type": "markdown",
   "source": "[Add additional factors to the data if you believe they might be useful.]"
  },
  {
   "metadata": {},
   "cell_type": "markdown",
   "source": "N/A"
  },
  {
   "metadata": {},
   "cell_type": "markdown",
   "source": "## Internet"
  },
  {
   "metadata": {
    "trusted": false
   },
   "cell_type": "code",
   "source": "print('General information:')\ninternet.info()\n\nprint('\\nSummary Statistics:')\ninternet.describe()\n",
   "execution_count": 30,
   "outputs": [
    {
     "name": "stdout",
     "output_type": "stream",
     "text": "General information:\n<class 'pandas.core.frame.DataFrame'>\nRangeIndex: 104825 entries, 0 to 104824\nData columns (total 4 columns):\n #   Column        Non-Null Count   Dtype  \n---  ------        --------------   -----  \n 0   id            104825 non-null  object \n 1   user_id       104825 non-null  object \n 2   session_date  104825 non-null  object \n 3   mb_used       104825 non-null  float64\ndtypes: float64(1), object(3)\nmemory usage: 3.2+ MB\n\nSummary Statistics:\n"
    },
    {
     "data": {
      "text/html": "<div>\n<style scoped>\n    .dataframe tbody tr th:only-of-type {\n        vertical-align: middle;\n    }\n\n    .dataframe tbody tr th {\n        vertical-align: top;\n    }\n\n    .dataframe thead th {\n        text-align: right;\n    }\n</style>\n<table border=\"1\" class=\"dataframe\">\n  <thead>\n    <tr style=\"text-align: right;\">\n      <th></th>\n      <th>mb_used</th>\n    </tr>\n  </thead>\n  <tbody>\n    <tr>\n      <th>count</th>\n      <td>104825.000000</td>\n    </tr>\n    <tr>\n      <th>mean</th>\n      <td>366.713701</td>\n    </tr>\n    <tr>\n      <th>std</th>\n      <td>277.170542</td>\n    </tr>\n    <tr>\n      <th>min</th>\n      <td>0.000000</td>\n    </tr>\n    <tr>\n      <th>25%</th>\n      <td>136.080000</td>\n    </tr>\n    <tr>\n      <th>50%</th>\n      <td>343.980000</td>\n    </tr>\n    <tr>\n      <th>75%</th>\n      <td>554.610000</td>\n    </tr>\n    <tr>\n      <th>max</th>\n      <td>1693.470000</td>\n    </tr>\n  </tbody>\n</table>\n</div>",
      "text/plain": "             mb_used\ncount  104825.000000\nmean      366.713701\nstd       277.170542\nmin         0.000000\n25%       136.080000\n50%       343.980000\n75%       554.610000\nmax      1693.470000"
     },
     "execution_count": 30,
     "metadata": {},
     "output_type": "execute_result"
    }
   ]
  },
  {
   "metadata": {
    "trusted": false
   },
   "cell_type": "code",
   "source": "internet.sample(10)\n\n",
   "execution_count": 31,
   "outputs": [
    {
     "data": {
      "text/html": "<div>\n<style scoped>\n    .dataframe tbody tr th:only-of-type {\n        vertical-align: middle;\n    }\n\n    .dataframe tbody tr th {\n        vertical-align: top;\n    }\n\n    .dataframe thead th {\n        text-align: right;\n    }\n</style>\n<table border=\"1\" class=\"dataframe\">\n  <thead>\n    <tr style=\"text-align: right;\">\n      <th></th>\n      <th>id</th>\n      <th>user_id</th>\n      <th>session_date</th>\n      <th>mb_used</th>\n    </tr>\n  </thead>\n  <tbody>\n    <tr>\n      <th>65515</th>\n      <td>1302_61</td>\n      <td>1302</td>\n      <td>2018-10-02</td>\n      <td>93.89</td>\n    </tr>\n    <tr>\n      <th>58211</th>\n      <td>1263_15</td>\n      <td>1263</td>\n      <td>2018-08-26</td>\n      <td>434.76</td>\n    </tr>\n    <tr>\n      <th>77545</th>\n      <td>1362_221</td>\n      <td>1362</td>\n      <td>2018-12-30</td>\n      <td>381.08</td>\n    </tr>\n    <tr>\n      <th>4135</th>\n      <td>1026_21</td>\n      <td>1026</td>\n      <td>2018-08-08</td>\n      <td>0.00</td>\n    </tr>\n    <tr>\n      <th>33787</th>\n      <td>1153_349</td>\n      <td>1153</td>\n      <td>2018-11-08</td>\n      <td>471.53</td>\n    </tr>\n    <tr>\n      <th>21795</th>\n      <td>1099_550</td>\n      <td>1099</td>\n      <td>2018-06-17</td>\n      <td>0.00</td>\n    </tr>\n    <tr>\n      <th>80735</th>\n      <td>1377_160</td>\n      <td>1377</td>\n      <td>2018-12-27</td>\n      <td>413.07</td>\n    </tr>\n    <tr>\n      <th>83134</th>\n      <td>1388_32</td>\n      <td>1388</td>\n      <td>2018-12-29</td>\n      <td>0.00</td>\n    </tr>\n    <tr>\n      <th>9822</th>\n      <td>1050_242</td>\n      <td>1050</td>\n      <td>2018-12-07</td>\n      <td>279.41</td>\n    </tr>\n    <tr>\n      <th>50798</th>\n      <td>1226_279</td>\n      <td>1226</td>\n      <td>2018-08-08</td>\n      <td>501.20</td>\n    </tr>\n  </tbody>\n</table>\n</div>",
      "text/plain": "             id user_id session_date  mb_used\n65515   1302_61    1302   2018-10-02    93.89\n58211   1263_15    1263   2018-08-26   434.76\n77545  1362_221    1362   2018-12-30   381.08\n4135    1026_21    1026   2018-08-08     0.00\n33787  1153_349    1153   2018-11-08   471.53\n21795  1099_550    1099   2018-06-17     0.00\n80735  1377_160    1377   2018-12-27   413.07\n83134   1388_32    1388   2018-12-29     0.00\n9822   1050_242    1050   2018-12-07   279.41\n50798  1226_279    1226   2018-08-08   501.20"
     },
     "execution_count": 31,
     "metadata": {},
     "output_type": "execute_result"
    }
   ]
  },
  {
   "metadata": {},
   "cell_type": "markdown",
   "source": "[Describe what you see and notice in the general information and the printed data sample for the above price of data. Are there any issues (inappropriate data types, missing data etc) that may need further investigation and changes? How that can be fixed?]"
  },
  {
   "metadata": {},
   "cell_type": "markdown",
   "source": "<div class=\"alert alert-warning\" style=\"border-radius: 15px; box-shadow: 4px 4px 4px; border: 1px solid \">\n<b> Reviewer's comment  </b>\n    \nThere are some zeroes in **calls** and **internet** dataframes. We can write something about them.\n\n</div>"
  },
  {
   "metadata": {},
   "cell_type": "markdown",
   "source": " <div class=\"alert alert-info\" style=\"border-radius: 15px; box-shadow: 4px 4px 4px; border: 1px solid \">\n<b> Keith's comment<b/>\n\nThere are zeroes in the calls and internet dataframes. This could be for a couple of reasons: 1. they are used as placeholders for NaN values or 2. the system could've automatically assigned zeroes if there was no activity.\n    \n<div/>"
  },
  {
   "metadata": {},
   "cell_type": "markdown",
   "source": "<div class=\"alert alert-success\" style=\"border-radius: 15px; box-shadow: 4px 4px 4px; border: 1px solid \">\n<h2> Reviewer's comment 2</h2>\n    \nAgreed.     \n</div>"
  },
  {
   "metadata": {},
   "cell_type": "markdown",
   "source": "### Fix data"
  },
  {
   "metadata": {},
   "cell_type": "markdown",
   "source": "[Fix obvious issues with the data given the initial observations.]"
  },
  {
   "metadata": {},
   "cell_type": "markdown",
   "source": "No issues with this df... convert to datetime format\n"
  },
  {
   "metadata": {},
   "cell_type": "markdown",
   "source": "### Enrich data"
  },
  {
   "metadata": {},
   "cell_type": "markdown",
   "source": "[Add additional factors to the data if you believe they might be useful.]"
  },
  {
   "metadata": {},
   "cell_type": "markdown",
   "source": "N/A"
  },
  {
   "metadata": {},
   "cell_type": "markdown",
   "source": "## Study plan conditions"
  },
  {
   "metadata": {},
   "cell_type": "markdown",
   "source": "[It is critical to understand how the plans work, how users are charged based on their plan subscription. So, we suggest printing out the plan information to view their conditions once again.]"
  },
  {
   "metadata": {
    "trusted": false
   },
   "cell_type": "code",
   "source": "plans.head()\n",
   "execution_count": 32,
   "outputs": [
    {
     "data": {
      "text/html": "<div>\n<style scoped>\n    .dataframe tbody tr th:only-of-type {\n        vertical-align: middle;\n    }\n\n    .dataframe tbody tr th {\n        vertical-align: top;\n    }\n\n    .dataframe thead th {\n        text-align: right;\n    }\n</style>\n<table border=\"1\" class=\"dataframe\">\n  <thead>\n    <tr style=\"text-align: right;\">\n      <th></th>\n      <th>messages_included</th>\n      <th>mb_per_month_included</th>\n      <th>minutes_included</th>\n      <th>usd_monthly_pay</th>\n      <th>usd_per_gb</th>\n      <th>usd_per_message</th>\n      <th>usd_per_minute</th>\n      <th>plan_name</th>\n    </tr>\n  </thead>\n  <tbody>\n    <tr>\n      <th>0</th>\n      <td>50</td>\n      <td>15360</td>\n      <td>500</td>\n      <td>20</td>\n      <td>10</td>\n      <td>0.03</td>\n      <td>0.03</td>\n      <td>surf</td>\n    </tr>\n    <tr>\n      <th>1</th>\n      <td>1000</td>\n      <td>30720</td>\n      <td>3000</td>\n      <td>70</td>\n      <td>7</td>\n      <td>0.01</td>\n      <td>0.01</td>\n      <td>ultimate</td>\n    </tr>\n  </tbody>\n</table>\n</div>",
      "text/plain": "   messages_included  mb_per_month_included  minutes_included  \\\n0                 50                  15360               500   \n1               1000                  30720              3000   \n\n   usd_monthly_pay  usd_per_gb  usd_per_message  usd_per_minute plan_name  \n0               20          10             0.03            0.03      surf  \n1               70           7             0.01            0.01  ultimate  "
     },
     "execution_count": 32,
     "metadata": {},
     "output_type": "execute_result"
    }
   ]
  },
  {
   "metadata": {},
   "cell_type": "raw",
   "source": "Two Plans: surf and ultimate\n\nSurf\n-Monthly charge: $20\n-500 monthly minutes, 50 texts, and 15 GB of data\n-After exceeding the package limits:\n  -1 minute: 3 cents\n  -1 text message: 3 cents\n  -1 GB of data: $10\n    \nUltimate\n-Monthly charge: $70\n-3000 monthly minutes, 1000 texts, and 30 GB of data\n-After exceeding the package limits:\n  -1 minute: 1 cent\n  -1 text message: 1 cent\n  -1 GB of data: $7"
  },
  {
   "metadata": {},
   "cell_type": "markdown",
   "source": "## Aggregate data per user\n\n[Now, as the data is clean, aggregate data per user per period in order to have just one record per user per period. It should ease the further analysis a lot.]"
  },
  {
   "metadata": {
    "trusted": false
   },
   "cell_type": "code",
   "source": "calls['call_date'] = pd.to_datetime(calls['call_date'])\ncalls['year_month'] = calls['call_date'].dt.to_period('M')",
   "execution_count": 33,
   "outputs": []
  },
  {
   "metadata": {},
   "cell_type": "markdown",
   "source": "# Calls"
  },
  {
   "metadata": {
    "trusted": false
   },
   "cell_type": "code",
   "source": "# Calculate the number of calls made by each user per month. Save the result.\ntotal_calls_by_user = calls.groupby(['user_id', 'year_month'])['duration'].count().reset_index()\ntotal_calls_by_user",
   "execution_count": 34,
   "outputs": [
    {
     "data": {
      "text/html": "<div>\n<style scoped>\n    .dataframe tbody tr th:only-of-type {\n        vertical-align: middle;\n    }\n\n    .dataframe tbody tr th {\n        vertical-align: top;\n    }\n\n    .dataframe thead th {\n        text-align: right;\n    }\n</style>\n<table border=\"1\" class=\"dataframe\">\n  <thead>\n    <tr style=\"text-align: right;\">\n      <th></th>\n      <th>user_id</th>\n      <th>year_month</th>\n      <th>duration</th>\n    </tr>\n  </thead>\n  <tbody>\n    <tr>\n      <th>0</th>\n      <td>1000</td>\n      <td>2018-12</td>\n      <td>16</td>\n    </tr>\n    <tr>\n      <th>1</th>\n      <td>1001</td>\n      <td>2018-08</td>\n      <td>27</td>\n    </tr>\n    <tr>\n      <th>2</th>\n      <td>1001</td>\n      <td>2018-09</td>\n      <td>49</td>\n    </tr>\n    <tr>\n      <th>3</th>\n      <td>1001</td>\n      <td>2018-10</td>\n      <td>65</td>\n    </tr>\n    <tr>\n      <th>4</th>\n      <td>1001</td>\n      <td>2018-11</td>\n      <td>64</td>\n    </tr>\n    <tr>\n      <th>...</th>\n      <td>...</td>\n      <td>...</td>\n      <td>...</td>\n    </tr>\n    <tr>\n      <th>2253</th>\n      <td>1498</td>\n      <td>2018-12</td>\n      <td>39</td>\n    </tr>\n    <tr>\n      <th>2254</th>\n      <td>1499</td>\n      <td>2018-09</td>\n      <td>41</td>\n    </tr>\n    <tr>\n      <th>2255</th>\n      <td>1499</td>\n      <td>2018-10</td>\n      <td>53</td>\n    </tr>\n    <tr>\n      <th>2256</th>\n      <td>1499</td>\n      <td>2018-11</td>\n      <td>45</td>\n    </tr>\n    <tr>\n      <th>2257</th>\n      <td>1499</td>\n      <td>2018-12</td>\n      <td>65</td>\n    </tr>\n  </tbody>\n</table>\n<p>2258 rows × 3 columns</p>\n</div>",
      "text/plain": "     user_id year_month  duration\n0       1000    2018-12        16\n1       1001    2018-08        27\n2       1001    2018-09        49\n3       1001    2018-10        65\n4       1001    2018-11        64\n...      ...        ...       ...\n2253    1498    2018-12        39\n2254    1499    2018-09        41\n2255    1499    2018-10        53\n2256    1499    2018-11        45\n2257    1499    2018-12        65\n\n[2258 rows x 3 columns]"
     },
     "execution_count": 34,
     "metadata": {},
     "output_type": "execute_result"
    }
   ]
  },
  {
   "metadata": {
    "trusted": false
   },
   "cell_type": "code",
   "source": "total_calls_by_user.columns = ['user_id', 'year_month', 'num_calls']",
   "execution_count": 35,
   "outputs": []
  },
  {
   "metadata": {
    "trusted": false
   },
   "cell_type": "code",
   "source": "total_calls_by_user",
   "execution_count": 36,
   "outputs": [
    {
     "data": {
      "text/html": "<div>\n<style scoped>\n    .dataframe tbody tr th:only-of-type {\n        vertical-align: middle;\n    }\n\n    .dataframe tbody tr th {\n        vertical-align: top;\n    }\n\n    .dataframe thead th {\n        text-align: right;\n    }\n</style>\n<table border=\"1\" class=\"dataframe\">\n  <thead>\n    <tr style=\"text-align: right;\">\n      <th></th>\n      <th>user_id</th>\n      <th>year_month</th>\n      <th>num_calls</th>\n    </tr>\n  </thead>\n  <tbody>\n    <tr>\n      <th>0</th>\n      <td>1000</td>\n      <td>2018-12</td>\n      <td>16</td>\n    </tr>\n    <tr>\n      <th>1</th>\n      <td>1001</td>\n      <td>2018-08</td>\n      <td>27</td>\n    </tr>\n    <tr>\n      <th>2</th>\n      <td>1001</td>\n      <td>2018-09</td>\n      <td>49</td>\n    </tr>\n    <tr>\n      <th>3</th>\n      <td>1001</td>\n      <td>2018-10</td>\n      <td>65</td>\n    </tr>\n    <tr>\n      <th>4</th>\n      <td>1001</td>\n      <td>2018-11</td>\n      <td>64</td>\n    </tr>\n    <tr>\n      <th>...</th>\n      <td>...</td>\n      <td>...</td>\n      <td>...</td>\n    </tr>\n    <tr>\n      <th>2253</th>\n      <td>1498</td>\n      <td>2018-12</td>\n      <td>39</td>\n    </tr>\n    <tr>\n      <th>2254</th>\n      <td>1499</td>\n      <td>2018-09</td>\n      <td>41</td>\n    </tr>\n    <tr>\n      <th>2255</th>\n      <td>1499</td>\n      <td>2018-10</td>\n      <td>53</td>\n    </tr>\n    <tr>\n      <th>2256</th>\n      <td>1499</td>\n      <td>2018-11</td>\n      <td>45</td>\n    </tr>\n    <tr>\n      <th>2257</th>\n      <td>1499</td>\n      <td>2018-12</td>\n      <td>65</td>\n    </tr>\n  </tbody>\n</table>\n<p>2258 rows × 3 columns</p>\n</div>",
      "text/plain": "     user_id year_month  num_calls\n0       1000    2018-12         16\n1       1001    2018-08         27\n2       1001    2018-09         49\n3       1001    2018-10         65\n4       1001    2018-11         64\n...      ...        ...        ...\n2253    1498    2018-12         39\n2254    1499    2018-09         41\n2255    1499    2018-10         53\n2256    1499    2018-11         45\n2257    1499    2018-12         65\n\n[2258 rows x 3 columns]"
     },
     "execution_count": 36,
     "metadata": {},
     "output_type": "execute_result"
    }
   ]
  },
  {
   "metadata": {},
   "cell_type": "markdown",
   "source": "# Minutes"
  },
  {
   "metadata": {
    "trusted": false
   },
   "cell_type": "code",
   "source": "calls['duration'] = np.ceil(calls['duration']) #rounds up the column 'duration'",
   "execution_count": 37,
   "outputs": []
  },
  {
   "metadata": {
    "trusted": false
   },
   "cell_type": "code",
   "source": "# Calculate the amount of minutes spent by each user per month. Save the result.\ntotal_min_by_user = calls.groupby(['user_id','year_month']).agg({'duration' : 'sum'}).reset_index()\ntotal_min_by_user\n",
   "execution_count": 38,
   "outputs": [
    {
     "data": {
      "text/html": "<div>\n<style scoped>\n    .dataframe tbody tr th:only-of-type {\n        vertical-align: middle;\n    }\n\n    .dataframe tbody tr th {\n        vertical-align: top;\n    }\n\n    .dataframe thead th {\n        text-align: right;\n    }\n</style>\n<table border=\"1\" class=\"dataframe\">\n  <thead>\n    <tr style=\"text-align: right;\">\n      <th></th>\n      <th>user_id</th>\n      <th>year_month</th>\n      <th>duration</th>\n    </tr>\n  </thead>\n  <tbody>\n    <tr>\n      <th>0</th>\n      <td>1000</td>\n      <td>2018-12</td>\n      <td>124.0</td>\n    </tr>\n    <tr>\n      <th>1</th>\n      <td>1001</td>\n      <td>2018-08</td>\n      <td>182.0</td>\n    </tr>\n    <tr>\n      <th>2</th>\n      <td>1001</td>\n      <td>2018-09</td>\n      <td>315.0</td>\n    </tr>\n    <tr>\n      <th>3</th>\n      <td>1001</td>\n      <td>2018-10</td>\n      <td>393.0</td>\n    </tr>\n    <tr>\n      <th>4</th>\n      <td>1001</td>\n      <td>2018-11</td>\n      <td>426.0</td>\n    </tr>\n    <tr>\n      <th>...</th>\n      <td>...</td>\n      <td>...</td>\n      <td>...</td>\n    </tr>\n    <tr>\n      <th>2253</th>\n      <td>1498</td>\n      <td>2018-12</td>\n      <td>339.0</td>\n    </tr>\n    <tr>\n      <th>2254</th>\n      <td>1499</td>\n      <td>2018-09</td>\n      <td>346.0</td>\n    </tr>\n    <tr>\n      <th>2255</th>\n      <td>1499</td>\n      <td>2018-10</td>\n      <td>385.0</td>\n    </tr>\n    <tr>\n      <th>2256</th>\n      <td>1499</td>\n      <td>2018-11</td>\n      <td>308.0</td>\n    </tr>\n    <tr>\n      <th>2257</th>\n      <td>1499</td>\n      <td>2018-12</td>\n      <td>496.0</td>\n    </tr>\n  </tbody>\n</table>\n<p>2258 rows × 3 columns</p>\n</div>",
      "text/plain": "     user_id year_month  duration\n0       1000    2018-12     124.0\n1       1001    2018-08     182.0\n2       1001    2018-09     315.0\n3       1001    2018-10     393.0\n4       1001    2018-11     426.0\n...      ...        ...       ...\n2253    1498    2018-12     339.0\n2254    1499    2018-09     346.0\n2255    1499    2018-10     385.0\n2256    1499    2018-11     308.0\n2257    1499    2018-12     496.0\n\n[2258 rows x 3 columns]"
     },
     "execution_count": 38,
     "metadata": {},
     "output_type": "execute_result"
    }
   ]
  },
  {
   "metadata": {},
   "cell_type": "markdown",
   "source": "<div class=\"alert alert-danger\" style=\"border-radius: 15px; box-shadow: 4px 4px 4px; border: 1px solid \">\n<b> Reviewer's comment </b>\n    \n\nBefore we use `sum`, we have to round each call up. \n    \n</div>\n<div class=\"alert alert-warning\" style=\"border-radius: 15px; box-shadow: 4px 4px 4px; border: 1px solid \">\n<b> Reviewer's comment  </b>\n    \nYou can use the `agg` method to define a list of aggregation functions: \n    \n</div>\n\n</div>\n<div class=\"alert alert-info\" style=\"border-radius: 15px; box-shadow: 4px 4px 4px; border: 1px solid \">\n<b> Keith's comment  <b/>\n    \nI decided to use the agg() function to aggregate the data based on your notes, but what was the difference? \n    \n</div>\n<div class=\"alert alert-success\" style=\"border-radius: 15px; box-shadow: 4px 4px 4px; border: 1px solid \">\n<h2> Reviewer's comment 2</h2>\n    \nAs far as I remember, in the previous version, you called the `groupby` method twice to calculate the number of minutes and the number of calls. That is why I wrote about the `agg` that can take a list of functions we want to apply. The code will be shorter.      \n</div>"
  },
  {
   "metadata": {},
   "cell_type": "markdown",
   "source": "<div class=\"alert alert-info\" style=\"border-radius: 15px; box-shadow: 4px 4px 4px; border: 1px solid \">\n<b> Keith's comment 2  <b/>\n    \nUnderstood!! \n    \n</div>"
  },
  {
   "metadata": {
    "trusted": false
   },
   "cell_type": "code",
   "source": "# Reviewer's code\n\ncalls.groupby(['user_id', 'year_month']).agg({'duration': ['count', 'sum']})",
   "execution_count": 39,
   "outputs": [
    {
     "data": {
      "text/html": "<div>\n<style scoped>\n    .dataframe tbody tr th:only-of-type {\n        vertical-align: middle;\n    }\n\n    .dataframe tbody tr th {\n        vertical-align: top;\n    }\n\n    .dataframe thead tr th {\n        text-align: left;\n    }\n\n    .dataframe thead tr:last-of-type th {\n        text-align: right;\n    }\n</style>\n<table border=\"1\" class=\"dataframe\">\n  <thead>\n    <tr>\n      <th></th>\n      <th></th>\n      <th colspan=\"2\" halign=\"left\">duration</th>\n    </tr>\n    <tr>\n      <th></th>\n      <th></th>\n      <th>count</th>\n      <th>sum</th>\n    </tr>\n    <tr>\n      <th>user_id</th>\n      <th>year_month</th>\n      <th></th>\n      <th></th>\n    </tr>\n  </thead>\n  <tbody>\n    <tr>\n      <th>1000</th>\n      <th>2018-12</th>\n      <td>16</td>\n      <td>124.0</td>\n    </tr>\n    <tr>\n      <th rowspan=\"4\" valign=\"top\">1001</th>\n      <th>2018-08</th>\n      <td>27</td>\n      <td>182.0</td>\n    </tr>\n    <tr>\n      <th>2018-09</th>\n      <td>49</td>\n      <td>315.0</td>\n    </tr>\n    <tr>\n      <th>2018-10</th>\n      <td>65</td>\n      <td>393.0</td>\n    </tr>\n    <tr>\n      <th>2018-11</th>\n      <td>64</td>\n      <td>426.0</td>\n    </tr>\n    <tr>\n      <th>...</th>\n      <th>...</th>\n      <td>...</td>\n      <td>...</td>\n    </tr>\n    <tr>\n      <th>1498</th>\n      <th>2018-12</th>\n      <td>39</td>\n      <td>339.0</td>\n    </tr>\n    <tr>\n      <th rowspan=\"4\" valign=\"top\">1499</th>\n      <th>2018-09</th>\n      <td>41</td>\n      <td>346.0</td>\n    </tr>\n    <tr>\n      <th>2018-10</th>\n      <td>53</td>\n      <td>385.0</td>\n    </tr>\n    <tr>\n      <th>2018-11</th>\n      <td>45</td>\n      <td>308.0</td>\n    </tr>\n    <tr>\n      <th>2018-12</th>\n      <td>65</td>\n      <td>496.0</td>\n    </tr>\n  </tbody>\n</table>\n<p>2258 rows × 2 columns</p>\n</div>",
      "text/plain": "                   duration       \n                      count    sum\nuser_id year_month                \n1000    2018-12          16  124.0\n1001    2018-08          27  182.0\n        2018-09          49  315.0\n        2018-10          65  393.0\n        2018-11          64  426.0\n...                     ...    ...\n1498    2018-12          39  339.0\n1499    2018-09          41  346.0\n        2018-10          53  385.0\n        2018-11          45  308.0\n        2018-12          65  496.0\n\n[2258 rows x 2 columns]"
     },
     "execution_count": 39,
     "metadata": {},
     "output_type": "execute_result"
    }
   ]
  },
  {
   "metadata": {},
   "cell_type": "markdown",
   "source": "# Messages"
  },
  {
   "metadata": {
    "trusted": false
   },
   "cell_type": "code",
   "source": "messages['message_date'] = pd.to_datetime(messages['message_date'])\nmessages['year_month'] = messages['message_date'].dt.to_period('M')",
   "execution_count": 40,
   "outputs": []
  },
  {
   "metadata": {
    "trusted": false
   },
   "cell_type": "code",
   "source": "# Calculate the number of messages sent by each user per month. Save the result.\nmessages_per_month = messages.groupby(['user_id', 'year_month'])['message_date'].count().reset_index()\nmessages_per_month",
   "execution_count": 41,
   "outputs": [
    {
     "data": {
      "text/html": "<div>\n<style scoped>\n    .dataframe tbody tr th:only-of-type {\n        vertical-align: middle;\n    }\n\n    .dataframe tbody tr th {\n        vertical-align: top;\n    }\n\n    .dataframe thead th {\n        text-align: right;\n    }\n</style>\n<table border=\"1\" class=\"dataframe\">\n  <thead>\n    <tr style=\"text-align: right;\">\n      <th></th>\n      <th>user_id</th>\n      <th>year_month</th>\n      <th>message_date</th>\n    </tr>\n  </thead>\n  <tbody>\n    <tr>\n      <th>0</th>\n      <td>1000</td>\n      <td>2018-12</td>\n      <td>11</td>\n    </tr>\n    <tr>\n      <th>1</th>\n      <td>1001</td>\n      <td>2018-08</td>\n      <td>30</td>\n    </tr>\n    <tr>\n      <th>2</th>\n      <td>1001</td>\n      <td>2018-09</td>\n      <td>44</td>\n    </tr>\n    <tr>\n      <th>3</th>\n      <td>1001</td>\n      <td>2018-10</td>\n      <td>53</td>\n    </tr>\n    <tr>\n      <th>4</th>\n      <td>1001</td>\n      <td>2018-11</td>\n      <td>36</td>\n    </tr>\n    <tr>\n      <th>...</th>\n      <td>...</td>\n      <td>...</td>\n      <td>...</td>\n    </tr>\n    <tr>\n      <th>1801</th>\n      <td>1496</td>\n      <td>2018-09</td>\n      <td>21</td>\n    </tr>\n    <tr>\n      <th>1802</th>\n      <td>1496</td>\n      <td>2018-10</td>\n      <td>18</td>\n    </tr>\n    <tr>\n      <th>1803</th>\n      <td>1496</td>\n      <td>2018-11</td>\n      <td>13</td>\n    </tr>\n    <tr>\n      <th>1804</th>\n      <td>1496</td>\n      <td>2018-12</td>\n      <td>11</td>\n    </tr>\n    <tr>\n      <th>1805</th>\n      <td>1497</td>\n      <td>2018-12</td>\n      <td>50</td>\n    </tr>\n  </tbody>\n</table>\n<p>1806 rows × 3 columns</p>\n</div>",
      "text/plain": "     user_id year_month  message_date\n0       1000    2018-12            11\n1       1001    2018-08            30\n2       1001    2018-09            44\n3       1001    2018-10            53\n4       1001    2018-11            36\n...      ...        ...           ...\n1801    1496    2018-09            21\n1802    1496    2018-10            18\n1803    1496    2018-11            13\n1804    1496    2018-12            11\n1805    1497    2018-12            50\n\n[1806 rows x 3 columns]"
     },
     "execution_count": 41,
     "metadata": {},
     "output_type": "execute_result"
    }
   ]
  },
  {
   "metadata": {
    "trusted": false
   },
   "cell_type": "code",
   "source": "messages_per_month.columns = ['user_id', 'year_month', 'num_messages']\nmessages_per_month",
   "execution_count": 42,
   "outputs": [
    {
     "data": {
      "text/html": "<div>\n<style scoped>\n    .dataframe tbody tr th:only-of-type {\n        vertical-align: middle;\n    }\n\n    .dataframe tbody tr th {\n        vertical-align: top;\n    }\n\n    .dataframe thead th {\n        text-align: right;\n    }\n</style>\n<table border=\"1\" class=\"dataframe\">\n  <thead>\n    <tr style=\"text-align: right;\">\n      <th></th>\n      <th>user_id</th>\n      <th>year_month</th>\n      <th>num_messages</th>\n    </tr>\n  </thead>\n  <tbody>\n    <tr>\n      <th>0</th>\n      <td>1000</td>\n      <td>2018-12</td>\n      <td>11</td>\n    </tr>\n    <tr>\n      <th>1</th>\n      <td>1001</td>\n      <td>2018-08</td>\n      <td>30</td>\n    </tr>\n    <tr>\n      <th>2</th>\n      <td>1001</td>\n      <td>2018-09</td>\n      <td>44</td>\n    </tr>\n    <tr>\n      <th>3</th>\n      <td>1001</td>\n      <td>2018-10</td>\n      <td>53</td>\n    </tr>\n    <tr>\n      <th>4</th>\n      <td>1001</td>\n      <td>2018-11</td>\n      <td>36</td>\n    </tr>\n    <tr>\n      <th>...</th>\n      <td>...</td>\n      <td>...</td>\n      <td>...</td>\n    </tr>\n    <tr>\n      <th>1801</th>\n      <td>1496</td>\n      <td>2018-09</td>\n      <td>21</td>\n    </tr>\n    <tr>\n      <th>1802</th>\n      <td>1496</td>\n      <td>2018-10</td>\n      <td>18</td>\n    </tr>\n    <tr>\n      <th>1803</th>\n      <td>1496</td>\n      <td>2018-11</td>\n      <td>13</td>\n    </tr>\n    <tr>\n      <th>1804</th>\n      <td>1496</td>\n      <td>2018-12</td>\n      <td>11</td>\n    </tr>\n    <tr>\n      <th>1805</th>\n      <td>1497</td>\n      <td>2018-12</td>\n      <td>50</td>\n    </tr>\n  </tbody>\n</table>\n<p>1806 rows × 3 columns</p>\n</div>",
      "text/plain": "     user_id year_month  num_messages\n0       1000    2018-12            11\n1       1001    2018-08            30\n2       1001    2018-09            44\n3       1001    2018-10            53\n4       1001    2018-11            36\n...      ...        ...           ...\n1801    1496    2018-09            21\n1802    1496    2018-10            18\n1803    1496    2018-11            13\n1804    1496    2018-12            11\n1805    1497    2018-12            50\n\n[1806 rows x 3 columns]"
     },
     "execution_count": 42,
     "metadata": {},
     "output_type": "execute_result"
    }
   ]
  },
  {
   "metadata": {},
   "cell_type": "markdown",
   "source": "# Volume of Internet Traffic"
  },
  {
   "metadata": {
    "trusted": false
   },
   "cell_type": "code",
   "source": "internet['session_date'] = pd.to_datetime(internet['session_date'])\ninternet['year_month'] = internet['session_date'].dt.to_period('M')",
   "execution_count": 43,
   "outputs": []
  },
  {
   "metadata": {
    "trusted": false
   },
   "cell_type": "code",
   "source": "# Calculate the volume of internet traffic used by each user per month. Save the result.\ninternet_traffic = internet.groupby(['user_id', 'year_month'])['mb_used'].sum().reset_index()\ninternet_traffic\n",
   "execution_count": 44,
   "outputs": [
    {
     "data": {
      "text/html": "<div>\n<style scoped>\n    .dataframe tbody tr th:only-of-type {\n        vertical-align: middle;\n    }\n\n    .dataframe tbody tr th {\n        vertical-align: top;\n    }\n\n    .dataframe thead th {\n        text-align: right;\n    }\n</style>\n<table border=\"1\" class=\"dataframe\">\n  <thead>\n    <tr style=\"text-align: right;\">\n      <th></th>\n      <th>user_id</th>\n      <th>year_month</th>\n      <th>mb_used</th>\n    </tr>\n  </thead>\n  <tbody>\n    <tr>\n      <th>0</th>\n      <td>1000</td>\n      <td>2018-12</td>\n      <td>1901.47</td>\n    </tr>\n    <tr>\n      <th>1</th>\n      <td>1001</td>\n      <td>2018-08</td>\n      <td>6919.15</td>\n    </tr>\n    <tr>\n      <th>2</th>\n      <td>1001</td>\n      <td>2018-09</td>\n      <td>13314.82</td>\n    </tr>\n    <tr>\n      <th>3</th>\n      <td>1001</td>\n      <td>2018-10</td>\n      <td>22330.49</td>\n    </tr>\n    <tr>\n      <th>4</th>\n      <td>1001</td>\n      <td>2018-11</td>\n      <td>18504.30</td>\n    </tr>\n    <tr>\n      <th>...</th>\n      <td>...</td>\n      <td>...</td>\n      <td>...</td>\n    </tr>\n    <tr>\n      <th>2272</th>\n      <td>1498</td>\n      <td>2018-12</td>\n      <td>23137.69</td>\n    </tr>\n    <tr>\n      <th>2273</th>\n      <td>1499</td>\n      <td>2018-09</td>\n      <td>12984.76</td>\n    </tr>\n    <tr>\n      <th>2274</th>\n      <td>1499</td>\n      <td>2018-10</td>\n      <td>19492.43</td>\n    </tr>\n    <tr>\n      <th>2275</th>\n      <td>1499</td>\n      <td>2018-11</td>\n      <td>16813.83</td>\n    </tr>\n    <tr>\n      <th>2276</th>\n      <td>1499</td>\n      <td>2018-12</td>\n      <td>22059.21</td>\n    </tr>\n  </tbody>\n</table>\n<p>2277 rows × 3 columns</p>\n</div>",
      "text/plain": "     user_id year_month   mb_used\n0       1000    2018-12   1901.47\n1       1001    2018-08   6919.15\n2       1001    2018-09  13314.82\n3       1001    2018-10  22330.49\n4       1001    2018-11  18504.30\n...      ...        ...       ...\n2272    1498    2018-12  23137.69\n2273    1499    2018-09  12984.76\n2274    1499    2018-10  19492.43\n2275    1499    2018-11  16813.83\n2276    1499    2018-12  22059.21\n\n[2277 rows x 3 columns]"
     },
     "execution_count": 44,
     "metadata": {},
     "output_type": "execute_result"
    }
   ]
  },
  {
   "metadata": {},
   "cell_type": "markdown",
   "source": "[Put the aggregate data together into one DataFrame so that one record in it would represent what an unique user consumed in a given month.]"
  },
  {
   "metadata": {
    "trusted": false
   },
   "cell_type": "code",
   "source": "merged_df = total_min_by_user.merge(messages_per_month, on=['user_id', 'year_month'], how='outer')\nmerged_df = merged_df.merge(internet_traffic, on=['user_id', 'year_month'], how='outer')\nmerged_df = merged_df.merge(users[['user_id', 'plan']], on='user_id', how='left')\nmerged_df.head()",
   "execution_count": 45,
   "outputs": [
    {
     "data": {
      "text/html": "<div>\n<style scoped>\n    .dataframe tbody tr th:only-of-type {\n        vertical-align: middle;\n    }\n\n    .dataframe tbody tr th {\n        vertical-align: top;\n    }\n\n    .dataframe thead th {\n        text-align: right;\n    }\n</style>\n<table border=\"1\" class=\"dataframe\">\n  <thead>\n    <tr style=\"text-align: right;\">\n      <th></th>\n      <th>user_id</th>\n      <th>year_month</th>\n      <th>duration</th>\n      <th>num_messages</th>\n      <th>mb_used</th>\n      <th>plan</th>\n    </tr>\n  </thead>\n  <tbody>\n    <tr>\n      <th>0</th>\n      <td>1000</td>\n      <td>2018-12</td>\n      <td>124.0</td>\n      <td>11.0</td>\n      <td>1901.47</td>\n      <td>ultimate</td>\n    </tr>\n    <tr>\n      <th>1</th>\n      <td>1001</td>\n      <td>2018-08</td>\n      <td>182.0</td>\n      <td>30.0</td>\n      <td>6919.15</td>\n      <td>surf</td>\n    </tr>\n    <tr>\n      <th>2</th>\n      <td>1001</td>\n      <td>2018-09</td>\n      <td>315.0</td>\n      <td>44.0</td>\n      <td>13314.82</td>\n      <td>surf</td>\n    </tr>\n    <tr>\n      <th>3</th>\n      <td>1001</td>\n      <td>2018-10</td>\n      <td>393.0</td>\n      <td>53.0</td>\n      <td>22330.49</td>\n      <td>surf</td>\n    </tr>\n    <tr>\n      <th>4</th>\n      <td>1001</td>\n      <td>2018-11</td>\n      <td>426.0</td>\n      <td>36.0</td>\n      <td>18504.30</td>\n      <td>surf</td>\n    </tr>\n  </tbody>\n</table>\n</div>",
      "text/plain": "  user_id year_month  duration  num_messages   mb_used      plan\n0    1000    2018-12     124.0          11.0   1901.47  ultimate\n1    1001    2018-08     182.0          30.0   6919.15      surf\n2    1001    2018-09     315.0          44.0  13314.82      surf\n3    1001    2018-10     393.0          53.0  22330.49      surf\n4    1001    2018-11     426.0          36.0  18504.30      surf"
     },
     "execution_count": 45,
     "metadata": {},
     "output_type": "execute_result"
    }
   ]
  },
  {
   "metadata": {},
   "cell_type": "markdown",
   "source": "<div class=\"alert alert-success\" style=\"border-radius: 15px; box-shadow: 4px 4px 4px; border: 1px solid \">\n<h2> Reviewer's comment</h2>\n     \n    \nYes, we need `outer` here, well done!\n</div>"
  },
  {
   "metadata": {
    "trusted": false
   },
   "cell_type": "code",
   "source": "merged_df.isna().sum()",
   "execution_count": 46,
   "outputs": [
    {
     "data": {
      "text/plain": "user_id           0\nyear_month        0\nduration         35\nnum_messages    487\nmb_used          16\nplan              0\ndtype: int64"
     },
     "execution_count": 46,
     "metadata": {},
     "output_type": "execute_result"
    }
   ]
  },
  {
   "metadata": {
    "trusted": false
   },
   "cell_type": "code",
   "source": "merged_df = merged_df.fillna(0)",
   "execution_count": 47,
   "outputs": []
  },
  {
   "metadata": {},
   "cell_type": "markdown",
   "source": "<div class=\"alert alert-success\" style=\"border-radius: 15px; box-shadow: 4px 4px 4px; border: 1px solid \">\n<h2> Reviewer's comment</h2>\n    \nAgreed.     \n</div>"
  },
  {
   "metadata": {
    "trusted": false
   },
   "cell_type": "code",
   "source": "merged_df",
   "execution_count": 48,
   "outputs": [
    {
     "data": {
      "text/html": "<div>\n<style scoped>\n    .dataframe tbody tr th:only-of-type {\n        vertical-align: middle;\n    }\n\n    .dataframe tbody tr th {\n        vertical-align: top;\n    }\n\n    .dataframe thead th {\n        text-align: right;\n    }\n</style>\n<table border=\"1\" class=\"dataframe\">\n  <thead>\n    <tr style=\"text-align: right;\">\n      <th></th>\n      <th>user_id</th>\n      <th>year_month</th>\n      <th>duration</th>\n      <th>num_messages</th>\n      <th>mb_used</th>\n      <th>plan</th>\n    </tr>\n  </thead>\n  <tbody>\n    <tr>\n      <th>0</th>\n      <td>1000</td>\n      <td>2018-12</td>\n      <td>124.0</td>\n      <td>11.0</td>\n      <td>1901.47</td>\n      <td>ultimate</td>\n    </tr>\n    <tr>\n      <th>1</th>\n      <td>1001</td>\n      <td>2018-08</td>\n      <td>182.0</td>\n      <td>30.0</td>\n      <td>6919.15</td>\n      <td>surf</td>\n    </tr>\n    <tr>\n      <th>2</th>\n      <td>1001</td>\n      <td>2018-09</td>\n      <td>315.0</td>\n      <td>44.0</td>\n      <td>13314.82</td>\n      <td>surf</td>\n    </tr>\n    <tr>\n      <th>3</th>\n      <td>1001</td>\n      <td>2018-10</td>\n      <td>393.0</td>\n      <td>53.0</td>\n      <td>22330.49</td>\n      <td>surf</td>\n    </tr>\n    <tr>\n      <th>4</th>\n      <td>1001</td>\n      <td>2018-11</td>\n      <td>426.0</td>\n      <td>36.0</td>\n      <td>18504.30</td>\n      <td>surf</td>\n    </tr>\n    <tr>\n      <th>...</th>\n      <td>...</td>\n      <td>...</td>\n      <td>...</td>\n      <td>...</td>\n      <td>...</td>\n      <td>...</td>\n    </tr>\n    <tr>\n      <th>2288</th>\n      <td>1349</td>\n      <td>2018-12</td>\n      <td>0.0</td>\n      <td>61.0</td>\n      <td>13039.91</td>\n      <td>surf</td>\n    </tr>\n    <tr>\n      <th>2289</th>\n      <td>1361</td>\n      <td>2018-05</td>\n      <td>0.0</td>\n      <td>2.0</td>\n      <td>1519.69</td>\n      <td>surf</td>\n    </tr>\n    <tr>\n      <th>2290</th>\n      <td>1482</td>\n      <td>2018-10</td>\n      <td>0.0</td>\n      <td>2.0</td>\n      <td>0.00</td>\n      <td>ultimate</td>\n    </tr>\n    <tr>\n      <th>2291</th>\n      <td>1108</td>\n      <td>2018-12</td>\n      <td>0.0</td>\n      <td>0.0</td>\n      <td>233.17</td>\n      <td>ultimate</td>\n    </tr>\n    <tr>\n      <th>2292</th>\n      <td>1311</td>\n      <td>2018-06</td>\n      <td>0.0</td>\n      <td>0.0</td>\n      <td>1498.83</td>\n      <td>ultimate</td>\n    </tr>\n  </tbody>\n</table>\n<p>2293 rows × 6 columns</p>\n</div>",
      "text/plain": "     user_id year_month  duration  num_messages   mb_used      plan\n0       1000    2018-12     124.0          11.0   1901.47  ultimate\n1       1001    2018-08     182.0          30.0   6919.15      surf\n2       1001    2018-09     315.0          44.0  13314.82      surf\n3       1001    2018-10     393.0          53.0  22330.49      surf\n4       1001    2018-11     426.0          36.0  18504.30      surf\n...      ...        ...       ...           ...       ...       ...\n2288    1349    2018-12       0.0          61.0  13039.91      surf\n2289    1361    2018-05       0.0           2.0   1519.69      surf\n2290    1482    2018-10       0.0           2.0      0.00  ultimate\n2291    1108    2018-12       0.0           0.0    233.17  ultimate\n2292    1311    2018-06       0.0           0.0   1498.83  ultimate\n\n[2293 rows x 6 columns]"
     },
     "execution_count": 48,
     "metadata": {},
     "output_type": "execute_result"
    }
   ]
  },
  {
   "metadata": {
    "trusted": false
   },
   "cell_type": "code",
   "source": "plans",
   "execution_count": 49,
   "outputs": [
    {
     "data": {
      "text/html": "<div>\n<style scoped>\n    .dataframe tbody tr th:only-of-type {\n        vertical-align: middle;\n    }\n\n    .dataframe tbody tr th {\n        vertical-align: top;\n    }\n\n    .dataframe thead th {\n        text-align: right;\n    }\n</style>\n<table border=\"1\" class=\"dataframe\">\n  <thead>\n    <tr style=\"text-align: right;\">\n      <th></th>\n      <th>messages_included</th>\n      <th>mb_per_month_included</th>\n      <th>minutes_included</th>\n      <th>usd_monthly_pay</th>\n      <th>usd_per_gb</th>\n      <th>usd_per_message</th>\n      <th>usd_per_minute</th>\n      <th>plan_name</th>\n    </tr>\n  </thead>\n  <tbody>\n    <tr>\n      <th>0</th>\n      <td>50</td>\n      <td>15360</td>\n      <td>500</td>\n      <td>20</td>\n      <td>10</td>\n      <td>0.03</td>\n      <td>0.03</td>\n      <td>surf</td>\n    </tr>\n    <tr>\n      <th>1</th>\n      <td>1000</td>\n      <td>30720</td>\n      <td>3000</td>\n      <td>70</td>\n      <td>7</td>\n      <td>0.01</td>\n      <td>0.01</td>\n      <td>ultimate</td>\n    </tr>\n  </tbody>\n</table>\n</div>",
      "text/plain": "   messages_included  mb_per_month_included  minutes_included  \\\n0                 50                  15360               500   \n1               1000                  30720              3000   \n\n   usd_monthly_pay  usd_per_gb  usd_per_message  usd_per_minute plan_name  \n0               20          10             0.03            0.03      surf  \n1               70           7             0.01            0.01  ultimate  "
     },
     "execution_count": 49,
     "metadata": {},
     "output_type": "execute_result"
    }
   ]
  },
  {
   "metadata": {
    "trusted": false
   },
   "cell_type": "code",
   "source": "plans = plans.rename(columns={'plan_name': 'plan'}) #renamed column 'plan_name' on plans so that I can easily merge it with the merged_df\nplans",
   "execution_count": 50,
   "outputs": [
    {
     "data": {
      "text/html": "<div>\n<style scoped>\n    .dataframe tbody tr th:only-of-type {\n        vertical-align: middle;\n    }\n\n    .dataframe tbody tr th {\n        vertical-align: top;\n    }\n\n    .dataframe thead th {\n        text-align: right;\n    }\n</style>\n<table border=\"1\" class=\"dataframe\">\n  <thead>\n    <tr style=\"text-align: right;\">\n      <th></th>\n      <th>messages_included</th>\n      <th>mb_per_month_included</th>\n      <th>minutes_included</th>\n      <th>usd_monthly_pay</th>\n      <th>usd_per_gb</th>\n      <th>usd_per_message</th>\n      <th>usd_per_minute</th>\n      <th>plan</th>\n    </tr>\n  </thead>\n  <tbody>\n    <tr>\n      <th>0</th>\n      <td>50</td>\n      <td>15360</td>\n      <td>500</td>\n      <td>20</td>\n      <td>10</td>\n      <td>0.03</td>\n      <td>0.03</td>\n      <td>surf</td>\n    </tr>\n    <tr>\n      <th>1</th>\n      <td>1000</td>\n      <td>30720</td>\n      <td>3000</td>\n      <td>70</td>\n      <td>7</td>\n      <td>0.01</td>\n      <td>0.01</td>\n      <td>ultimate</td>\n    </tr>\n  </tbody>\n</table>\n</div>",
      "text/plain": "   messages_included  mb_per_month_included  minutes_included  \\\n0                 50                  15360               500   \n1               1000                  30720              3000   \n\n   usd_monthly_pay  usd_per_gb  usd_per_message  usd_per_minute      plan  \n0               20          10             0.03            0.03      surf  \n1               70           7             0.01            0.01  ultimate  "
     },
     "execution_count": 50,
     "metadata": {},
     "output_type": "execute_result"
    }
   ]
  },
  {
   "metadata": {
    "trusted": false
   },
   "cell_type": "code",
   "source": "merged_plan = merged_df.merge(plans, on='plan', how='left')\nmerged_plan",
   "execution_count": 51,
   "outputs": [
    {
     "data": {
      "text/html": "<div>\n<style scoped>\n    .dataframe tbody tr th:only-of-type {\n        vertical-align: middle;\n    }\n\n    .dataframe tbody tr th {\n        vertical-align: top;\n    }\n\n    .dataframe thead th {\n        text-align: right;\n    }\n</style>\n<table border=\"1\" class=\"dataframe\">\n  <thead>\n    <tr style=\"text-align: right;\">\n      <th></th>\n      <th>user_id</th>\n      <th>year_month</th>\n      <th>duration</th>\n      <th>num_messages</th>\n      <th>mb_used</th>\n      <th>plan</th>\n      <th>messages_included</th>\n      <th>mb_per_month_included</th>\n      <th>minutes_included</th>\n      <th>usd_monthly_pay</th>\n      <th>usd_per_gb</th>\n      <th>usd_per_message</th>\n      <th>usd_per_minute</th>\n    </tr>\n  </thead>\n  <tbody>\n    <tr>\n      <th>0</th>\n      <td>1000</td>\n      <td>2018-12</td>\n      <td>124.0</td>\n      <td>11.0</td>\n      <td>1901.47</td>\n      <td>ultimate</td>\n      <td>1000</td>\n      <td>30720</td>\n      <td>3000</td>\n      <td>70</td>\n      <td>7</td>\n      <td>0.01</td>\n      <td>0.01</td>\n    </tr>\n    <tr>\n      <th>1</th>\n      <td>1001</td>\n      <td>2018-08</td>\n      <td>182.0</td>\n      <td>30.0</td>\n      <td>6919.15</td>\n      <td>surf</td>\n      <td>50</td>\n      <td>15360</td>\n      <td>500</td>\n      <td>20</td>\n      <td>10</td>\n      <td>0.03</td>\n      <td>0.03</td>\n    </tr>\n    <tr>\n      <th>2</th>\n      <td>1001</td>\n      <td>2018-09</td>\n      <td>315.0</td>\n      <td>44.0</td>\n      <td>13314.82</td>\n      <td>surf</td>\n      <td>50</td>\n      <td>15360</td>\n      <td>500</td>\n      <td>20</td>\n      <td>10</td>\n      <td>0.03</td>\n      <td>0.03</td>\n    </tr>\n    <tr>\n      <th>3</th>\n      <td>1001</td>\n      <td>2018-10</td>\n      <td>393.0</td>\n      <td>53.0</td>\n      <td>22330.49</td>\n      <td>surf</td>\n      <td>50</td>\n      <td>15360</td>\n      <td>500</td>\n      <td>20</td>\n      <td>10</td>\n      <td>0.03</td>\n      <td>0.03</td>\n    </tr>\n    <tr>\n      <th>4</th>\n      <td>1001</td>\n      <td>2018-11</td>\n      <td>426.0</td>\n      <td>36.0</td>\n      <td>18504.30</td>\n      <td>surf</td>\n      <td>50</td>\n      <td>15360</td>\n      <td>500</td>\n      <td>20</td>\n      <td>10</td>\n      <td>0.03</td>\n      <td>0.03</td>\n    </tr>\n    <tr>\n      <th>...</th>\n      <td>...</td>\n      <td>...</td>\n      <td>...</td>\n      <td>...</td>\n      <td>...</td>\n      <td>...</td>\n      <td>...</td>\n      <td>...</td>\n      <td>...</td>\n      <td>...</td>\n      <td>...</td>\n      <td>...</td>\n      <td>...</td>\n    </tr>\n    <tr>\n      <th>2288</th>\n      <td>1349</td>\n      <td>2018-12</td>\n      <td>0.0</td>\n      <td>61.0</td>\n      <td>13039.91</td>\n      <td>surf</td>\n      <td>50</td>\n      <td>15360</td>\n      <td>500</td>\n      <td>20</td>\n      <td>10</td>\n      <td>0.03</td>\n      <td>0.03</td>\n    </tr>\n    <tr>\n      <th>2289</th>\n      <td>1361</td>\n      <td>2018-05</td>\n      <td>0.0</td>\n      <td>2.0</td>\n      <td>1519.69</td>\n      <td>surf</td>\n      <td>50</td>\n      <td>15360</td>\n      <td>500</td>\n      <td>20</td>\n      <td>10</td>\n      <td>0.03</td>\n      <td>0.03</td>\n    </tr>\n    <tr>\n      <th>2290</th>\n      <td>1482</td>\n      <td>2018-10</td>\n      <td>0.0</td>\n      <td>2.0</td>\n      <td>0.00</td>\n      <td>ultimate</td>\n      <td>1000</td>\n      <td>30720</td>\n      <td>3000</td>\n      <td>70</td>\n      <td>7</td>\n      <td>0.01</td>\n      <td>0.01</td>\n    </tr>\n    <tr>\n      <th>2291</th>\n      <td>1108</td>\n      <td>2018-12</td>\n      <td>0.0</td>\n      <td>0.0</td>\n      <td>233.17</td>\n      <td>ultimate</td>\n      <td>1000</td>\n      <td>30720</td>\n      <td>3000</td>\n      <td>70</td>\n      <td>7</td>\n      <td>0.01</td>\n      <td>0.01</td>\n    </tr>\n    <tr>\n      <th>2292</th>\n      <td>1311</td>\n      <td>2018-06</td>\n      <td>0.0</td>\n      <td>0.0</td>\n      <td>1498.83</td>\n      <td>ultimate</td>\n      <td>1000</td>\n      <td>30720</td>\n      <td>3000</td>\n      <td>70</td>\n      <td>7</td>\n      <td>0.01</td>\n      <td>0.01</td>\n    </tr>\n  </tbody>\n</table>\n<p>2293 rows × 13 columns</p>\n</div>",
      "text/plain": "     user_id year_month  duration  num_messages   mb_used      plan  \\\n0       1000    2018-12     124.0          11.0   1901.47  ultimate   \n1       1001    2018-08     182.0          30.0   6919.15      surf   \n2       1001    2018-09     315.0          44.0  13314.82      surf   \n3       1001    2018-10     393.0          53.0  22330.49      surf   \n4       1001    2018-11     426.0          36.0  18504.30      surf   \n...      ...        ...       ...           ...       ...       ...   \n2288    1349    2018-12       0.0          61.0  13039.91      surf   \n2289    1361    2018-05       0.0           2.0   1519.69      surf   \n2290    1482    2018-10       0.0           2.0      0.00  ultimate   \n2291    1108    2018-12       0.0           0.0    233.17  ultimate   \n2292    1311    2018-06       0.0           0.0   1498.83  ultimate   \n\n      messages_included  mb_per_month_included  minutes_included  \\\n0                  1000                  30720              3000   \n1                    50                  15360               500   \n2                    50                  15360               500   \n3                    50                  15360               500   \n4                    50                  15360               500   \n...                 ...                    ...               ...   \n2288                 50                  15360               500   \n2289                 50                  15360               500   \n2290               1000                  30720              3000   \n2291               1000                  30720              3000   \n2292               1000                  30720              3000   \n\n      usd_monthly_pay  usd_per_gb  usd_per_message  usd_per_minute  \n0                  70           7             0.01            0.01  \n1                  20          10             0.03            0.03  \n2                  20          10             0.03            0.03  \n3                  20          10             0.03            0.03  \n4                  20          10             0.03            0.03  \n...               ...         ...              ...             ...  \n2288               20          10             0.03            0.03  \n2289               20          10             0.03            0.03  \n2290               70           7             0.01            0.01  \n2291               70           7             0.01            0.01  \n2292               70           7             0.01            0.01  \n\n[2293 rows x 13 columns]"
     },
     "execution_count": 51,
     "metadata": {},
     "output_type": "execute_result"
    }
   ]
  },
  {
   "metadata": {},
   "cell_type": "markdown",
   "source": "Note: merge the plan data set with the merged_df left join"
  },
  {
   "metadata": {
    "trusted": false
   },
   "cell_type": "code",
   "source": "# Calculate the monthly revenue for each user\ndef revenue_from_plans(entry):\n    if entry['plan'] == 'surf':\n        total_cost = 20\n        if entry['duration'] > entry['minutes_included']:\n            total_cost = total_cost + (entry['duration'] - entry['minutes_included']) * entry['usd_per_minute']\n        if entry['num_messages'] > entry['messages_included']:\n            total_cost = total_cost + (entry['num_messages'] - entry['messages_included']) * entry['usd_per_message']    \n        if entry['mb_used'] > entry['mb_per_month_included']:\n            total_cost = total_cost + math.ceil((entry['mb_used'] - entry['mb_per_month_included']) / 1024) * entry['usd_per_gb']\n    else:\n        total_cost = 70\n        if entry['duration'] > entry['minutes_included']:\n            total_cost = total_cost + (entry['duration'] - entry['minutes_included']) * entry['usd_per_minute']\n        if entry['num_messages'] > entry['messages_included']:\n            total_cost = total_cost + (entry['num_messages'] - entry['messages_included']) * entry['usd_per_message']    \n        if entry['mb_used'] > entry['mb_per_month_included']:\n            total_cost = total_cost + math.ceil((entry['mb_used'] - entry['mb_per_month_included']) / 1024) * entry['usd_per_gb']\n    return total_cost\n\nmerged_plan['total_cost'] = merged_plan.apply(revenue_from_plans, axis=1)\nmerged_plan.head()\n",
   "execution_count": 52,
   "outputs": [
    {
     "data": {
      "text/html": "<div>\n<style scoped>\n    .dataframe tbody tr th:only-of-type {\n        vertical-align: middle;\n    }\n\n    .dataframe tbody tr th {\n        vertical-align: top;\n    }\n\n    .dataframe thead th {\n        text-align: right;\n    }\n</style>\n<table border=\"1\" class=\"dataframe\">\n  <thead>\n    <tr style=\"text-align: right;\">\n      <th></th>\n      <th>user_id</th>\n      <th>year_month</th>\n      <th>duration</th>\n      <th>num_messages</th>\n      <th>mb_used</th>\n      <th>plan</th>\n      <th>messages_included</th>\n      <th>mb_per_month_included</th>\n      <th>minutes_included</th>\n      <th>usd_monthly_pay</th>\n      <th>usd_per_gb</th>\n      <th>usd_per_message</th>\n      <th>usd_per_minute</th>\n      <th>total_cost</th>\n    </tr>\n  </thead>\n  <tbody>\n    <tr>\n      <th>0</th>\n      <td>1000</td>\n      <td>2018-12</td>\n      <td>124.0</td>\n      <td>11.0</td>\n      <td>1901.47</td>\n      <td>ultimate</td>\n      <td>1000</td>\n      <td>30720</td>\n      <td>3000</td>\n      <td>70</td>\n      <td>7</td>\n      <td>0.01</td>\n      <td>0.01</td>\n      <td>70.00</td>\n    </tr>\n    <tr>\n      <th>1</th>\n      <td>1001</td>\n      <td>2018-08</td>\n      <td>182.0</td>\n      <td>30.0</td>\n      <td>6919.15</td>\n      <td>surf</td>\n      <td>50</td>\n      <td>15360</td>\n      <td>500</td>\n      <td>20</td>\n      <td>10</td>\n      <td>0.03</td>\n      <td>0.03</td>\n      <td>20.00</td>\n    </tr>\n    <tr>\n      <th>2</th>\n      <td>1001</td>\n      <td>2018-09</td>\n      <td>315.0</td>\n      <td>44.0</td>\n      <td>13314.82</td>\n      <td>surf</td>\n      <td>50</td>\n      <td>15360</td>\n      <td>500</td>\n      <td>20</td>\n      <td>10</td>\n      <td>0.03</td>\n      <td>0.03</td>\n      <td>20.00</td>\n    </tr>\n    <tr>\n      <th>3</th>\n      <td>1001</td>\n      <td>2018-10</td>\n      <td>393.0</td>\n      <td>53.0</td>\n      <td>22330.49</td>\n      <td>surf</td>\n      <td>50</td>\n      <td>15360</td>\n      <td>500</td>\n      <td>20</td>\n      <td>10</td>\n      <td>0.03</td>\n      <td>0.03</td>\n      <td>90.09</td>\n    </tr>\n    <tr>\n      <th>4</th>\n      <td>1001</td>\n      <td>2018-11</td>\n      <td>426.0</td>\n      <td>36.0</td>\n      <td>18504.30</td>\n      <td>surf</td>\n      <td>50</td>\n      <td>15360</td>\n      <td>500</td>\n      <td>20</td>\n      <td>10</td>\n      <td>0.03</td>\n      <td>0.03</td>\n      <td>60.00</td>\n    </tr>\n  </tbody>\n</table>\n</div>",
      "text/plain": "  user_id year_month  duration  num_messages   mb_used      plan  \\\n0    1000    2018-12     124.0          11.0   1901.47  ultimate   \n1    1001    2018-08     182.0          30.0   6919.15      surf   \n2    1001    2018-09     315.0          44.0  13314.82      surf   \n3    1001    2018-10     393.0          53.0  22330.49      surf   \n4    1001    2018-11     426.0          36.0  18504.30      surf   \n\n   messages_included  mb_per_month_included  minutes_included  \\\n0               1000                  30720              3000   \n1                 50                  15360               500   \n2                 50                  15360               500   \n3                 50                  15360               500   \n4                 50                  15360               500   \n\n   usd_monthly_pay  usd_per_gb  usd_per_message  usd_per_minute  total_cost  \n0               70           7             0.01            0.01       70.00  \n1               20          10             0.03            0.03       20.00  \n2               20          10             0.03            0.03       20.00  \n3               20          10             0.03            0.03       90.09  \n4               20          10             0.03            0.03       60.00  "
     },
     "execution_count": 52,
     "metadata": {},
     "output_type": "execute_result"
    }
   ]
  },
  {
   "metadata": {},
   "cell_type": "markdown",
   "source": "<div class=\"alert alert-info\" style=\"border-radius: 15px; box-shadow: 4px 4px 4px; border: 1px solid \">\n<b> Keith's comment<b/>\n    \nI did it!!!! \n</div>"
  },
  {
   "metadata": {},
   "cell_type": "markdown",
   "source": "<div class=\"alert alert-success\" style=\"border-radius: 15px; box-shadow: 4px 4px 4px; border: 1px solid \">\n<h2> Reviewer's comment 2</h2>\n    \nAwesome job!     \n</div>"
  },
  {
   "metadata": {},
   "cell_type": "markdown",
   "source": "<div class=\"alert alert-warning\" style=\"border-radius: 15px; box-shadow: 4px 4px 4px; border: 1px solid \">\n<b> Reviewer's comment</b>\n    \nYou can exclude the cells you do not need.     \n</div>"
  },
  {
   "metadata": {},
   "cell_type": "markdown",
   "source": "<div class=\"alert alert-info\" style=\"border-radius: 15px; box-shadow: 4px 4px 4px; border: 1px solid \">\n<b> Keith's comment<b/>\n    \nNot entirely sure what was meant by this comment.  \n</div>"
  },
  {
   "metadata": {},
   "cell_type": "markdown",
   "source": "<div class=\"alert alert-success\" style=\"border-radius: 15px; box-shadow: 4px 4px 4px; border: 1px solid \">\n<h2> Reviewer's comment 2</h2>\n    \nThere was the Markdown cell with the code in comments or the Raw NBconvert cell like the one above. You can exclude it if you do not need it anymore.  </div>"
  },
  {
   "metadata": {},
   "cell_type": "markdown",
   "source": "<div class=\"alert alert-success\" style=\"border-radius: 15px; box-shadow: 4px 4px 4px; border: 1px solid \">\n<h2> Reviewer's comment</h2>\n    \nFirst of all, the function is correct, great job! Second, it is good that you ask such questions. We indeed should not work with constants. What you can do here is to use the `plans` dataframe. In the function, you can get values from this dataframew depending on the plan name. Would you try? \n    \nBy the way, there's a function that returns the maximum between 2 values. With this function, you will not need to check if-else statements.\n</div>\n\n```python\n\nmax(0, (entry['duration'] - 500) * 0.03)\n```"
  },
  {
   "metadata": {},
   "cell_type": "markdown",
   "source": "<div class=\"alert alert-info\" style=\"border-radius: 15px; box-shadow: 4px 4px 4px; border: 1px solid \">\n<b> Keith's comment<b/>\n    \nI replaced the numbers with variables and printed the code. The above line of code is still using constants, but I thought we were trying to get away from constants? \n<div/>"
  },
  {
   "metadata": {},
   "cell_type": "markdown",
   "source": "<div class=\"alert alert-success\" style=\"border-radius: 15px; box-shadow: 4px 4px 4px; border: 1px solid \">\n<h2> Reviewer's comment 2</h2>\n    \nThis is because I left this code in the previous iteration when you had constants :) If I showed you an example without constants, would the process of reconstructing the function in order to avoid constants be that helpful? :) \n    \n    \nNo, we only need to change my example a little bit: \n</div>\n\n```python\n\nmax(0, (entry['duration'] - entry['minutes_included']) * entry['usd_per_minute'])\n```"
  },
  {
   "metadata": {},
   "cell_type": "markdown",
   "source": "<div class=\"alert alert-info\" style=\"border-radius: 15px; box-shadow: 4px 4px 4px; border: 1px solid \">\n<b> Keith's comment<b/>\n    \nUnderstood!\n<div/>"
  },
  {
   "metadata": {},
   "cell_type": "markdown",
   "source": "<div class=\"alert alert-success\" style=\"border-radius: 15px; box-shadow: 4px 4px 4px; border: 1px solid \">\n<h2> Reviewer's comment 3</h2>\n    \nGood :)     \n    \n</div>"
  },
  {
   "metadata": {},
   "cell_type": "markdown",
   "source": "[Calculate the monthly revenue from each user (subtract the free package limit from the total number of calls, text messages, and data; multiply the result by the calling plan value; add the monthly charge depending on the calling plan). N.B. This might not be as trivial as just a couple of lines given the plan conditions! So, it's okay to spend some time on it.]"
  },
  {
   "metadata": {},
   "cell_type": "markdown",
   "source": "Returned columns to provide relevant information"
  },
  {
   "metadata": {},
   "cell_type": "markdown",
   "source": "## Study user behaviour"
  },
  {
   "metadata": {},
   "cell_type": "markdown",
   "source": "[Calculate some useful descriptive statistics for the aggregated and merged data, which typically reveal an overall picture captured by the data. Draw useful plots to help the understanding. Given that the main task is to compare the plans and decide on which one is more profitable, the statistics and the plots should be calculated on a per-plan basis.]\n\n[There are relevant hints in the comments for Calls but they are not provided for Messages and Internet though the principle of statistical study is the same for them as for Calls.]"
  },
  {
   "metadata": {},
   "cell_type": "markdown",
   "source": "### Calls"
  },
  {
   "metadata": {
    "scrolled": true,
    "trusted": false
   },
   "cell_type": "code",
   "source": "# Compare average duration of calls per each plan per each distinct month. Plot a bar plat to visualize it.\nmerged_plan['year_month'] = merged_plan['year_month'].dt.strftime('%Y-%m')\n\n\n",
   "execution_count": 53,
   "outputs": []
  },
  {
   "metadata": {
    "trusted": false
   },
   "cell_type": "code",
   "source": "calls_df = merged_plan.groupby(['plan', 'year_month'])['duration'].mean().reset_index()\ncalls_df\n",
   "execution_count": 54,
   "outputs": [
    {
     "data": {
      "text/html": "<div>\n<style scoped>\n    .dataframe tbody tr th:only-of-type {\n        vertical-align: middle;\n    }\n\n    .dataframe tbody tr th {\n        vertical-align: top;\n    }\n\n    .dataframe thead th {\n        text-align: right;\n    }\n</style>\n<table border=\"1\" class=\"dataframe\">\n  <thead>\n    <tr style=\"text-align: right;\">\n      <th></th>\n      <th>plan</th>\n      <th>year_month</th>\n      <th>duration</th>\n    </tr>\n  </thead>\n  <tbody>\n    <tr>\n      <th>0</th>\n      <td>surf</td>\n      <td>2018-01</td>\n      <td>203.000000</td>\n    </tr>\n    <tr>\n      <th>1</th>\n      <td>surf</td>\n      <td>2018-02</td>\n      <td>297.000000</td>\n    </tr>\n    <tr>\n      <th>2</th>\n      <td>surf</td>\n      <td>2018-03</td>\n      <td>330.000000</td>\n    </tr>\n    <tr>\n      <th>3</th>\n      <td>surf</td>\n      <td>2018-04</td>\n      <td>351.540000</td>\n    </tr>\n    <tr>\n      <th>4</th>\n      <td>surf</td>\n      <td>2018-05</td>\n      <td>399.584416</td>\n    </tr>\n    <tr>\n      <th>5</th>\n      <td>surf</td>\n      <td>2018-06</td>\n      <td>431.298969</td>\n    </tr>\n    <tr>\n      <th>6</th>\n      <td>surf</td>\n      <td>2018-07</td>\n      <td>449.983471</td>\n    </tr>\n    <tr>\n      <th>7</th>\n      <td>surf</td>\n      <td>2018-08</td>\n      <td>410.111111</td>\n    </tr>\n    <tr>\n      <th>8</th>\n      <td>surf</td>\n      <td>2018-09</td>\n      <td>414.226804</td>\n    </tr>\n    <tr>\n      <th>9</th>\n      <td>surf</td>\n      <td>2018-10</td>\n      <td>429.729958</td>\n    </tr>\n    <tr>\n      <th>10</th>\n      <td>surf</td>\n      <td>2018-11</td>\n      <td>423.325088</td>\n    </tr>\n    <tr>\n      <th>11</th>\n      <td>surf</td>\n      <td>2018-12</td>\n      <td>473.836478</td>\n    </tr>\n    <tr>\n      <th>12</th>\n      <td>ultimate</td>\n      <td>2018-01</td>\n      <td>193.500000</td>\n    </tr>\n    <tr>\n      <th>13</th>\n      <td>ultimate</td>\n      <td>2018-02</td>\n      <td>403.142857</td>\n    </tr>\n    <tr>\n      <th>14</th>\n      <td>ultimate</td>\n      <td>2018-03</td>\n      <td>304.250000</td>\n    </tr>\n    <tr>\n      <th>15</th>\n      <td>ultimate</td>\n      <td>2018-04</td>\n      <td>336.857143</td>\n    </tr>\n    <tr>\n      <th>16</th>\n      <td>ultimate</td>\n      <td>2018-05</td>\n      <td>406.241379</td>\n    </tr>\n    <tr>\n      <th>17</th>\n      <td>ultimate</td>\n      <td>2018-06</td>\n      <td>370.957447</td>\n    </tr>\n    <tr>\n      <th>18</th>\n      <td>ultimate</td>\n      <td>2018-07</td>\n      <td>427.067797</td>\n    </tr>\n    <tr>\n      <th>19</th>\n      <td>ultimate</td>\n      <td>2018-08</td>\n      <td>421.436620</td>\n    </tr>\n    <tr>\n      <th>20</th>\n      <td>ultimate</td>\n      <td>2018-09</td>\n      <td>437.511628</td>\n    </tr>\n    <tr>\n      <th>21</th>\n      <td>ultimate</td>\n      <td>2018-10</td>\n      <td>450.735849</td>\n    </tr>\n    <tr>\n      <th>22</th>\n      <td>ultimate</td>\n      <td>2018-11</td>\n      <td>445.196850</td>\n    </tr>\n    <tr>\n      <th>23</th>\n      <td>ultimate</td>\n      <td>2018-12</td>\n      <td>459.099338</td>\n    </tr>\n  </tbody>\n</table>\n</div>",
      "text/plain": "        plan year_month    duration\n0       surf    2018-01  203.000000\n1       surf    2018-02  297.000000\n2       surf    2018-03  330.000000\n3       surf    2018-04  351.540000\n4       surf    2018-05  399.584416\n5       surf    2018-06  431.298969\n6       surf    2018-07  449.983471\n7       surf    2018-08  410.111111\n8       surf    2018-09  414.226804\n9       surf    2018-10  429.729958\n10      surf    2018-11  423.325088\n11      surf    2018-12  473.836478\n12  ultimate    2018-01  193.500000\n13  ultimate    2018-02  403.142857\n14  ultimate    2018-03  304.250000\n15  ultimate    2018-04  336.857143\n16  ultimate    2018-05  406.241379\n17  ultimate    2018-06  370.957447\n18  ultimate    2018-07  427.067797\n19  ultimate    2018-08  421.436620\n20  ultimate    2018-09  437.511628\n21  ultimate    2018-10  450.735849\n22  ultimate    2018-11  445.196850\n23  ultimate    2018-12  459.099338"
     },
     "execution_count": 54,
     "metadata": {},
     "output_type": "execute_result"
    }
   ]
  },
  {
   "metadata": {
    "trusted": false
   },
   "cell_type": "code",
   "source": "plt.figure(figsize=(14, 8))\n\nfor plan in calls_df['plan'].unique():\n    subset = calls_df[calls_df['plan'] == plan]\n    plt.bar(subset['year_month'], subset['duration'], label=plan, alpha=0.7)\n    \nplt.xlabel('Year-Month')\nplt.ylabel('Average Duration')\nplt.title('Average Call Duration per Plan per Month')\nplt.xticks(rotation=45)\nplt.legend(title='Plan')\nplt.tight_layout()\n    \n    ",
   "execution_count": 55,
   "outputs": [
    {
     "data": {
      "image/png": "[encoded data removed]",
      "text/plain": "<Figure size 1400x800 with 1 Axes>"
     },
     "metadata": {},
     "output_type": "display_data"
    }
   ]
  },
  {
   "metadata": {},
   "cell_type": "markdown",
   "source": "<div class=\"alert alert-danger\" style=\"border-radius: 15px; box-shadow: 4px 4px 4px; border: 1px solid \">\n<b> Reviewer's comment 2</b>\n    \nThe cell above did not work. \n</div>\n<div class=\"alert alert-success\" style=\"border-radius: 15px; box-shadow: 4px 4px 4px; border: 1px solid \">\n<h2> Reviewer's comment 3</h2>\n    \nVery good.     \n</div>"
  },
  {
   "metadata": {},
   "cell_type": "markdown",
   "source": "<div class=\"alert alert-info\" style=\"border-radius: 15px; box-shadow: 4px 4px 4px; border: 1px solid \">\n<b> Keith's comment<b/>\n    \nFixed!\n<div/>"
  },
  {
   "metadata": {
    "trusted": false
   },
   "cell_type": "code",
   "source": "# Compare the number of minutes users of each plan require each month. Plot a histogram.\nfor plan in merged_plan['plan'].unique():\n    subset = merged_plan[merged_plan['plan'] == plan]\n    plt.hist(subset['duration'], bins=10, alpha=0.5, label=plan)\n    \nplt.xlabel('Duration')\nplt.ylabel('Number of Calls')\nplt.title('Distribution of Call Duration per Plan per Month')\nplt.legend(title='Plan')\nplt.tight_layout()\n",
   "execution_count": 56,
   "outputs": [
    {
     "data": {
      "image/png": "[encoded data removed]",
      "text/plain": "<Figure size 640x480 with 1 Axes>"
     },
     "metadata": {},
     "output_type": "display_data"
    }
   ]
  },
  {
   "metadata": {},
   "cell_type": "markdown",
   "source": "<div class=\"alert alert-warning\" style=\"border-radius: 15px; box-shadow: 4px 4px 4px; border: 1px solid \">\n<b> Reviewer's comment </b>\n    \nAxes labels such as `Frequency` or `Count` may seem unclear to a reader. \n    \n</div>"
  },
  {
   "metadata": {},
   "cell_type": "markdown",
   "source": "<div class=\"alert alert-info\" style=\"border-radius: 15px; box-shadow: 4px 4px 4px; border: 1px solid \">\n<b> Keith's comment<b/>\n    \nI changed the y-label over to the \"Number of Calls\". To show the number of calls taken within the given duration times across the x-axis.\n<div/>"
  },
  {
   "metadata": {},
   "cell_type": "markdown",
   "source": "<div class=\"alert alert-success\" style=\"border-radius: 15px; box-shadow: 4px 4px 4px; border: 1px solid \">\n<h2> Reviewer's comment 2</h2>\n    \nVery good! \n    \n</div>"
  },
  {
   "metadata": {},
   "cell_type": "markdown",
   "source": "[Calculate the mean and the variable of the call duration to reason on whether users on the different plans have different behaviours for their calls.]"
  },
  {
   "metadata": {
    "trusted": false
   },
   "cell_type": "code",
   "source": "# Calculate the mean and the variance of the monthly call duration\nmo_calls_df = merged_plan.groupby(['plan', 'year_month'])['duration'].agg(['mean', 'var', 'std']).reset_index()\nmo_calls_df",
   "execution_count": 57,
   "outputs": [
    {
     "data": {
      "text/html": "<div>\n<style scoped>\n    .dataframe tbody tr th:only-of-type {\n        vertical-align: middle;\n    }\n\n    .dataframe tbody tr th {\n        vertical-align: top;\n    }\n\n    .dataframe thead th {\n        text-align: right;\n    }\n</style>\n<table border=\"1\" class=\"dataframe\">\n  <thead>\n    <tr style=\"text-align: right;\">\n      <th></th>\n      <th>plan</th>\n      <th>year_month</th>\n      <th>mean</th>\n      <th>var</th>\n      <th>std</th>\n    </tr>\n  </thead>\n  <tbody>\n    <tr>\n      <th>0</th>\n      <td>surf</td>\n      <td>2018-01</td>\n      <td>203.000000</td>\n      <td>15842.000000</td>\n      <td>125.865007</td>\n    </tr>\n    <tr>\n      <th>1</th>\n      <td>surf</td>\n      <td>2018-02</td>\n      <td>297.000000</td>\n      <td>52226.500000</td>\n      <td>228.531179</td>\n    </tr>\n    <tr>\n      <th>2</th>\n      <td>surf</td>\n      <td>2018-03</td>\n      <td>330.000000</td>\n      <td>35809.363636</td>\n      <td>189.233622</td>\n    </tr>\n    <tr>\n      <th>3</th>\n      <td>surf</td>\n      <td>2018-04</td>\n      <td>351.540000</td>\n      <td>50866.743265</td>\n      <td>225.536567</td>\n    </tr>\n    <tr>\n      <th>4</th>\n      <td>surf</td>\n      <td>2018-05</td>\n      <td>399.584416</td>\n      <td>59754.219754</td>\n      <td>244.446763</td>\n    </tr>\n    <tr>\n      <th>5</th>\n      <td>surf</td>\n      <td>2018-06</td>\n      <td>431.298969</td>\n      <td>45592.628436</td>\n      <td>213.524304</td>\n    </tr>\n    <tr>\n      <th>6</th>\n      <td>surf</td>\n      <td>2018-07</td>\n      <td>449.983471</td>\n      <td>61005.099725</td>\n      <td>246.992105</td>\n    </tr>\n    <tr>\n      <th>7</th>\n      <td>surf</td>\n      <td>2018-08</td>\n      <td>410.111111</td>\n      <td>54344.645963</td>\n      <td>233.119381</td>\n    </tr>\n    <tr>\n      <th>8</th>\n      <td>surf</td>\n      <td>2018-09</td>\n      <td>414.226804</td>\n      <td>46595.958656</td>\n      <td>215.860971</td>\n    </tr>\n    <tr>\n      <th>9</th>\n      <td>surf</td>\n      <td>2018-10</td>\n      <td>429.729958</td>\n      <td>52278.664056</td>\n      <td>228.645280</td>\n    </tr>\n    <tr>\n      <th>10</th>\n      <td>surf</td>\n      <td>2018-11</td>\n      <td>423.325088</td>\n      <td>51607.021602</td>\n      <td>227.171789</td>\n    </tr>\n    <tr>\n      <th>11</th>\n      <td>surf</td>\n      <td>2018-12</td>\n      <td>473.836478</td>\n      <td>63629.518918</td>\n      <td>252.248923</td>\n    </tr>\n    <tr>\n      <th>12</th>\n      <td>ultimate</td>\n      <td>2018-01</td>\n      <td>193.500000</td>\n      <td>16572.333333</td>\n      <td>128.733575</td>\n    </tr>\n    <tr>\n      <th>13</th>\n      <td>ultimate</td>\n      <td>2018-02</td>\n      <td>403.142857</td>\n      <td>76889.476190</td>\n      <td>277.289517</td>\n    </tr>\n    <tr>\n      <th>14</th>\n      <td>ultimate</td>\n      <td>2018-03</td>\n      <td>304.250000</td>\n      <td>61984.931818</td>\n      <td>248.967732</td>\n    </tr>\n    <tr>\n      <th>15</th>\n      <td>ultimate</td>\n      <td>2018-04</td>\n      <td>336.857143</td>\n      <td>34888.928571</td>\n      <td>186.785783</td>\n    </tr>\n    <tr>\n      <th>16</th>\n      <td>ultimate</td>\n      <td>2018-05</td>\n      <td>406.241379</td>\n      <td>43841.046798</td>\n      <td>209.382537</td>\n    </tr>\n    <tr>\n      <th>17</th>\n      <td>ultimate</td>\n      <td>2018-06</td>\n      <td>370.957447</td>\n      <td>42503.563367</td>\n      <td>206.163924</td>\n    </tr>\n    <tr>\n      <th>18</th>\n      <td>ultimate</td>\n      <td>2018-07</td>\n      <td>427.067797</td>\n      <td>72563.374635</td>\n      <td>269.375898</td>\n    </tr>\n    <tr>\n      <th>19</th>\n      <td>ultimate</td>\n      <td>2018-08</td>\n      <td>421.436620</td>\n      <td>53645.506640</td>\n      <td>231.614997</td>\n    </tr>\n    <tr>\n      <th>20</th>\n      <td>ultimate</td>\n      <td>2018-09</td>\n      <td>437.511628</td>\n      <td>57070.464569</td>\n      <td>238.894254</td>\n    </tr>\n    <tr>\n      <th>21</th>\n      <td>ultimate</td>\n      <td>2018-10</td>\n      <td>450.735849</td>\n      <td>54261.910512</td>\n      <td>232.941861</td>\n    </tr>\n    <tr>\n      <th>22</th>\n      <td>ultimate</td>\n      <td>2018-11</td>\n      <td>445.196850</td>\n      <td>60593.222847</td>\n      <td>246.156907</td>\n    </tr>\n    <tr>\n      <th>23</th>\n      <td>ultimate</td>\n      <td>2018-12</td>\n      <td>459.099338</td>\n      <td>62503.783400</td>\n      <td>250.007567</td>\n    </tr>\n  </tbody>\n</table>\n</div>",
      "text/plain": "        plan year_month        mean           var         std\n0       surf    2018-01  203.000000  15842.000000  125.865007\n1       surf    2018-02  297.000000  52226.500000  228.531179\n2       surf    2018-03  330.000000  35809.363636  189.233622\n3       surf    2018-04  351.540000  50866.743265  225.536567\n4       surf    2018-05  399.584416  59754.219754  244.446763\n5       surf    2018-06  431.298969  45592.628436  213.524304\n6       surf    2018-07  449.983471  61005.099725  246.992105\n7       surf    2018-08  410.111111  54344.645963  233.119381\n8       surf    2018-09  414.226804  46595.958656  215.860971\n9       surf    2018-10  429.729958  52278.664056  228.645280\n10      surf    2018-11  423.325088  51607.021602  227.171789\n11      surf    2018-12  473.836478  63629.518918  252.248923\n12  ultimate    2018-01  193.500000  16572.333333  128.733575\n13  ultimate    2018-02  403.142857  76889.476190  277.289517\n14  ultimate    2018-03  304.250000  61984.931818  248.967732\n15  ultimate    2018-04  336.857143  34888.928571  186.785783\n16  ultimate    2018-05  406.241379  43841.046798  209.382537\n17  ultimate    2018-06  370.957447  42503.563367  206.163924\n18  ultimate    2018-07  427.067797  72563.374635  269.375898\n19  ultimate    2018-08  421.436620  53645.506640  231.614997\n20  ultimate    2018-09  437.511628  57070.464569  238.894254\n21  ultimate    2018-10  450.735849  54261.910512  232.941861\n22  ultimate    2018-11  445.196850  60593.222847  246.156907\n23  ultimate    2018-12  459.099338  62503.783400  250.007567"
     },
     "execution_count": 57,
     "metadata": {},
     "output_type": "execute_result"
    }
   ]
  },
  {
   "metadata": {
    "trusted": false
   },
   "cell_type": "code",
   "source": "mean_var_calls = merged_plan.groupby('plan')['duration'].agg(['mean', 'var', 'std']).reset_index()\nmean_var_calls",
   "execution_count": 58,
   "outputs": [
    {
     "data": {
      "text/html": "<div>\n<style scoped>\n    .dataframe tbody tr th:only-of-type {\n        vertical-align: middle;\n    }\n\n    .dataframe tbody tr th {\n        vertical-align: top;\n    }\n\n    .dataframe thead th {\n        text-align: right;\n    }\n</style>\n<table border=\"1\" class=\"dataframe\">\n  <thead>\n    <tr style=\"text-align: right;\">\n      <th></th>\n      <th>plan</th>\n      <th>mean</th>\n      <th>var</th>\n      <th>std</th>\n    </tr>\n  </thead>\n  <tbody>\n    <tr>\n      <th>0</th>\n      <td>surf</td>\n      <td>428.749523</td>\n      <td>54968.279461</td>\n      <td>234.453150</td>\n    </tr>\n    <tr>\n      <th>1</th>\n      <td>ultimate</td>\n      <td>430.450000</td>\n      <td>57844.464812</td>\n      <td>240.508762</td>\n    </tr>\n  </tbody>\n</table>\n</div>",
      "text/plain": "       plan        mean           var         std\n0      surf  428.749523  54968.279461  234.453150\n1  ultimate  430.450000  57844.464812  240.508762"
     },
     "execution_count": 58,
     "metadata": {},
     "output_type": "execute_result"
    }
   ]
  },
  {
   "metadata": {},
   "cell_type": "markdown",
   "source": "<div class=\"alert alert-success\" style=\"border-radius: 15px; box-shadow: 4px 4px 4px; border: 1px solid \">\n<h2> Reviewer's comment 2</h2>\n    \nCorrect!     \n</div>"
  },
  {
   "metadata": {
    "trusted": false
   },
   "cell_type": "code",
   "source": "# Plot a boxplot to visualize the distribution of the monthly call duration\nplt.figure(figsize=(14, 8))\n\nsns.boxplot(x='plan', y='duration', data=merged_plan)\n\nplt.xlabel('Plan')\nplt.ylabel('Call Duration')\nplt.title('Distribution of Monthly Call Duration by Plan')\nplt.xticks(rotation=45)\nplt.legend(title='Plan')\nplt.tight_layout()\n",
   "execution_count": 59,
   "outputs": [
    {
     "name": "stderr",
     "output_type": "stream",
     "text": "No handles with labels found to put in legend.\n"
    },
    {
     "data": {
      "image/png": "[encoded data removed]",
      "text/plain": "<Figure size 1400x800 with 1 Axes>"
     },
     "metadata": {},
     "output_type": "display_data"
    }
   ]
  },
  {
   "metadata": {},
   "cell_type": "markdown",
   "source": "[Formulate conclusions on how the users behave in terms of calling. Is their behaviour different between the plans?]"
  },
  {
   "metadata": {},
   "cell_type": "markdown",
   "source": "<div class=\"alert alert-info\" style=\"border-radius: 15px; box-shadow: 4px 4px 4px; border: 1px solid \">\n<b> Keith's comment<b/>\n    \nI looked at mean, standard deviation and variance in both plans and the month by month of each plan. Looking at it overall I can see that the average minutes on a call are VERY similar and the overall variance and standard deviation is similar as well. \n\nCallers tend to average about the same amount of time on calls regardless of the plan they're on... Looking at the box plot that tends to be around 400 minutes, but looking at the actual statistics the mean is around 430.\n    \n<div/>"
  },
  {
   "metadata": {},
   "cell_type": "markdown",
   "source": "<div class=\"alert alert-success\" style=\"border-radius: 15px; box-shadow: 4px 4px 4px; border: 1px solid \">\n<h2> Reviewer's comment 2</h2>\n    \nExactly! The averages are indeed quite similar. We can also notice that Surf users try to stay within their limits. \n    \n</div>"
  },
  {
   "metadata": {},
   "cell_type": "markdown",
   "source": "<div class=\"alert alert-danger\" style=\"border-radius: 15px; box-shadow: 4px 4px 4px; border: 1px solid \">\n<b> Reviewer's comment</b>\n    \n**For the duration, messages, internet, and revenue analysis sections**, please try to: \n    \n    \n- Take the `merged_df` dataframe and plot histograms without any grouping (neither by user nor by month). We don't need to group data by anything because the idea is to plot a distribution that includes each call's duration, message and internet session. In other words, for the duration section, we will have two histograms, one per plan, that will show us minutes distribution. For this pupose, just take column with the number minutes and display histograms. \n    \n    \n    \n- Please try to display the statistics (**mean, var, and std**) for both plans separately. In other words, we have to display the average duration for surf and ultimate users (two values), the average number of messages for surf and ultimate users (two values), and the average number of GB for surf and ultimate users (two values). We have to do the same with the variance and standars deviation. Statistics should be calculated without grouping data as well, since grouping reduces the variance. We don't need to calculate mean of mean values. Instead, we need to calculate mean of the whole data array. \n\n\n\n- Please add a conclusion and try to describe users' behavior on each plan. \n</div>"
  },
  {
   "metadata": {},
   "cell_type": "markdown",
   "source": " "
  },
  {
   "metadata": {},
   "cell_type": "markdown",
   "source": "### Messages"
  },
  {
   "metadata": {
    "trusted": false
   },
   "cell_type": "code",
   "source": "# Compare the number of messages users of each plan tend to send each month\nmessages_df = merged_plan.groupby(['plan', 'year_month'])['num_messages'].mean().reset_index()\nmessages_df",
   "execution_count": 60,
   "outputs": [
    {
     "data": {
      "text/html": "<div>\n<style scoped>\n    .dataframe tbody tr th:only-of-type {\n        vertical-align: middle;\n    }\n\n    .dataframe tbody tr th {\n        vertical-align: top;\n    }\n\n    .dataframe thead th {\n        text-align: right;\n    }\n</style>\n<table border=\"1\" class=\"dataframe\">\n  <thead>\n    <tr style=\"text-align: right;\">\n      <th></th>\n      <th>plan</th>\n      <th>year_month</th>\n      <th>num_messages</th>\n    </tr>\n  </thead>\n  <tbody>\n    <tr>\n      <th>0</th>\n      <td>surf</td>\n      <td>2018-01</td>\n      <td>10.500000</td>\n    </tr>\n    <tr>\n      <th>1</th>\n      <td>surf</td>\n      <td>2018-02</td>\n      <td>12.000000</td>\n    </tr>\n    <tr>\n      <th>2</th>\n      <td>surf</td>\n      <td>2018-03</td>\n      <td>15.260870</td>\n    </tr>\n    <tr>\n      <th>3</th>\n      <td>surf</td>\n      <td>2018-04</td>\n      <td>17.400000</td>\n    </tr>\n    <tr>\n      <th>4</th>\n      <td>surf</td>\n      <td>2018-05</td>\n      <td>24.012987</td>\n    </tr>\n    <tr>\n      <th>5</th>\n      <td>surf</td>\n      <td>2018-06</td>\n      <td>25.298969</td>\n    </tr>\n    <tr>\n      <th>6</th>\n      <td>surf</td>\n      <td>2018-07</td>\n      <td>27.033058</td>\n    </tr>\n    <tr>\n      <th>7</th>\n      <td>surf</td>\n      <td>2018-08</td>\n      <td>28.777778</td>\n    </tr>\n    <tr>\n      <th>8</th>\n      <td>surf</td>\n      <td>2018-09</td>\n      <td>30.762887</td>\n    </tr>\n    <tr>\n      <th>9</th>\n      <td>surf</td>\n      <td>2018-10</td>\n      <td>33.839662</td>\n    </tr>\n    <tr>\n      <th>10</th>\n      <td>surf</td>\n      <td>2018-11</td>\n      <td>32.385159</td>\n    </tr>\n    <tr>\n      <th>11</th>\n      <td>surf</td>\n      <td>2018-12</td>\n      <td>38.600629</td>\n    </tr>\n    <tr>\n      <th>12</th>\n      <td>ultimate</td>\n      <td>2018-01</td>\n      <td>15.500000</td>\n    </tr>\n    <tr>\n      <th>13</th>\n      <td>ultimate</td>\n      <td>2018-02</td>\n      <td>21.571429</td>\n    </tr>\n    <tr>\n      <th>14</th>\n      <td>ultimate</td>\n      <td>2018-03</td>\n      <td>20.250000</td>\n    </tr>\n    <tr>\n      <th>15</th>\n      <td>ultimate</td>\n      <td>2018-04</td>\n      <td>22.047619</td>\n    </tr>\n    <tr>\n      <th>16</th>\n      <td>ultimate</td>\n      <td>2018-05</td>\n      <td>32.103448</td>\n    </tr>\n    <tr>\n      <th>17</th>\n      <td>ultimate</td>\n      <td>2018-06</td>\n      <td>29.340426</td>\n    </tr>\n    <tr>\n      <th>18</th>\n      <td>ultimate</td>\n      <td>2018-07</td>\n      <td>32.830508</td>\n    </tr>\n    <tr>\n      <th>19</th>\n      <td>ultimate</td>\n      <td>2018-08</td>\n      <td>38.478873</td>\n    </tr>\n    <tr>\n      <th>20</th>\n      <td>ultimate</td>\n      <td>2018-09</td>\n      <td>37.895349</td>\n    </tr>\n    <tr>\n      <th>21</th>\n      <td>ultimate</td>\n      <td>2018-10</td>\n      <td>39.443396</td>\n    </tr>\n    <tr>\n      <th>22</th>\n      <td>ultimate</td>\n      <td>2018-11</td>\n      <td>38.606299</td>\n    </tr>\n    <tr>\n      <th>23</th>\n      <td>ultimate</td>\n      <td>2018-12</td>\n      <td>45.006623</td>\n    </tr>\n  </tbody>\n</table>\n</div>",
      "text/plain": "        plan year_month  num_messages\n0       surf    2018-01     10.500000\n1       surf    2018-02     12.000000\n2       surf    2018-03     15.260870\n3       surf    2018-04     17.400000\n4       surf    2018-05     24.012987\n5       surf    2018-06     25.298969\n6       surf    2018-07     27.033058\n7       surf    2018-08     28.777778\n8       surf    2018-09     30.762887\n9       surf    2018-10     33.839662\n10      surf    2018-11     32.385159\n11      surf    2018-12     38.600629\n12  ultimate    2018-01     15.500000\n13  ultimate    2018-02     21.571429\n14  ultimate    2018-03     20.250000\n15  ultimate    2018-04     22.047619\n16  ultimate    2018-05     32.103448\n17  ultimate    2018-06     29.340426\n18  ultimate    2018-07     32.830508\n19  ultimate    2018-08     38.478873\n20  ultimate    2018-09     37.895349\n21  ultimate    2018-10     39.443396\n22  ultimate    2018-11     38.606299\n23  ultimate    2018-12     45.006623"
     },
     "execution_count": 60,
     "metadata": {},
     "output_type": "execute_result"
    }
   ]
  },
  {
   "metadata": {
    "trusted": false
   },
   "cell_type": "code",
   "source": "plt.figure(figsize=(14,8))\n\nfor plan in messages_df['plan'].unique():\n    subset = messages_df[messages_df['plan'] == plan]\n    plt.bar(subset['year_month'], subset['num_messages'], label=plan, alpha=0.7)\n    \nplt.xlabel('Year-Month')\nplt.ylabel('Average Number of Messages')\nplt.title('Average Number of Messages per Plan per Month')\nplt.xticks(rotation=45)\nplt.legend(title='Plan')\nplt.tight_layout()",
   "execution_count": 61,
   "outputs": [
    {
     "data": {
      "image/png": "[encoded data removed]",
      "text/plain": "<Figure size 1400x800 with 1 Axes>"
     },
     "metadata": {},
     "output_type": "display_data"
    }
   ]
  },
  {
   "metadata": {
    "trusted": false
   },
   "cell_type": "code",
   "source": "for plan in merged_plan['plan'].unique():\n    subset = merged_plan[merged_plan['plan'] == plan]\n    plt.hist(subset['num_messages'], bins=10, alpha=0.5, label=plan)\n    \nplt.xlabel('Messages Sent')\nplt.ylabel('Number of Users')\nplt.title('Distribution of Messages per Plan per Month')\nplt.legend(title='Plan')\nplt.tight_layout()",
   "execution_count": 62,
   "outputs": [
    {
     "data": {
      "image/png": "[encoded data removed]",
      "text/plain": "<Figure size 640x480 with 1 Axes>"
     },
     "metadata": {},
     "output_type": "display_data"
    }
   ]
  },
  {
   "metadata": {},
   "cell_type": "markdown",
   "source": "<div class=\"alert alert-success\" style=\"border-radius: 15px; box-shadow: 4px 4px 4px; border: 1px solid \">\n<h2> Reviewer's comment 2</h2>\n    \nBy the way, our dataframe allows us to plot 2 histograms on one graph in grouping:\n\n</div>\n"
  },
  {
   "metadata": {
    "trusted": false
   },
   "cell_type": "code",
   "source": "# Reviewer's code 2\n\nplt.style.use('ggplot') # Add style. You can put it in the very first cell, after plt is defined.\n\nmerged_df.groupby('plan')['num_messages'].plot.hist(alpha=0.5, legend=True, bins=25, figsize=(10,8))\n\nplt.legend(['Surf', 'Ultimate'])\nplt.title('Title')\nplt.xlabel('x')\nplt.ylabel('y')\n\nplt.show()",
   "execution_count": 63,
   "outputs": [
    {
     "data": {
      "image/png": "[encoded data removed]",
      "text/plain": "<Figure size 1000x800 with 1 Axes>"
     },
     "metadata": {},
     "output_type": "display_data"
    }
   ]
  },
  {
   "metadata": {},
   "cell_type": "markdown",
   "source": "<div class=\"alert alert-success\" style=\"border-radius: 15px; box-shadow: 4px 4px 4px; border: 1px solid \">\n<h2> Reviewer's comment 2</h2>\n    \nLooks good, does it not? :) \n    \n</div>\n"
  },
  {
   "metadata": {},
   "cell_type": "markdown",
   "source": "<div class=\"alert alert-info\" style=\"border-radius: 15px; box-shadow: 4px 4px 4px; border: 1px solid \">\n<b> Keith's comment<b/>\n    \nLooks great! I'll have to work on getting that good!\n<div/>"
  },
  {
   "metadata": {},
   "cell_type": "markdown",
   "source": "<div class=\"alert alert-success\" style=\"border-radius: 15px; box-shadow: 4px 4px 4px; border: 1px solid \">\n<h2> Reviewer's comment 3</h2>\n    \nGlad to help :)     \n</div>"
  },
  {
   "metadata": {
    "trusted": false
   },
   "cell_type": "code",
   "source": "plt.figure(figsize=(14, 8))\n\nsns.boxplot(x='plan', y='num_messages', data=merged_df)\n\nplt.xlabel('Plan')\nplt.ylabel('Call Duration')\nplt.title('Distribution of Monthly Call Duration by Plan')\nplt.xticks(rotation=45)\nplt.legend(title='Plan')\nplt.tight_layout()",
   "execution_count": 64,
   "outputs": [
    {
     "name": "stderr",
     "output_type": "stream",
     "text": "No handles with labels found to put in legend.\n"
    },
    {
     "data": {
      "image/png": "[encoded data removed]",
      "text/plain": "<Figure size 1400x800 with 1 Axes>"
     },
     "metadata": {},
     "output_type": "display_data"
    }
   ]
  },
  {
   "metadata": {
    "trusted": false
   },
   "cell_type": "code",
   "source": "mean_var_message = merged_plan.groupby('plan')['num_messages'].agg(['mean', 'var', 'std']).reset_index()\nmean_var_message",
   "execution_count": 65,
   "outputs": [
    {
     "data": {
      "text/html": "<div>\n<style scoped>\n    .dataframe tbody tr th:only-of-type {\n        vertical-align: middle;\n    }\n\n    .dataframe tbody tr th {\n        vertical-align: top;\n    }\n\n    .dataframe thead th {\n        text-align: right;\n    }\n</style>\n<table border=\"1\" class=\"dataframe\">\n  <thead>\n    <tr style=\"text-align: right;\">\n      <th></th>\n      <th>plan</th>\n      <th>mean</th>\n      <th>var</th>\n      <th>std</th>\n    </tr>\n  </thead>\n  <tbody>\n    <tr>\n      <th>0</th>\n      <td>surf</td>\n      <td>31.159568</td>\n      <td>1126.724522</td>\n      <td>33.566717</td>\n    </tr>\n    <tr>\n      <th>1</th>\n      <td>ultimate</td>\n      <td>37.551389</td>\n      <td>1208.756744</td>\n      <td>34.767179</td>\n    </tr>\n  </tbody>\n</table>\n</div>",
      "text/plain": "       plan       mean          var        std\n0      surf  31.159568  1126.724522  33.566717\n1  ultimate  37.551389  1208.756744  34.767179"
     },
     "execution_count": 65,
     "metadata": {},
     "output_type": "execute_result"
    }
   ]
  },
  {
   "metadata": {},
   "cell_type": "markdown",
   "source": "<div class=\"alert alert-success\" style=\"border-radius: 15px; box-shadow: 4px 4px 4px; border: 1px solid \">\n<h2> Reviewer's comment 2</h2>\n    \nCorrect.     \n</div>\n"
  },
  {
   "metadata": {},
   "cell_type": "markdown",
   "source": "[Formulate conclusions on how the users behave in terms of messaging. Is their behaviour different between the plans?]"
  },
  {
   "metadata": {},
   "cell_type": "markdown",
   "source": "<div class=\"alert alert-info\" style=\"border-radius: 15px; box-shadow: 4px 4px 4px; border: 1px solid \">\n<b> Keith's comment<b/>\n    \nUsers on the ultimate plan tend to send a few more messages each month. Nothing too drastic, the user would be much better off paying for the ultimate plan upfront. With only 50 allowed messages per month on the surf plan before being charged per text, that limit comes a lot quicker than the 1000 allowed for the ultimate plan.\n    \n<div/>"
  },
  {
   "metadata": {},
   "cell_type": "markdown",
   "source": " <div class=\"alert alert-danger\" style=\"border-radius: 15px; box-shadow: 4px 4px 4px; border: 1px solid \">\n<b> Reviewer's comment</b>\n    \nMy previous comment is relevant here as well, but I will not repeat it :) \n    \n</div>\n<div class=\"alert alert-success\" style=\"border-radius: 15px; box-shadow: 4px 4px 4px; border: 1px solid \">\n<h2> Reviewer's comment 2</h2>\n    \nGood job here.     \n</div>\n"
  },
  {
   "metadata": {},
   "cell_type": "markdown",
   "source": "### Internet"
  },
  {
   "metadata": {},
   "cell_type": "markdown",
   "source": " <div class=\"alert alert-danger\" style=\"border-radius: 15px; box-shadow: 4px 4px 4px; border: 1px solid \">\n<b> Reviewer's comment</b>\n    \nAnd here, as I have said before, we should not group data when we display histograms and calculate statistics.     \n</div>"
  },
  {
   "metadata": {
    "trusted": false
   },
   "cell_type": "code",
   "source": "# Compare the amount of internet traffic consumed by users per plan\ninternet_df = merged_plan.groupby(['plan', 'year_month'])['mb_used'].mean().reset_index()\ninternet_df\n",
   "execution_count": 66,
   "outputs": [
    {
     "data": {
      "text/html": "<div>\n<style scoped>\n    .dataframe tbody tr th:only-of-type {\n        vertical-align: middle;\n    }\n\n    .dataframe tbody tr th {\n        vertical-align: top;\n    }\n\n    .dataframe thead th {\n        text-align: right;\n    }\n</style>\n<table border=\"1\" class=\"dataframe\">\n  <thead>\n    <tr style=\"text-align: right;\">\n      <th></th>\n      <th>plan</th>\n      <th>year_month</th>\n      <th>mb_used</th>\n    </tr>\n  </thead>\n  <tbody>\n    <tr>\n      <th>0</th>\n      <td>surf</td>\n      <td>2018-01</td>\n      <td>4874.860000</td>\n    </tr>\n    <tr>\n      <th>1</th>\n      <td>surf</td>\n      <td>2018-02</td>\n      <td>12178.843333</td>\n    </tr>\n    <tr>\n      <th>2</th>\n      <td>surf</td>\n      <td>2018-03</td>\n      <td>13345.440000</td>\n    </tr>\n    <tr>\n      <th>3</th>\n      <td>surf</td>\n      <td>2018-04</td>\n      <td>11984.203000</td>\n    </tr>\n    <tr>\n      <th>4</th>\n      <td>surf</td>\n      <td>2018-05</td>\n      <td>13936.354935</td>\n    </tr>\n    <tr>\n      <th>5</th>\n      <td>surf</td>\n      <td>2018-06</td>\n      <td>15301.529175</td>\n    </tr>\n    <tr>\n      <th>6</th>\n      <td>surf</td>\n      <td>2018-07</td>\n      <td>16783.600579</td>\n    </tr>\n    <tr>\n      <th>7</th>\n      <td>surf</td>\n      <td>2018-08</td>\n      <td>16795.331358</td>\n    </tr>\n    <tr>\n      <th>8</th>\n      <td>surf</td>\n      <td>2018-09</td>\n      <td>16591.431289</td>\n    </tr>\n    <tr>\n      <th>9</th>\n      <td>surf</td>\n      <td>2018-10</td>\n      <td>17311.335063</td>\n    </tr>\n    <tr>\n      <th>10</th>\n      <td>surf</td>\n      <td>2018-11</td>\n      <td>16339.254417</td>\n    </tr>\n    <tr>\n      <th>11</th>\n      <td>surf</td>\n      <td>2018-12</td>\n      <td>18132.469371</td>\n    </tr>\n    <tr>\n      <th>12</th>\n      <td>ultimate</td>\n      <td>2018-01</td>\n      <td>6918.092500</td>\n    </tr>\n    <tr>\n      <th>13</th>\n      <td>ultimate</td>\n      <td>2018-02</td>\n      <td>17128.808571</td>\n    </tr>\n    <tr>\n      <th>14</th>\n      <td>ultimate</td>\n      <td>2018-03</td>\n      <td>18321.518333</td>\n    </tr>\n    <tr>\n      <th>15</th>\n      <td>ultimate</td>\n      <td>2018-04</td>\n      <td>16121.654762</td>\n    </tr>\n    <tr>\n      <th>16</th>\n      <td>ultimate</td>\n      <td>2018-05</td>\n      <td>16624.482414</td>\n    </tr>\n    <tr>\n      <th>17</th>\n      <td>ultimate</td>\n      <td>2018-06</td>\n      <td>15337.921064</td>\n    </tr>\n    <tr>\n      <th>18</th>\n      <td>ultimate</td>\n      <td>2018-07</td>\n      <td>16344.744407</td>\n    </tr>\n    <tr>\n      <th>19</th>\n      <td>ultimate</td>\n      <td>2018-08</td>\n      <td>17814.720141</td>\n    </tr>\n    <tr>\n      <th>20</th>\n      <td>ultimate</td>\n      <td>2018-09</td>\n      <td>16969.869535</td>\n    </tr>\n    <tr>\n      <th>21</th>\n      <td>ultimate</td>\n      <td>2018-10</td>\n      <td>17612.553396</td>\n    </tr>\n    <tr>\n      <th>22</th>\n      <td>ultimate</td>\n      <td>2018-11</td>\n      <td>17033.685354</td>\n    </tr>\n    <tr>\n      <th>23</th>\n      <td>ultimate</td>\n      <td>2018-12</td>\n      <td>18323.191854</td>\n    </tr>\n  </tbody>\n</table>\n</div>",
      "text/plain": "        plan year_month       mb_used\n0       surf    2018-01   4874.860000\n1       surf    2018-02  12178.843333\n2       surf    2018-03  13345.440000\n3       surf    2018-04  11984.203000\n4       surf    2018-05  13936.354935\n5       surf    2018-06  15301.529175\n6       surf    2018-07  16783.600579\n7       surf    2018-08  16795.331358\n8       surf    2018-09  16591.431289\n9       surf    2018-10  17311.335063\n10      surf    2018-11  16339.254417\n11      surf    2018-12  18132.469371\n12  ultimate    2018-01   6918.092500\n13  ultimate    2018-02  17128.808571\n14  ultimate    2018-03  18321.518333\n15  ultimate    2018-04  16121.654762\n16  ultimate    2018-05  16624.482414\n17  ultimate    2018-06  15337.921064\n18  ultimate    2018-07  16344.744407\n19  ultimate    2018-08  17814.720141\n20  ultimate    2018-09  16969.869535\n21  ultimate    2018-10  17612.553396\n22  ultimate    2018-11  17033.685354\n23  ultimate    2018-12  18323.191854"
     },
     "execution_count": 66,
     "metadata": {},
     "output_type": "execute_result"
    }
   ]
  },
  {
   "metadata": {
    "trusted": false
   },
   "cell_type": "code",
   "source": "plt.figure(figsize=(14,8))\n\nfor plan in internet_df['plan'].unique():\n    subset = internet_df[internet_df['plan'] == plan]\n    plt.bar(subset['year_month'], subset['mb_used'], label=plan, alpha=0.5)\n    \nplt.xlabel('Year-Month')\nplt.ylabel('Megabytes')\nplt.title('Average Number of Megabytes Used per Plan per Month')\nplt.xticks(rotation=45)\nplt.legend(title='Plan')\nplt.tight_layout()",
   "execution_count": 67,
   "outputs": [
    {
     "data": {
      "image/png": "[encoded data removed]",
      "text/plain": "<Figure size 1400x800 with 1 Axes>"
     },
     "metadata": {},
     "output_type": "display_data"
    }
   ]
  },
  {
   "metadata": {},
   "cell_type": "markdown",
   "source": "<div class=\"alert alert-danger\" style=\"border-radius: 15px; box-shadow: 4px 4px 4px; border: 1px solid \">\n<b> Reviewer's comment 2</b>\n    \nThis cell did not work as well. \n</div>\n<div class=\"alert alert-success\" style=\"border-radius: 15px; box-shadow: 4px 4px 4px; border: 1px solid \">\n<h2> Reviewer's comment 3</h2>\n    \nNow it works, great!     \n</div>"
  },
  {
   "metadata": {},
   "cell_type": "markdown",
   "source": "<div class=\"alert alert-info\" style=\"border-radius: 15px; box-shadow: 4px 4px 4px; border: 1px solid \">\n<b> Keith's comment<b/>\n    \nFixed!\n<div/>"
  },
  {
   "metadata": {
    "trusted": false
   },
   "cell_type": "code",
   "source": "for plan in merged_plan['plan'].unique():\n    subset = merged_plan[merged_plan['plan'] == plan]\n    plt.hist(subset['mb_used'], bins=10, alpha=0.5, label=plan)\n    \nplt.xlabel('Megabytes Used')\nplt.ylabel('Number of Users')\nplt.title('Distribution of Call Duration per Plan per Month')\nplt.legend(title='Plan')\nplt.tight_layout()",
   "execution_count": 68,
   "outputs": [
    {
     "data": {
      "image/png": "[encoded data removed]",
      "text/plain": "<Figure size 640x480 with 1 Axes>"
     },
     "metadata": {},
     "output_type": "display_data"
    }
   ]
  },
  {
   "metadata": {
    "trusted": false
   },
   "cell_type": "code",
   "source": "plt.figure(figsize=(14, 8))\n\nsns.boxplot(x='plan', y='mb_used', data=merged_df)\n\nplt.xlabel('Plan')\nplt.ylabel('Call Duration')\nplt.title('Distribution of Monthly Call Duration by Plan')\nplt.xticks(rotation=45)\nplt.legend(title='Plan')\nplt.tight_layout()",
   "execution_count": 69,
   "outputs": [
    {
     "name": "stderr",
     "output_type": "stream",
     "text": "No handles with labels found to put in legend.\n"
    },
    {
     "data": {
      "image/png": "[encoded data removed]",
      "text/plain": "<Figure size 1400x800 with 1 Axes>"
     },
     "metadata": {},
     "output_type": "display_data"
    }
   ]
  },
  {
   "metadata": {
    "trusted": false
   },
   "cell_type": "code",
   "source": "mean_var_data = merged_plan.groupby('plan')['mb_used'].agg(['mean', 'var', 'std']).reset_index()\nmean_var_data",
   "execution_count": 70,
   "outputs": [
    {
     "data": {
      "text/html": "<div>\n<style scoped>\n    .dataframe tbody tr th:only-of-type {\n        vertical-align: middle;\n    }\n\n    .dataframe tbody tr th {\n        vertical-align: top;\n    }\n\n    .dataframe thead th {\n        text-align: right;\n    }\n</style>\n<table border=\"1\" class=\"dataframe\">\n  <thead>\n    <tr style=\"text-align: right;\">\n      <th></th>\n      <th>plan</th>\n      <th>mean</th>\n      <th>var</th>\n      <th>std</th>\n    </tr>\n  </thead>\n  <tbody>\n    <tr>\n      <th>0</th>\n      <td>surf</td>\n      <td>16558.283490</td>\n      <td>6.421640e+07</td>\n      <td>8013.513327</td>\n    </tr>\n    <tr>\n      <th>1</th>\n      <td>ultimate</td>\n      <td>17214.699694</td>\n      <td>6.165229e+07</td>\n      <td>7851.897435</td>\n    </tr>\n  </tbody>\n</table>\n</div>",
      "text/plain": "       plan          mean           var          std\n0      surf  16558.283490  6.421640e+07  8013.513327\n1  ultimate  17214.699694  6.165229e+07  7851.897435"
     },
     "execution_count": 70,
     "metadata": {},
     "output_type": "execute_result"
    }
   ]
  },
  {
   "metadata": {},
   "cell_type": "markdown",
   "source": "<div class=\"alert alert-info\" style=\"border-radius: 15px; box-shadow: 4px 4px 4px; border: 1px solid \">\n<b> Keith's comment<b/>\n    \nUsers on the Ultimate \"typically\" tend to use more data each month, but only slightly. Once again in order to not take the chance of being charged for overages it will be ideal for the user to buy into the Ultimate Plan.\n    \n<div/>"
  },
  {
   "metadata": {},
   "cell_type": "markdown",
   "source": "[Formulate conclusions on how the users tend to consume the internet traffic? Is their behaviour different between the plans?]"
  },
  {
   "metadata": {},
   "cell_type": "markdown",
   "source": "<div class=\"alert alert-success\" style=\"border-radius: 15px; box-shadow: 4px 4px 4px; border: 1px solid \">\n<h2> Reviewer's comment 2</h2>\n    \nExcellent!     \n</div>\n"
  },
  {
   "metadata": {},
   "cell_type": "markdown",
   "source": " "
  },
  {
   "metadata": {},
   "cell_type": "markdown",
   "source": "## Revenue"
  },
  {
   "metadata": {},
   "cell_type": "markdown",
   "source": "[Likewise you have studied the user behaviour, statistically describe the revenue between the plans.]"
  },
  {
   "metadata": {
    "trusted": false
   },
   "cell_type": "code",
   "source": "merged_plan",
   "execution_count": 71,
   "outputs": [
    {
     "data": {
      "text/html": "<div>\n<style scoped>\n    .dataframe tbody tr th:only-of-type {\n        vertical-align: middle;\n    }\n\n    .dataframe tbody tr th {\n        vertical-align: top;\n    }\n\n    .dataframe thead th {\n        text-align: right;\n    }\n</style>\n<table border=\"1\" class=\"dataframe\">\n  <thead>\n    <tr style=\"text-align: right;\">\n      <th></th>\n      <th>user_id</th>\n      <th>year_month</th>\n      <th>duration</th>\n      <th>num_messages</th>\n      <th>mb_used</th>\n      <th>plan</th>\n      <th>messages_included</th>\n      <th>mb_per_month_included</th>\n      <th>minutes_included</th>\n      <th>usd_monthly_pay</th>\n      <th>usd_per_gb</th>\n      <th>usd_per_message</th>\n      <th>usd_per_minute</th>\n      <th>total_cost</th>\n    </tr>\n  </thead>\n  <tbody>\n    <tr>\n      <th>0</th>\n      <td>1000</td>\n      <td>2018-12</td>\n      <td>124.0</td>\n      <td>11.0</td>\n      <td>1901.47</td>\n      <td>ultimate</td>\n      <td>1000</td>\n      <td>30720</td>\n      <td>3000</td>\n      <td>70</td>\n      <td>7</td>\n      <td>0.01</td>\n      <td>0.01</td>\n      <td>70.00</td>\n    </tr>\n    <tr>\n      <th>1</th>\n      <td>1001</td>\n      <td>2018-08</td>\n      <td>182.0</td>\n      <td>30.0</td>\n      <td>6919.15</td>\n      <td>surf</td>\n      <td>50</td>\n      <td>15360</td>\n      <td>500</td>\n      <td>20</td>\n      <td>10</td>\n      <td>0.03</td>\n      <td>0.03</td>\n      <td>20.00</td>\n    </tr>\n    <tr>\n      <th>2</th>\n      <td>1001</td>\n      <td>2018-09</td>\n      <td>315.0</td>\n      <td>44.0</td>\n      <td>13314.82</td>\n      <td>surf</td>\n      <td>50</td>\n      <td>15360</td>\n      <td>500</td>\n      <td>20</td>\n      <td>10</td>\n      <td>0.03</td>\n      <td>0.03</td>\n      <td>20.00</td>\n    </tr>\n    <tr>\n      <th>3</th>\n      <td>1001</td>\n      <td>2018-10</td>\n      <td>393.0</td>\n      <td>53.0</td>\n      <td>22330.49</td>\n      <td>surf</td>\n      <td>50</td>\n      <td>15360</td>\n      <td>500</td>\n      <td>20</td>\n      <td>10</td>\n      <td>0.03</td>\n      <td>0.03</td>\n      <td>90.09</td>\n    </tr>\n    <tr>\n      <th>4</th>\n      <td>1001</td>\n      <td>2018-11</td>\n      <td>426.0</td>\n      <td>36.0</td>\n      <td>18504.30</td>\n      <td>surf</td>\n      <td>50</td>\n      <td>15360</td>\n      <td>500</td>\n      <td>20</td>\n      <td>10</td>\n      <td>0.03</td>\n      <td>0.03</td>\n      <td>60.00</td>\n    </tr>\n    <tr>\n      <th>...</th>\n      <td>...</td>\n      <td>...</td>\n      <td>...</td>\n      <td>...</td>\n      <td>...</td>\n      <td>...</td>\n      <td>...</td>\n      <td>...</td>\n      <td>...</td>\n      <td>...</td>\n      <td>...</td>\n      <td>...</td>\n      <td>...</td>\n      <td>...</td>\n    </tr>\n    <tr>\n      <th>2288</th>\n      <td>1349</td>\n      <td>2018-12</td>\n      <td>0.0</td>\n      <td>61.0</td>\n      <td>13039.91</td>\n      <td>surf</td>\n      <td>50</td>\n      <td>15360</td>\n      <td>500</td>\n      <td>20</td>\n      <td>10</td>\n      <td>0.03</td>\n      <td>0.03</td>\n      <td>20.33</td>\n    </tr>\n    <tr>\n      <th>2289</th>\n      <td>1361</td>\n      <td>2018-05</td>\n      <td>0.0</td>\n      <td>2.0</td>\n      <td>1519.69</td>\n      <td>surf</td>\n      <td>50</td>\n      <td>15360</td>\n      <td>500</td>\n      <td>20</td>\n      <td>10</td>\n      <td>0.03</td>\n      <td>0.03</td>\n      <td>20.00</td>\n    </tr>\n    <tr>\n      <th>2290</th>\n      <td>1482</td>\n      <td>2018-10</td>\n      <td>0.0</td>\n      <td>2.0</td>\n      <td>0.00</td>\n      <td>ultimate</td>\n      <td>1000</td>\n      <td>30720</td>\n      <td>3000</td>\n      <td>70</td>\n      <td>7</td>\n      <td>0.01</td>\n      <td>0.01</td>\n      <td>70.00</td>\n    </tr>\n    <tr>\n      <th>2291</th>\n      <td>1108</td>\n      <td>2018-12</td>\n      <td>0.0</td>\n      <td>0.0</td>\n      <td>233.17</td>\n      <td>ultimate</td>\n      <td>1000</td>\n      <td>30720</td>\n      <td>3000</td>\n      <td>70</td>\n      <td>7</td>\n      <td>0.01</td>\n      <td>0.01</td>\n      <td>70.00</td>\n    </tr>\n    <tr>\n      <th>2292</th>\n      <td>1311</td>\n      <td>2018-06</td>\n      <td>0.0</td>\n      <td>0.0</td>\n      <td>1498.83</td>\n      <td>ultimate</td>\n      <td>1000</td>\n      <td>30720</td>\n      <td>3000</td>\n      <td>70</td>\n      <td>7</td>\n      <td>0.01</td>\n      <td>0.01</td>\n      <td>70.00</td>\n    </tr>\n  </tbody>\n</table>\n<p>2293 rows × 14 columns</p>\n</div>",
      "text/plain": "     user_id year_month  duration  num_messages   mb_used      plan  \\\n0       1000    2018-12     124.0          11.0   1901.47  ultimate   \n1       1001    2018-08     182.0          30.0   6919.15      surf   \n2       1001    2018-09     315.0          44.0  13314.82      surf   \n3       1001    2018-10     393.0          53.0  22330.49      surf   \n4       1001    2018-11     426.0          36.0  18504.30      surf   \n...      ...        ...       ...           ...       ...       ...   \n2288    1349    2018-12       0.0          61.0  13039.91      surf   \n2289    1361    2018-05       0.0           2.0   1519.69      surf   \n2290    1482    2018-10       0.0           2.0      0.00  ultimate   \n2291    1108    2018-12       0.0           0.0    233.17  ultimate   \n2292    1311    2018-06       0.0           0.0   1498.83  ultimate   \n\n      messages_included  mb_per_month_included  minutes_included  \\\n0                  1000                  30720              3000   \n1                    50                  15360               500   \n2                    50                  15360               500   \n3                    50                  15360               500   \n4                    50                  15360               500   \n...                 ...                    ...               ...   \n2288                 50                  15360               500   \n2289                 50                  15360               500   \n2290               1000                  30720              3000   \n2291               1000                  30720              3000   \n2292               1000                  30720              3000   \n\n      usd_monthly_pay  usd_per_gb  usd_per_message  usd_per_minute  total_cost  \n0                  70           7             0.01            0.01       70.00  \n1                  20          10             0.03            0.03       20.00  \n2                  20          10             0.03            0.03       20.00  \n3                  20          10             0.03            0.03       90.09  \n4                  20          10             0.03            0.03       60.00  \n...               ...         ...              ...             ...         ...  \n2288               20          10             0.03            0.03       20.33  \n2289               20          10             0.03            0.03       20.00  \n2290               70           7             0.01            0.01       70.00  \n2291               70           7             0.01            0.01       70.00  \n2292               70           7             0.01            0.01       70.00  \n\n[2293 rows x 14 columns]"
     },
     "execution_count": 71,
     "metadata": {},
     "output_type": "execute_result"
    }
   ]
  },
  {
   "metadata": {
    "trusted": false
   },
   "cell_type": "code",
   "source": "avg_rev_month = merged_plan.groupby(['plan', 'year_month']).agg({'total_cost': ['mean', 'std']}).reset_index()\navg_rev_month",
   "execution_count": 72,
   "outputs": [
    {
     "data": {
      "text/html": "<div>\n<style scoped>\n    .dataframe tbody tr th:only-of-type {\n        vertical-align: middle;\n    }\n\n    .dataframe tbody tr th {\n        vertical-align: top;\n    }\n\n    .dataframe thead tr th {\n        text-align: left;\n    }\n</style>\n<table border=\"1\" class=\"dataframe\">\n  <thead>\n    <tr>\n      <th></th>\n      <th>plan</th>\n      <th>year_month</th>\n      <th colspan=\"2\" halign=\"left\">total_cost</th>\n    </tr>\n    <tr>\n      <th></th>\n      <th></th>\n      <th></th>\n      <th>mean</th>\n      <th>std</th>\n    </tr>\n  </thead>\n  <tbody>\n    <tr>\n      <th>0</th>\n      <td>surf</td>\n      <td>2018-01</td>\n      <td>20.000000</td>\n      <td>0.000000</td>\n    </tr>\n    <tr>\n      <th>1</th>\n      <td>surf</td>\n      <td>2018-02</td>\n      <td>34.396667</td>\n      <td>20.694833</td>\n    </tr>\n    <tr>\n      <th>2</th>\n      <td>surf</td>\n      <td>2018-03</td>\n      <td>45.941304</td>\n      <td>38.884747</td>\n    </tr>\n    <tr>\n      <th>3</th>\n      <td>surf</td>\n      <td>2018-04</td>\n      <td>40.710600</td>\n      <td>34.625979</td>\n    </tr>\n    <tr>\n      <th>4</th>\n      <td>surf</td>\n      <td>2018-05</td>\n      <td>47.628182</td>\n      <td>44.356962</td>\n    </tr>\n    <tr>\n      <th>5</th>\n      <td>surf</td>\n      <td>2018-06</td>\n      <td>49.276289</td>\n      <td>44.597243</td>\n    </tr>\n    <tr>\n      <th>6</th>\n      <td>surf</td>\n      <td>2018-07</td>\n      <td>62.674050</td>\n      <td>54.253004</td>\n    </tr>\n    <tr>\n      <th>7</th>\n      <td>surf</td>\n      <td>2018-08</td>\n      <td>63.931173</td>\n      <td>59.895700</td>\n    </tr>\n    <tr>\n      <th>8</th>\n      <td>surf</td>\n      <td>2018-09</td>\n      <td>58.271495</td>\n      <td>47.546240</td>\n    </tr>\n    <tr>\n      <th>9</th>\n      <td>surf</td>\n      <td>2018-10</td>\n      <td>65.421224</td>\n      <td>56.553007</td>\n    </tr>\n    <tr>\n      <th>10</th>\n      <td>surf</td>\n      <td>2018-11</td>\n      <td>58.004276</td>\n      <td>49.941788</td>\n    </tr>\n    <tr>\n      <th>11</th>\n      <td>surf</td>\n      <td>2018-12</td>\n      <td>70.557044</td>\n      <td>67.855809</td>\n    </tr>\n    <tr>\n      <th>12</th>\n      <td>ultimate</td>\n      <td>2018-01</td>\n      <td>70.000000</td>\n      <td>0.000000</td>\n    </tr>\n    <tr>\n      <th>13</th>\n      <td>ultimate</td>\n      <td>2018-02</td>\n      <td>70.000000</td>\n      <td>0.000000</td>\n    </tr>\n    <tr>\n      <th>14</th>\n      <td>ultimate</td>\n      <td>2018-03</td>\n      <td>74.666667</td>\n      <td>12.062966</td>\n    </tr>\n    <tr>\n      <th>15</th>\n      <td>ultimate</td>\n      <td>2018-04</td>\n      <td>73.000000</td>\n      <td>10.972693</td>\n    </tr>\n    <tr>\n      <th>16</th>\n      <td>ultimate</td>\n      <td>2018-05</td>\n      <td>70.724138</td>\n      <td>3.899602</td>\n    </tr>\n    <tr>\n      <th>17</th>\n      <td>ultimate</td>\n      <td>2018-06</td>\n      <td>71.638298</td>\n      <td>8.661322</td>\n    </tr>\n    <tr>\n      <th>18</th>\n      <td>ultimate</td>\n      <td>2018-07</td>\n      <td>71.898305</td>\n      <td>10.221166</td>\n    </tr>\n    <tr>\n      <th>19</th>\n      <td>ultimate</td>\n      <td>2018-08</td>\n      <td>72.859155</td>\n      <td>12.442204</td>\n    </tr>\n    <tr>\n      <th>20</th>\n      <td>ultimate</td>\n      <td>2018-09</td>\n      <td>72.034884</td>\n      <td>8.714353</td>\n    </tr>\n    <tr>\n      <th>21</th>\n      <td>ultimate</td>\n      <td>2018-10</td>\n      <td>72.311321</td>\n      <td>13.023322</td>\n    </tr>\n    <tr>\n      <th>22</th>\n      <td>ultimate</td>\n      <td>2018-11</td>\n      <td>71.708661</td>\n      <td>9.729770</td>\n    </tr>\n    <tr>\n      <th>23</th>\n      <td>ultimate</td>\n      <td>2018-12</td>\n      <td>73.291391</td>\n      <td>14.589763</td>\n    </tr>\n  </tbody>\n</table>\n</div>",
      "text/plain": "        plan year_month total_cost           \n                              mean        std\n0       surf    2018-01  20.000000   0.000000\n1       surf    2018-02  34.396667  20.694833\n2       surf    2018-03  45.941304  38.884747\n3       surf    2018-04  40.710600  34.625979\n4       surf    2018-05  47.628182  44.356962\n5       surf    2018-06  49.276289  44.597243\n6       surf    2018-07  62.674050  54.253004\n7       surf    2018-08  63.931173  59.895700\n8       surf    2018-09  58.271495  47.546240\n9       surf    2018-10  65.421224  56.553007\n10      surf    2018-11  58.004276  49.941788\n11      surf    2018-12  70.557044  67.855809\n12  ultimate    2018-01  70.000000   0.000000\n13  ultimate    2018-02  70.000000   0.000000\n14  ultimate    2018-03  74.666667  12.062966\n15  ultimate    2018-04  73.000000  10.972693\n16  ultimate    2018-05  70.724138   3.899602\n17  ultimate    2018-06  71.638298   8.661322\n18  ultimate    2018-07  71.898305  10.221166\n19  ultimate    2018-08  72.859155  12.442204\n20  ultimate    2018-09  72.034884   8.714353\n21  ultimate    2018-10  72.311321  13.023322\n22  ultimate    2018-11  71.708661   9.729770\n23  ultimate    2018-12  73.291391  14.589763"
     },
     "execution_count": 72,
     "metadata": {},
     "output_type": "execute_result"
    }
   ]
  },
  {
   "metadata": {},
   "cell_type": "markdown",
   "source": "<div class=\"alert alert-info\" style=\"border-radius: 15px; box-shadow: 4px 4px 4px; border: 1px solid \">\n<b> Keith's comment<b/>\n    \nUsers on the Ultimate plan tend to stay around the 70 USD cost of the plan and don't have much overage. Whereas on the Surf plan, users have average paying 70 USD in a month (Dec 2018). At that point you might as well get on the Ultimate plan.\n\nAlso, if you look at the average standard deviation per month for the Surf Plan it is MUCH higher than that of the Ultimate Plan. Meaning that there is more deviation from the mean cost for each plan.\n    \n<div/>"
  },
  {
   "metadata": {},
   "cell_type": "markdown",
   "source": "<div class=\"alert alert-success\" style=\"border-radius: 15px; box-shadow: 4px 4px 4px; border: 1px solid \">\n<b> Reviewer's comment</b>\n    \nGood.</div>\n<div class=\"alert alert-warning\" style=\"border-radius: 15px; box-shadow: 4px 4px 4px; border: 1px solid \">\n<b> Reviewer's comment</b>\n    \nI would also compare their averages and the number of clients.</div>"
  },
  {
   "metadata": {
    "trusted": false
   },
   "cell_type": "code",
   "source": "avg_rev = merged_plan.groupby('plan').agg({'total_cost': 'mean'}).reset_index()\navg_rev",
   "execution_count": 73,
   "outputs": [
    {
     "data": {
      "text/html": "<div>\n<style scoped>\n    .dataframe tbody tr th:only-of-type {\n        vertical-align: middle;\n    }\n\n    .dataframe tbody tr th {\n        vertical-align: top;\n    }\n\n    .dataframe thead th {\n        text-align: right;\n    }\n</style>\n<table border=\"1\" class=\"dataframe\">\n  <thead>\n    <tr style=\"text-align: right;\">\n      <th></th>\n      <th>plan</th>\n      <th>total_cost</th>\n    </tr>\n  </thead>\n  <tbody>\n    <tr>\n      <th>0</th>\n      <td>surf</td>\n      <td>60.706408</td>\n    </tr>\n    <tr>\n      <th>1</th>\n      <td>ultimate</td>\n      <td>72.313889</td>\n    </tr>\n  </tbody>\n</table>\n</div>",
      "text/plain": "       plan  total_cost\n0      surf   60.706408\n1  ultimate   72.313889"
     },
     "execution_count": 73,
     "metadata": {},
     "output_type": "execute_result"
    }
   ]
  },
  {
   "metadata": {},
   "cell_type": "markdown",
   "source": "<div class=\"alert alert-success\" style=\"border-radius: 15px; box-shadow: 4px 4px 4px; border: 1px solid \">\n<h2> Reviewer's comment 2</h2>\n    \nInteresting. The average revenue of Surf does not even reach the subscription fee of Ultimate. \n</div>"
  },
  {
   "metadata": {
    "trusted": false
   },
   "cell_type": "code",
   "source": "total_clients = merged_plan.groupby('plan').agg({'user_id': 'count'}).reset_index()\ntotal_clients.rename(columns={'user_id': 'total_clients'}, inplace=True)\ntotal_clients",
   "execution_count": 74,
   "outputs": [
    {
     "data": {
      "text/html": "<div>\n<style scoped>\n    .dataframe tbody tr th:only-of-type {\n        vertical-align: middle;\n    }\n\n    .dataframe tbody tr th {\n        vertical-align: top;\n    }\n\n    .dataframe thead th {\n        text-align: right;\n    }\n</style>\n<table border=\"1\" class=\"dataframe\">\n  <thead>\n    <tr style=\"text-align: right;\">\n      <th></th>\n      <th>plan</th>\n      <th>total_clients</th>\n    </tr>\n  </thead>\n  <tbody>\n    <tr>\n      <th>0</th>\n      <td>surf</td>\n      <td>1573</td>\n    </tr>\n    <tr>\n      <th>1</th>\n      <td>ultimate</td>\n      <td>720</td>\n    </tr>\n  </tbody>\n</table>\n</div>",
      "text/plain": "       plan  total_clients\n0      surf           1573\n1  ultimate            720"
     },
     "execution_count": 74,
     "metadata": {},
     "output_type": "execute_result"
    }
   ]
  },
  {
   "metadata": {},
   "cell_type": "markdown",
   "source": "<div class=\"alert alert-info\" style=\"border-radius: 15px; box-shadow: 4px 4px 4px; border: 1px solid \">\n<b> Keith's comment<b/>\n    \nWith the average revenue from the Surf Plan being 60 USD and the average revenue from the Ultimate Plan being 72 USD, it would be more advantageous for the company to move everyone over to the Ultimate Plan. To do so the company needs to convince it's current Surf Plan clients that money will be saved if they convert to Ultimate.\n    \n<div/>"
  },
  {
   "metadata": {},
   "cell_type": "markdown",
   "source": "<div class=\"alert alert-success\" style=\"border-radius: 15px; box-shadow: 4px 4px 4px; border: 1px solid \">\n<h2> Reviewer's comment 2</h2>\n    \nCorrect. </div>"
  },
  {
   "metadata": {},
   "cell_type": "markdown",
   "source": "[Formulate conclusions about how the revenue differs between the plans.]"
  },
  {
   "metadata": {},
   "cell_type": "markdown",
   "source": " "
  },
  {
   "metadata": {},
   "cell_type": "markdown",
   "source": "## Test statistical hypotheses"
  },
  {
   "metadata": {},
   "cell_type": "markdown",
   "source": "[Test the hypothesis that the average revenue from users of the Ultimate and Surf calling plans differs.]"
  },
  {
   "metadata": {},
   "cell_type": "markdown",
   "source": "[Formulate the null and the alternative hypotheses, choose the statistical test, decide on the alpha value.]"
  },
  {
   "metadata": {},
   "cell_type": "markdown",
   "source": "<div class=\"alert alert-info\" style=\"border-radius: 15px; box-shadow: 4px 4px 4px; border: 1px solid \">\n<b> Keith's comment<b/>\n    \nH_o: The mean revenue from users of the Ultimate plan is equal to the mean revenue from users of the Surf plan.\n\nH_A: The mean revenue from users of the Ultimate plan is not equal to the mean revenue from users of the Surf plan.\n    \n<div/>"
  },
  {
   "metadata": {},
   "cell_type": "markdown",
   "source": "<div class=\"alert alert-success\" style=\"border-radius: 15px; box-shadow: 4px 4px 4px; border: 1px solid \">\n<h2> Reviewer's comment </h2>\n\n    \nCorrect. The null hypothesis always includes the equality sign. This is because the test does not understand exactly how we set the problem: we can say, for instance, let's make sure that they are not equal. Or that they are equal. And regardless of the purpose of our study, we always put equality at null hypothesis. Then the test result is interpreted correctly.\n\n</div>   "
  },
  {
   "metadata": {
    "trusted": false
   },
   "cell_type": "code",
   "source": "# Test the hypotheses\nult_rev = merged_plan[merged_plan['plan'] == 'ultimate']['total_cost']\nsurf_rev = merged_plan[merged_plan['plan'] == 'surf']['total_cost']\n\nprint('Ultimate Plan Mean Revenue: ', ult_rev.mean())\nprint('Surf Plan Mean Revenue: ', surf_rev.mean())\n\n#Quick check using the averages of each plan",
   "execution_count": 75,
   "outputs": [
    {
     "name": "stdout",
     "output_type": "stream",
     "text": "Ultimate Plan Mean Revenue:  72.31388888888888\nSurf Plan Mean Revenue:  60.706408137317226\n"
    }
   ]
  },
  {
   "metadata": {
    "trusted": false
   },
   "cell_type": "code",
   "source": "ult_rev_count = merged_plan[merged_plan['plan'] == 'ultimate']['total_cost']\nsurf_rev_count = merged_plan[merged_plan['plan'] == 'surf']['total_cost']\n\nprint('Ultimate Plan # of Subscribers: ', ult_rev_count.count())\nprint('Surf Plan # of Subscribers: ', surf_rev_count.count())",
   "execution_count": 76,
   "outputs": [
    {
     "name": "stdout",
     "output_type": "stream",
     "text": "Ultimate Plan # of Subscribers:  720\nSurf Plan # of Subscribers:  1573\n"
    }
   ]
  },
  {
   "metadata": {
    "trusted": false
   },
   "cell_type": "code",
   "source": "alpha = 0.05\nttest_result = st.ttest_ind(ult_rev, surf_rev, equal_var=False)\nprint('p-value: ', ttest_result.pvalue)\n\nif (ttest_result.pvalue < alpha): \n    print(\"We reject the null hypothesis\")\nelse:\n    print(\"We can't reject the null hypothesis\")",
   "execution_count": 77,
   "outputs": [
    {
     "name": "stdout",
     "output_type": "stream",
     "text": "p-value:  3.1703905481135734e-15\nWe reject the null hypothesis\n"
    }
   ]
  },
  {
   "metadata": {},
   "cell_type": "markdown",
   "source": "<div class=\"alert alert-info\" style=\"border-radius: 15px; box-shadow: 4px 4px 4px; border: 1px solid \">\n<b> Keith's comment<b/>\n    \nThe p-value presents strong evidence against the null hypothesis at the 0.05 significance level. Therefore, we reject the null hypothesis and conclude that there is a statistically significant difference in average revenues between Surf Plan users and Ultimate Plan users. However, this does not prove the alternative hypothesis outright but strongly suggests that the observed difference is not due to random chance.\n    \n<div/>"
  },
  {
   "metadata": {},
   "cell_type": "markdown",
   "source": "<div class=\"alert alert-danger\" style=\"border-radius: 15px; box-shadow: 4px 4px 4px; border: 1px solid \">\n<b> Reviewer's comment  </b>\n    \n    \nWhy is it 60.38? Shouldn't it be 68.33? That's why we should not use constants :) Take a look:\n\n\n</div>"
  },
  {
   "metadata": {},
   "cell_type": "markdown",
   "source": "<div class=\"alert alert-info\" style=\"border-radius: 15px; box-shadow: 4px 4px 4px; border: 1px solid \">\n<b> Keith's comment<b/>\n    \nI ran this a number of times and still came up with a number around 60.\n    \n<div/>"
  },
  {
   "metadata": {},
   "cell_type": "markdown",
   "source": "<div class=\"alert alert-success\" style=\"border-radius: 15px; box-shadow: 4px 4px 4px; border: 1px solid \">\n<h2> Reviewer's comment 2</h2>\n    \nAre you asking about the reason why it changed? This is because you applied the `ceil` method to the duration column, which slightly changed the revenue values. \n\n</div>"
  },
  {
   "metadata": {},
   "cell_type": "markdown",
   "source": "<div class=\"alert alert-danger\" style=\"border-radius: 15px; box-shadow: 4px 4px 4px; border: 1px solid \">\n<b> Reviewer's comment  </b>\n    \n    \nPlease don't forget to update constant values in your code if anything changes in the data. \n\n</div>"
  },
  {
   "metadata": {},
   "cell_type": "markdown",
   "source": "[Test the hypothesis that the average revenue from users in the NY-NJ area is different from that of the users from the other regions.]"
  },
  {
   "metadata": {},
   "cell_type": "markdown",
   "source": "[Formulate the null and the alternative hypotheses, choose the statistical test, decide on the alpha value.]"
  },
  {
   "metadata": {},
   "cell_type": "markdown",
   "source": "<div class=\"alert alert-info\" style=\"border-radius: 15px; box-shadow: 4px 4px 4px; border: 1px solid \">\n<b> Keith's comment<b/>\n    \nH_o: The mean revenue from users in NY-NJ is equal to the mean revenue from users in every other city.\n\nH_A: The mean revenue from users in NY-NJ is not equal to the mean revenue from users in every other city.\n    \n<div/>"
  },
  {
   "metadata": {},
   "cell_type": "markdown",
   "source": "<div class=\"alert alert-danger\" style=\"border-radius: 15px; box-shadow: 4px 4px 4px; border: 1px solid \">\n<b> Reviewer's comment </b>\n    \n    \nPlease add wordings for this pair of hypotheses.  \n\n</div>\n<div class=\"alert alert-danger\" style=\"border-radius: 15px; box-shadow: 4px 4px 4px; border: 1px solid \">\n<b> Reviewer's comment 2 </b>\n    \n    \nWould you add it please? :) \n</div>\n<div class=\"alert alert-success\" style=\"border-radius: 15px; box-shadow: 4px 4px 4px; border: 1px solid \">\n<h2> Reviewer's comment 3</h2>\n    \nCorrect!     \n</div>"
  },
  {
   "metadata": {
    "trusted": false
   },
   "cell_type": "code",
   "source": "merged_plan_city = merged_plan.merge(users, on=['user_id', 'plan'], how='left')\nmerged_plan_city",
   "execution_count": 78,
   "outputs": [
    {
     "data": {
      "text/html": "<div>\n<style scoped>\n    .dataframe tbody tr th:only-of-type {\n        vertical-align: middle;\n    }\n\n    .dataframe tbody tr th {\n        vertical-align: top;\n    }\n\n    .dataframe thead th {\n        text-align: right;\n    }\n</style>\n<table border=\"1\" class=\"dataframe\">\n  <thead>\n    <tr style=\"text-align: right;\">\n      <th></th>\n      <th>user_id</th>\n      <th>year_month</th>\n      <th>duration</th>\n      <th>num_messages</th>\n      <th>mb_used</th>\n      <th>plan</th>\n      <th>messages_included</th>\n      <th>mb_per_month_included</th>\n      <th>minutes_included</th>\n      <th>usd_monthly_pay</th>\n      <th>...</th>\n      <th>usd_per_minute</th>\n      <th>total_cost</th>\n      <th>first_name</th>\n      <th>last_name</th>\n      <th>age</th>\n      <th>city</th>\n      <th>state</th>\n      <th>country</th>\n      <th>reg_date</th>\n      <th>churn_date</th>\n    </tr>\n  </thead>\n  <tbody>\n    <tr>\n      <th>0</th>\n      <td>1000</td>\n      <td>2018-12</td>\n      <td>124.0</td>\n      <td>11.0</td>\n      <td>1901.47</td>\n      <td>ultimate</td>\n      <td>1000</td>\n      <td>30720</td>\n      <td>3000</td>\n      <td>70</td>\n      <td>...</td>\n      <td>0.01</td>\n      <td>70.00</td>\n      <td>Anamaria</td>\n      <td>Bauer</td>\n      <td>45</td>\n      <td>Atlanta-Sandy Springs-Roswell</td>\n      <td>GA</td>\n      <td>USA</td>\n      <td>2018-12-24</td>\n      <td>NaN</td>\n    </tr>\n    <tr>\n      <th>1</th>\n      <td>1001</td>\n      <td>2018-08</td>\n      <td>182.0</td>\n      <td>30.0</td>\n      <td>6919.15</td>\n      <td>surf</td>\n      <td>50</td>\n      <td>15360</td>\n      <td>500</td>\n      <td>20</td>\n      <td>...</td>\n      <td>0.03</td>\n      <td>20.00</td>\n      <td>Mickey</td>\n      <td>Wilkerson</td>\n      <td>28</td>\n      <td>Seattle-Tacoma-Bellevue</td>\n      <td>WA</td>\n      <td>USA</td>\n      <td>2018-08-13</td>\n      <td>NaN</td>\n    </tr>\n    <tr>\n      <th>2</th>\n      <td>1001</td>\n      <td>2018-09</td>\n      <td>315.0</td>\n      <td>44.0</td>\n      <td>13314.82</td>\n      <td>surf</td>\n      <td>50</td>\n      <td>15360</td>\n      <td>500</td>\n      <td>20</td>\n      <td>...</td>\n      <td>0.03</td>\n      <td>20.00</td>\n      <td>Mickey</td>\n      <td>Wilkerson</td>\n      <td>28</td>\n      <td>Seattle-Tacoma-Bellevue</td>\n      <td>WA</td>\n      <td>USA</td>\n      <td>2018-08-13</td>\n      <td>NaN</td>\n    </tr>\n    <tr>\n      <th>3</th>\n      <td>1001</td>\n      <td>2018-10</td>\n      <td>393.0</td>\n      <td>53.0</td>\n      <td>22330.49</td>\n      <td>surf</td>\n      <td>50</td>\n      <td>15360</td>\n      <td>500</td>\n      <td>20</td>\n      <td>...</td>\n      <td>0.03</td>\n      <td>90.09</td>\n      <td>Mickey</td>\n      <td>Wilkerson</td>\n      <td>28</td>\n      <td>Seattle-Tacoma-Bellevue</td>\n      <td>WA</td>\n      <td>USA</td>\n      <td>2018-08-13</td>\n      <td>NaN</td>\n    </tr>\n    <tr>\n      <th>4</th>\n      <td>1001</td>\n      <td>2018-11</td>\n      <td>426.0</td>\n      <td>36.0</td>\n      <td>18504.30</td>\n      <td>surf</td>\n      <td>50</td>\n      <td>15360</td>\n      <td>500</td>\n      <td>20</td>\n      <td>...</td>\n      <td>0.03</td>\n      <td>60.00</td>\n      <td>Mickey</td>\n      <td>Wilkerson</td>\n      <td>28</td>\n      <td>Seattle-Tacoma-Bellevue</td>\n      <td>WA</td>\n      <td>USA</td>\n      <td>2018-08-13</td>\n      <td>NaN</td>\n    </tr>\n    <tr>\n      <th>...</th>\n      <td>...</td>\n      <td>...</td>\n      <td>...</td>\n      <td>...</td>\n      <td>...</td>\n      <td>...</td>\n      <td>...</td>\n      <td>...</td>\n      <td>...</td>\n      <td>...</td>\n      <td>...</td>\n      <td>...</td>\n      <td>...</td>\n      <td>...</td>\n      <td>...</td>\n      <td>...</td>\n      <td>...</td>\n      <td>...</td>\n      <td>...</td>\n      <td>...</td>\n      <td>...</td>\n    </tr>\n    <tr>\n      <th>2288</th>\n      <td>1349</td>\n      <td>2018-12</td>\n      <td>0.0</td>\n      <td>61.0</td>\n      <td>13039.91</td>\n      <td>surf</td>\n      <td>50</td>\n      <td>15360</td>\n      <td>500</td>\n      <td>20</td>\n      <td>...</td>\n      <td>0.03</td>\n      <td>20.33</td>\n      <td>Florentina</td>\n      <td>Diaz</td>\n      <td>69</td>\n      <td>Boston-Cambridge-Newton</td>\n      <td>MA-NH</td>\n      <td>USA</td>\n      <td>2018-10-01</td>\n      <td>NaN</td>\n    </tr>\n    <tr>\n      <th>2289</th>\n      <td>1361</td>\n      <td>2018-05</td>\n      <td>0.0</td>\n      <td>2.0</td>\n      <td>1519.69</td>\n      <td>surf</td>\n      <td>50</td>\n      <td>15360</td>\n      <td>500</td>\n      <td>20</td>\n      <td>...</td>\n      <td>0.03</td>\n      <td>20.00</td>\n      <td>Jacelyn</td>\n      <td>Hoffman</td>\n      <td>45</td>\n      <td>Birmingham-Hoover</td>\n      <td>AL</td>\n      <td>USA</td>\n      <td>2018-04-14</td>\n      <td>NaN</td>\n    </tr>\n    <tr>\n      <th>2290</th>\n      <td>1482</td>\n      <td>2018-10</td>\n      <td>0.0</td>\n      <td>2.0</td>\n      <td>0.00</td>\n      <td>ultimate</td>\n      <td>1000</td>\n      <td>30720</td>\n      <td>3000</td>\n      <td>70</td>\n      <td>...</td>\n      <td>0.01</td>\n      <td>70.00</td>\n      <td>Armand</td>\n      <td>Glenn</td>\n      <td>70</td>\n      <td>New York-Newark-Jersey City</td>\n      <td>NY-NJ-PA</td>\n      <td>USA</td>\n      <td>2018-01-01</td>\n      <td>NaN</td>\n    </tr>\n    <tr>\n      <th>2291</th>\n      <td>1108</td>\n      <td>2018-12</td>\n      <td>0.0</td>\n      <td>0.0</td>\n      <td>233.17</td>\n      <td>ultimate</td>\n      <td>1000</td>\n      <td>30720</td>\n      <td>3000</td>\n      <td>70</td>\n      <td>...</td>\n      <td>0.01</td>\n      <td>70.00</td>\n      <td>Porfirio</td>\n      <td>Kane</td>\n      <td>45</td>\n      <td>Salt Lake City</td>\n      <td>UT</td>\n      <td>USA</td>\n      <td>2018-12-30</td>\n      <td>NaN</td>\n    </tr>\n    <tr>\n      <th>2292</th>\n      <td>1311</td>\n      <td>2018-06</td>\n      <td>0.0</td>\n      <td>0.0</td>\n      <td>1498.83</td>\n      <td>ultimate</td>\n      <td>1000</td>\n      <td>30720</td>\n      <td>3000</td>\n      <td>70</td>\n      <td>...</td>\n      <td>0.01</td>\n      <td>70.00</td>\n      <td>Cherlyn</td>\n      <td>Saunders</td>\n      <td>69</td>\n      <td>Memphis</td>\n      <td>TN-MS-AR</td>\n      <td>USA</td>\n      <td>2018-06-27</td>\n      <td>NaN</td>\n    </tr>\n  </tbody>\n</table>\n<p>2293 rows × 22 columns</p>\n</div>",
      "text/plain": "     user_id year_month  duration  num_messages   mb_used      plan  \\\n0       1000    2018-12     124.0          11.0   1901.47  ultimate   \n1       1001    2018-08     182.0          30.0   6919.15      surf   \n2       1001    2018-09     315.0          44.0  13314.82      surf   \n3       1001    2018-10     393.0          53.0  22330.49      surf   \n4       1001    2018-11     426.0          36.0  18504.30      surf   \n...      ...        ...       ...           ...       ...       ...   \n2288    1349    2018-12       0.0          61.0  13039.91      surf   \n2289    1361    2018-05       0.0           2.0   1519.69      surf   \n2290    1482    2018-10       0.0           2.0      0.00  ultimate   \n2291    1108    2018-12       0.0           0.0    233.17  ultimate   \n2292    1311    2018-06       0.0           0.0   1498.83  ultimate   \n\n      messages_included  mb_per_month_included  minutes_included  \\\n0                  1000                  30720              3000   \n1                    50                  15360               500   \n2                    50                  15360               500   \n3                    50                  15360               500   \n4                    50                  15360               500   \n...                 ...                    ...               ...   \n2288                 50                  15360               500   \n2289                 50                  15360               500   \n2290               1000                  30720              3000   \n2291               1000                  30720              3000   \n2292               1000                  30720              3000   \n\n      usd_monthly_pay  ...  usd_per_minute  total_cost  first_name  last_name  \\\n0                  70  ...            0.01       70.00    Anamaria      Bauer   \n1                  20  ...            0.03       20.00      Mickey  Wilkerson   \n2                  20  ...            0.03       20.00      Mickey  Wilkerson   \n3                  20  ...            0.03       90.09      Mickey  Wilkerson   \n4                  20  ...            0.03       60.00      Mickey  Wilkerson   \n...               ...  ...             ...         ...         ...        ...   \n2288               20  ...            0.03       20.33  Florentina       Diaz   \n2289               20  ...            0.03       20.00     Jacelyn    Hoffman   \n2290               70  ...            0.01       70.00      Armand      Glenn   \n2291               70  ...            0.01       70.00    Porfirio       Kane   \n2292               70  ...            0.01       70.00     Cherlyn   Saunders   \n\n     age                           city     state country    reg_date  \\\n0     45  Atlanta-Sandy Springs-Roswell        GA     USA  2018-12-24   \n1     28        Seattle-Tacoma-Bellevue        WA     USA  2018-08-13   \n2     28        Seattle-Tacoma-Bellevue        WA     USA  2018-08-13   \n3     28        Seattle-Tacoma-Bellevue        WA     USA  2018-08-13   \n4     28        Seattle-Tacoma-Bellevue        WA     USA  2018-08-13   \n...   ..                            ...       ...     ...         ...   \n2288  69        Boston-Cambridge-Newton     MA-NH     USA  2018-10-01   \n2289  45              Birmingham-Hoover        AL     USA  2018-04-14   \n2290  70    New York-Newark-Jersey City  NY-NJ-PA     USA  2018-01-01   \n2291  45                 Salt Lake City        UT     USA  2018-12-30   \n2292  69                        Memphis  TN-MS-AR     USA  2018-06-27   \n\n     churn_date  \n0           NaN  \n1           NaN  \n2           NaN  \n3           NaN  \n4           NaN  \n...         ...  \n2288        NaN  \n2289        NaN  \n2290        NaN  \n2291        NaN  \n2292        NaN  \n\n[2293 rows x 22 columns]"
     },
     "execution_count": 78,
     "metadata": {},
     "output_type": "execute_result"
    }
   ]
  },
  {
   "metadata": {},
   "cell_type": "markdown",
   "source": "<div class=\"alert alert-warning\" style=\"border-radius: 15px; box-shadow: 4px 4px 4px; border: 1px solid \">\n<b> Reviewer's comment</b>\n    \nI would merge `users` to `merged_df`, not `merged_df` to `users` in order to exclude thos who did not spend anything. \n\n</div>\n<div class=\"alert alert-success\" style=\"border-radius: 15px; box-shadow: 4px 4px 4px; border: 1px solid \">\n<h2> Reviewer's comment 2</h2>\n    \nGood! </div>"
  },
  {
   "metadata": {},
   "cell_type": "markdown",
   "source": "<div class=\"alert alert-info\" style=\"border-radius: 15px; box-shadow: 4px 4px 4px; border: 1px solid \">\n<b> Keith's comment<b/>\n    \nDone\n    \n<div/>"
  },
  {
   "metadata": {
    "trusted": false
   },
   "cell_type": "code",
   "source": "merged_plan_city.isna().sum()",
   "execution_count": 79,
   "outputs": [
    {
     "data": {
      "text/plain": "user_id                     0\nyear_month                  0\nduration                    0\nnum_messages                0\nmb_used                     0\nplan                        0\nmessages_included           0\nmb_per_month_included       0\nminutes_included            0\nusd_monthly_pay             0\nusd_per_gb                  0\nusd_per_message             0\nusd_per_minute              0\ntotal_cost                  0\nfirst_name                  0\nlast_name                   0\nage                         0\ncity                        0\nstate                       0\ncountry                     0\nreg_date                    0\nchurn_date               2135\ndtype: int64"
     },
     "execution_count": 79,
     "metadata": {},
     "output_type": "execute_result"
    }
   ]
  },
  {
   "metadata": {
    "trusted": false
   },
   "cell_type": "code",
   "source": "merged_plan_city = merged_plan_city.fillna(0)",
   "execution_count": 80,
   "outputs": []
  },
  {
   "metadata": {
    "trusted": false
   },
   "cell_type": "code",
   "source": "# Test the hypotheses\nny_nj_rev = merged_plan_city[merged_plan_city['state'] == 'NY-NJ-PA']['total_cost']\nother_rev = merged_plan_city[merged_plan_city['state'] != 'NY-NJ-PA']['total_cost']\n\nprint('NY-NJ Mean Revenue: ', ny_nj_rev.mean())\nprint('Other Cities Mean Revenue: ', other_rev.mean())\n\n#Quick check using the averages of each plan",
   "execution_count": 81,
   "outputs": [
    {
     "name": "stdout",
     "output_type": "stream",
     "text": "NY-NJ Mean Revenue:  59.921352785145885\nOther Cities Mean Revenue:  65.2227713987474\n"
    }
   ]
  },
  {
   "metadata": {
    "trusted": false
   },
   "cell_type": "code",
   "source": "alpha = 0.05\nttest_result = st.ttest_ind(ny_nj_rev, other_rev, equal_var=False)\nprint('p-value: ', ttest_result.pvalue)\n\nif (ttest_result.pvalue < alpha): \n    print(\"We reject the null hypothesis\")\nelse:\n    print(\"We can't reject the null hypothesis\")",
   "execution_count": 82,
   "outputs": [
    {
     "name": "stdout",
     "output_type": "stream",
     "text": "p-value:  0.0335256158853001\nWe reject the null hypothesis\n"
    }
   ]
  },
  {
   "metadata": {},
   "cell_type": "markdown",
   "source": "<div class=\"alert alert-info\" style=\"border-radius: 15px; box-shadow: 4px 4px 4px; border: 1px solid \">\n<b> Keith's comment<b/>\n    \nThe p-value presents strong evidence against the null hypothesis at the 0.05 significance level. Therefore, we reject the null hypothesis and conclude that there is a statistically significant difference in average revenues between NY-NJ residents and residents from all other cities. However, this does not prove the alternative hypothesis outright but strongly suggests that the observed difference is not due to random chance.\n\n    \n<div/>"
  },
  {
   "metadata": {},
   "cell_type": "markdown",
   "source": "<div class=\"alert alert-danger\" style=\"border-radius: 15px; box-shadow: 4px 4px 4px; border: 1px solid \">\n<b> Reviewer's comment </b>\n    \n    \nPlease add a conclusion about the hypotheses section. \n\n</div>\n<div class=\"alert alert-warning\" style=\"border-radius: 15px; box-shadow: 4px 4px 4px; border: 1px solid \">\n<h2> Reviewer's comment 2</h2>\n    \n\nThe fact that we reject the null hypothesis does not entail that the 2nd hypothesis is true. We just reject it at a particular significance level. I would change the conclusion.\n    \n</div>"
  },
  {
   "metadata": {},
   "cell_type": "markdown",
   "source": "## General conclusion\n\n[List your important conclusions in this final section, make sure they cover all those important decisions (assumptions) that you've made and that led you to the way you processed and analyzed the data.]"
  },
  {
   "metadata": {},
   "cell_type": "markdown",
   "source": "<div class=\"alert alert-info\" style=\"border-radius: 15px; box-shadow: 4px 4px 4px; border: 1px solid \">\n<b> Keith's comment<b/>\n    \nIn conclusion, the Ultimate plan brings in $12 more on average per month but the number of subscribers that the Surf Plan doubles that of the Ultimate Plan. Simple solution: put your advertising budget into the Ultimate plan. If you can convert about 38 percent of the Surf Plan customers over to the Ultimate Plan, it will make up for the 95000 USD a year you were making off of the Surf Plan. Even with people trying to limit their calls, messaging and data, they tend to spend close to the same amounts of money per month. Market to them that in all actuality they are saving the hassle of having to count minutes, data and the number of messages they send per month before they start getting charged. \n\nThe data shows that if an Ultimate plan user goes over the alotted amounts of data they're averaging around 72 USD per month. So they don't go much over that 70 USD amount at all. Although it's more initially, you'll end up paying that amount (or more) come the end of the month. The standard deviation proves this as well. There is way more deviation in the Surf Plan than what there is in the Ultimate Plan. So it's a better deal not only for the consumer, but ends up making the producer (Megaline) as well!\n    \n<div/>"
  },
  {
   "metadata": {},
   "cell_type": "markdown",
   "source": "<div class=\"alert alert-success\" style=\"border-radius: 15px; box-shadow: 4px 4px 4px; border: 1px solid \">\n<b> Reviewer's comment</b>\n    \nThe conclusion is written well. \n\n</div>\n\n<div class=\"alert alert-danger\" style=\"border-radius: 15px; box-shadow: 4px 4px 4px; border: 1px solid \">\n<b> Reviewer's comment</b>\n    \nDon't forget to modify it if needed. \n</div>\n<div class=\"alert alert-success\" style=\"border-radius: 15px; box-shadow: 4px 4px 4px; border: 1px solid \">\n<h2> Reviewer's comment 2 </h2>\n\n    \nExcellent job, thank you very much! \n\n</div>   "
  }
 ],
 "metadata": {
  "ExecuteTimeLog": [
   {
    "duration": 828,
    "start_time": "2021-11-16T09:21:11.304Z"
   },
   {
    "duration": 893,
    "start_time": "2021-11-16T09:21:17.728Z"
   },
   {
    "duration": 1150,
    "start_time": "2021-11-16T09:21:29.568Z"
   },
   {
    "duration": 3,
    "start_time": "2021-11-16T09:24:14.495Z"
   },
   {
    "duration": 120,
    "start_time": "2021-11-16T09:24:46.630Z"
   },
   {
    "duration": 3,
    "start_time": "2021-11-16T09:28:27.882Z"
   },
   {
    "duration": 4,
    "start_time": "2021-11-16T09:29:54.281Z"
   },
   {
    "duration": 3,
    "start_time": "2021-11-16T09:30:45.936Z"
   },
   {
    "duration": 4,
    "start_time": "2021-11-16T09:31:06.300Z"
   },
   {
    "duration": 113,
    "start_time": "2021-11-16T09:31:37.208Z"
   },
   {
    "duration": 143,
    "start_time": "2021-11-16T09:31:48.656Z"
   },
   {
    "duration": 98,
    "start_time": "2021-11-16T09:31:55.678Z"
   },
   {
    "duration": 3,
    "start_time": "2021-11-16T09:32:08.535Z"
   },
   {
    "duration": 111,
    "start_time": "2021-11-16T09:32:10.120Z"
   },
   {
    "duration": 3,
    "start_time": "2021-11-16T09:32:15.732Z"
   },
   {
    "duration": 4,
    "start_time": "2021-11-16T09:32:29.423Z"
   },
   {
    "duration": 3,
    "start_time": "2021-11-16T10:03:03.074Z"
   },
   {
    "duration": 3,
    "start_time": "2021-11-16T10:10:01.288Z"
   },
   {
    "duration": 3,
    "start_time": "2021-11-16T10:10:46.923Z"
   },
   {
    "duration": 121,
    "start_time": "2021-11-16T10:37:46.494Z"
   },
   {
    "duration": 125,
    "start_time": "2021-11-16T10:38:20.632Z"
   },
   {
    "duration": 112,
    "start_time": "2021-11-16T10:46:53.001Z"
   },
   {
    "duration": 110,
    "start_time": "2021-11-16T10:48:25.775Z"
   },
   {
    "duration": 3,
    "start_time": "2021-11-16T10:50:18.720Z"
   },
   {
    "duration": 4,
    "start_time": "2021-11-16T10:50:37.649Z"
   },
   {
    "duration": 2,
    "start_time": "2021-11-16T10:50:51.884Z"
   },
   {
    "duration": 3,
    "start_time": "2021-11-16T10:51:56.237Z"
   },
   {
    "duration": 101,
    "start_time": "2021-11-16T10:53:13.791Z"
   },
   {
    "duration": 3,
    "start_time": "2021-11-16T10:55:59.186Z"
   },
   {
    "duration": 3,
    "start_time": "2021-11-16T10:56:10.751Z"
   },
   {
    "duration": 3,
    "start_time": "2021-11-16T10:56:49.038Z"
   },
   {
    "duration": 3,
    "start_time": "2021-11-16T10:56:49.174Z"
   },
   {
    "duration": 4,
    "start_time": "2021-11-16T10:56:49.414Z"
   },
   {
    "duration": 3,
    "start_time": "2021-11-16T10:56:49.680Z"
   },
   {
    "duration": 3,
    "start_time": "2021-11-16T10:56:50.370Z"
   },
   {
    "duration": 114,
    "start_time": "2021-11-16T10:59:34.518Z"
   },
   {
    "duration": 3,
    "start_time": "2021-11-16T11:01:41.201Z"
   },
   {
    "duration": 116,
    "start_time": "2021-11-16T11:01:48.754Z"
   },
   {
    "duration": 3,
    "start_time": "2021-11-16T11:02:16.685Z"
   },
   {
    "duration": 3,
    "start_time": "2021-11-16T11:02:19.479Z"
   },
   {
    "duration": 3,
    "start_time": "2021-11-16T11:02:47.067Z"
   },
   {
    "duration": 3,
    "start_time": "2021-11-16T11:02:49.353Z"
   },
   {
    "duration": 3,
    "start_time": "2021-11-16T11:03:07.835Z"
   },
   {
    "duration": 3,
    "start_time": "2021-11-16T11:03:07.953Z"
   },
   {
    "duration": 112,
    "start_time": "2021-11-16T11:07:52.072Z"
   },
   {
    "duration": 187,
    "start_time": "2021-11-16T11:09:23.468Z"
   },
   {
    "duration": 4,
    "start_time": "2021-11-16T11:10:01.455Z"
   },
   {
    "duration": 3,
    "start_time": "2021-11-16T11:10:05.069Z"
   },
   {
    "duration": 4,
    "start_time": "2021-11-16T11:10:13.376Z"
   },
   {
    "duration": 3,
    "start_time": "2021-11-16T11:10:14.434Z"
   },
   {
    "duration": 3,
    "start_time": "2021-11-16T11:10:22.853Z"
   },
   {
    "duration": 4,
    "start_time": "2021-11-16T11:27:29.279Z"
   },
   {
    "duration": 4,
    "start_time": "2021-11-16T11:29:08.919Z"
   },
   {
    "duration": 118,
    "start_time": "2021-11-16T11:29:46.703Z"
   },
   {
    "duration": 437,
    "start_time": "2021-11-16T11:36:02.181Z"
   },
   {
    "duration": 157,
    "start_time": "2021-11-16T11:36:14.388Z"
   },
   {
    "duration": 207,
    "start_time": "2021-11-16T11:47:15.898Z"
   },
   {
    "duration": 3,
    "start_time": "2021-11-16T11:53:52.092Z"
   },
   {
    "duration": 3,
    "start_time": "2021-11-16T11:53:52.236Z"
   },
   {
    "duration": 3,
    "start_time": "2021-11-16T11:59:12.005Z"
   },
   {
    "duration": 112,
    "start_time": "2021-11-16T12:00:33.446Z"
   },
   {
    "duration": 3,
    "start_time": "2021-11-16T12:02:14.453Z"
   },
   {
    "duration": 3,
    "start_time": "2021-11-16T12:02:39.512Z"
   },
   {
    "duration": 106,
    "start_time": "2021-11-16T12:03:03.460Z"
   },
   {
    "duration": 3,
    "start_time": "2021-11-17T20:37:21.139Z"
   },
   {
    "duration": 3,
    "start_time": "2021-11-17T20:37:22.229Z"
   },
   {
    "duration": 3,
    "start_time": "2021-11-17T20:38:38.806Z"
   },
   {
    "duration": 3,
    "start_time": "2021-11-17T20:38:41.958Z"
   },
   {
    "duration": 3,
    "start_time": "2021-11-17T20:43:46.551Z"
   },
   {
    "duration": 4,
    "start_time": "2021-11-17T20:58:21.835Z"
   },
   {
    "duration": 3,
    "start_time": "2021-11-17T20:59:21.872Z"
   },
   {
    "duration": 4,
    "start_time": "2021-11-17T20:59:45.352Z"
   },
   {
    "duration": 4,
    "start_time": "2021-11-17T20:59:49.646Z"
   },
   {
    "duration": 159,
    "start_time": "2021-11-17T21:02:26.949Z"
   },
   {
    "duration": 3,
    "start_time": "2021-11-17T21:03:53.461Z"
   },
   {
    "duration": 3,
    "start_time": "2021-11-17T21:03:53.694Z"
   },
   {
    "duration": 3,
    "start_time": "2021-11-17T21:05:28.145Z"
   },
   {
    "duration": 116,
    "start_time": "2021-11-17T21:05:57.787Z"
   },
   {
    "duration": 3,
    "start_time": "2021-11-17T21:06:37.993Z"
   },
   {
    "duration": 3,
    "start_time": "2021-11-17T21:06:38.261Z"
   },
   {
    "duration": 3,
    "start_time": "2021-11-17T21:11:54.358Z"
   },
   {
    "duration": 3,
    "start_time": "2021-11-17T21:12:43.846Z"
   },
   {
    "duration": 4,
    "start_time": "2021-11-17T21:13:08.773Z"
   },
   {
    "duration": 3,
    "start_time": "2021-11-17T21:14:44.441Z"
   },
   {
    "duration": 3,
    "start_time": "2021-11-17T21:15:42.059Z"
   },
   {
    "duration": 4,
    "start_time": "2021-11-17T21:15:51.995Z"
   },
   {
    "duration": 3,
    "start_time": "2021-11-17T21:15:53.923Z"
   },
   {
    "duration": 3,
    "start_time": "2021-11-17T21:15:55.282Z"
   },
   {
    "duration": 3,
    "start_time": "2021-11-17T21:16:28.492Z"
   },
   {
    "duration": 3,
    "start_time": "2021-11-17T21:16:32.603Z"
   },
   {
    "duration": 3,
    "start_time": "2021-11-17T21:17:06.941Z"
   },
   {
    "duration": 98,
    "start_time": "2021-11-17T21:18:05.733Z"
   },
   {
    "duration": 4,
    "start_time": "2021-11-17T21:21:35.255Z"
   },
   {
    "duration": 3,
    "start_time": "2021-11-17T21:21:37.804Z"
   },
   {
    "duration": 4,
    "start_time": "2021-11-17T21:23:06.071Z"
   },
   {
    "duration": 3,
    "start_time": "2021-11-17T21:23:24.799Z"
   },
   {
    "duration": 3,
    "start_time": "2021-11-17T21:23:32.591Z"
   },
   {
    "duration": 98,
    "start_time": "2021-11-17T21:28:31.559Z"
   },
   {
    "duration": 3,
    "start_time": "2021-11-17T21:28:45.448Z"
   },
   {
    "duration": 3,
    "start_time": "2021-11-17T21:29:17.303Z"
   },
   {
    "duration": 3,
    "start_time": "2021-11-17T21:29:29.617Z"
   },
   {
    "duration": 3,
    "start_time": "2021-11-17T21:29:32.681Z"
   },
   {
    "duration": 3,
    "start_time": "2021-11-17T21:36:11.474Z"
   },
   {
    "duration": 3,
    "start_time": "2021-11-17T21:36:14.791Z"
   },
   {
    "duration": 3,
    "start_time": "2021-11-17T21:36:53.943Z"
   },
   {
    "duration": 3,
    "start_time": "2021-11-17T21:36:56.165Z"
   },
   {
    "duration": 4,
    "start_time": "2021-11-17T21:37:16.590Z"
   },
   {
    "duration": 3,
    "start_time": "2021-11-17T21:37:22.702Z"
   },
   {
    "duration": 4,
    "start_time": "2021-11-17T21:38:03.479Z"
   },
   {
    "duration": 3,
    "start_time": "2021-11-17T21:38:08.601Z"
   },
   {
    "duration": 3,
    "start_time": "2021-11-17T21:38:12.928Z"
   },
   {
    "duration": 3,
    "start_time": "2021-11-17T21:38:48.896Z"
   },
   {
    "duration": 2,
    "start_time": "2021-11-17T21:38:49.171Z"
   },
   {
    "duration": 4,
    "start_time": "2021-11-17T21:39:57.889Z"
   },
   {
    "duration": 3,
    "start_time": "2021-11-17T21:39:58.057Z"
   },
   {
    "duration": 3,
    "start_time": "2021-11-17T21:41:20.108Z"
   },
   {
    "duration": 3,
    "start_time": "2021-11-17T21:41:20.629Z"
   },
   {
    "duration": 3,
    "start_time": "2021-11-17T21:42:49.136Z"
   },
   {
    "duration": 3,
    "start_time": "2021-11-17T21:43:15.137Z"
   },
   {
    "duration": 4,
    "start_time": "2021-11-17T21:43:16.766Z"
   },
   {
    "duration": 4,
    "start_time": "2021-11-17T21:43:31.711Z"
   },
   {
    "duration": 3,
    "start_time": "2021-11-17T21:43:36.312Z"
   },
   {
    "duration": 4,
    "start_time": "2021-11-17T21:45:08.825Z"
   },
   {
    "duration": 4,
    "start_time": "2021-11-17T21:45:10.119Z"
   },
   {
    "duration": 4,
    "start_time": "2021-11-17T21:45:13.748Z"
   },
   {
    "duration": 3,
    "start_time": "2021-11-17T21:45:22.219Z"
   },
   {
    "duration": 3,
    "start_time": "2021-11-17T21:45:33.412Z"
   },
   {
    "duration": 2,
    "start_time": "2021-11-17T21:46:01.885Z"
   },
   {
    "duration": 3,
    "start_time": "2021-11-17T21:46:03.628Z"
   },
   {
    "duration": 107,
    "start_time": "2021-11-17T21:47:32.512Z"
   },
   {
    "duration": 103,
    "start_time": "2021-11-17T21:50:36.243Z"
   },
   {
    "duration": 3,
    "start_time": "2021-11-18T06:28:31.440Z"
   },
   {
    "duration": 3,
    "start_time": "2021-11-18T06:29:00.168Z"
   },
   {
    "duration": 3,
    "start_time": "2021-11-18T06:31:27.008Z"
   },
   {
    "duration": 2,
    "start_time": "2021-11-18T06:35:34.288Z"
   },
   {
    "duration": 2,
    "start_time": "2021-11-18T06:38:04.527Z"
   },
   {
    "duration": 312,
    "start_time": "2024-08-25T23:21:43.824Z"
   },
   {
    "duration": 8,
    "start_time": "2024-08-25T23:21:48.716Z"
   },
   {
    "duration": 4779,
    "start_time": "2024-08-25T23:22:58.746Z"
   },
   {
    "duration": 371,
    "start_time": "2024-08-25T23:23:16.010Z"
   },
   {
    "duration": 15,
    "start_time": "2024-08-25T23:26:13.424Z"
   },
   {
    "duration": 12,
    "start_time": "2024-08-25T23:26:22.420Z"
   },
   {
    "duration": 26,
    "start_time": "2024-08-25T23:26:29.209Z"
   },
   {
    "duration": 152,
    "start_time": "2024-08-25T23:28:12.206Z"
   },
   {
    "duration": 30,
    "start_time": "2024-08-25T23:28:21.020Z"
   },
   {
    "duration": 15,
    "start_time": "2024-08-25T23:28:57.006Z"
   },
   {
    "duration": 29,
    "start_time": "2024-08-25T23:29:11.605Z"
   },
   {
    "duration": 19,
    "start_time": "2024-08-25T23:29:40.185Z"
   },
   {
    "duration": 87,
    "start_time": "2024-08-25T23:30:10.974Z"
   },
   {
    "duration": 24,
    "start_time": "2024-08-25T23:30:29.887Z"
   },
   {
    "duration": 23,
    "start_time": "2024-08-25T23:30:49.038Z"
   },
   {
    "duration": 15,
    "start_time": "2024-08-25T23:31:05.589Z"
   },
   {
    "duration": 5,
    "start_time": "2024-08-25T23:32:08.343Z"
   },
   {
    "duration": 14,
    "start_time": "2024-08-25T23:32:29.855Z"
   },
   {
    "duration": 4,
    "start_time": "2024-08-25T23:32:36.990Z"
   },
   {
    "duration": 13,
    "start_time": "2024-08-25T23:32:38.102Z"
   },
   {
    "duration": 4,
    "start_time": "2024-08-25T23:33:01.884Z"
   },
   {
    "duration": 13,
    "start_time": "2024-08-25T23:33:02.253Z"
   },
   {
    "duration": 4,
    "start_time": "2024-08-25T23:33:08.106Z"
   },
   {
    "duration": 15,
    "start_time": "2024-08-25T23:33:08.905Z"
   },
   {
    "duration": 4,
    "start_time": "2024-08-25T23:33:14.421Z"
   },
   {
    "duration": 14,
    "start_time": "2024-08-25T23:33:15.214Z"
   },
   {
    "duration": 29,
    "start_time": "2024-08-25T23:34:27.691Z"
   },
   {
    "duration": 119,
    "start_time": "2024-08-25T23:34:58.749Z"
   },
   {
    "duration": 24,
    "start_time": "2024-08-25T23:35:08.955Z"
   },
   {
    "duration": 19,
    "start_time": "2024-08-25T23:35:32.149Z"
   },
   {
    "duration": 35,
    "start_time": "2024-08-25T23:43:20.894Z"
   },
   {
    "duration": 42,
    "start_time": "2024-08-25T23:46:40.441Z"
   },
   {
    "duration": 21,
    "start_time": "2024-08-25T23:46:48.987Z"
   },
   {
    "duration": 42,
    "start_time": "2024-08-25T23:46:58.736Z"
   },
   {
    "duration": 648,
    "start_time": "2024-08-25T23:47:13.173Z"
   },
   {
    "duration": 13,
    "start_time": "2024-08-25T23:47:23.633Z"
   },
   {
    "duration": 12,
    "start_time": "2024-08-25T23:47:40.458Z"
   },
   {
    "duration": 12,
    "start_time": "2024-08-25T23:47:42.972Z"
   },
   {
    "duration": 13,
    "start_time": "2024-08-25T23:48:28.861Z"
   },
   {
    "duration": 13,
    "start_time": "2024-08-25T23:48:30.447Z"
   },
   {
    "duration": 14,
    "start_time": "2024-08-25T23:48:31.954Z"
   },
   {
    "duration": 13,
    "start_time": "2024-08-25T23:48:33.344Z"
   },
   {
    "duration": 12,
    "start_time": "2024-08-25T23:48:35.178Z"
   },
   {
    "duration": 7,
    "start_time": "2024-08-26T01:21:36.413Z"
   },
   {
    "duration": 48,
    "start_time": "2024-08-26T01:24:27.383Z"
   },
   {
    "duration": 12,
    "start_time": "2024-08-26T01:24:27.535Z"
   },
   {
    "duration": 24,
    "start_time": "2024-08-26T01:24:40.674Z"
   },
   {
    "duration": 18,
    "start_time": "2024-08-26T01:24:45.029Z"
   },
   {
    "duration": 11,
    "start_time": "2024-08-26T01:25:49.509Z"
   },
   {
    "duration": 14,
    "start_time": "2024-08-26T01:26:19.035Z"
   },
   {
    "duration": 25,
    "start_time": "2024-08-26T01:27:03.720Z"
   },
   {
    "duration": 15,
    "start_time": "2024-08-26T01:28:13.355Z"
   },
   {
    "duration": 16,
    "start_time": "2024-08-26T01:28:49.179Z"
   },
   {
    "duration": 16,
    "start_time": "2024-08-26T01:28:52.465Z"
   },
   {
    "duration": 16,
    "start_time": "2024-08-26T01:28:55.653Z"
   },
   {
    "duration": 16,
    "start_time": "2024-08-26T01:28:58.628Z"
   },
   {
    "duration": 16,
    "start_time": "2024-08-26T01:29:01.029Z"
   },
   {
    "duration": 16,
    "start_time": "2024-08-26T01:29:04.524Z"
   },
   {
    "duration": 16,
    "start_time": "2024-08-26T01:29:23.813Z"
   },
   {
    "duration": 7,
    "start_time": "2024-08-26T01:53:18.442Z"
   },
   {
    "duration": 15,
    "start_time": "2024-08-26T01:53:31.240Z"
   },
   {
    "duration": 5,
    "start_time": "2024-08-26T01:54:05.470Z"
   },
   {
    "duration": 6,
    "start_time": "2024-08-26T01:57:46.677Z"
   },
   {
    "duration": 5,
    "start_time": "2024-08-26T01:57:54.091Z"
   },
   {
    "duration": 5,
    "start_time": "2024-08-26T01:58:05.570Z"
   },
   {
    "duration": 17,
    "start_time": "2024-08-26T01:58:15.417Z"
   },
   {
    "duration": 6,
    "start_time": "2024-08-26T01:59:43.395Z"
   },
   {
    "duration": 16,
    "start_time": "2024-08-26T01:59:55.780Z"
   },
   {
    "duration": 7,
    "start_time": "2024-08-26T02:01:27.418Z"
   },
   {
    "duration": 19,
    "start_time": "2024-08-26T02:01:38.880Z"
   },
   {
    "duration": 6,
    "start_time": "2024-08-26T02:02:40.029Z"
   },
   {
    "duration": 17,
    "start_time": "2024-08-26T02:02:40.470Z"
   },
   {
    "duration": 7,
    "start_time": "2024-08-26T02:02:46.829Z"
   },
   {
    "duration": 18,
    "start_time": "2024-08-26T02:02:47.166Z"
   },
   {
    "duration": 6,
    "start_time": "2024-08-26T02:03:04.716Z"
   },
   {
    "duration": 18,
    "start_time": "2024-08-26T02:03:05.058Z"
   },
   {
    "duration": 5,
    "start_time": "2024-08-26T02:03:08.329Z"
   },
   {
    "duration": 5,
    "start_time": "2024-08-26T02:03:08.555Z"
   },
   {
    "duration": 6,
    "start_time": "2024-08-26T02:03:08.776Z"
   },
   {
    "duration": 6,
    "start_time": "2024-08-26T02:03:08.983Z"
   },
   {
    "duration": 17,
    "start_time": "2024-08-26T02:03:09.195Z"
   },
   {
    "duration": 6,
    "start_time": "2024-08-26T02:03:18.702Z"
   },
   {
    "duration": 5,
    "start_time": "2024-08-26T02:03:44.874Z"
   },
   {
    "duration": 19,
    "start_time": "2024-08-26T02:03:45.870Z"
   },
   {
    "duration": 5,
    "start_time": "2024-08-26T02:03:53.074Z"
   },
   {
    "duration": 5,
    "start_time": "2024-08-26T02:03:53.249Z"
   },
   {
    "duration": 6,
    "start_time": "2024-08-26T02:03:53.398Z"
   },
   {
    "duration": 613,
    "start_time": "2024-08-26T02:03:53.530Z"
   },
   {
    "duration": 0,
    "start_time": "2024-08-26T02:03:54.146Z"
   },
   {
    "duration": 6,
    "start_time": "2024-08-26T02:04:17.721Z"
   },
   {
    "duration": 5,
    "start_time": "2024-08-26T02:04:19.621Z"
   },
   {
    "duration": 7,
    "start_time": "2024-08-26T02:04:20.478Z"
   },
   {
    "duration": 61,
    "start_time": "2024-08-26T02:04:21.368Z"
   },
   {
    "duration": 24,
    "start_time": "2024-08-26T02:04:34.597Z"
   },
   {
    "duration": 17,
    "start_time": "2024-08-26T02:04:34.772Z"
   },
   {
    "duration": 5,
    "start_time": "2024-08-26T02:04:37.910Z"
   },
   {
    "duration": 5,
    "start_time": "2024-08-26T02:04:38.188Z"
   },
   {
    "duration": 5,
    "start_time": "2024-08-26T02:04:38.449Z"
   },
   {
    "duration": 63,
    "start_time": "2024-08-26T02:04:38.930Z"
   },
   {
    "duration": 6,
    "start_time": "2024-08-26T02:04:52.551Z"
   },
   {
    "duration": 18,
    "start_time": "2024-08-26T02:04:53.940Z"
   },
   {
    "duration": 7,
    "start_time": "2024-08-26T02:05:48.467Z"
   },
   {
    "duration": 5,
    "start_time": "2024-08-26T02:05:48.736Z"
   },
   {
    "duration": 18,
    "start_time": "2024-08-26T02:05:49.764Z"
   },
   {
    "duration": 25,
    "start_time": "2024-08-26T02:06:21.557Z"
   },
   {
    "duration": 20,
    "start_time": "2024-08-26T02:06:21.765Z"
   },
   {
    "duration": 5,
    "start_time": "2024-08-26T02:06:24.636Z"
   },
   {
    "duration": 19,
    "start_time": "2024-08-26T02:06:26.338Z"
   },
   {
    "duration": 15,
    "start_time": "2024-08-26T02:06:42.070Z"
   },
   {
    "duration": 26,
    "start_time": "2024-08-26T02:07:59.903Z"
   },
   {
    "duration": 18,
    "start_time": "2024-08-26T02:08:30.692Z"
   },
   {
    "duration": 18,
    "start_time": "2024-08-26T02:08:33.473Z"
   },
   {
    "duration": 14,
    "start_time": "2024-08-26T02:08:40.604Z"
   },
   {
    "duration": 1246,
    "start_time": "2024-08-26T02:08:49.497Z"
   },
   {
    "duration": 283,
    "start_time": "2024-08-26T02:08:50.747Z"
   },
   {
    "duration": 28,
    "start_time": "2024-08-26T02:08:51.033Z"
   },
   {
    "duration": 157,
    "start_time": "2024-08-26T02:08:51.065Z"
   },
   {
    "duration": 46,
    "start_time": "2024-08-26T02:08:51.225Z"
   },
   {
    "duration": 20,
    "start_time": "2024-08-26T02:08:51.276Z"
   },
   {
    "duration": 102,
    "start_time": "2024-08-26T02:08:51.299Z"
   },
   {
    "duration": 22,
    "start_time": "2024-08-26T02:08:51.405Z"
   },
   {
    "duration": 40,
    "start_time": "2024-08-26T02:08:51.430Z"
   },
   {
    "duration": 5,
    "start_time": "2024-08-26T02:08:51.476Z"
   },
   {
    "duration": 15,
    "start_time": "2024-08-26T02:08:51.484Z"
   },
   {
    "duration": 23,
    "start_time": "2024-08-26T02:08:51.502Z"
   },
   {
    "duration": 156,
    "start_time": "2024-08-26T02:08:51.528Z"
   },
   {
    "duration": 25,
    "start_time": "2024-08-26T02:08:51.688Z"
   },
   {
    "duration": 14,
    "start_time": "2024-08-26T02:08:51.716Z"
   },
   {
    "duration": 75,
    "start_time": "2024-08-26T02:08:51.732Z"
   },
   {
    "duration": 14,
    "start_time": "2024-08-26T02:08:51.809Z"
   },
   {
    "duration": 59,
    "start_time": "2024-08-26T02:08:51.827Z"
   },
   {
    "duration": 18,
    "start_time": "2024-08-26T02:08:51.889Z"
   },
   {
    "duration": 14,
    "start_time": "2024-08-26T02:08:51.909Z"
   },
   {
    "duration": 3,
    "start_time": "2024-08-26T02:08:51.927Z"
   },
   {
    "duration": 39,
    "start_time": "2024-08-26T02:08:51.932Z"
   },
   {
    "duration": 9,
    "start_time": "2024-08-26T02:08:51.974Z"
   },
   {
    "duration": 4,
    "start_time": "2024-08-26T02:08:51.986Z"
   },
   {
    "duration": 4,
    "start_time": "2024-08-26T02:08:51.994Z"
   },
   {
    "duration": 4,
    "start_time": "2024-08-26T02:08:52.002Z"
   },
   {
    "duration": 7,
    "start_time": "2024-08-26T02:08:52.010Z"
   },
   {
    "duration": 4,
    "start_time": "2024-08-26T02:08:52.071Z"
   },
   {
    "duration": 5,
    "start_time": "2024-08-26T02:08:52.078Z"
   },
   {
    "duration": 4,
    "start_time": "2024-08-26T02:08:52.086Z"
   },
   {
    "duration": 4,
    "start_time": "2024-08-26T02:08:52.093Z"
   },
   {
    "duration": 4,
    "start_time": "2024-08-26T02:08:52.100Z"
   },
   {
    "duration": 4,
    "start_time": "2024-08-26T02:08:52.108Z"
   },
   {
    "duration": 4,
    "start_time": "2024-08-26T02:08:52.115Z"
   },
   {
    "duration": 3,
    "start_time": "2024-08-26T02:08:52.169Z"
   },
   {
    "duration": 3,
    "start_time": "2024-08-26T02:08:52.176Z"
   },
   {
    "duration": 4,
    "start_time": "2024-08-26T02:08:52.182Z"
   },
   {
    "duration": 4,
    "start_time": "2024-08-26T02:08:52.190Z"
   },
   {
    "duration": 4,
    "start_time": "2024-08-26T02:08:52.197Z"
   },
   {
    "duration": 4,
    "start_time": "2024-08-26T02:08:52.204Z"
   },
   {
    "duration": 58,
    "start_time": "2024-08-26T02:08:52.211Z"
   },
   {
    "duration": 4,
    "start_time": "2024-08-26T02:08:52.272Z"
   },
   {
    "duration": 5,
    "start_time": "2024-08-26T02:09:52.156Z"
   },
   {
    "duration": 14,
    "start_time": "2024-08-26T02:09:53.766Z"
   },
   {
    "duration": 5,
    "start_time": "2024-08-26T02:10:08.988Z"
   },
   {
    "duration": 14,
    "start_time": "2024-08-26T02:10:10.081Z"
   },
   {
    "duration": 6,
    "start_time": "2024-08-26T02:10:28.579Z"
   },
   {
    "duration": 14,
    "start_time": "2024-08-26T02:10:29.338Z"
   },
   {
    "duration": 6,
    "start_time": "2024-08-26T02:10:41.636Z"
   },
   {
    "duration": 17,
    "start_time": "2024-08-26T02:10:42.028Z"
   },
   {
    "duration": 195,
    "start_time": "2024-08-26T02:11:26.043Z"
   },
   {
    "duration": 18,
    "start_time": "2024-08-26T02:11:26.450Z"
   },
   {
    "duration": 4,
    "start_time": "2024-08-26T02:11:51.229Z"
   },
   {
    "duration": 16,
    "start_time": "2024-08-26T02:11:52.079Z"
   },
   {
    "duration": 5,
    "start_time": "2024-08-26T02:12:08.206Z"
   },
   {
    "duration": 16,
    "start_time": "2024-08-26T02:12:08.639Z"
   },
   {
    "duration": 1295,
    "start_time": "2024-08-26T02:12:15.729Z"
   },
   {
    "duration": 270,
    "start_time": "2024-08-26T02:12:17.028Z"
   },
   {
    "duration": 25,
    "start_time": "2024-08-26T02:12:17.302Z"
   },
   {
    "duration": 160,
    "start_time": "2024-08-26T02:12:17.331Z"
   },
   {
    "duration": 30,
    "start_time": "2024-08-26T02:12:17.494Z"
   },
   {
    "duration": 44,
    "start_time": "2024-08-26T02:12:17.527Z"
   },
   {
    "duration": 96,
    "start_time": "2024-08-26T02:12:17.574Z"
   },
   {
    "duration": 23,
    "start_time": "2024-08-26T02:12:17.674Z"
   },
   {
    "duration": 15,
    "start_time": "2024-08-26T02:12:17.700Z"
   },
   {
    "duration": 6,
    "start_time": "2024-08-26T02:12:17.720Z"
   },
   {
    "duration": 54,
    "start_time": "2024-08-26T02:12:17.730Z"
   },
   {
    "duration": 22,
    "start_time": "2024-08-26T02:12:17.787Z"
   },
   {
    "duration": 146,
    "start_time": "2024-08-26T02:12:17.812Z"
   },
   {
    "duration": 31,
    "start_time": "2024-08-26T02:12:17.969Z"
   },
   {
    "duration": 14,
    "start_time": "2024-08-26T02:12:18.003Z"
   },
   {
    "duration": 81,
    "start_time": "2024-08-26T02:12:18.020Z"
   },
   {
    "duration": 13,
    "start_time": "2024-08-26T02:12:18.104Z"
   },
   {
    "duration": 56,
    "start_time": "2024-08-26T02:12:18.120Z"
   },
   {
    "duration": 17,
    "start_time": "2024-08-26T02:12:18.180Z"
   },
   {
    "duration": 7,
    "start_time": "2024-08-26T02:12:18.201Z"
   },
   {
    "duration": 7,
    "start_time": "2024-08-26T02:12:18.211Z"
   },
   {
    "duration": 45,
    "start_time": "2024-08-26T02:12:18.223Z"
   },
   {
    "duration": 8,
    "start_time": "2024-08-26T02:12:18.272Z"
   },
   {
    "duration": 5,
    "start_time": "2024-08-26T02:12:18.284Z"
   },
   {
    "duration": 16,
    "start_time": "2024-08-26T02:12:18.293Z"
   },
   {
    "duration": 4,
    "start_time": "2024-08-26T02:12:18.313Z"
   },
   {
    "duration": 49,
    "start_time": "2024-08-26T02:12:18.319Z"
   },
   {
    "duration": 3,
    "start_time": "2024-08-26T02:12:18.378Z"
   },
   {
    "duration": 5,
    "start_time": "2024-08-26T02:12:18.384Z"
   },
   {
    "duration": 4,
    "start_time": "2024-08-26T02:12:18.392Z"
   },
   {
    "duration": 4,
    "start_time": "2024-08-26T02:12:18.399Z"
   },
   {
    "duration": 4,
    "start_time": "2024-08-26T02:12:18.406Z"
   },
   {
    "duration": 57,
    "start_time": "2024-08-26T02:12:18.413Z"
   },
   {
    "duration": 4,
    "start_time": "2024-08-26T02:12:18.473Z"
   },
   {
    "duration": 4,
    "start_time": "2024-08-26T02:12:18.481Z"
   },
   {
    "duration": 4,
    "start_time": "2024-08-26T02:12:18.488Z"
   },
   {
    "duration": 3,
    "start_time": "2024-08-26T02:12:18.496Z"
   },
   {
    "duration": 4,
    "start_time": "2024-08-26T02:12:18.502Z"
   },
   {
    "duration": 4,
    "start_time": "2024-08-26T02:12:18.509Z"
   },
   {
    "duration": 5,
    "start_time": "2024-08-26T02:12:18.568Z"
   },
   {
    "duration": 4,
    "start_time": "2024-08-26T02:12:18.577Z"
   },
   {
    "duration": 4,
    "start_time": "2024-08-26T02:12:18.585Z"
   },
   {
    "duration": 4,
    "start_time": "2024-08-26T02:12:18.592Z"
   },
   {
    "duration": 4,
    "start_time": "2024-08-26T02:12:18.599Z"
   },
   {
    "duration": 3,
    "start_time": "2024-08-26T02:12:18.606Z"
   },
   {
    "duration": 58,
    "start_time": "2024-08-26T02:12:18.612Z"
   },
   {
    "duration": 6,
    "start_time": "2024-08-26T02:12:18.673Z"
   },
   {
    "duration": 5,
    "start_time": "2024-08-26T02:12:32.228Z"
   },
   {
    "duration": 17,
    "start_time": "2024-08-26T02:12:33.136Z"
   },
   {
    "duration": 19,
    "start_time": "2024-08-26T02:12:44.644Z"
   },
   {
    "duration": 5,
    "start_time": "2024-08-26T02:13:22.147Z"
   },
   {
    "duration": 16,
    "start_time": "2024-08-26T02:13:23.029Z"
   },
   {
    "duration": 5,
    "start_time": "2024-08-26T02:15:24.397Z"
   },
   {
    "duration": 5,
    "start_time": "2024-08-26T02:15:24.948Z"
   },
   {
    "duration": 16,
    "start_time": "2024-08-26T02:15:26.635Z"
   },
   {
    "duration": 6,
    "start_time": "2024-08-26T02:15:34.143Z"
   },
   {
    "duration": 17,
    "start_time": "2024-08-26T02:15:34.538Z"
   },
   {
    "duration": 17,
    "start_time": "2024-08-26T02:19:49.645Z"
   },
   {
    "duration": 6,
    "start_time": "2024-08-26T02:21:53.501Z"
   },
   {
    "duration": 6,
    "start_time": "2024-08-26T02:21:57.554Z"
   },
   {
    "duration": 5,
    "start_time": "2024-08-26T02:21:58.274Z"
   },
   {
    "duration": 15,
    "start_time": "2024-08-26T02:21:59.422Z"
   },
   {
    "duration": 5,
    "start_time": "2024-08-26T02:22:19.980Z"
   },
   {
    "duration": 5,
    "start_time": "2024-08-26T02:22:20.277Z"
   },
   {
    "duration": 5,
    "start_time": "2024-08-26T02:22:20.557Z"
   },
   {
    "duration": 968,
    "start_time": "2024-08-26T02:22:20.842Z"
   },
   {
    "duration": 0,
    "start_time": "2024-08-26T02:22:21.813Z"
   },
   {
    "duration": 0,
    "start_time": "2024-08-26T02:22:21.814Z"
   },
   {
    "duration": 1358,
    "start_time": "2024-08-26T02:22:33.076Z"
   },
   {
    "duration": 282,
    "start_time": "2024-08-26T02:22:34.438Z"
   },
   {
    "duration": 27,
    "start_time": "2024-08-26T02:22:34.723Z"
   },
   {
    "duration": 163,
    "start_time": "2024-08-26T02:22:34.757Z"
   },
   {
    "duration": 48,
    "start_time": "2024-08-26T02:22:34.922Z"
   },
   {
    "duration": 20,
    "start_time": "2024-08-26T02:22:34.973Z"
   },
   {
    "duration": 107,
    "start_time": "2024-08-26T02:22:34.996Z"
   },
   {
    "duration": 22,
    "start_time": "2024-08-26T02:22:35.107Z"
   },
   {
    "duration": 38,
    "start_time": "2024-08-26T02:22:35.131Z"
   },
   {
    "duration": 6,
    "start_time": "2024-08-26T02:22:35.175Z"
   },
   {
    "duration": 16,
    "start_time": "2024-08-26T02:22:35.184Z"
   },
   {
    "duration": 25,
    "start_time": "2024-08-26T02:22:35.203Z"
   },
   {
    "duration": 153,
    "start_time": "2024-08-26T02:22:35.230Z"
   },
   {
    "duration": 26,
    "start_time": "2024-08-26T02:22:35.386Z"
   },
   {
    "duration": 15,
    "start_time": "2024-08-26T02:22:35.415Z"
   },
   {
    "duration": 83,
    "start_time": "2024-08-26T02:22:35.432Z"
   },
   {
    "duration": 13,
    "start_time": "2024-08-26T02:22:35.518Z"
   },
   {
    "duration": 26,
    "start_time": "2024-08-26T02:22:35.567Z"
   },
   {
    "duration": 15,
    "start_time": "2024-08-26T02:22:35.597Z"
   },
   {
    "duration": 5,
    "start_time": "2024-08-26T02:22:35.616Z"
   },
   {
    "duration": 6,
    "start_time": "2024-08-26T02:22:35.624Z"
   },
   {
    "duration": 7,
    "start_time": "2024-08-26T02:22:35.669Z"
   },
   {
    "duration": 8,
    "start_time": "2024-08-26T02:22:35.679Z"
   },
   {
    "duration": 5,
    "start_time": "2024-08-26T02:22:35.691Z"
   },
   {
    "duration": 16,
    "start_time": "2024-08-26T02:22:35.699Z"
   },
   {
    "duration": 62,
    "start_time": "2024-08-26T02:22:35.718Z"
   },
   {
    "duration": 4,
    "start_time": "2024-08-26T02:22:35.784Z"
   },
   {
    "duration": 3,
    "start_time": "2024-08-26T02:22:35.796Z"
   },
   {
    "duration": 4,
    "start_time": "2024-08-26T02:22:35.802Z"
   },
   {
    "duration": 6,
    "start_time": "2024-08-26T02:22:35.809Z"
   },
   {
    "duration": 51,
    "start_time": "2024-08-26T02:22:35.817Z"
   },
   {
    "duration": 7,
    "start_time": "2024-08-26T02:22:35.872Z"
   },
   {
    "duration": 9,
    "start_time": "2024-08-26T02:22:35.883Z"
   },
   {
    "duration": 5,
    "start_time": "2024-08-26T02:22:35.896Z"
   },
   {
    "duration": 4,
    "start_time": "2024-08-26T02:22:35.908Z"
   },
   {
    "duration": 9,
    "start_time": "2024-08-26T02:22:35.915Z"
   },
   {
    "duration": 41,
    "start_time": "2024-08-26T02:22:35.928Z"
   },
   {
    "duration": 11,
    "start_time": "2024-08-26T02:22:35.972Z"
   },
   {
    "duration": 3,
    "start_time": "2024-08-26T02:22:35.986Z"
   },
   {
    "duration": 3,
    "start_time": "2024-08-26T02:22:35.992Z"
   },
   {
    "duration": 4,
    "start_time": "2024-08-26T02:22:35.999Z"
   },
   {
    "duration": 3,
    "start_time": "2024-08-26T02:22:36.006Z"
   },
   {
    "duration": 4,
    "start_time": "2024-08-26T02:22:36.012Z"
   },
   {
    "duration": 4,
    "start_time": "2024-08-26T02:22:36.068Z"
   },
   {
    "duration": 4,
    "start_time": "2024-08-26T02:22:36.076Z"
   },
   {
    "duration": 3,
    "start_time": "2024-08-26T02:22:36.083Z"
   },
   {
    "duration": 3,
    "start_time": "2024-08-26T02:22:36.090Z"
   },
   {
    "duration": 4,
    "start_time": "2024-08-26T02:22:36.096Z"
   },
   {
    "duration": 8,
    "start_time": "2024-08-26T02:26:00.126Z"
   },
   {
    "duration": 6,
    "start_time": "2024-08-26T02:30:04.022Z"
   },
   {
    "duration": 965,
    "start_time": "2024-08-26T02:30:04.705Z"
   },
   {
    "duration": 0,
    "start_time": "2024-08-26T02:30:05.673Z"
   },
   {
    "duration": 15,
    "start_time": "2024-08-26T02:30:05.822Z"
   },
   {
    "duration": 1222,
    "start_time": "2024-08-26T02:30:20.591Z"
   },
   {
    "duration": 273,
    "start_time": "2024-08-26T02:30:21.817Z"
   },
   {
    "duration": 26,
    "start_time": "2024-08-26T02:30:22.093Z"
   },
   {
    "duration": 166,
    "start_time": "2024-08-26T02:30:22.124Z"
   },
   {
    "duration": 30,
    "start_time": "2024-08-26T02:30:22.293Z"
   },
   {
    "duration": 49,
    "start_time": "2024-08-26T02:30:22.326Z"
   },
   {
    "duration": 97,
    "start_time": "2024-08-26T02:30:22.379Z"
   },
   {
    "duration": 22,
    "start_time": "2024-08-26T02:30:22.480Z"
   },
   {
    "duration": 13,
    "start_time": "2024-08-26T02:30:22.505Z"
   },
   {
    "duration": 5,
    "start_time": "2024-08-26T02:30:22.524Z"
   },
   {
    "duration": 14,
    "start_time": "2024-08-26T02:30:22.568Z"
   },
   {
    "duration": 23,
    "start_time": "2024-08-26T02:30:22.585Z"
   },
   {
    "duration": 133,
    "start_time": "2024-08-26T02:30:22.611Z"
   },
   {
    "duration": 34,
    "start_time": "2024-08-26T02:30:22.747Z"
   },
   {
    "duration": 15,
    "start_time": "2024-08-26T02:30:22.784Z"
   },
   {
    "duration": 80,
    "start_time": "2024-08-26T02:30:22.802Z"
   },
   {
    "duration": 13,
    "start_time": "2024-08-26T02:30:22.885Z"
   },
   {
    "duration": 26,
    "start_time": "2024-08-26T02:30:22.900Z"
   },
   {
    "duration": 46,
    "start_time": "2024-08-26T02:30:22.929Z"
   },
   {
    "duration": 6,
    "start_time": "2024-08-26T02:30:22.978Z"
   },
   {
    "duration": 5,
    "start_time": "2024-08-26T02:30:22.987Z"
   },
   {
    "duration": 8,
    "start_time": "2024-08-26T02:30:22.996Z"
   },
   {
    "duration": 995,
    "start_time": "2024-08-26T02:30:23.007Z"
   },
   {
    "duration": 0,
    "start_time": "2024-08-26T02:30:24.007Z"
   },
   {
    "duration": 0,
    "start_time": "2024-08-26T02:30:24.009Z"
   },
   {
    "duration": 0,
    "start_time": "2024-08-26T02:30:24.012Z"
   },
   {
    "duration": 0,
    "start_time": "2024-08-26T02:30:24.014Z"
   },
   {
    "duration": 0,
    "start_time": "2024-08-26T02:30:24.015Z"
   },
   {
    "duration": 0,
    "start_time": "2024-08-26T02:30:24.017Z"
   },
   {
    "duration": 0,
    "start_time": "2024-08-26T02:30:24.019Z"
   },
   {
    "duration": 0,
    "start_time": "2024-08-26T02:30:24.021Z"
   },
   {
    "duration": 0,
    "start_time": "2024-08-26T02:30:24.023Z"
   },
   {
    "duration": 0,
    "start_time": "2024-08-26T02:30:24.026Z"
   },
   {
    "duration": 0,
    "start_time": "2024-08-26T02:30:24.029Z"
   },
   {
    "duration": 0,
    "start_time": "2024-08-26T02:30:24.069Z"
   },
   {
    "duration": 0,
    "start_time": "2024-08-26T02:30:24.072Z"
   },
   {
    "duration": 0,
    "start_time": "2024-08-26T02:30:24.074Z"
   },
   {
    "duration": 1,
    "start_time": "2024-08-26T02:30:24.077Z"
   },
   {
    "duration": 0,
    "start_time": "2024-08-26T02:30:24.080Z"
   },
   {
    "duration": 0,
    "start_time": "2024-08-26T02:30:24.082Z"
   },
   {
    "duration": 0,
    "start_time": "2024-08-26T02:30:24.085Z"
   },
   {
    "duration": 0,
    "start_time": "2024-08-26T02:30:24.087Z"
   },
   {
    "duration": 0,
    "start_time": "2024-08-26T02:30:24.090Z"
   },
   {
    "duration": 0,
    "start_time": "2024-08-26T02:30:24.092Z"
   },
   {
    "duration": 0,
    "start_time": "2024-08-26T02:30:24.095Z"
   },
   {
    "duration": 0,
    "start_time": "2024-08-26T02:30:24.097Z"
   },
   {
    "duration": 0,
    "start_time": "2024-08-26T02:30:24.100Z"
   },
   {
    "duration": 0,
    "start_time": "2024-08-26T02:30:24.102Z"
   },
   {
    "duration": 5,
    "start_time": "2024-08-26T02:30:30.345Z"
   },
   {
    "duration": 5,
    "start_time": "2024-08-26T02:30:30.894Z"
   },
   {
    "duration": 5,
    "start_time": "2024-08-26T02:30:32.347Z"
   },
   {
    "duration": 16,
    "start_time": "2024-08-26T02:30:33.131Z"
   },
   {
    "duration": 1290,
    "start_time": "2024-08-26T02:30:46.040Z"
   },
   {
    "duration": 286,
    "start_time": "2024-08-26T02:30:47.334Z"
   },
   {
    "duration": 26,
    "start_time": "2024-08-26T02:30:47.622Z"
   },
   {
    "duration": 160,
    "start_time": "2024-08-26T02:30:47.654Z"
   },
   {
    "duration": 54,
    "start_time": "2024-08-26T02:30:47.818Z"
   },
   {
    "duration": 21,
    "start_time": "2024-08-26T02:30:47.876Z"
   },
   {
    "duration": 104,
    "start_time": "2024-08-26T02:30:47.900Z"
   },
   {
    "duration": 22,
    "start_time": "2024-08-26T02:30:48.007Z"
   },
   {
    "duration": 46,
    "start_time": "2024-08-26T02:30:48.033Z"
   },
   {
    "duration": 5,
    "start_time": "2024-08-26T02:30:48.086Z"
   },
   {
    "duration": 16,
    "start_time": "2024-08-26T02:30:48.094Z"
   },
   {
    "duration": 56,
    "start_time": "2024-08-26T02:30:48.113Z"
   },
   {
    "duration": 121,
    "start_time": "2024-08-26T02:30:48.172Z"
   },
   {
    "duration": 27,
    "start_time": "2024-08-26T02:30:48.296Z"
   },
   {
    "duration": 43,
    "start_time": "2024-08-26T02:30:48.325Z"
   },
   {
    "duration": 63,
    "start_time": "2024-08-26T02:30:48.371Z"
   },
   {
    "duration": 34,
    "start_time": "2024-08-26T02:30:48.439Z"
   },
   {
    "duration": 27,
    "start_time": "2024-08-26T02:30:48.477Z"
   },
   {
    "duration": 18,
    "start_time": "2024-08-26T02:30:48.507Z"
   },
   {
    "duration": 38,
    "start_time": "2024-08-26T02:30:48.531Z"
   },
   {
    "duration": 10,
    "start_time": "2024-08-26T02:30:48.573Z"
   },
   {
    "duration": 7,
    "start_time": "2024-08-26T02:30:48.586Z"
   },
   {
    "duration": 7,
    "start_time": "2024-08-26T02:30:48.595Z"
   },
   {
    "duration": 6,
    "start_time": "2024-08-26T02:30:48.606Z"
   },
   {
    "duration": 58,
    "start_time": "2024-08-26T02:30:48.615Z"
   },
   {
    "duration": 19,
    "start_time": "2024-08-26T02:30:48.679Z"
   },
   {
    "duration": 3,
    "start_time": "2024-08-26T02:30:48.701Z"
   },
   {
    "duration": 3,
    "start_time": "2024-08-26T02:30:48.714Z"
   },
   {
    "duration": 4,
    "start_time": "2024-08-26T02:30:48.720Z"
   },
   {
    "duration": 6,
    "start_time": "2024-08-26T02:30:48.769Z"
   },
   {
    "duration": 4,
    "start_time": "2024-08-26T02:30:48.781Z"
   },
   {
    "duration": 7,
    "start_time": "2024-08-26T02:30:48.789Z"
   },
   {
    "duration": 5,
    "start_time": "2024-08-26T02:30:48.798Z"
   },
   {
    "duration": 4,
    "start_time": "2024-08-26T02:30:48.806Z"
   },
   {
    "duration": 4,
    "start_time": "2024-08-26T02:30:48.813Z"
   },
   {
    "duration": 10,
    "start_time": "2024-08-26T02:30:48.868Z"
   },
   {
    "duration": 4,
    "start_time": "2024-08-26T02:30:48.881Z"
   },
   {
    "duration": 3,
    "start_time": "2024-08-26T02:30:48.888Z"
   },
   {
    "duration": 4,
    "start_time": "2024-08-26T02:30:48.895Z"
   },
   {
    "duration": 4,
    "start_time": "2024-08-26T02:30:48.902Z"
   },
   {
    "duration": 3,
    "start_time": "2024-08-26T02:30:48.910Z"
   },
   {
    "duration": 51,
    "start_time": "2024-08-26T02:30:48.917Z"
   },
   {
    "duration": 4,
    "start_time": "2024-08-26T02:30:48.971Z"
   },
   {
    "duration": 7,
    "start_time": "2024-08-26T02:30:48.979Z"
   },
   {
    "duration": 3,
    "start_time": "2024-08-26T02:30:48.990Z"
   },
   {
    "duration": 5,
    "start_time": "2024-08-26T02:30:48.997Z"
   },
   {
    "duration": 3,
    "start_time": "2024-08-26T02:30:49.007Z"
   },
   {
    "duration": 54,
    "start_time": "2024-08-26T02:30:49.014Z"
   },
   {
    "duration": 7,
    "start_time": "2024-08-26T03:00:25.355Z"
   },
   {
    "duration": 6,
    "start_time": "2024-08-26T03:00:25.548Z"
   },
   {
    "duration": 5,
    "start_time": "2024-08-26T03:00:25.832Z"
   },
   {
    "duration": 16,
    "start_time": "2024-08-26T03:00:26.154Z"
   },
   {
    "duration": 1302,
    "start_time": "2024-08-26T03:00:33.859Z"
   },
   {
    "duration": 285,
    "start_time": "2024-08-26T03:00:35.168Z"
   },
   {
    "duration": 31,
    "start_time": "2024-08-26T03:00:35.456Z"
   },
   {
    "duration": 144,
    "start_time": "2024-08-26T03:00:35.491Z"
   },
   {
    "duration": 45,
    "start_time": "2024-08-26T03:00:35.638Z"
   },
   {
    "duration": 20,
    "start_time": "2024-08-26T03:00:35.685Z"
   },
   {
    "duration": 100,
    "start_time": "2024-08-26T03:00:35.708Z"
   },
   {
    "duration": 22,
    "start_time": "2024-08-26T03:00:35.811Z"
   },
   {
    "duration": 40,
    "start_time": "2024-08-26T03:00:35.835Z"
   },
   {
    "duration": 6,
    "start_time": "2024-08-26T03:00:35.882Z"
   },
   {
    "duration": 17,
    "start_time": "2024-08-26T03:00:35.891Z"
   },
   {
    "duration": 66,
    "start_time": "2024-08-26T03:00:35.912Z"
   },
   {
    "duration": 117,
    "start_time": "2024-08-26T03:00:35.981Z"
   },
   {
    "duration": 28,
    "start_time": "2024-08-26T03:00:36.102Z"
   },
   {
    "duration": 44,
    "start_time": "2024-08-26T03:00:36.133Z"
   },
   {
    "duration": 47,
    "start_time": "2024-08-26T03:00:36.181Z"
   },
   {
    "duration": 39,
    "start_time": "2024-08-26T03:00:36.231Z"
   },
   {
    "duration": 27,
    "start_time": "2024-08-26T03:00:36.273Z"
   },
   {
    "duration": 16,
    "start_time": "2024-08-26T03:00:36.303Z"
   },
   {
    "duration": 45,
    "start_time": "2024-08-26T03:00:36.323Z"
   },
   {
    "duration": 6,
    "start_time": "2024-08-26T03:00:36.371Z"
   },
   {
    "duration": 7,
    "start_time": "2024-08-26T03:00:36.381Z"
   },
   {
    "duration": 6,
    "start_time": "2024-08-26T03:00:36.392Z"
   },
   {
    "duration": 5,
    "start_time": "2024-08-26T03:00:36.403Z"
   },
   {
    "duration": 58,
    "start_time": "2024-08-26T03:00:36.411Z"
   },
   {
    "duration": 20,
    "start_time": "2024-08-26T03:00:36.473Z"
   },
   {
    "duration": 3,
    "start_time": "2024-08-26T03:00:36.496Z"
   },
   {
    "duration": 3,
    "start_time": "2024-08-26T03:00:36.509Z"
   },
   {
    "duration": 4,
    "start_time": "2024-08-26T03:00:36.515Z"
   },
   {
    "duration": 3,
    "start_time": "2024-08-26T03:00:36.570Z"
   },
   {
    "duration": 7,
    "start_time": "2024-08-26T03:00:36.577Z"
   },
   {
    "duration": 4,
    "start_time": "2024-08-26T03:00:36.587Z"
   },
   {
    "duration": 4,
    "start_time": "2024-08-26T03:00:36.594Z"
   },
   {
    "duration": 4,
    "start_time": "2024-08-26T03:00:36.601Z"
   },
   {
    "duration": 6,
    "start_time": "2024-08-26T03:00:36.609Z"
   },
   {
    "duration": 3,
    "start_time": "2024-08-26T03:00:36.668Z"
   },
   {
    "duration": 4,
    "start_time": "2024-08-26T03:00:36.675Z"
   },
   {
    "duration": 4,
    "start_time": "2024-08-26T03:00:36.683Z"
   },
   {
    "duration": 4,
    "start_time": "2024-08-26T03:00:36.691Z"
   },
   {
    "duration": 4,
    "start_time": "2024-08-26T03:00:36.697Z"
   },
   {
    "duration": 4,
    "start_time": "2024-08-26T03:00:36.704Z"
   },
   {
    "duration": 3,
    "start_time": "2024-08-26T03:00:36.711Z"
   },
   {
    "duration": 4,
    "start_time": "2024-08-26T03:00:36.770Z"
   },
   {
    "duration": 4,
    "start_time": "2024-08-26T03:00:36.777Z"
   },
   {
    "duration": 4,
    "start_time": "2024-08-26T03:00:36.784Z"
   },
   {
    "duration": 4,
    "start_time": "2024-08-26T03:00:36.791Z"
   },
   {
    "duration": 3,
    "start_time": "2024-08-26T03:00:36.799Z"
   },
   {
    "duration": 4,
    "start_time": "2024-08-26T03:00:36.806Z"
   },
   {
    "duration": 71,
    "start_time": "2024-08-26T03:01:20.811Z"
   },
   {
    "duration": 49,
    "start_time": "2024-08-26T03:01:52.178Z"
   },
   {
    "duration": 18,
    "start_time": "2024-08-26T03:02:07.076Z"
   },
   {
    "duration": 17,
    "start_time": "2024-08-26T03:03:27.351Z"
   },
   {
    "duration": 17,
    "start_time": "2024-08-26T03:03:31.301Z"
   },
   {
    "duration": 121,
    "start_time": "2024-08-26T03:08:17.441Z"
   },
   {
    "duration": 462,
    "start_time": "2024-08-26T03:08:45.521Z"
   },
   {
    "duration": 14,
    "start_time": "2024-08-26T03:08:49.209Z"
   },
   {
    "duration": 52,
    "start_time": "2024-08-26T03:09:38.290Z"
   },
   {
    "duration": 16,
    "start_time": "2024-08-26T03:09:53.424Z"
   },
   {
    "duration": 7,
    "start_time": "2024-08-26T03:10:28.218Z"
   },
   {
    "duration": 13,
    "start_time": "2024-08-26T03:11:21.997Z"
   },
   {
    "duration": 7,
    "start_time": "2024-08-26T03:17:09.475Z"
   },
   {
    "duration": 21,
    "start_time": "2024-08-26T03:17:46.904Z"
   },
   {
    "duration": 21,
    "start_time": "2024-08-26T03:18:03.290Z"
   },
   {
    "duration": 20,
    "start_time": "2024-08-26T03:18:16.492Z"
   },
   {
    "duration": 16,
    "start_time": "2024-08-26T03:26:47.201Z"
   },
   {
    "duration": 21,
    "start_time": "2024-08-26T03:26:55.191Z"
   },
   {
    "duration": 43,
    "start_time": "2024-08-26T03:27:54.519Z"
   },
   {
    "duration": 51,
    "start_time": "2024-08-26T03:28:06.358Z"
   },
   {
    "duration": 46,
    "start_time": "2024-08-26T03:34:46.090Z"
   },
   {
    "duration": 71,
    "start_time": "2024-08-26T03:38:05.132Z"
   },
   {
    "duration": 37,
    "start_time": "2024-08-26T03:39:00.491Z"
   },
   {
    "duration": 2565,
    "start_time": "2024-08-27T00:18:47.394Z"
   },
   {
    "duration": 214,
    "start_time": "2024-08-27T00:18:49.962Z"
   },
   {
    "duration": 17,
    "start_time": "2024-08-27T00:18:50.177Z"
   },
   {
    "duration": 64,
    "start_time": "2024-08-27T00:18:50.197Z"
   },
   {
    "duration": 19,
    "start_time": "2024-08-27T00:18:50.263Z"
   },
   {
    "duration": 12,
    "start_time": "2024-08-27T00:18:50.283Z"
   },
   {
    "duration": 56,
    "start_time": "2024-08-27T00:18:50.297Z"
   },
   {
    "duration": 15,
    "start_time": "2024-08-27T00:18:50.354Z"
   },
   {
    "duration": 8,
    "start_time": "2024-08-27T00:18:50.370Z"
   },
   {
    "duration": 3,
    "start_time": "2024-08-27T00:18:50.381Z"
   },
   {
    "duration": 8,
    "start_time": "2024-08-27T00:18:50.385Z"
   },
   {
    "duration": 50,
    "start_time": "2024-08-27T00:18:50.395Z"
   },
   {
    "duration": 47,
    "start_time": "2024-08-27T00:18:50.447Z"
   },
   {
    "duration": 16,
    "start_time": "2024-08-27T00:18:50.496Z"
   },
   {
    "duration": 8,
    "start_time": "2024-08-27T00:18:50.513Z"
   },
   {
    "duration": 26,
    "start_time": "2024-08-27T00:18:50.540Z"
   },
   {
    "duration": 8,
    "start_time": "2024-08-27T00:18:50.568Z"
   },
   {
    "duration": 14,
    "start_time": "2024-08-27T00:18:50.578Z"
   },
   {
    "duration": 9,
    "start_time": "2024-08-27T00:18:50.594Z"
   },
   {
    "duration": 4,
    "start_time": "2024-08-27T00:18:50.604Z"
   },
   {
    "duration": 34,
    "start_time": "2024-08-27T00:18:50.609Z"
   },
   {
    "duration": 6,
    "start_time": "2024-08-27T00:18:50.645Z"
   },
   {
    "duration": 4,
    "start_time": "2024-08-27T00:18:50.653Z"
   },
   {
    "duration": 3,
    "start_time": "2024-08-27T00:18:50.659Z"
   },
   {
    "duration": 12,
    "start_time": "2024-08-27T00:18:50.663Z"
   },
   {
    "duration": 11,
    "start_time": "2024-08-27T00:18:50.677Z"
   },
   {
    "duration": 73,
    "start_time": "2024-08-27T00:18:50.690Z"
   },
   {
    "duration": 10,
    "start_time": "2024-08-27T00:18:50.766Z"
   },
   {
    "duration": 73,
    "start_time": "2024-08-27T00:18:50.779Z"
   },
   {
    "duration": 8,
    "start_time": "2024-08-27T00:18:50.854Z"
   },
   {
    "duration": 30,
    "start_time": "2024-08-27T00:18:50.863Z"
   },
   {
    "duration": 8,
    "start_time": "2024-08-27T00:18:50.896Z"
   },
   {
    "duration": 11,
    "start_time": "2024-08-27T00:18:50.905Z"
   },
   {
    "duration": 42,
    "start_time": "2024-08-27T00:18:50.941Z"
   },
   {
    "duration": 22,
    "start_time": "2024-08-27T00:18:50.984Z"
   },
   {
    "duration": 2,
    "start_time": "2024-08-27T00:18:51.008Z"
   },
   {
    "duration": 2,
    "start_time": "2024-08-27T00:18:51.012Z"
   },
   {
    "duration": 2,
    "start_time": "2024-08-27T00:18:51.041Z"
   },
   {
    "duration": 3,
    "start_time": "2024-08-27T00:18:51.044Z"
   },
   {
    "duration": 2,
    "start_time": "2024-08-27T00:18:51.049Z"
   },
   {
    "duration": 2,
    "start_time": "2024-08-27T00:18:51.053Z"
   },
   {
    "duration": 3,
    "start_time": "2024-08-27T00:18:51.056Z"
   },
   {
    "duration": 2,
    "start_time": "2024-08-27T00:18:51.061Z"
   },
   {
    "duration": 2,
    "start_time": "2024-08-27T00:18:51.065Z"
   },
   {
    "duration": 2,
    "start_time": "2024-08-27T00:18:51.068Z"
   },
   {
    "duration": 2,
    "start_time": "2024-08-27T00:18:51.072Z"
   },
   {
    "duration": 2,
    "start_time": "2024-08-27T00:18:51.076Z"
   },
   {
    "duration": 2,
    "start_time": "2024-08-27T00:18:51.080Z"
   },
   {
    "duration": 9,
    "start_time": "2024-08-27T00:19:52.811Z"
   },
   {
    "duration": 16,
    "start_time": "2024-08-27T00:21:21.766Z"
   },
   {
    "duration": 23,
    "start_time": "2024-08-27T00:21:25.953Z"
   },
   {
    "duration": 23,
    "start_time": "2024-08-27T00:21:28.762Z"
   },
   {
    "duration": 14,
    "start_time": "2024-08-27T00:23:05.440Z"
   },
   {
    "duration": 27,
    "start_time": "2024-08-27T00:24:48.052Z"
   },
   {
    "duration": 20,
    "start_time": "2024-08-27T00:27:57.838Z"
   },
   {
    "duration": 10,
    "start_time": "2024-08-27T00:28:15.258Z"
   },
   {
    "duration": 23,
    "start_time": "2024-08-27T00:29:00.140Z"
   },
   {
    "duration": 8,
    "start_time": "2024-08-27T00:29:01.098Z"
   },
   {
    "duration": 16,
    "start_time": "2024-08-27T00:29:03.293Z"
   },
   {
    "duration": 818,
    "start_time": "2024-08-27T00:29:10.408Z"
   },
   {
    "duration": 173,
    "start_time": "2024-08-27T00:29:11.228Z"
   },
   {
    "duration": 17,
    "start_time": "2024-08-27T00:29:11.403Z"
   },
   {
    "duration": 71,
    "start_time": "2024-08-27T00:29:11.423Z"
   },
   {
    "duration": 22,
    "start_time": "2024-08-27T00:29:11.497Z"
   },
   {
    "duration": 23,
    "start_time": "2024-08-27T00:29:11.521Z"
   },
   {
    "duration": 34,
    "start_time": "2024-08-27T00:29:11.546Z"
   },
   {
    "duration": 14,
    "start_time": "2024-08-27T00:29:11.582Z"
   },
   {
    "duration": 10,
    "start_time": "2024-08-27T00:29:11.598Z"
   },
   {
    "duration": 30,
    "start_time": "2024-08-27T00:29:11.612Z"
   },
   {
    "duration": 8,
    "start_time": "2024-08-27T00:29:11.644Z"
   },
   {
    "duration": 14,
    "start_time": "2024-08-27T00:29:11.654Z"
   },
   {
    "duration": 48,
    "start_time": "2024-08-27T00:29:11.670Z"
   },
   {
    "duration": 22,
    "start_time": "2024-08-27T00:29:11.741Z"
   },
   {
    "duration": 8,
    "start_time": "2024-08-27T00:29:11.765Z"
   },
   {
    "duration": 27,
    "start_time": "2024-08-27T00:29:11.775Z"
   },
   {
    "duration": 8,
    "start_time": "2024-08-27T00:29:11.803Z"
   },
   {
    "duration": 15,
    "start_time": "2024-08-27T00:29:11.841Z"
   },
   {
    "duration": 9,
    "start_time": "2024-08-27T00:29:11.858Z"
   },
   {
    "duration": 3,
    "start_time": "2024-08-27T00:29:11.869Z"
   },
   {
    "duration": 3,
    "start_time": "2024-08-27T00:29:11.874Z"
   },
   {
    "duration": 5,
    "start_time": "2024-08-27T00:29:11.878Z"
   },
   {
    "duration": 4,
    "start_time": "2024-08-27T00:29:11.884Z"
   },
   {
    "duration": 3,
    "start_time": "2024-08-27T00:29:11.889Z"
   },
   {
    "duration": 50,
    "start_time": "2024-08-27T00:29:11.894Z"
   },
   {
    "duration": 11,
    "start_time": "2024-08-27T00:29:11.945Z"
   },
   {
    "duration": 39,
    "start_time": "2024-08-27T00:29:11.958Z"
   },
   {
    "duration": 41,
    "start_time": "2024-08-27T00:29:12.001Z"
   },
   {
    "duration": 58,
    "start_time": "2024-08-27T00:29:12.043Z"
   },
   {
    "duration": 9,
    "start_time": "2024-08-27T00:29:12.103Z"
   },
   {
    "duration": 54,
    "start_time": "2024-08-27T00:29:12.114Z"
   },
   {
    "duration": 9,
    "start_time": "2024-08-27T00:29:12.170Z"
   },
   {
    "duration": 6,
    "start_time": "2024-08-27T00:29:12.181Z"
   },
   {
    "duration": 24,
    "start_time": "2024-08-27T00:29:12.189Z"
   },
   {
    "duration": 45,
    "start_time": "2024-08-27T00:29:12.215Z"
   },
   {
    "duration": 32,
    "start_time": "2024-08-27T00:29:12.262Z"
   },
   {
    "duration": 5,
    "start_time": "2024-08-27T00:29:12.296Z"
   },
   {
    "duration": 306,
    "start_time": "2024-08-27T00:29:12.303Z"
   },
   {
    "duration": 0,
    "start_time": "2024-08-27T00:29:12.611Z"
   },
   {
    "duration": 0,
    "start_time": "2024-08-27T00:29:12.612Z"
   },
   {
    "duration": 0,
    "start_time": "2024-08-27T00:29:12.613Z"
   },
   {
    "duration": 0,
    "start_time": "2024-08-27T00:29:12.615Z"
   },
   {
    "duration": 0,
    "start_time": "2024-08-27T00:29:12.616Z"
   },
   {
    "duration": 0,
    "start_time": "2024-08-27T00:29:12.617Z"
   },
   {
    "duration": 0,
    "start_time": "2024-08-27T00:29:12.619Z"
   },
   {
    "duration": 0,
    "start_time": "2024-08-27T00:29:12.620Z"
   },
   {
    "duration": 0,
    "start_time": "2024-08-27T00:29:12.640Z"
   },
   {
    "duration": 0,
    "start_time": "2024-08-27T00:29:12.641Z"
   },
   {
    "duration": 0,
    "start_time": "2024-08-27T00:29:12.644Z"
   },
   {
    "duration": 0,
    "start_time": "2024-08-27T00:29:12.645Z"
   },
   {
    "duration": 19,
    "start_time": "2024-08-27T00:30:16.538Z"
   },
   {
    "duration": 7,
    "start_time": "2024-08-27T00:31:01.773Z"
   },
   {
    "duration": 7,
    "start_time": "2024-08-27T00:31:52.933Z"
   },
   {
    "duration": 319,
    "start_time": "2024-08-27T00:32:17.633Z"
   },
   {
    "duration": 320,
    "start_time": "2024-08-27T00:33:37.114Z"
   },
   {
    "duration": 49,
    "start_time": "2024-08-27T00:33:37.752Z"
   },
   {
    "duration": 818,
    "start_time": "2024-08-27T00:33:52.424Z"
   },
   {
    "duration": 158,
    "start_time": "2024-08-27T00:33:53.245Z"
   },
   {
    "duration": 17,
    "start_time": "2024-08-27T00:33:53.405Z"
   },
   {
    "duration": 67,
    "start_time": "2024-08-27T00:33:53.425Z"
   },
   {
    "duration": 20,
    "start_time": "2024-08-27T00:33:53.494Z"
   },
   {
    "duration": 29,
    "start_time": "2024-08-27T00:33:53.516Z"
   },
   {
    "duration": 36,
    "start_time": "2024-08-27T00:33:53.547Z"
   },
   {
    "duration": 14,
    "start_time": "2024-08-27T00:33:53.585Z"
   },
   {
    "duration": 8,
    "start_time": "2024-08-27T00:33:53.601Z"
   },
   {
    "duration": 32,
    "start_time": "2024-08-27T00:33:53.612Z"
   },
   {
    "duration": 12,
    "start_time": "2024-08-27T00:33:53.645Z"
   },
   {
    "duration": 15,
    "start_time": "2024-08-27T00:33:53.659Z"
   },
   {
    "duration": 75,
    "start_time": "2024-08-27T00:33:53.676Z"
   },
   {
    "duration": 17,
    "start_time": "2024-08-27T00:33:53.754Z"
   },
   {
    "duration": 8,
    "start_time": "2024-08-27T00:33:53.773Z"
   },
   {
    "duration": 27,
    "start_time": "2024-08-27T00:33:53.783Z"
   },
   {
    "duration": 9,
    "start_time": "2024-08-27T00:33:53.841Z"
   },
   {
    "duration": 14,
    "start_time": "2024-08-27T00:33:53.852Z"
   },
   {
    "duration": 10,
    "start_time": "2024-08-27T00:33:53.868Z"
   },
   {
    "duration": 4,
    "start_time": "2024-08-27T00:33:53.880Z"
   },
   {
    "duration": 3,
    "start_time": "2024-08-27T00:33:53.886Z"
   },
   {
    "duration": 4,
    "start_time": "2024-08-27T00:33:53.891Z"
   },
   {
    "duration": 44,
    "start_time": "2024-08-27T00:33:53.896Z"
   },
   {
    "duration": 4,
    "start_time": "2024-08-27T00:33:53.942Z"
   },
   {
    "duration": 10,
    "start_time": "2024-08-27T00:33:53.948Z"
   },
   {
    "duration": 11,
    "start_time": "2024-08-27T00:33:53.960Z"
   },
   {
    "duration": 40,
    "start_time": "2024-08-27T00:33:53.973Z"
   },
   {
    "duration": 10,
    "start_time": "2024-08-27T00:33:54.043Z"
   },
   {
    "duration": 62,
    "start_time": "2024-08-27T00:33:54.055Z"
   },
   {
    "duration": 31,
    "start_time": "2024-08-27T00:33:54.119Z"
   },
   {
    "duration": 31,
    "start_time": "2024-08-27T00:33:54.152Z"
   },
   {
    "duration": 9,
    "start_time": "2024-08-27T00:33:54.185Z"
   },
   {
    "duration": 8,
    "start_time": "2024-08-27T00:33:54.195Z"
   },
   {
    "duration": 54,
    "start_time": "2024-08-27T00:33:54.205Z"
   },
   {
    "duration": 22,
    "start_time": "2024-08-27T00:33:54.260Z"
   },
   {
    "duration": 22,
    "start_time": "2024-08-27T00:33:54.284Z"
   },
   {
    "duration": 8,
    "start_time": "2024-08-27T00:33:54.308Z"
   },
   {
    "duration": 759,
    "start_time": "2024-08-27T00:33:54.317Z"
   },
   {
    "duration": 0,
    "start_time": "2024-08-27T00:33:55.078Z"
   },
   {
    "duration": 0,
    "start_time": "2024-08-27T00:33:55.079Z"
   },
   {
    "duration": 0,
    "start_time": "2024-08-27T00:33:55.081Z"
   },
   {
    "duration": 0,
    "start_time": "2024-08-27T00:33:55.082Z"
   },
   {
    "duration": 0,
    "start_time": "2024-08-27T00:33:55.084Z"
   },
   {
    "duration": 0,
    "start_time": "2024-08-27T00:33:55.085Z"
   },
   {
    "duration": 0,
    "start_time": "2024-08-27T00:33:55.087Z"
   },
   {
    "duration": 0,
    "start_time": "2024-08-27T00:33:55.088Z"
   },
   {
    "duration": 0,
    "start_time": "2024-08-27T00:33:55.090Z"
   },
   {
    "duration": 0,
    "start_time": "2024-08-27T00:33:55.091Z"
   },
   {
    "duration": 0,
    "start_time": "2024-08-27T00:33:55.093Z"
   },
   {
    "duration": 0,
    "start_time": "2024-08-27T00:33:55.094Z"
   },
   {
    "duration": 0,
    "start_time": "2024-08-27T00:33:55.095Z"
   },
   {
    "duration": 0,
    "start_time": "2024-08-27T00:33:55.096Z"
   },
   {
    "duration": 16,
    "start_time": "2024-08-27T00:34:09.901Z"
   },
   {
    "duration": 20,
    "start_time": "2024-08-27T00:34:11.538Z"
   },
   {
    "duration": 7,
    "start_time": "2024-08-27T00:34:25.910Z"
   },
   {
    "duration": 18,
    "start_time": "2024-08-27T00:35:16.514Z"
   },
   {
    "duration": 36,
    "start_time": "2024-08-27T00:36:33.364Z"
   },
   {
    "duration": 19,
    "start_time": "2024-08-27T00:37:02.927Z"
   },
   {
    "duration": 20,
    "start_time": "2024-08-27T00:54:24.898Z"
   },
   {
    "duration": 72,
    "start_time": "2024-08-27T00:55:52.820Z"
   },
   {
    "duration": 63,
    "start_time": "2024-08-27T00:57:55.697Z"
   },
   {
    "duration": 61,
    "start_time": "2024-08-27T00:58:10.108Z"
   },
   {
    "duration": 60,
    "start_time": "2024-08-27T00:58:13.893Z"
   },
   {
    "duration": 61,
    "start_time": "2024-08-27T00:58:19.679Z"
   },
   {
    "duration": 301,
    "start_time": "2024-08-27T00:58:27.166Z"
   },
   {
    "duration": 8,
    "start_time": "2024-08-27T00:59:38.794Z"
   },
   {
    "duration": 2,
    "start_time": "2024-08-27T01:02:39.468Z"
   },
   {
    "duration": 20,
    "start_time": "2024-08-27T01:02:39.903Z"
   },
   {
    "duration": 17,
    "start_time": "2024-08-27T01:03:10.237Z"
   },
   {
    "duration": 4,
    "start_time": "2024-08-27T01:03:11.034Z"
   },
   {
    "duration": 10,
    "start_time": "2024-08-27T01:03:18.792Z"
   },
   {
    "duration": 8,
    "start_time": "2024-08-27T01:04:48.876Z"
   },
   {
    "duration": 15,
    "start_time": "2024-08-27T01:05:40.029Z"
   },
   {
    "duration": 18,
    "start_time": "2024-08-27T01:06:09.198Z"
   },
   {
    "duration": 71,
    "start_time": "2024-08-27T01:06:17.297Z"
   },
   {
    "duration": 31,
    "start_time": "2024-08-27T01:10:22.295Z"
   },
   {
    "duration": 6,
    "start_time": "2024-08-27T01:10:46.002Z"
   },
   {
    "duration": 7,
    "start_time": "2024-08-27T01:10:53.584Z"
   },
   {
    "duration": 2,
    "start_time": "2024-08-27T01:10:54.466Z"
   },
   {
    "duration": 6,
    "start_time": "2024-08-27T01:10:58.363Z"
   },
   {
    "duration": 797,
    "start_time": "2024-08-27T01:11:06.634Z"
   },
   {
    "duration": 152,
    "start_time": "2024-08-27T01:11:07.440Z"
   },
   {
    "duration": 16,
    "start_time": "2024-08-27T01:11:07.594Z"
   },
   {
    "duration": 70,
    "start_time": "2024-08-27T01:11:07.612Z"
   },
   {
    "duration": 19,
    "start_time": "2024-08-27T01:11:07.684Z"
   },
   {
    "duration": 12,
    "start_time": "2024-08-27T01:11:07.706Z"
   },
   {
    "duration": 53,
    "start_time": "2024-08-27T01:11:07.719Z"
   },
   {
    "duration": 14,
    "start_time": "2024-08-27T01:11:07.774Z"
   },
   {
    "duration": 8,
    "start_time": "2024-08-27T01:11:07.789Z"
   },
   {
    "duration": 2,
    "start_time": "2024-08-27T01:11:07.801Z"
   },
   {
    "duration": 9,
    "start_time": "2024-08-27T01:11:07.805Z"
   },
   {
    "duration": 37,
    "start_time": "2024-08-27T01:11:07.815Z"
   },
   {
    "duration": 46,
    "start_time": "2024-08-27T01:11:07.854Z"
   },
   {
    "duration": 16,
    "start_time": "2024-08-27T01:11:07.902Z"
   },
   {
    "duration": 24,
    "start_time": "2024-08-27T01:11:07.920Z"
   },
   {
    "duration": 25,
    "start_time": "2024-08-27T01:11:07.946Z"
   },
   {
    "duration": 6,
    "start_time": "2024-08-27T01:11:07.973Z"
   },
   {
    "duration": 15,
    "start_time": "2024-08-27T01:11:07.981Z"
   },
   {
    "duration": 8,
    "start_time": "2024-08-27T01:11:07.997Z"
   },
   {
    "duration": 3,
    "start_time": "2024-08-27T01:11:08.041Z"
   },
   {
    "duration": 4,
    "start_time": "2024-08-27T01:11:08.045Z"
   },
   {
    "duration": 4,
    "start_time": "2024-08-27T01:11:08.051Z"
   },
   {
    "duration": 4,
    "start_time": "2024-08-27T01:11:08.057Z"
   },
   {
    "duration": 4,
    "start_time": "2024-08-27T01:11:08.063Z"
   },
   {
    "duration": 10,
    "start_time": "2024-08-27T01:11:08.069Z"
   },
   {
    "duration": 10,
    "start_time": "2024-08-27T01:11:08.081Z"
   },
   {
    "duration": 75,
    "start_time": "2024-08-27T01:11:08.093Z"
   },
   {
    "duration": 9,
    "start_time": "2024-08-27T01:11:08.172Z"
   },
   {
    "duration": 77,
    "start_time": "2024-08-27T01:11:08.183Z"
   },
   {
    "duration": 7,
    "start_time": "2024-08-27T01:11:08.263Z"
   },
   {
    "duration": 30,
    "start_time": "2024-08-27T01:11:08.272Z"
   },
   {
    "duration": 8,
    "start_time": "2024-08-27T01:11:08.303Z"
   },
   {
    "duration": 27,
    "start_time": "2024-08-27T01:11:08.314Z"
   },
   {
    "duration": 22,
    "start_time": "2024-08-27T01:11:08.343Z"
   },
   {
    "duration": 8,
    "start_time": "2024-08-27T01:11:08.367Z"
   },
   {
    "duration": 21,
    "start_time": "2024-08-27T01:11:08.377Z"
   },
   {
    "duration": 3,
    "start_time": "2024-08-27T01:11:08.400Z"
   },
   {
    "duration": 37,
    "start_time": "2024-08-27T01:11:08.404Z"
   },
   {
    "duration": 23,
    "start_time": "2024-08-27T01:11:08.443Z"
   },
   {
    "duration": 14,
    "start_time": "2024-08-27T01:11:08.467Z"
   },
   {
    "duration": 15,
    "start_time": "2024-08-27T01:11:08.482Z"
   },
   {
    "duration": 8,
    "start_time": "2024-08-27T01:11:08.498Z"
   },
   {
    "duration": 46,
    "start_time": "2024-08-27T01:11:08.508Z"
   },
   {
    "duration": 17,
    "start_time": "2024-08-27T01:11:08.556Z"
   },
   {
    "duration": 89,
    "start_time": "2024-08-27T01:11:08.575Z"
   },
   {
    "duration": 28,
    "start_time": "2024-08-27T01:11:08.666Z"
   },
   {
    "duration": 2,
    "start_time": "2024-08-27T01:11:08.696Z"
   },
   {
    "duration": 3,
    "start_time": "2024-08-27T01:11:08.700Z"
   },
   {
    "duration": 4,
    "start_time": "2024-08-27T01:11:08.704Z"
   },
   {
    "duration": 3,
    "start_time": "2024-08-27T01:11:08.709Z"
   },
   {
    "duration": 27,
    "start_time": "2024-08-27T01:11:08.713Z"
   },
   {
    "duration": 2,
    "start_time": "2024-08-27T01:11:08.742Z"
   },
   {
    "duration": 3,
    "start_time": "2024-08-27T01:11:08.745Z"
   },
   {
    "duration": 3,
    "start_time": "2024-08-27T01:11:08.749Z"
   },
   {
    "duration": 3,
    "start_time": "2024-08-27T01:11:08.753Z"
   },
   {
    "duration": 2,
    "start_time": "2024-08-27T01:11:08.758Z"
   },
   {
    "duration": 26,
    "start_time": "2024-08-27T01:19:28.482Z"
   },
   {
    "duration": 25,
    "start_time": "2024-08-27T01:21:53.140Z"
   },
   {
    "duration": 28,
    "start_time": "2024-08-27T01:22:03.460Z"
   },
   {
    "duration": 29,
    "start_time": "2024-08-27T01:25:15.384Z"
   },
   {
    "duration": 25,
    "start_time": "2024-08-27T01:25:26.201Z"
   },
   {
    "duration": 26,
    "start_time": "2024-08-27T01:25:32.343Z"
   },
   {
    "duration": 62,
    "start_time": "2024-08-27T01:26:58.887Z"
   },
   {
    "duration": 69,
    "start_time": "2024-08-27T01:30:10.110Z"
   },
   {
    "duration": 28,
    "start_time": "2024-08-27T01:30:13.221Z"
   },
   {
    "duration": 119,
    "start_time": "2024-08-27T01:30:31.287Z"
   },
   {
    "duration": 22,
    "start_time": "2024-08-27T01:30:31.464Z"
   },
   {
    "duration": 42,
    "start_time": "2024-08-27T01:30:43.622Z"
   },
   {
    "duration": 28,
    "start_time": "2024-08-27T01:30:44.049Z"
   },
   {
    "duration": 57,
    "start_time": "2024-08-27T01:30:58.812Z"
   },
   {
    "duration": 27,
    "start_time": "2024-08-27T01:30:59.212Z"
   },
   {
    "duration": 2521,
    "start_time": "2024-08-27T22:32:46.830Z"
   },
   {
    "duration": 241,
    "start_time": "2024-08-27T22:32:49.353Z"
   },
   {
    "duration": 16,
    "start_time": "2024-08-27T22:32:49.595Z"
   },
   {
    "duration": 61,
    "start_time": "2024-08-27T22:32:49.614Z"
   },
   {
    "duration": 18,
    "start_time": "2024-08-27T22:32:49.676Z"
   },
   {
    "duration": 11,
    "start_time": "2024-08-27T22:32:49.696Z"
   },
   {
    "duration": 48,
    "start_time": "2024-08-27T22:32:49.709Z"
   },
   {
    "duration": 13,
    "start_time": "2024-08-27T22:32:49.758Z"
   },
   {
    "duration": 7,
    "start_time": "2024-08-27T22:32:49.772Z"
   },
   {
    "duration": 3,
    "start_time": "2024-08-27T22:32:49.782Z"
   },
   {
    "duration": 7,
    "start_time": "2024-08-27T22:32:49.788Z"
   },
   {
    "duration": 39,
    "start_time": "2024-08-27T22:32:49.796Z"
   },
   {
    "duration": 46,
    "start_time": "2024-08-27T22:32:49.837Z"
   },
   {
    "duration": 15,
    "start_time": "2024-08-27T22:32:49.885Z"
   },
   {
    "duration": 24,
    "start_time": "2024-08-27T22:32:49.902Z"
   },
   {
    "duration": 26,
    "start_time": "2024-08-27T22:32:49.927Z"
   },
   {
    "duration": 8,
    "start_time": "2024-08-27T22:32:49.955Z"
   },
   {
    "duration": 14,
    "start_time": "2024-08-27T22:32:49.965Z"
   },
   {
    "duration": 9,
    "start_time": "2024-08-27T22:32:49.980Z"
   },
   {
    "duration": 34,
    "start_time": "2024-08-27T22:32:49.990Z"
   },
   {
    "duration": 4,
    "start_time": "2024-08-27T22:32:50.025Z"
   },
   {
    "duration": 4,
    "start_time": "2024-08-27T22:32:50.030Z"
   },
   {
    "duration": 5,
    "start_time": "2024-08-27T22:32:50.035Z"
   },
   {
    "duration": 3,
    "start_time": "2024-08-27T22:32:50.041Z"
   },
   {
    "duration": 8,
    "start_time": "2024-08-27T22:32:50.046Z"
   },
   {
    "duration": 10,
    "start_time": "2024-08-27T22:32:50.055Z"
   },
   {
    "duration": 74,
    "start_time": "2024-08-27T22:32:50.067Z"
   },
   {
    "duration": 9,
    "start_time": "2024-08-27T22:32:50.145Z"
   },
   {
    "duration": 74,
    "start_time": "2024-08-27T22:32:50.155Z"
   },
   {
    "duration": 7,
    "start_time": "2024-08-27T22:32:50.231Z"
   },
   {
    "duration": 29,
    "start_time": "2024-08-27T22:32:50.240Z"
   },
   {
    "duration": 10,
    "start_time": "2024-08-27T22:32:50.271Z"
   },
   {
    "duration": 6,
    "start_time": "2024-08-27T22:32:50.284Z"
   },
   {
    "duration": 51,
    "start_time": "2024-08-27T22:32:50.292Z"
   },
   {
    "duration": 21,
    "start_time": "2024-08-27T22:32:50.344Z"
   },
   {
    "duration": 2,
    "start_time": "2024-08-27T22:32:50.367Z"
   },
   {
    "duration": 9,
    "start_time": "2024-08-27T22:32:50.371Z"
   },
   {
    "duration": 45,
    "start_time": "2024-08-27T22:32:50.382Z"
   },
   {
    "duration": 14,
    "start_time": "2024-08-27T22:32:50.429Z"
   },
   {
    "duration": 14,
    "start_time": "2024-08-27T22:32:50.445Z"
   },
   {
    "duration": 13,
    "start_time": "2024-08-27T22:32:50.461Z"
   },
   {
    "duration": 16,
    "start_time": "2024-08-27T22:32:50.476Z"
   },
   {
    "duration": 41,
    "start_time": "2024-08-27T22:32:50.494Z"
   },
   {
    "duration": 71,
    "start_time": "2024-08-27T22:32:50.537Z"
   },
   {
    "duration": 34,
    "start_time": "2024-08-27T22:32:50.610Z"
   },
   {
    "duration": 30,
    "start_time": "2024-08-27T22:32:50.646Z"
   },
   {
    "duration": 3,
    "start_time": "2024-08-27T22:32:50.679Z"
   },
   {
    "duration": 5,
    "start_time": "2024-08-27T22:32:50.683Z"
   },
   {
    "duration": 2,
    "start_time": "2024-08-27T22:32:50.690Z"
   },
   {
    "duration": 31,
    "start_time": "2024-08-27T22:32:50.693Z"
   },
   {
    "duration": 3,
    "start_time": "2024-08-27T22:32:50.725Z"
   },
   {
    "duration": 3,
    "start_time": "2024-08-27T22:32:50.729Z"
   },
   {
    "duration": 4,
    "start_time": "2024-08-27T22:32:50.733Z"
   },
   {
    "duration": 3,
    "start_time": "2024-08-27T22:32:50.738Z"
   },
   {
    "duration": 3,
    "start_time": "2024-08-27T22:32:50.742Z"
   },
   {
    "duration": 3,
    "start_time": "2024-08-27T22:32:50.746Z"
   },
   {
    "duration": 11,
    "start_time": "2024-08-27T22:38:01.038Z"
   },
   {
    "duration": 49,
    "start_time": "2024-08-27T22:38:20.493Z"
   },
   {
    "duration": 8,
    "start_time": "2024-08-27T22:38:32.500Z"
   },
   {
    "duration": 126,
    "start_time": "2024-08-27T22:44:03.027Z"
   },
   {
    "duration": 15,
    "start_time": "2024-08-27T22:45:32.031Z"
   },
   {
    "duration": 13,
    "start_time": "2024-08-27T22:46:59.359Z"
   },
   {
    "duration": 12,
    "start_time": "2024-08-27T22:47:15.301Z"
   },
   {
    "duration": 12,
    "start_time": "2024-08-27T22:48:03.385Z"
   },
   {
    "duration": 217,
    "start_time": "2024-08-27T22:52:27.567Z"
   },
   {
    "duration": 10,
    "start_time": "2024-08-27T22:52:31.435Z"
   },
   {
    "duration": 20,
    "start_time": "2024-08-27T22:53:20.145Z"
   },
   {
    "duration": 7,
    "start_time": "2024-08-27T22:55:23.887Z"
   },
   {
    "duration": 508,
    "start_time": "2024-08-27T23:28:05.979Z"
   },
   {
    "duration": 118,
    "start_time": "2024-08-27T23:28:41.441Z"
   },
   {
    "duration": 52,
    "start_time": "2024-08-27T23:29:01.506Z"
   },
   {
    "duration": 730,
    "start_time": "2024-08-27T23:29:15.088Z"
   },
   {
    "duration": 164,
    "start_time": "2024-08-27T23:29:15.823Z"
   },
   {
    "duration": 16,
    "start_time": "2024-08-27T23:29:15.988Z"
   },
   {
    "duration": 62,
    "start_time": "2024-08-27T23:29:16.006Z"
   },
   {
    "duration": 18,
    "start_time": "2024-08-27T23:29:16.069Z"
   },
   {
    "duration": 11,
    "start_time": "2024-08-27T23:29:16.089Z"
   },
   {
    "duration": 51,
    "start_time": "2024-08-27T23:29:16.102Z"
   },
   {
    "duration": 14,
    "start_time": "2024-08-27T23:29:16.154Z"
   },
   {
    "duration": 8,
    "start_time": "2024-08-27T23:29:16.169Z"
   },
   {
    "duration": 3,
    "start_time": "2024-08-27T23:29:16.180Z"
   },
   {
    "duration": 8,
    "start_time": "2024-08-27T23:29:16.184Z"
   },
   {
    "duration": 38,
    "start_time": "2024-08-27T23:29:16.193Z"
   },
   {
    "duration": 46,
    "start_time": "2024-08-27T23:29:16.233Z"
   },
   {
    "duration": 15,
    "start_time": "2024-08-27T23:29:16.281Z"
   },
   {
    "duration": 29,
    "start_time": "2024-08-27T23:29:16.297Z"
   },
   {
    "duration": 24,
    "start_time": "2024-08-27T23:29:16.328Z"
   },
   {
    "duration": 7,
    "start_time": "2024-08-27T23:29:16.354Z"
   },
   {
    "duration": 14,
    "start_time": "2024-08-27T23:29:16.362Z"
   },
   {
    "duration": 9,
    "start_time": "2024-08-27T23:29:16.378Z"
   },
   {
    "duration": 37,
    "start_time": "2024-08-27T23:29:16.388Z"
   },
   {
    "duration": 3,
    "start_time": "2024-08-27T23:29:16.427Z"
   },
   {
    "duration": 4,
    "start_time": "2024-08-27T23:29:16.432Z"
   },
   {
    "duration": 4,
    "start_time": "2024-08-27T23:29:16.437Z"
   },
   {
    "duration": 3,
    "start_time": "2024-08-27T23:29:16.443Z"
   },
   {
    "duration": 10,
    "start_time": "2024-08-27T23:29:16.447Z"
   },
   {
    "duration": 11,
    "start_time": "2024-08-27T23:29:16.458Z"
   },
   {
    "duration": 68,
    "start_time": "2024-08-27T23:29:16.470Z"
   },
   {
    "duration": 8,
    "start_time": "2024-08-27T23:29:16.543Z"
   },
   {
    "duration": 74,
    "start_time": "2024-08-27T23:29:16.553Z"
   },
   {
    "duration": 7,
    "start_time": "2024-08-27T23:29:16.629Z"
   },
   {
    "duration": 28,
    "start_time": "2024-08-27T23:29:16.639Z"
   },
   {
    "duration": 8,
    "start_time": "2024-08-27T23:29:16.670Z"
   },
   {
    "duration": 8,
    "start_time": "2024-08-27T23:29:16.680Z"
   },
   {
    "duration": 49,
    "start_time": "2024-08-27T23:29:16.690Z"
   },
   {
    "duration": 21,
    "start_time": "2024-08-27T23:29:16.741Z"
   },
   {
    "duration": 4,
    "start_time": "2024-08-27T23:29:16.763Z"
   },
   {
    "duration": 9,
    "start_time": "2024-08-27T23:29:16.768Z"
   },
   {
    "duration": 21,
    "start_time": "2024-08-27T23:29:16.779Z"
   },
   {
    "duration": 13,
    "start_time": "2024-08-27T23:29:16.824Z"
   },
   {
    "duration": 14,
    "start_time": "2024-08-27T23:29:16.839Z"
   },
   {
    "duration": 8,
    "start_time": "2024-08-27T23:29:16.854Z"
   },
   {
    "duration": 16,
    "start_time": "2024-08-27T23:29:16.864Z"
   },
   {
    "duration": 46,
    "start_time": "2024-08-27T23:29:16.882Z"
   },
   {
    "duration": 12,
    "start_time": "2024-08-27T23:29:16.929Z"
   },
   {
    "duration": 11,
    "start_time": "2024-08-27T23:29:16.943Z"
   },
   {
    "duration": 8,
    "start_time": "2024-08-27T23:29:16.955Z"
   },
   {
    "duration": 801,
    "start_time": "2024-08-27T23:29:16.965Z"
   },
   {
    "duration": 0,
    "start_time": "2024-08-27T23:29:17.767Z"
   },
   {
    "duration": 0,
    "start_time": "2024-08-27T23:29:17.768Z"
   },
   {
    "duration": 0,
    "start_time": "2024-08-27T23:29:17.769Z"
   },
   {
    "duration": 1,
    "start_time": "2024-08-27T23:29:17.770Z"
   },
   {
    "duration": 0,
    "start_time": "2024-08-27T23:29:17.772Z"
   },
   {
    "duration": 0,
    "start_time": "2024-08-27T23:29:17.773Z"
   },
   {
    "duration": 0,
    "start_time": "2024-08-27T23:29:17.774Z"
   },
   {
    "duration": 0,
    "start_time": "2024-08-27T23:29:17.775Z"
   },
   {
    "duration": 0,
    "start_time": "2024-08-27T23:29:17.776Z"
   },
   {
    "duration": 0,
    "start_time": "2024-08-27T23:29:17.777Z"
   },
   {
    "duration": 51,
    "start_time": "2024-08-27T23:29:26.230Z"
   },
   {
    "duration": 28,
    "start_time": "2024-08-27T23:29:53.027Z"
   },
   {
    "duration": 13,
    "start_time": "2024-08-27T23:30:04.260Z"
   },
   {
    "duration": 13,
    "start_time": "2024-08-27T23:30:04.733Z"
   },
   {
    "duration": 9,
    "start_time": "2024-08-27T23:30:05.218Z"
   },
   {
    "duration": 20,
    "start_time": "2024-08-27T23:30:05.912Z"
   },
   {
    "duration": 8,
    "start_time": "2024-08-27T23:30:21.852Z"
   },
   {
    "duration": 13,
    "start_time": "2024-08-28T00:53:28.976Z"
   },
   {
    "duration": 12,
    "start_time": "2024-08-28T00:53:40.669Z"
   },
   {
    "duration": 4,
    "start_time": "2024-08-28T00:53:51.736Z"
   },
   {
    "duration": 3,
    "start_time": "2024-08-28T00:53:53.591Z"
   },
   {
    "duration": 304,
    "start_time": "2024-08-28T01:02:19.686Z"
   },
   {
    "duration": 2556,
    "start_time": "2024-08-29T22:52:54.082Z"
   },
   {
    "duration": 253,
    "start_time": "2024-08-29T22:52:56.640Z"
   },
   {
    "duration": 16,
    "start_time": "2024-08-29T22:52:56.894Z"
   },
   {
    "duration": 60,
    "start_time": "2024-08-29T22:52:56.913Z"
   },
   {
    "duration": 17,
    "start_time": "2024-08-29T22:52:56.975Z"
   },
   {
    "duration": 12,
    "start_time": "2024-08-29T22:52:56.994Z"
   },
   {
    "duration": 48,
    "start_time": "2024-08-29T22:52:57.007Z"
   },
   {
    "duration": 13,
    "start_time": "2024-08-29T22:52:57.057Z"
   },
   {
    "duration": 7,
    "start_time": "2024-08-29T22:52:57.072Z"
   },
   {
    "duration": 2,
    "start_time": "2024-08-29T22:52:57.083Z"
   },
   {
    "duration": 8,
    "start_time": "2024-08-29T22:52:57.087Z"
   },
   {
    "duration": 33,
    "start_time": "2024-08-29T22:52:57.097Z"
   },
   {
    "duration": 47,
    "start_time": "2024-08-29T22:52:57.132Z"
   },
   {
    "duration": 15,
    "start_time": "2024-08-29T22:52:57.182Z"
   },
   {
    "duration": 29,
    "start_time": "2024-08-29T22:52:57.199Z"
   },
   {
    "duration": 27,
    "start_time": "2024-08-29T22:52:57.229Z"
   },
   {
    "duration": 6,
    "start_time": "2024-08-29T22:52:57.258Z"
   },
   {
    "duration": 15,
    "start_time": "2024-08-29T22:52:57.267Z"
   },
   {
    "duration": 8,
    "start_time": "2024-08-29T22:52:57.283Z"
   },
   {
    "duration": 34,
    "start_time": "2024-08-29T22:52:57.293Z"
   },
   {
    "duration": 4,
    "start_time": "2024-08-29T22:52:57.328Z"
   },
   {
    "duration": 4,
    "start_time": "2024-08-29T22:52:57.334Z"
   },
   {
    "duration": 4,
    "start_time": "2024-08-29T22:52:57.339Z"
   },
   {
    "duration": 4,
    "start_time": "2024-08-29T22:52:57.344Z"
   },
   {
    "duration": 9,
    "start_time": "2024-08-29T22:52:57.350Z"
   },
   {
    "duration": 9,
    "start_time": "2024-08-29T22:52:57.361Z"
   },
   {
    "duration": 75,
    "start_time": "2024-08-29T22:52:57.372Z"
   },
   {
    "duration": 8,
    "start_time": "2024-08-29T22:52:57.451Z"
   },
   {
    "duration": 79,
    "start_time": "2024-08-29T22:52:57.461Z"
   },
   {
    "duration": 7,
    "start_time": "2024-08-29T22:52:57.541Z"
   },
   {
    "duration": 29,
    "start_time": "2024-08-29T22:52:57.550Z"
   },
   {
    "duration": 9,
    "start_time": "2024-08-29T22:52:57.581Z"
   },
   {
    "duration": 38,
    "start_time": "2024-08-29T22:52:57.592Z"
   },
   {
    "duration": 27,
    "start_time": "2024-08-29T22:52:57.631Z"
   },
   {
    "duration": 22,
    "start_time": "2024-08-29T22:52:57.660Z"
   },
   {
    "duration": 3,
    "start_time": "2024-08-29T22:52:57.683Z"
   },
   {
    "duration": 7,
    "start_time": "2024-08-29T22:52:57.688Z"
   },
   {
    "duration": 43,
    "start_time": "2024-08-29T22:52:57.697Z"
   },
   {
    "duration": 14,
    "start_time": "2024-08-29T22:52:57.742Z"
   },
   {
    "duration": 14,
    "start_time": "2024-08-29T22:52:57.758Z"
   },
   {
    "duration": 8,
    "start_time": "2024-08-29T22:52:57.774Z"
   },
   {
    "duration": 47,
    "start_time": "2024-08-29T22:52:57.783Z"
   },
   {
    "duration": 17,
    "start_time": "2024-08-29T22:52:57.833Z"
   },
   {
    "duration": 13,
    "start_time": "2024-08-29T22:52:57.852Z"
   },
   {
    "duration": 13,
    "start_time": "2024-08-29T22:52:57.866Z"
   },
   {
    "duration": 8,
    "start_time": "2024-08-29T22:52:57.880Z"
   },
   {
    "duration": 49,
    "start_time": "2024-08-29T22:52:57.890Z"
   },
   {
    "duration": 7,
    "start_time": "2024-08-29T22:52:57.941Z"
   },
   {
    "duration": 5,
    "start_time": "2024-08-29T22:52:57.949Z"
   },
   {
    "duration": 3,
    "start_time": "2024-08-29T22:52:57.956Z"
   },
   {
    "duration": 508,
    "start_time": "2024-08-29T22:52:57.961Z"
   },
   {
    "duration": 0,
    "start_time": "2024-08-29T22:52:58.470Z"
   },
   {
    "duration": 0,
    "start_time": "2024-08-29T22:52:58.471Z"
   },
   {
    "duration": 0,
    "start_time": "2024-08-29T22:52:58.472Z"
   },
   {
    "duration": 0,
    "start_time": "2024-08-29T22:52:58.473Z"
   },
   {
    "duration": 0,
    "start_time": "2024-08-29T22:52:58.474Z"
   },
   {
    "duration": 0,
    "start_time": "2024-08-29T22:52:58.475Z"
   },
   {
    "duration": 0,
    "start_time": "2024-08-29T22:52:58.476Z"
   },
   {
    "duration": 0,
    "start_time": "2024-08-29T22:52:58.477Z"
   },
   {
    "duration": 27,
    "start_time": "2024-08-29T22:56:01.913Z"
   },
   {
    "duration": 4,
    "start_time": "2024-08-29T22:58:01.813Z"
   },
   {
    "duration": 3,
    "start_time": "2024-08-29T23:01:33.109Z"
   },
   {
    "duration": 58,
    "start_time": "2024-08-29T23:01:40.581Z"
   },
   {
    "duration": 4,
    "start_time": "2024-08-29T23:04:06.972Z"
   },
   {
    "duration": 4,
    "start_time": "2024-08-29T23:04:12.192Z"
   },
   {
    "duration": 133,
    "start_time": "2024-08-29T23:04:16.051Z"
   },
   {
    "duration": 2942,
    "start_time": "2024-08-30T02:59:45.224Z"
   },
   {
    "duration": 295,
    "start_time": "2024-08-30T02:59:48.169Z"
   },
   {
    "duration": 16,
    "start_time": "2024-08-30T02:59:48.466Z"
   },
   {
    "duration": 76,
    "start_time": "2024-08-30T02:59:48.484Z"
   },
   {
    "duration": 19,
    "start_time": "2024-08-30T02:59:48.562Z"
   },
   {
    "duration": 12,
    "start_time": "2024-08-30T02:59:48.582Z"
   },
   {
    "duration": 68,
    "start_time": "2024-08-30T02:59:48.596Z"
   },
   {
    "duration": 13,
    "start_time": "2024-08-30T02:59:48.666Z"
   },
   {
    "duration": 7,
    "start_time": "2024-08-30T02:59:48.681Z"
   },
   {
    "duration": 3,
    "start_time": "2024-08-30T02:59:48.692Z"
   },
   {
    "duration": 30,
    "start_time": "2024-08-30T02:59:48.696Z"
   },
   {
    "duration": 28,
    "start_time": "2024-08-30T02:59:48.727Z"
   },
   {
    "duration": 47,
    "start_time": "2024-08-30T02:59:48.757Z"
   },
   {
    "duration": 41,
    "start_time": "2024-08-30T02:59:48.806Z"
   },
   {
    "duration": 10,
    "start_time": "2024-08-30T02:59:48.849Z"
   },
   {
    "duration": 25,
    "start_time": "2024-08-30T02:59:48.860Z"
   },
   {
    "duration": 8,
    "start_time": "2024-08-30T02:59:48.886Z"
   },
   {
    "duration": 40,
    "start_time": "2024-08-30T02:59:48.895Z"
   },
   {
    "duration": 16,
    "start_time": "2024-08-30T02:59:48.937Z"
   },
   {
    "duration": 3,
    "start_time": "2024-08-30T02:59:48.956Z"
   },
   {
    "duration": 4,
    "start_time": "2024-08-30T02:59:48.961Z"
   },
   {
    "duration": 3,
    "start_time": "2024-08-30T02:59:48.967Z"
   },
   {
    "duration": 4,
    "start_time": "2024-08-30T02:59:48.972Z"
   },
   {
    "duration": 4,
    "start_time": "2024-08-30T02:59:48.978Z"
   },
   {
    "duration": 9,
    "start_time": "2024-08-30T02:59:48.984Z"
   },
   {
    "duration": 45,
    "start_time": "2024-08-30T02:59:48.994Z"
   },
   {
    "duration": 47,
    "start_time": "2024-08-30T02:59:49.041Z"
   },
   {
    "duration": 9,
    "start_time": "2024-08-30T02:59:49.092Z"
   },
   {
    "duration": 87,
    "start_time": "2024-08-30T02:59:49.103Z"
   },
   {
    "duration": 7,
    "start_time": "2024-08-30T02:59:49.191Z"
   },
   {
    "duration": 46,
    "start_time": "2024-08-30T02:59:49.200Z"
   },
   {
    "duration": 11,
    "start_time": "2024-08-30T02:59:49.251Z"
   },
   {
    "duration": 6,
    "start_time": "2024-08-30T02:59:49.265Z"
   },
   {
    "duration": 22,
    "start_time": "2024-08-30T02:59:49.273Z"
   },
   {
    "duration": 61,
    "start_time": "2024-08-30T02:59:49.297Z"
   },
   {
    "duration": 4,
    "start_time": "2024-08-30T02:59:49.360Z"
   },
   {
    "duration": 8,
    "start_time": "2024-08-30T02:59:49.366Z"
   },
   {
    "duration": 20,
    "start_time": "2024-08-30T02:59:49.376Z"
   },
   {
    "duration": 54,
    "start_time": "2024-08-30T02:59:49.398Z"
   },
   {
    "duration": 15,
    "start_time": "2024-08-30T02:59:49.454Z"
   },
   {
    "duration": 8,
    "start_time": "2024-08-30T02:59:49.470Z"
   },
   {
    "duration": 17,
    "start_time": "2024-08-30T02:59:49.480Z"
   },
   {
    "duration": 36,
    "start_time": "2024-08-30T02:59:49.499Z"
   },
   {
    "duration": 22,
    "start_time": "2024-08-30T02:59:49.537Z"
   },
   {
    "duration": 12,
    "start_time": "2024-08-30T02:59:49.561Z"
   },
   {
    "duration": 8,
    "start_time": "2024-08-30T02:59:49.575Z"
   },
   {
    "duration": 19,
    "start_time": "2024-08-30T02:59:49.584Z"
   },
   {
    "duration": 27,
    "start_time": "2024-08-30T02:59:49.605Z"
   },
   {
    "duration": 29,
    "start_time": "2024-08-30T02:59:49.634Z"
   },
   {
    "duration": 5,
    "start_time": "2024-08-30T02:59:49.666Z"
   },
   {
    "duration": 0,
    "start_time": "2024-08-30T02:59:49.673Z"
   },
   {
    "duration": 0,
    "start_time": "2024-08-30T02:59:49.674Z"
   },
   {
    "duration": 0,
    "start_time": "2024-08-30T02:59:49.676Z"
   },
   {
    "duration": 0,
    "start_time": "2024-08-30T02:59:49.676Z"
   },
   {
    "duration": 0,
    "start_time": "2024-08-30T02:59:49.677Z"
   },
   {
    "duration": 0,
    "start_time": "2024-08-30T02:59:49.679Z"
   },
   {
    "duration": 0,
    "start_time": "2024-08-30T02:59:49.681Z"
   },
   {
    "duration": 0,
    "start_time": "2024-08-30T02:59:49.682Z"
   },
   {
    "duration": 0,
    "start_time": "2024-08-30T02:59:49.684Z"
   },
   {
    "duration": 3,
    "start_time": "2024-08-30T03:26:43.519Z"
   },
   {
    "duration": 189,
    "start_time": "2024-08-30T03:26:43.529Z"
   },
   {
    "duration": 25,
    "start_time": "2024-08-30T03:26:43.720Z"
   },
   {
    "duration": 64,
    "start_time": "2024-08-30T03:26:43.747Z"
   },
   {
    "duration": 33,
    "start_time": "2024-08-30T03:26:43.814Z"
   },
   {
    "duration": 13,
    "start_time": "2024-08-30T03:26:43.857Z"
   },
   {
    "duration": 35,
    "start_time": "2024-08-30T03:26:43.871Z"
   },
   {
    "duration": 26,
    "start_time": "2024-08-30T03:26:43.908Z"
   },
   {
    "duration": 14,
    "start_time": "2024-08-30T03:26:43.937Z"
   },
   {
    "duration": 7,
    "start_time": "2024-08-30T03:26:43.953Z"
   },
   {
    "duration": 9,
    "start_time": "2024-08-30T03:26:43.962Z"
   },
   {
    "duration": 14,
    "start_time": "2024-08-30T03:26:43.972Z"
   },
   {
    "duration": 71,
    "start_time": "2024-08-30T03:26:43.987Z"
   },
   {
    "duration": 16,
    "start_time": "2024-08-30T03:26:44.063Z"
   },
   {
    "duration": 8,
    "start_time": "2024-08-30T03:26:44.081Z"
   },
   {
    "duration": 51,
    "start_time": "2024-08-30T03:26:44.090Z"
   },
   {
    "duration": 13,
    "start_time": "2024-08-30T03:26:44.145Z"
   },
   {
    "duration": 14,
    "start_time": "2024-08-30T03:26:44.163Z"
   },
   {
    "duration": 11,
    "start_time": "2024-08-30T03:26:44.178Z"
   },
   {
    "duration": 4,
    "start_time": "2024-08-30T03:26:44.190Z"
   },
   {
    "duration": 3,
    "start_time": "2024-08-30T03:26:44.196Z"
   },
   {
    "duration": 26,
    "start_time": "2024-08-30T03:26:44.201Z"
   },
   {
    "duration": 9,
    "start_time": "2024-08-30T03:26:44.229Z"
   },
   {
    "duration": 5,
    "start_time": "2024-08-30T03:26:44.240Z"
   },
   {
    "duration": 20,
    "start_time": "2024-08-30T03:26:44.247Z"
   },
   {
    "duration": 14,
    "start_time": "2024-08-30T03:26:44.269Z"
   },
   {
    "duration": 71,
    "start_time": "2024-08-30T03:26:44.285Z"
   },
   {
    "duration": 10,
    "start_time": "2024-08-30T03:26:44.358Z"
   },
   {
    "duration": 64,
    "start_time": "2024-08-30T03:26:44.370Z"
   },
   {
    "duration": 11,
    "start_time": "2024-08-30T03:26:44.437Z"
   },
   {
    "duration": 31,
    "start_time": "2024-08-30T03:26:44.450Z"
   },
   {
    "duration": 9,
    "start_time": "2024-08-30T03:26:44.482Z"
   },
   {
    "duration": 6,
    "start_time": "2024-08-30T03:26:44.493Z"
   },
   {
    "duration": 38,
    "start_time": "2024-08-30T03:26:44.524Z"
   },
   {
    "duration": 22,
    "start_time": "2024-08-30T03:26:44.564Z"
   },
   {
    "duration": 2,
    "start_time": "2024-08-30T03:26:44.588Z"
   },
   {
    "duration": 8,
    "start_time": "2024-08-30T03:26:44.592Z"
   },
   {
    "duration": 60,
    "start_time": "2024-08-30T03:26:44.601Z"
   },
   {
    "duration": 14,
    "start_time": "2024-08-30T03:26:44.662Z"
   },
   {
    "duration": 15,
    "start_time": "2024-08-30T03:26:44.678Z"
   },
   {
    "duration": 29,
    "start_time": "2024-08-30T03:26:44.698Z"
   },
   {
    "duration": 33,
    "start_time": "2024-08-30T03:26:44.728Z"
   },
   {
    "duration": 22,
    "start_time": "2024-08-30T03:26:44.762Z"
   },
   {
    "duration": 6,
    "start_time": "2024-08-30T03:27:32.965Z"
   },
   {
    "duration": 7,
    "start_time": "2024-08-30T03:27:55.650Z"
   },
   {
    "duration": 16,
    "start_time": "2024-08-30T03:33:50.505Z"
   },
   {
    "duration": 9,
    "start_time": "2024-08-30T03:35:20.056Z"
   },
   {
    "duration": 23,
    "start_time": "2024-08-30T03:36:03.508Z"
   },
   {
    "duration": 7,
    "start_time": "2024-08-30T03:36:39.856Z"
   },
   {
    "duration": 250,
    "start_time": "2024-08-30T03:37:29.705Z"
   },
   {
    "duration": 8,
    "start_time": "2024-08-30T03:37:33.754Z"
   },
   {
    "duration": 806,
    "start_time": "2024-08-30T03:41:23.506Z"
   },
   {
    "duration": 80,
    "start_time": "2024-08-30T03:41:36.511Z"
   },
   {
    "duration": 89,
    "start_time": "2024-08-30T03:42:08.203Z"
   },
   {
    "duration": 35,
    "start_time": "2024-08-30T03:43:25.805Z"
   },
   {
    "duration": 3,
    "start_time": "2024-08-30T03:50:31.405Z"
   },
   {
    "duration": 3,
    "start_time": "2024-08-30T03:50:37.359Z"
   },
   {
    "duration": 15,
    "start_time": "2024-08-30T03:50:44.402Z"
   },
   {
    "duration": 13,
    "start_time": "2024-08-30T03:50:52.303Z"
   },
   {
    "duration": 12,
    "start_time": "2024-08-30T03:51:20.509Z"
   },
   {
    "duration": 13,
    "start_time": "2024-08-30T03:51:24.855Z"
   },
   {
    "duration": 13,
    "start_time": "2024-08-30T03:51:38.105Z"
   },
   {
    "duration": 13,
    "start_time": "2024-08-30T03:51:57.005Z"
   },
   {
    "duration": 4,
    "start_time": "2024-08-30T03:52:13.952Z"
   },
   {
    "duration": 4,
    "start_time": "2024-08-30T03:52:27.405Z"
   },
   {
    "duration": 4,
    "start_time": "2024-08-30T03:53:34.253Z"
   },
   {
    "duration": 190,
    "start_time": "2024-08-30T03:53:34.275Z"
   },
   {
    "duration": 15,
    "start_time": "2024-08-30T03:53:34.467Z"
   },
   {
    "duration": 75,
    "start_time": "2024-08-30T03:53:34.483Z"
   },
   {
    "duration": 19,
    "start_time": "2024-08-30T03:53:34.560Z"
   },
   {
    "duration": 11,
    "start_time": "2024-08-30T03:53:34.581Z"
   },
   {
    "duration": 60,
    "start_time": "2024-08-30T03:53:34.594Z"
   },
   {
    "duration": 15,
    "start_time": "2024-08-30T03:53:34.656Z"
   },
   {
    "duration": 8,
    "start_time": "2024-08-30T03:53:34.672Z"
   },
   {
    "duration": 4,
    "start_time": "2024-08-30T03:53:34.682Z"
   },
   {
    "duration": 9,
    "start_time": "2024-08-30T03:53:34.687Z"
   },
   {
    "duration": 52,
    "start_time": "2024-08-30T03:53:34.697Z"
   },
   {
    "duration": 50,
    "start_time": "2024-08-30T03:53:34.751Z"
   },
   {
    "duration": 17,
    "start_time": "2024-08-30T03:53:34.802Z"
   },
   {
    "duration": 11,
    "start_time": "2024-08-30T03:53:34.822Z"
   },
   {
    "duration": 36,
    "start_time": "2024-08-30T03:53:34.836Z"
   },
   {
    "duration": 7,
    "start_time": "2024-08-30T03:53:34.873Z"
   },
   {
    "duration": 14,
    "start_time": "2024-08-30T03:53:34.882Z"
   },
   {
    "duration": 36,
    "start_time": "2024-08-30T03:53:34.897Z"
   },
   {
    "duration": 5,
    "start_time": "2024-08-30T03:53:34.937Z"
   },
   {
    "duration": 5,
    "start_time": "2024-08-30T03:53:34.943Z"
   },
   {
    "duration": 7,
    "start_time": "2024-08-30T03:53:34.950Z"
   },
   {
    "duration": 5,
    "start_time": "2024-08-30T03:53:34.959Z"
   },
   {
    "duration": 4,
    "start_time": "2024-08-30T03:53:34.965Z"
   },
   {
    "duration": 10,
    "start_time": "2024-08-30T03:53:34.970Z"
   },
   {
    "duration": 10,
    "start_time": "2024-08-30T03:53:34.981Z"
   },
   {
    "duration": 82,
    "start_time": "2024-08-30T03:53:34.992Z"
   },
   {
    "duration": 9,
    "start_time": "2024-08-30T03:53:35.076Z"
   },
   {
    "duration": 93,
    "start_time": "2024-08-30T03:53:35.087Z"
   },
   {
    "duration": 9,
    "start_time": "2024-08-30T03:53:35.182Z"
   },
   {
    "duration": 51,
    "start_time": "2024-08-30T03:53:35.193Z"
   },
   {
    "duration": 15,
    "start_time": "2024-08-30T03:53:35.245Z"
   },
   {
    "duration": 7,
    "start_time": "2024-08-30T03:53:35.263Z"
   },
   {
    "duration": 22,
    "start_time": "2024-08-30T03:53:35.272Z"
   },
   {
    "duration": 32,
    "start_time": "2024-08-30T03:53:35.296Z"
   },
   {
    "duration": 3,
    "start_time": "2024-08-30T03:53:35.330Z"
   },
   {
    "duration": 16,
    "start_time": "2024-08-30T03:53:35.335Z"
   },
   {
    "duration": 22,
    "start_time": "2024-08-30T03:53:35.353Z"
   },
   {
    "duration": 14,
    "start_time": "2024-08-30T03:53:35.377Z"
   },
   {
    "duration": 36,
    "start_time": "2024-08-30T03:53:35.393Z"
   },
   {
    "duration": 11,
    "start_time": "2024-08-30T03:53:35.431Z"
   },
   {
    "duration": 27,
    "start_time": "2024-08-30T03:53:35.447Z"
   },
   {
    "duration": 17,
    "start_time": "2024-08-30T03:53:35.475Z"
   },
   {
    "duration": 6,
    "start_time": "2024-08-30T03:53:35.493Z"
   },
   {
    "duration": 40,
    "start_time": "2024-08-30T03:53:35.501Z"
   },
   {
    "duration": 20,
    "start_time": "2024-08-30T03:53:35.542Z"
   },
   {
    "duration": 19,
    "start_time": "2024-08-30T03:53:35.563Z"
   },
   {
    "duration": 7,
    "start_time": "2024-08-30T03:53:35.583Z"
   },
   {
    "duration": 66,
    "start_time": "2024-08-30T03:53:40.506Z"
   },
   {
    "duration": 5,
    "start_time": "2024-08-30T03:54:16.404Z"
   },
   {
    "duration": 7,
    "start_time": "2024-08-30T03:54:43.804Z"
   },
   {
    "duration": 4,
    "start_time": "2024-08-30T03:55:01.255Z"
   },
   {
    "duration": 68,
    "start_time": "2024-08-30T03:55:04.806Z"
   },
   {
    "duration": 4,
    "start_time": "2024-08-30T03:58:36.204Z"
   },
   {
    "duration": 5,
    "start_time": "2024-08-30T04:00:13.354Z"
   },
   {
    "duration": 3,
    "start_time": "2024-08-30T04:01:03.251Z"
   },
   {
    "duration": 166,
    "start_time": "2024-08-30T04:01:03.256Z"
   },
   {
    "duration": 24,
    "start_time": "2024-08-30T04:01:03.424Z"
   },
   {
    "duration": 65,
    "start_time": "2024-08-30T04:01:03.450Z"
   },
   {
    "duration": 29,
    "start_time": "2024-08-30T04:01:03.526Z"
   },
   {
    "duration": 13,
    "start_time": "2024-08-30T04:01:03.557Z"
   },
   {
    "duration": 34,
    "start_time": "2024-08-30T04:01:03.572Z"
   },
   {
    "duration": 38,
    "start_time": "2024-08-30T04:01:03.607Z"
   },
   {
    "duration": 10,
    "start_time": "2024-08-30T04:01:03.649Z"
   },
   {
    "duration": 3,
    "start_time": "2024-08-30T04:01:03.661Z"
   },
   {
    "duration": 7,
    "start_time": "2024-08-30T04:01:03.665Z"
   },
   {
    "duration": 13,
    "start_time": "2024-08-30T04:01:03.674Z"
   },
   {
    "duration": 86,
    "start_time": "2024-08-30T04:01:03.690Z"
   },
   {
    "duration": 16,
    "start_time": "2024-08-30T04:01:03.778Z"
   },
   {
    "duration": 8,
    "start_time": "2024-08-30T04:01:03.797Z"
   },
   {
    "duration": 60,
    "start_time": "2024-08-30T04:01:03.807Z"
   },
   {
    "duration": 13,
    "start_time": "2024-08-30T04:01:03.869Z"
   },
   {
    "duration": 17,
    "start_time": "2024-08-30T04:01:03.884Z"
   },
   {
    "duration": 23,
    "start_time": "2024-08-30T04:01:03.903Z"
   },
   {
    "duration": 5,
    "start_time": "2024-08-30T04:01:03.928Z"
   },
   {
    "duration": 8,
    "start_time": "2024-08-30T04:01:03.935Z"
   },
   {
    "duration": 11,
    "start_time": "2024-08-30T04:01:03.945Z"
   },
   {
    "duration": 5,
    "start_time": "2024-08-30T04:01:03.960Z"
   },
   {
    "duration": 4,
    "start_time": "2024-08-30T04:01:03.966Z"
   },
   {
    "duration": 9,
    "start_time": "2024-08-30T04:01:03.971Z"
   },
   {
    "duration": 10,
    "start_time": "2024-08-30T04:01:03.982Z"
   },
   {
    "duration": 76,
    "start_time": "2024-08-30T04:01:03.993Z"
   },
   {
    "duration": 9,
    "start_time": "2024-08-30T04:01:04.071Z"
   },
   {
    "duration": 83,
    "start_time": "2024-08-30T04:01:04.082Z"
   },
   {
    "duration": 7,
    "start_time": "2024-08-30T04:01:04.167Z"
   },
   {
    "duration": 28,
    "start_time": "2024-08-30T04:01:04.176Z"
   },
   {
    "duration": 43,
    "start_time": "2024-08-30T04:01:04.206Z"
   },
   {
    "duration": 9,
    "start_time": "2024-08-30T04:01:04.251Z"
   },
   {
    "duration": 22,
    "start_time": "2024-08-30T04:01:04.261Z"
   },
   {
    "duration": 19,
    "start_time": "2024-08-30T04:01:04.285Z"
   },
   {
    "duration": 2,
    "start_time": "2024-08-30T04:01:04.305Z"
   },
   {
    "duration": 13,
    "start_time": "2024-08-30T04:01:04.326Z"
   },
   {
    "duration": 28,
    "start_time": "2024-08-30T04:01:04.342Z"
   },
   {
    "duration": 14,
    "start_time": "2024-08-30T04:01:04.371Z"
   },
   {
    "duration": 15,
    "start_time": "2024-08-30T04:01:04.387Z"
   },
   {
    "duration": 13,
    "start_time": "2024-08-30T04:01:04.428Z"
   },
   {
    "duration": 26,
    "start_time": "2024-08-30T04:01:04.443Z"
   },
   {
    "duration": 17,
    "start_time": "2024-08-30T04:01:04.471Z"
   },
   {
    "duration": 6,
    "start_time": "2024-08-30T04:01:04.489Z"
   },
   {
    "duration": 30,
    "start_time": "2024-08-30T04:01:04.497Z"
   },
   {
    "duration": 20,
    "start_time": "2024-08-30T04:01:04.528Z"
   },
   {
    "duration": 23,
    "start_time": "2024-08-30T04:01:04.550Z"
   },
   {
    "duration": 6,
    "start_time": "2024-08-30T04:01:04.574Z"
   },
   {
    "duration": 4,
    "start_time": "2024-08-30T04:01:04.581Z"
   },
   {
    "duration": 5,
    "start_time": "2024-08-30T04:01:04.587Z"
   },
   {
    "duration": 83,
    "start_time": "2024-08-30T04:01:17.603Z"
   },
   {
    "duration": 3,
    "start_time": "2024-08-30T04:01:44.401Z"
   },
   {
    "duration": 193,
    "start_time": "2024-08-30T04:01:44.406Z"
   },
   {
    "duration": 15,
    "start_time": "2024-08-30T04:01:44.600Z"
   },
   {
    "duration": 81,
    "start_time": "2024-08-30T04:01:44.617Z"
   },
   {
    "duration": 25,
    "start_time": "2024-08-30T04:01:44.700Z"
   },
   {
    "duration": 28,
    "start_time": "2024-08-30T04:01:44.728Z"
   },
   {
    "duration": 34,
    "start_time": "2024-08-30T04:01:44.761Z"
   },
   {
    "duration": 14,
    "start_time": "2024-08-30T04:01:44.796Z"
   },
   {
    "duration": 15,
    "start_time": "2024-08-30T04:01:44.823Z"
   },
   {
    "duration": 7,
    "start_time": "2024-08-30T04:01:44.841Z"
   },
   {
    "duration": 9,
    "start_time": "2024-08-30T04:01:44.850Z"
   },
   {
    "duration": 16,
    "start_time": "2024-08-30T04:01:44.863Z"
   },
   {
    "duration": 68,
    "start_time": "2024-08-30T04:01:44.880Z"
   },
   {
    "duration": 20,
    "start_time": "2024-08-30T04:01:44.950Z"
   },
   {
    "duration": 8,
    "start_time": "2024-08-30T04:01:44.972Z"
   },
   {
    "duration": 47,
    "start_time": "2024-08-30T04:01:44.982Z"
   },
   {
    "duration": 11,
    "start_time": "2024-08-30T04:01:45.032Z"
   },
   {
    "duration": 20,
    "start_time": "2024-08-30T04:01:45.045Z"
   },
   {
    "duration": 10,
    "start_time": "2024-08-30T04:01:45.067Z"
   },
   {
    "duration": 3,
    "start_time": "2024-08-30T04:01:45.079Z"
   },
   {
    "duration": 5,
    "start_time": "2024-08-30T04:01:45.084Z"
   },
   {
    "duration": 33,
    "start_time": "2024-08-30T04:01:45.091Z"
   },
   {
    "duration": 5,
    "start_time": "2024-08-30T04:01:45.126Z"
   },
   {
    "duration": 5,
    "start_time": "2024-08-30T04:01:45.137Z"
   },
   {
    "duration": 16,
    "start_time": "2024-08-30T04:01:45.144Z"
   },
   {
    "duration": 11,
    "start_time": "2024-08-30T04:01:45.162Z"
   },
   {
    "duration": 67,
    "start_time": "2024-08-30T04:01:45.174Z"
   },
   {
    "duration": 13,
    "start_time": "2024-08-30T04:01:45.244Z"
   },
   {
    "duration": 71,
    "start_time": "2024-08-30T04:01:45.259Z"
   },
   {
    "duration": 22,
    "start_time": "2024-08-30T04:01:45.333Z"
   },
   {
    "duration": 30,
    "start_time": "2024-08-30T04:01:45.357Z"
   },
   {
    "duration": 9,
    "start_time": "2024-08-30T04:01:45.389Z"
   },
   {
    "duration": 7,
    "start_time": "2024-08-30T04:01:45.399Z"
   },
   {
    "duration": 34,
    "start_time": "2024-08-30T04:01:45.424Z"
   },
   {
    "duration": 20,
    "start_time": "2024-08-30T04:01:45.461Z"
   },
   {
    "duration": 2,
    "start_time": "2024-08-30T04:01:45.483Z"
   },
   {
    "duration": 8,
    "start_time": "2024-08-30T04:01:45.487Z"
   },
   {
    "duration": 60,
    "start_time": "2024-08-30T04:01:45.497Z"
   },
   {
    "duration": 16,
    "start_time": "2024-08-30T04:01:45.558Z"
   },
   {
    "duration": 14,
    "start_time": "2024-08-30T04:01:45.575Z"
   },
   {
    "duration": 8,
    "start_time": "2024-08-30T04:01:45.591Z"
   },
   {
    "duration": 38,
    "start_time": "2024-08-30T04:01:45.601Z"
   },
   {
    "duration": 22,
    "start_time": "2024-08-30T04:01:45.640Z"
   },
   {
    "duration": 6,
    "start_time": "2024-08-30T04:01:45.664Z"
   },
   {
    "duration": 6,
    "start_time": "2024-08-30T04:01:45.671Z"
   },
   {
    "duration": 12,
    "start_time": "2024-08-30T04:01:45.679Z"
   },
   {
    "duration": 65,
    "start_time": "2024-08-30T04:01:45.693Z"
   },
   {
    "duration": 6,
    "start_time": "2024-08-30T04:01:45.760Z"
   },
   {
    "duration": 3,
    "start_time": "2024-08-30T04:01:45.768Z"
   },
   {
    "duration": 8,
    "start_time": "2024-08-30T04:01:45.772Z"
   },
   {
    "duration": 13,
    "start_time": "2024-08-30T04:01:52.653Z"
   },
   {
    "duration": 3,
    "start_time": "2024-08-30T04:02:54.753Z"
   },
   {
    "duration": 172,
    "start_time": "2024-08-30T04:02:54.757Z"
   },
   {
    "duration": 31,
    "start_time": "2024-08-30T04:02:54.931Z"
   },
   {
    "duration": 62,
    "start_time": "2024-08-30T04:02:54.965Z"
   },
   {
    "duration": 28,
    "start_time": "2024-08-30T04:02:55.030Z"
   },
   {
    "duration": 13,
    "start_time": "2024-08-30T04:02:55.061Z"
   },
   {
    "duration": 34,
    "start_time": "2024-08-30T04:02:55.076Z"
   },
   {
    "duration": 34,
    "start_time": "2024-08-30T04:02:55.111Z"
   },
   {
    "duration": 13,
    "start_time": "2024-08-30T04:02:55.147Z"
   },
   {
    "duration": 3,
    "start_time": "2024-08-30T04:02:55.163Z"
   },
   {
    "duration": 8,
    "start_time": "2024-08-30T04:02:55.167Z"
   },
   {
    "duration": 13,
    "start_time": "2024-08-30T04:02:55.177Z"
   },
   {
    "duration": 77,
    "start_time": "2024-08-30T04:02:55.192Z"
   },
   {
    "duration": 17,
    "start_time": "2024-08-30T04:02:55.271Z"
   },
   {
    "duration": 9,
    "start_time": "2024-08-30T04:02:55.289Z"
   },
   {
    "duration": 53,
    "start_time": "2024-08-30T04:02:55.300Z"
   },
   {
    "duration": 8,
    "start_time": "2024-08-30T04:02:55.355Z"
   },
   {
    "duration": 13,
    "start_time": "2024-08-30T04:02:55.365Z"
   },
   {
    "duration": 8,
    "start_time": "2024-08-30T04:02:55.380Z"
   },
   {
    "duration": 4,
    "start_time": "2024-08-30T04:02:55.389Z"
   },
   {
    "duration": 37,
    "start_time": "2024-08-30T04:02:55.394Z"
   },
   {
    "duration": 5,
    "start_time": "2024-08-30T04:02:55.433Z"
   },
   {
    "duration": 5,
    "start_time": "2024-08-30T04:02:55.440Z"
   },
   {
    "duration": 4,
    "start_time": "2024-08-30T04:02:55.447Z"
   },
   {
    "duration": 14,
    "start_time": "2024-08-30T04:02:55.453Z"
   },
   {
    "duration": 10,
    "start_time": "2024-08-30T04:02:55.468Z"
   },
   {
    "duration": 65,
    "start_time": "2024-08-30T04:02:55.479Z"
   },
   {
    "duration": 16,
    "start_time": "2024-08-30T04:02:55.550Z"
   },
   {
    "duration": 97,
    "start_time": "2024-08-30T04:02:55.567Z"
   },
   {
    "duration": 7,
    "start_time": "2024-08-30T04:02:55.666Z"
   },
   {
    "duration": 34,
    "start_time": "2024-08-30T04:02:55.675Z"
   },
   {
    "duration": 39,
    "start_time": "2024-08-30T04:02:55.711Z"
   },
   {
    "duration": 8,
    "start_time": "2024-08-30T04:02:55.752Z"
   },
   {
    "duration": 22,
    "start_time": "2024-08-30T04:02:55.762Z"
   },
   {
    "duration": 20,
    "start_time": "2024-08-30T04:02:55.786Z"
   },
   {
    "duration": 3,
    "start_time": "2024-08-30T04:02:55.807Z"
   },
   {
    "duration": 31,
    "start_time": "2024-08-30T04:02:55.812Z"
   },
   {
    "duration": 21,
    "start_time": "2024-08-30T04:02:55.855Z"
   },
   {
    "duration": 16,
    "start_time": "2024-08-30T04:02:55.877Z"
   },
   {
    "duration": 16,
    "start_time": "2024-08-30T04:02:55.894Z"
   },
   {
    "duration": 24,
    "start_time": "2024-08-30T04:02:55.912Z"
   },
   {
    "duration": 24,
    "start_time": "2024-08-30T04:02:55.943Z"
   },
   {
    "duration": 17,
    "start_time": "2024-08-30T04:02:55.969Z"
   },
   {
    "duration": 6,
    "start_time": "2024-08-30T04:02:55.987Z"
   },
   {
    "duration": 7,
    "start_time": "2024-08-30T04:02:55.995Z"
   },
   {
    "duration": 41,
    "start_time": "2024-08-30T04:02:56.003Z"
   },
   {
    "duration": 22,
    "start_time": "2024-08-30T04:02:56.046Z"
   },
   {
    "duration": 6,
    "start_time": "2024-08-30T04:02:56.070Z"
   },
   {
    "duration": 4,
    "start_time": "2024-08-30T04:02:56.078Z"
   },
   {
    "duration": 10,
    "start_time": "2024-08-30T04:02:56.084Z"
   },
   {
    "duration": 14,
    "start_time": "2024-08-30T04:02:58.801Z"
   },
   {
    "duration": 3,
    "start_time": "2024-08-30T04:05:01.800Z"
   },
   {
    "duration": 197,
    "start_time": "2024-08-30T04:05:01.805Z"
   },
   {
    "duration": 16,
    "start_time": "2024-08-30T04:05:02.004Z"
   },
   {
    "duration": 75,
    "start_time": "2024-08-30T04:05:02.023Z"
   },
   {
    "duration": 33,
    "start_time": "2024-08-30T04:05:02.100Z"
   },
   {
    "duration": 24,
    "start_time": "2024-08-30T04:05:02.135Z"
   },
   {
    "duration": 35,
    "start_time": "2024-08-30T04:05:02.160Z"
   },
   {
    "duration": 14,
    "start_time": "2024-08-30T04:05:02.196Z"
   },
   {
    "duration": 19,
    "start_time": "2024-08-30T04:05:02.213Z"
   },
   {
    "duration": 5,
    "start_time": "2024-08-30T04:05:02.235Z"
   },
   {
    "duration": 16,
    "start_time": "2024-08-30T04:05:02.245Z"
   },
   {
    "duration": 14,
    "start_time": "2024-08-30T04:05:02.263Z"
   },
   {
    "duration": 78,
    "start_time": "2024-08-30T04:05:02.279Z"
   },
   {
    "duration": 19,
    "start_time": "2024-08-30T04:05:02.359Z"
   },
   {
    "duration": 8,
    "start_time": "2024-08-30T04:05:02.379Z"
   },
   {
    "duration": 52,
    "start_time": "2024-08-30T04:05:02.389Z"
   },
   {
    "duration": 14,
    "start_time": "2024-08-30T04:05:02.443Z"
   },
   {
    "duration": 17,
    "start_time": "2024-08-30T04:05:02.459Z"
   },
   {
    "duration": 8,
    "start_time": "2024-08-30T04:05:02.478Z"
   },
   {
    "duration": 3,
    "start_time": "2024-08-30T04:05:02.488Z"
   },
   {
    "duration": 4,
    "start_time": "2024-08-30T04:05:02.492Z"
   },
   {
    "duration": 28,
    "start_time": "2024-08-30T04:05:02.497Z"
   },
   {
    "duration": 17,
    "start_time": "2024-08-30T04:05:02.526Z"
   },
   {
    "duration": 3,
    "start_time": "2024-08-30T04:05:02.554Z"
   },
   {
    "duration": 9,
    "start_time": "2024-08-30T04:05:02.559Z"
   },
   {
    "duration": 10,
    "start_time": "2024-08-30T04:05:02.570Z"
   },
   {
    "duration": 52,
    "start_time": "2024-08-30T04:05:02.583Z"
   },
   {
    "duration": 23,
    "start_time": "2024-08-30T04:05:02.637Z"
   },
   {
    "duration": 65,
    "start_time": "2024-08-30T04:05:02.661Z"
   },
   {
    "duration": 12,
    "start_time": "2024-08-30T04:05:02.727Z"
   },
   {
    "duration": 35,
    "start_time": "2024-08-30T04:05:02.741Z"
   },
   {
    "duration": 8,
    "start_time": "2024-08-30T04:05:02.778Z"
   },
   {
    "duration": 7,
    "start_time": "2024-08-30T04:05:02.788Z"
   },
   {
    "duration": 61,
    "start_time": "2024-08-30T04:05:02.796Z"
   },
   {
    "duration": 24,
    "start_time": "2024-08-30T04:05:02.859Z"
   },
   {
    "duration": 2,
    "start_time": "2024-08-30T04:05:02.885Z"
   },
   {
    "duration": 9,
    "start_time": "2024-08-30T04:05:02.889Z"
   },
   {
    "duration": 60,
    "start_time": "2024-08-30T04:05:02.899Z"
   },
   {
    "duration": 15,
    "start_time": "2024-08-30T04:05:02.961Z"
   },
   {
    "duration": 15,
    "start_time": "2024-08-30T04:05:02.977Z"
   },
   {
    "duration": 8,
    "start_time": "2024-08-30T04:05:02.994Z"
   },
   {
    "duration": 31,
    "start_time": "2024-08-30T04:05:03.025Z"
   },
   {
    "duration": 18,
    "start_time": "2024-08-30T04:05:03.058Z"
   },
   {
    "duration": 6,
    "start_time": "2024-08-30T04:05:03.077Z"
   },
   {
    "duration": 6,
    "start_time": "2024-08-30T04:05:03.084Z"
   },
   {
    "duration": 41,
    "start_time": "2024-08-30T04:05:03.092Z"
   },
   {
    "duration": 33,
    "start_time": "2024-08-30T04:05:03.134Z"
   },
   {
    "duration": 5,
    "start_time": "2024-08-30T04:05:03.168Z"
   },
   {
    "duration": 4,
    "start_time": "2024-08-30T04:05:03.175Z"
   },
   {
    "duration": 8,
    "start_time": "2024-08-30T04:05:03.184Z"
   },
   {
    "duration": 14,
    "start_time": "2024-08-30T04:05:05.000Z"
   },
   {
    "duration": 3,
    "start_time": "2024-08-30T04:05:35.408Z"
   },
   {
    "duration": 191,
    "start_time": "2024-08-30T04:05:35.412Z"
   },
   {
    "duration": 16,
    "start_time": "2024-08-30T04:05:35.605Z"
   },
   {
    "duration": 70,
    "start_time": "2024-08-30T04:05:35.629Z"
   },
   {
    "duration": 50,
    "start_time": "2024-08-30T04:05:35.701Z"
   },
   {
    "duration": 19,
    "start_time": "2024-08-30T04:05:35.754Z"
   },
   {
    "duration": 35,
    "start_time": "2024-08-30T04:05:35.775Z"
   },
   {
    "duration": 28,
    "start_time": "2024-08-30T04:05:35.811Z"
   },
   {
    "duration": 9,
    "start_time": "2024-08-30T04:05:35.848Z"
   },
   {
    "duration": 4,
    "start_time": "2024-08-30T04:05:35.858Z"
   },
   {
    "duration": 8,
    "start_time": "2024-08-30T04:05:35.863Z"
   },
   {
    "duration": 13,
    "start_time": "2024-08-30T04:05:35.873Z"
   },
   {
    "duration": 73,
    "start_time": "2024-08-30T04:05:35.887Z"
   },
   {
    "duration": 21,
    "start_time": "2024-08-30T04:05:35.962Z"
   },
   {
    "duration": 9,
    "start_time": "2024-08-30T04:05:35.984Z"
   },
   {
    "duration": 36,
    "start_time": "2024-08-30T04:05:35.994Z"
   },
   {
    "duration": 15,
    "start_time": "2024-08-30T04:05:36.031Z"
   },
   {
    "duration": 19,
    "start_time": "2024-08-30T04:05:36.048Z"
   },
   {
    "duration": 11,
    "start_time": "2024-08-30T04:05:36.068Z"
   },
   {
    "duration": 3,
    "start_time": "2024-08-30T04:05:36.080Z"
   },
   {
    "duration": 4,
    "start_time": "2024-08-30T04:05:36.085Z"
   },
   {
    "duration": 4,
    "start_time": "2024-08-30T04:05:36.090Z"
   },
   {
    "duration": 32,
    "start_time": "2024-08-30T04:05:36.096Z"
   },
   {
    "duration": 6,
    "start_time": "2024-08-30T04:05:36.137Z"
   },
   {
    "duration": 18,
    "start_time": "2024-08-30T04:05:36.146Z"
   },
   {
    "duration": 10,
    "start_time": "2024-08-30T04:05:36.167Z"
   },
   {
    "duration": 71,
    "start_time": "2024-08-30T04:05:36.178Z"
   },
   {
    "duration": 10,
    "start_time": "2024-08-30T04:05:36.251Z"
   },
   {
    "duration": 58,
    "start_time": "2024-08-30T04:05:36.262Z"
   },
   {
    "duration": 11,
    "start_time": "2024-08-30T04:05:36.322Z"
   },
   {
    "duration": 52,
    "start_time": "2024-08-30T04:05:36.335Z"
   },
   {
    "duration": 9,
    "start_time": "2024-08-30T04:05:36.388Z"
   },
   {
    "duration": 7,
    "start_time": "2024-08-30T04:05:36.399Z"
   },
   {
    "duration": 38,
    "start_time": "2024-08-30T04:05:36.407Z"
   },
   {
    "duration": 27,
    "start_time": "2024-08-30T04:05:36.447Z"
   },
   {
    "duration": 3,
    "start_time": "2024-08-30T04:05:36.476Z"
   },
   {
    "duration": 8,
    "start_time": "2024-08-30T04:05:36.481Z"
   },
   {
    "duration": 36,
    "start_time": "2024-08-30T04:05:36.490Z"
   },
   {
    "duration": 20,
    "start_time": "2024-08-30T04:05:36.531Z"
   },
   {
    "duration": 18,
    "start_time": "2024-08-30T04:05:36.552Z"
   },
   {
    "duration": 10,
    "start_time": "2024-08-30T04:05:36.572Z"
   },
   {
    "duration": 44,
    "start_time": "2024-08-30T04:05:36.583Z"
   },
   {
    "duration": 29,
    "start_time": "2024-08-30T04:05:36.628Z"
   },
   {
    "duration": 6,
    "start_time": "2024-08-30T04:05:36.659Z"
   },
   {
    "duration": 6,
    "start_time": "2024-08-30T04:05:36.667Z"
   },
   {
    "duration": 13,
    "start_time": "2024-08-30T04:05:36.675Z"
   },
   {
    "duration": 35,
    "start_time": "2024-08-30T04:05:36.690Z"
   },
   {
    "duration": 5,
    "start_time": "2024-08-30T04:05:36.727Z"
   },
   {
    "duration": 12,
    "start_time": "2024-08-30T04:05:36.735Z"
   },
   {
    "duration": 69,
    "start_time": "2024-08-30T04:05:39.498Z"
   },
   {
    "duration": 2,
    "start_time": "2024-08-30T04:06:03.656Z"
   },
   {
    "duration": 185,
    "start_time": "2024-08-30T04:06:03.661Z"
   },
   {
    "duration": 21,
    "start_time": "2024-08-30T04:06:03.850Z"
   },
   {
    "duration": 83,
    "start_time": "2024-08-30T04:06:03.873Z"
   },
   {
    "duration": 19,
    "start_time": "2024-08-30T04:06:03.958Z"
   },
   {
    "duration": 11,
    "start_time": "2024-08-30T04:06:03.979Z"
   },
   {
    "duration": 57,
    "start_time": "2024-08-30T04:06:03.993Z"
   },
   {
    "duration": 19,
    "start_time": "2024-08-30T04:06:04.052Z"
   },
   {
    "duration": 8,
    "start_time": "2024-08-30T04:06:04.073Z"
   },
   {
    "duration": 3,
    "start_time": "2024-08-30T04:06:04.083Z"
   },
   {
    "duration": 8,
    "start_time": "2024-08-30T04:06:04.088Z"
   },
   {
    "duration": 49,
    "start_time": "2024-08-30T04:06:04.098Z"
   },
   {
    "duration": 46,
    "start_time": "2024-08-30T04:06:04.153Z"
   },
   {
    "duration": 34,
    "start_time": "2024-08-30T04:06:04.201Z"
   },
   {
    "duration": 22,
    "start_time": "2024-08-30T04:06:04.237Z"
   },
   {
    "duration": 27,
    "start_time": "2024-08-30T04:06:04.261Z"
   },
   {
    "duration": 7,
    "start_time": "2024-08-30T04:06:04.290Z"
   },
   {
    "duration": 33,
    "start_time": "2024-08-30T04:06:04.298Z"
   },
   {
    "duration": 20,
    "start_time": "2024-08-30T04:06:04.333Z"
   },
   {
    "duration": 4,
    "start_time": "2024-08-30T04:06:04.354Z"
   },
   {
    "duration": 4,
    "start_time": "2024-08-30T04:06:04.360Z"
   },
   {
    "duration": 5,
    "start_time": "2024-08-30T04:06:04.365Z"
   },
   {
    "duration": 4,
    "start_time": "2024-08-30T04:06:04.371Z"
   },
   {
    "duration": 3,
    "start_time": "2024-08-30T04:06:04.379Z"
   },
   {
    "duration": 9,
    "start_time": "2024-08-30T04:06:04.383Z"
   },
   {
    "duration": 33,
    "start_time": "2024-08-30T04:06:04.394Z"
   },
   {
    "duration": 48,
    "start_time": "2024-08-30T04:06:04.430Z"
   },
   {
    "duration": 8,
    "start_time": "2024-08-30T04:06:04.480Z"
   },
   {
    "duration": 98,
    "start_time": "2024-08-30T04:06:04.489Z"
   },
   {
    "duration": 8,
    "start_time": "2024-08-30T04:06:04.589Z"
   },
   {
    "duration": 62,
    "start_time": "2024-08-30T04:06:04.599Z"
   },
   {
    "duration": 9,
    "start_time": "2024-08-30T04:06:04.663Z"
   },
   {
    "duration": 7,
    "start_time": "2024-08-30T04:06:04.674Z"
   },
   {
    "duration": 24,
    "start_time": "2024-08-30T04:06:04.682Z"
   },
   {
    "duration": 41,
    "start_time": "2024-08-30T04:06:04.708Z"
   },
   {
    "duration": 5,
    "start_time": "2024-08-30T04:06:04.751Z"
   },
   {
    "duration": 10,
    "start_time": "2024-08-30T04:06:04.757Z"
   },
   {
    "duration": 23,
    "start_time": "2024-08-30T04:06:04.769Z"
   },
   {
    "duration": 44,
    "start_time": "2024-08-30T04:06:04.793Z"
   },
   {
    "duration": 23,
    "start_time": "2024-08-30T04:06:04.839Z"
   },
   {
    "duration": 8,
    "start_time": "2024-08-30T04:06:04.864Z"
   },
   {
    "duration": 19,
    "start_time": "2024-08-30T04:06:04.874Z"
   },
   {
    "duration": 31,
    "start_time": "2024-08-30T04:06:04.895Z"
   },
   {
    "duration": 12,
    "start_time": "2024-08-30T04:06:04.929Z"
   },
   {
    "duration": 9,
    "start_time": "2024-08-30T04:06:04.943Z"
   },
   {
    "duration": 16,
    "start_time": "2024-08-30T04:06:04.954Z"
   },
   {
    "duration": 18,
    "start_time": "2024-08-30T04:06:04.971Z"
   },
   {
    "duration": 5,
    "start_time": "2024-08-30T04:06:04.990Z"
   },
   {
    "duration": 5,
    "start_time": "2024-08-30T04:06:05.024Z"
   },
   {
    "duration": 44,
    "start_time": "2024-08-30T04:06:06.952Z"
   },
   {
    "duration": 9,
    "start_time": "2024-08-30T04:25:40.144Z"
   },
   {
    "duration": 54,
    "start_time": "2024-08-30T04:25:47.884Z"
   },
   {
    "duration": 62,
    "start_time": "2024-08-30T04:29:06.795Z"
   },
   {
    "duration": 4,
    "start_time": "2024-08-30T04:29:10.218Z"
   },
   {
    "duration": 46,
    "start_time": "2024-08-30T04:29:10.876Z"
   },
   {
    "duration": 3,
    "start_time": "2024-08-30T04:29:15.106Z"
   },
   {
    "duration": 191,
    "start_time": "2024-08-30T04:29:15.111Z"
   },
   {
    "duration": 16,
    "start_time": "2024-08-30T04:29:15.303Z"
   },
   {
    "duration": 78,
    "start_time": "2024-08-30T04:29:15.321Z"
   },
   {
    "duration": 30,
    "start_time": "2024-08-30T04:29:15.402Z"
   },
   {
    "duration": 17,
    "start_time": "2024-08-30T04:29:15.434Z"
   },
   {
    "duration": 37,
    "start_time": "2024-08-30T04:29:15.454Z"
   },
   {
    "duration": 15,
    "start_time": "2024-08-30T04:29:15.493Z"
   },
   {
    "duration": 13,
    "start_time": "2024-08-30T04:29:15.527Z"
   },
   {
    "duration": 5,
    "start_time": "2024-08-30T04:29:15.542Z"
   },
   {
    "duration": 11,
    "start_time": "2024-08-30T04:29:15.552Z"
   },
   {
    "duration": 14,
    "start_time": "2024-08-30T04:29:15.565Z"
   },
   {
    "duration": 82,
    "start_time": "2024-08-30T04:29:15.580Z"
   },
   {
    "duration": 17,
    "start_time": "2024-08-30T04:29:15.663Z"
   },
   {
    "duration": 10,
    "start_time": "2024-08-30T04:29:15.681Z"
   },
   {
    "duration": 48,
    "start_time": "2024-08-30T04:29:15.692Z"
   },
   {
    "duration": 11,
    "start_time": "2024-08-30T04:29:15.742Z"
   },
   {
    "duration": 19,
    "start_time": "2024-08-30T04:29:15.755Z"
   },
   {
    "duration": 9,
    "start_time": "2024-08-30T04:29:15.776Z"
   },
   {
    "duration": 4,
    "start_time": "2024-08-30T04:29:15.787Z"
   },
   {
    "duration": 33,
    "start_time": "2024-08-30T04:29:15.793Z"
   },
   {
    "duration": 5,
    "start_time": "2024-08-30T04:29:15.829Z"
   },
   {
    "duration": 6,
    "start_time": "2024-08-30T04:29:15.836Z"
   },
   {
    "duration": 8,
    "start_time": "2024-08-30T04:29:15.844Z"
   },
   {
    "duration": 14,
    "start_time": "2024-08-30T04:29:15.854Z"
   },
   {
    "duration": 10,
    "start_time": "2024-08-30T04:29:15.870Z"
   },
   {
    "duration": 72,
    "start_time": "2024-08-30T04:29:15.882Z"
   },
   {
    "duration": 10,
    "start_time": "2024-08-30T04:29:15.956Z"
   },
   {
    "duration": 81,
    "start_time": "2024-08-30T04:29:15.970Z"
   },
   {
    "duration": 10,
    "start_time": "2024-08-30T04:29:16.053Z"
   },
   {
    "duration": 32,
    "start_time": "2024-08-30T04:29:16.064Z"
   },
   {
    "duration": 30,
    "start_time": "2024-08-30T04:29:16.097Z"
   },
   {
    "duration": 22,
    "start_time": "2024-08-30T04:29:16.129Z"
   },
   {
    "duration": 24,
    "start_time": "2024-08-30T04:29:16.153Z"
   },
   {
    "duration": 21,
    "start_time": "2024-08-30T04:29:16.179Z"
   },
   {
    "duration": 3,
    "start_time": "2024-08-30T04:29:16.201Z"
   },
   {
    "duration": 24,
    "start_time": "2024-08-30T04:29:16.206Z"
   },
   {
    "duration": 32,
    "start_time": "2024-08-30T04:29:16.235Z"
   },
   {
    "duration": 14,
    "start_time": "2024-08-30T04:29:16.268Z"
   },
   {
    "duration": 15,
    "start_time": "2024-08-30T04:29:16.284Z"
   },
   {
    "duration": 11,
    "start_time": "2024-08-30T04:29:16.300Z"
   },
   {
    "duration": 31,
    "start_time": "2024-08-30T04:29:16.328Z"
   },
   {
    "duration": 19,
    "start_time": "2024-08-30T04:29:16.360Z"
   },
   {
    "duration": 5,
    "start_time": "2024-08-30T04:29:16.381Z"
   },
   {
    "duration": 6,
    "start_time": "2024-08-30T04:29:16.388Z"
   },
   {
    "duration": 48,
    "start_time": "2024-08-30T04:29:16.395Z"
   },
   {
    "duration": 28,
    "start_time": "2024-08-30T04:29:16.445Z"
   },
   {
    "duration": 6,
    "start_time": "2024-08-30T04:29:16.475Z"
   },
   {
    "duration": 4,
    "start_time": "2024-08-30T04:29:16.482Z"
   },
   {
    "duration": 80,
    "start_time": "2024-08-30T04:29:16.488Z"
   },
   {
    "duration": 62,
    "start_time": "2024-08-30T04:29:54.091Z"
   },
   {
    "duration": 57,
    "start_time": "2024-08-30T04:29:58.033Z"
   },
   {
    "duration": 3,
    "start_time": "2024-08-30T04:55:56.480Z"
   },
   {
    "duration": 36,
    "start_time": "2024-08-30T04:55:57.341Z"
   },
   {
    "duration": 10,
    "start_time": "2024-08-30T04:55:58.382Z"
   },
   {
    "duration": 6,
    "start_time": "2024-08-30T04:55:58.771Z"
   },
   {
    "duration": 75,
    "start_time": "2024-08-30T04:55:59.199Z"
   },
   {
    "duration": 97,
    "start_time": "2024-08-30T04:57:31.197Z"
   },
   {
    "duration": 90,
    "start_time": "2024-08-30T04:59:22.097Z"
   },
   {
    "duration": 92,
    "start_time": "2024-08-30T05:00:57.884Z"
   },
   {
    "duration": 46,
    "start_time": "2024-08-30T05:01:36.261Z"
   },
   {
    "duration": 8,
    "start_time": "2024-08-30T05:05:37.813Z"
   },
   {
    "duration": 208,
    "start_time": "2024-08-30T05:05:42.662Z"
   },
   {
    "duration": 5,
    "start_time": "2024-08-30T05:09:16.007Z"
   },
   {
    "duration": 6,
    "start_time": "2024-08-30T05:10:41.548Z"
   },
   {
    "duration": 5,
    "start_time": "2024-08-30T05:10:50.989Z"
   },
   {
    "duration": 43,
    "start_time": "2024-08-30T05:10:59.755Z"
   },
   {
    "duration": 159,
    "start_time": "2024-08-30T05:15:14.174Z"
   },
   {
    "duration": 11,
    "start_time": "2024-08-30T05:15:30.312Z"
   },
   {
    "duration": 34,
    "start_time": "2024-08-30T05:19:43.430Z"
   },
   {
    "duration": 10,
    "start_time": "2024-08-30T05:20:24.834Z"
   },
   {
    "duration": 115,
    "start_time": "2024-08-30T05:20:29.666Z"
   },
   {
    "duration": 14,
    "start_time": "2024-08-30T05:20:59.288Z"
   },
   {
    "duration": 222,
    "start_time": "2024-08-30T05:27:12.739Z"
   },
   {
    "duration": 65,
    "start_time": "2024-08-30T05:28:21.554Z"
   },
   {
    "duration": 53,
    "start_time": "2024-08-30T05:30:32.089Z"
   },
   {
    "duration": 226,
    "start_time": "2024-08-30T05:30:53.809Z"
   },
   {
    "duration": 212,
    "start_time": "2024-08-30T05:32:22.673Z"
   },
   {
    "duration": 221,
    "start_time": "2024-08-30T05:32:29.825Z"
   },
   {
    "duration": 3,
    "start_time": "2024-08-30T05:32:57.152Z"
   },
   {
    "duration": 60,
    "start_time": "2024-08-30T05:33:01.797Z"
   },
   {
    "duration": 2465,
    "start_time": "2024-08-30T23:47:08.792Z"
   },
   {
    "duration": 239,
    "start_time": "2024-08-30T23:47:11.259Z"
   },
   {
    "duration": 16,
    "start_time": "2024-08-30T23:47:11.500Z"
   },
   {
    "duration": 62,
    "start_time": "2024-08-30T23:47:11.517Z"
   },
   {
    "duration": 31,
    "start_time": "2024-08-30T23:47:11.583Z"
   },
   {
    "duration": 12,
    "start_time": "2024-08-30T23:47:11.615Z"
   },
   {
    "duration": 34,
    "start_time": "2024-08-30T23:47:11.629Z"
   },
   {
    "duration": 13,
    "start_time": "2024-08-30T23:47:11.665Z"
   },
   {
    "duration": 30,
    "start_time": "2024-08-30T23:47:11.680Z"
   },
   {
    "duration": 4,
    "start_time": "2024-08-30T23:47:11.711Z"
   },
   {
    "duration": 9,
    "start_time": "2024-08-30T23:47:11.716Z"
   },
   {
    "duration": 13,
    "start_time": "2024-08-30T23:47:11.727Z"
   },
   {
    "duration": 68,
    "start_time": "2024-08-30T23:47:11.741Z"
   },
   {
    "duration": 16,
    "start_time": "2024-08-30T23:47:11.813Z"
   },
   {
    "duration": 9,
    "start_time": "2024-08-30T23:47:11.831Z"
   },
   {
    "duration": 25,
    "start_time": "2024-08-30T23:47:11.841Z"
   },
   {
    "duration": 7,
    "start_time": "2024-08-30T23:47:11.868Z"
   },
   {
    "duration": 44,
    "start_time": "2024-08-30T23:47:11.877Z"
   },
   {
    "duration": 8,
    "start_time": "2024-08-30T23:47:11.923Z"
   },
   {
    "duration": 3,
    "start_time": "2024-08-30T23:47:11.933Z"
   },
   {
    "duration": 4,
    "start_time": "2024-08-30T23:47:11.938Z"
   },
   {
    "duration": 4,
    "start_time": "2024-08-30T23:47:11.943Z"
   },
   {
    "duration": 4,
    "start_time": "2024-08-30T23:47:11.949Z"
   },
   {
    "duration": 4,
    "start_time": "2024-08-30T23:47:11.954Z"
   },
   {
    "duration": 9,
    "start_time": "2024-08-30T23:47:11.960Z"
   },
   {
    "duration": 10,
    "start_time": "2024-08-30T23:47:12.008Z"
   },
   {
    "duration": 38,
    "start_time": "2024-08-30T23:47:12.020Z"
   },
   {
    "duration": 10,
    "start_time": "2024-08-30T23:47:12.059Z"
   },
   {
    "duration": 84,
    "start_time": "2024-08-30T23:47:12.071Z"
   },
   {
    "duration": 8,
    "start_time": "2024-08-30T23:47:12.157Z"
   },
   {
    "duration": 43,
    "start_time": "2024-08-30T23:47:12.167Z"
   },
   {
    "duration": 9,
    "start_time": "2024-08-30T23:47:12.211Z"
   },
   {
    "duration": 7,
    "start_time": "2024-08-30T23:47:12.222Z"
   },
   {
    "duration": 23,
    "start_time": "2024-08-30T23:47:12.231Z"
   },
   {
    "duration": 25,
    "start_time": "2024-08-30T23:47:12.256Z"
   },
   {
    "duration": 3,
    "start_time": "2024-08-30T23:47:12.310Z"
   },
   {
    "duration": 9,
    "start_time": "2024-08-30T23:47:12.314Z"
   },
   {
    "duration": 21,
    "start_time": "2024-08-30T23:47:12.324Z"
   },
   {
    "duration": 13,
    "start_time": "2024-08-30T23:47:12.347Z"
   },
   {
    "duration": 15,
    "start_time": "2024-08-30T23:47:12.362Z"
   },
   {
    "duration": 9,
    "start_time": "2024-08-30T23:47:12.409Z"
   },
   {
    "duration": 18,
    "start_time": "2024-08-30T23:47:12.420Z"
   },
   {
    "duration": 17,
    "start_time": "2024-08-30T23:47:12.440Z"
   },
   {
    "duration": 19,
    "start_time": "2024-08-30T23:47:12.458Z"
   },
   {
    "duration": 34,
    "start_time": "2024-08-30T23:47:12.478Z"
   },
   {
    "duration": 3,
    "start_time": "2024-08-30T23:47:12.514Z"
   },
   {
    "duration": 44,
    "start_time": "2024-08-30T23:47:12.519Z"
   },
   {
    "duration": 10,
    "start_time": "2024-08-30T23:47:12.564Z"
   },
   {
    "duration": 242,
    "start_time": "2024-08-30T23:47:12.576Z"
   },
   {
    "duration": 0,
    "start_time": "2024-08-30T23:47:12.820Z"
   },
   {
    "duration": 0,
    "start_time": "2024-08-30T23:47:12.821Z"
   },
   {
    "duration": 0,
    "start_time": "2024-08-30T23:47:12.822Z"
   },
   {
    "duration": 0,
    "start_time": "2024-08-30T23:47:12.824Z"
   },
   {
    "duration": 0,
    "start_time": "2024-08-30T23:47:12.826Z"
   },
   {
    "duration": 0,
    "start_time": "2024-08-30T23:47:12.827Z"
   },
   {
    "duration": 0,
    "start_time": "2024-08-30T23:47:12.829Z"
   },
   {
    "duration": 553,
    "start_time": "2024-08-30T23:49:48.199Z"
   },
   {
    "duration": 252,
    "start_time": "2024-08-30T23:50:36.915Z"
   },
   {
    "duration": 11,
    "start_time": "2024-08-30T23:52:25.763Z"
   },
   {
    "duration": 336,
    "start_time": "2024-08-30T23:52:26.832Z"
   },
   {
    "duration": 16,
    "start_time": "2024-08-31T00:02:32.079Z"
   },
   {
    "duration": 270,
    "start_time": "2024-08-31T00:02:35.877Z"
   },
   {
    "duration": 386,
    "start_time": "2024-08-31T00:09:43.434Z"
   },
   {
    "duration": 42,
    "start_time": "2024-08-31T00:09:48.673Z"
   },
   {
    "duration": 12,
    "start_time": "2024-08-31T00:10:18.320Z"
   },
   {
    "duration": 19,
    "start_time": "2024-08-31T00:15:07.824Z"
   },
   {
    "duration": 171,
    "start_time": "2024-08-31T00:15:18.308Z"
   },
   {
    "duration": 116,
    "start_time": "2024-08-31T00:17:58.064Z"
   },
   {
    "duration": 44,
    "start_time": "2024-08-31T00:17:58.715Z"
   },
   {
    "duration": 350,
    "start_time": "2024-08-31T00:18:05.450Z"
   },
   {
    "duration": 0,
    "start_time": "2024-08-31T00:18:05.802Z"
   },
   {
    "duration": 210,
    "start_time": "2024-08-31T00:18:05.857Z"
   },
   {
    "duration": 24,
    "start_time": "2024-08-31T00:18:06.532Z"
   },
   {
    "duration": 43,
    "start_time": "2024-08-31T00:18:07.051Z"
   },
   {
    "duration": 13,
    "start_time": "2024-08-31T00:18:22.749Z"
   },
   {
    "duration": 28,
    "start_time": "2024-08-31T00:19:22.779Z"
   },
   {
    "duration": 826,
    "start_time": "2024-08-31T00:19:43.380Z"
   },
   {
    "duration": 152,
    "start_time": "2024-08-31T00:19:44.208Z"
   },
   {
    "duration": 16,
    "start_time": "2024-08-31T00:19:44.361Z"
   },
   {
    "duration": 70,
    "start_time": "2024-08-31T00:19:44.380Z"
   },
   {
    "duration": 20,
    "start_time": "2024-08-31T00:19:44.451Z"
   },
   {
    "duration": 12,
    "start_time": "2024-08-31T00:19:44.473Z"
   },
   {
    "duration": 54,
    "start_time": "2024-08-31T00:19:44.487Z"
   },
   {
    "duration": 14,
    "start_time": "2024-08-31T00:19:44.543Z"
   },
   {
    "duration": 9,
    "start_time": "2024-08-31T00:19:44.558Z"
   },
   {
    "duration": 3,
    "start_time": "2024-08-31T00:19:44.570Z"
   },
   {
    "duration": 35,
    "start_time": "2024-08-31T00:19:44.575Z"
   },
   {
    "duration": 13,
    "start_time": "2024-08-31T00:19:44.612Z"
   },
   {
    "duration": 48,
    "start_time": "2024-08-31T00:19:44.627Z"
   },
   {
    "duration": 33,
    "start_time": "2024-08-31T00:19:44.676Z"
   },
   {
    "duration": 8,
    "start_time": "2024-08-31T00:19:44.711Z"
   },
   {
    "duration": 27,
    "start_time": "2024-08-31T00:19:44.720Z"
   },
   {
    "duration": 8,
    "start_time": "2024-08-31T00:19:44.749Z"
   },
   {
    "duration": 51,
    "start_time": "2024-08-31T00:19:44.759Z"
   },
   {
    "duration": 10,
    "start_time": "2024-08-31T00:19:44.812Z"
   },
   {
    "duration": 5,
    "start_time": "2024-08-31T00:19:44.824Z"
   },
   {
    "duration": 4,
    "start_time": "2024-08-31T00:19:44.830Z"
   },
   {
    "duration": 6,
    "start_time": "2024-08-31T00:19:44.835Z"
   },
   {
    "duration": 3,
    "start_time": "2024-08-31T00:19:44.844Z"
   },
   {
    "duration": 3,
    "start_time": "2024-08-31T00:19:44.849Z"
   },
   {
    "duration": 10,
    "start_time": "2024-08-31T00:19:44.853Z"
   },
   {
    "duration": 45,
    "start_time": "2024-08-31T00:19:44.864Z"
   },
   {
    "duration": 40,
    "start_time": "2024-08-31T00:19:44.911Z"
   },
   {
    "duration": 10,
    "start_time": "2024-08-31T00:19:44.955Z"
   },
   {
    "duration": 88,
    "start_time": "2024-08-31T00:19:44.967Z"
   },
   {
    "duration": 9,
    "start_time": "2024-08-31T00:19:45.057Z"
   },
   {
    "duration": 43,
    "start_time": "2024-08-31T00:19:45.067Z"
   },
   {
    "duration": 9,
    "start_time": "2024-08-31T00:19:45.111Z"
   },
   {
    "duration": 7,
    "start_time": "2024-08-31T00:19:45.121Z"
   },
   {
    "duration": 24,
    "start_time": "2024-08-31T00:19:45.129Z"
   },
   {
    "duration": 22,
    "start_time": "2024-08-31T00:19:45.155Z"
   },
   {
    "duration": 31,
    "start_time": "2024-08-31T00:19:45.178Z"
   },
   {
    "duration": 9,
    "start_time": "2024-08-31T00:19:45.210Z"
   },
   {
    "duration": 21,
    "start_time": "2024-08-31T00:19:45.221Z"
   },
   {
    "duration": 15,
    "start_time": "2024-08-31T00:19:45.244Z"
   },
   {
    "duration": 17,
    "start_time": "2024-08-31T00:19:45.260Z"
   },
   {
    "duration": 39,
    "start_time": "2024-08-31T00:19:45.279Z"
   },
   {
    "duration": 18,
    "start_time": "2024-08-31T00:19:45.320Z"
   },
   {
    "duration": 17,
    "start_time": "2024-08-31T00:19:45.339Z"
   },
   {
    "duration": 21,
    "start_time": "2024-08-31T00:19:45.358Z"
   },
   {
    "duration": 31,
    "start_time": "2024-08-31T00:19:45.381Z"
   },
   {
    "duration": 4,
    "start_time": "2024-08-31T00:19:45.413Z"
   },
   {
    "duration": 44,
    "start_time": "2024-08-31T00:19:45.420Z"
   },
   {
    "duration": 16,
    "start_time": "2024-08-31T00:19:45.465Z"
   },
   {
    "duration": 361,
    "start_time": "2024-08-31T00:19:45.483Z"
   },
   {
    "duration": 319,
    "start_time": "2024-08-31T00:19:45.845Z"
   },
   {
    "duration": 223,
    "start_time": "2024-08-31T00:19:46.165Z"
   },
   {
    "duration": 0,
    "start_time": "2024-08-31T00:19:46.390Z"
   },
   {
    "duration": 0,
    "start_time": "2024-08-31T00:19:46.392Z"
   },
   {
    "duration": 0,
    "start_time": "2024-08-31T00:19:46.392Z"
   },
   {
    "duration": 0,
    "start_time": "2024-08-31T00:19:46.394Z"
   },
   {
    "duration": 0,
    "start_time": "2024-08-31T00:19:46.395Z"
   },
   {
    "duration": 12,
    "start_time": "2024-08-31T00:20:23.178Z"
   },
   {
    "duration": 525,
    "start_time": "2024-08-31T00:20:27.413Z"
   },
   {
    "duration": 10,
    "start_time": "2024-08-31T00:22:36.462Z"
   },
   {
    "duration": 534,
    "start_time": "2024-08-31T00:23:30.370Z"
   },
   {
    "duration": 591,
    "start_time": "2024-08-31T00:29:16.400Z"
   },
   {
    "duration": 173,
    "start_time": "2024-08-31T00:29:26.438Z"
   },
   {
    "duration": 46,
    "start_time": "2024-08-31T00:29:52.213Z"
   },
   {
    "duration": 536,
    "start_time": "2024-08-31T00:29:59.945Z"
   },
   {
    "duration": 577,
    "start_time": "2024-08-31T00:30:10.062Z"
   },
   {
    "duration": 44,
    "start_time": "2024-08-31T00:31:05.565Z"
   },
   {
    "duration": 662,
    "start_time": "2024-08-31T00:31:17.773Z"
   },
   {
    "duration": 8,
    "start_time": "2024-08-31T00:31:35.513Z"
   },
   {
    "duration": 314,
    "start_time": "2024-08-31T00:32:05.866Z"
   },
   {
    "duration": 841,
    "start_time": "2024-08-31T00:32:20.938Z"
   },
   {
    "duration": 152,
    "start_time": "2024-08-31T00:32:21.781Z"
   },
   {
    "duration": 16,
    "start_time": "2024-08-31T00:32:21.934Z"
   },
   {
    "duration": 69,
    "start_time": "2024-08-31T00:32:21.952Z"
   },
   {
    "duration": 19,
    "start_time": "2024-08-31T00:32:22.023Z"
   },
   {
    "duration": 12,
    "start_time": "2024-08-31T00:32:22.043Z"
   },
   {
    "duration": 67,
    "start_time": "2024-08-31T00:32:22.056Z"
   },
   {
    "duration": 55,
    "start_time": "2024-08-31T00:32:22.125Z"
   },
   {
    "duration": 33,
    "start_time": "2024-08-31T00:32:22.181Z"
   },
   {
    "duration": 10,
    "start_time": "2024-08-31T00:32:22.218Z"
   },
   {
    "duration": 14,
    "start_time": "2024-08-31T00:32:22.230Z"
   },
   {
    "duration": 18,
    "start_time": "2024-08-31T00:32:22.246Z"
   },
   {
    "duration": 47,
    "start_time": "2024-08-31T00:32:22.266Z"
   },
   {
    "duration": 15,
    "start_time": "2024-08-31T00:32:22.315Z"
   },
   {
    "duration": 8,
    "start_time": "2024-08-31T00:32:22.331Z"
   },
   {
    "duration": 25,
    "start_time": "2024-08-31T00:32:22.340Z"
   },
   {
    "duration": 8,
    "start_time": "2024-08-31T00:32:22.367Z"
   },
   {
    "duration": 14,
    "start_time": "2024-08-31T00:32:22.409Z"
   },
   {
    "duration": 9,
    "start_time": "2024-08-31T00:32:22.424Z"
   },
   {
    "duration": 3,
    "start_time": "2024-08-31T00:32:22.435Z"
   },
   {
    "duration": 3,
    "start_time": "2024-08-31T00:32:22.440Z"
   },
   {
    "duration": 4,
    "start_time": "2024-08-31T00:32:22.445Z"
   },
   {
    "duration": 4,
    "start_time": "2024-08-31T00:32:22.450Z"
   },
   {
    "duration": 3,
    "start_time": "2024-08-31T00:32:22.456Z"
   },
   {
    "duration": 51,
    "start_time": "2024-08-31T00:32:22.460Z"
   },
   {
    "duration": 10,
    "start_time": "2024-08-31T00:32:22.513Z"
   },
   {
    "duration": 39,
    "start_time": "2024-08-31T00:32:22.524Z"
   },
   {
    "duration": 9,
    "start_time": "2024-08-31T00:32:22.567Z"
   },
   {
    "duration": 82,
    "start_time": "2024-08-31T00:32:22.578Z"
   },
   {
    "duration": 7,
    "start_time": "2024-08-31T00:32:22.662Z"
   },
   {
    "duration": 43,
    "start_time": "2024-08-31T00:32:22.670Z"
   },
   {
    "duration": 9,
    "start_time": "2024-08-31T00:32:22.715Z"
   },
   {
    "duration": 8,
    "start_time": "2024-08-31T00:32:22.725Z"
   },
   {
    "duration": 22,
    "start_time": "2024-08-31T00:32:22.734Z"
   },
   {
    "duration": 51,
    "start_time": "2024-08-31T00:32:22.758Z"
   },
   {
    "duration": 3,
    "start_time": "2024-08-31T00:32:22.811Z"
   },
   {
    "duration": 8,
    "start_time": "2024-08-31T00:32:22.815Z"
   },
   {
    "duration": 21,
    "start_time": "2024-08-31T00:32:22.824Z"
   },
   {
    "duration": 13,
    "start_time": "2024-08-31T00:32:22.847Z"
   },
   {
    "duration": 15,
    "start_time": "2024-08-31T00:32:22.862Z"
   },
   {
    "duration": 36,
    "start_time": "2024-08-31T00:32:22.878Z"
   },
   {
    "duration": 17,
    "start_time": "2024-08-31T00:32:22.916Z"
   },
   {
    "duration": 17,
    "start_time": "2024-08-31T00:32:22.935Z"
   },
   {
    "duration": 19,
    "start_time": "2024-08-31T00:32:22.953Z"
   },
   {
    "duration": 6,
    "start_time": "2024-08-31T00:32:22.973Z"
   },
   {
    "duration": 3,
    "start_time": "2024-08-31T00:32:23.009Z"
   },
   {
    "duration": 44,
    "start_time": "2024-08-31T00:32:23.014Z"
   },
   {
    "duration": 16,
    "start_time": "2024-08-31T00:32:23.060Z"
   },
   {
    "duration": 3465,
    "start_time": "2024-08-31T00:32:23.077Z"
   },
   {
    "duration": 247,
    "start_time": "2024-08-31T00:32:26.544Z"
   },
   {
    "duration": 23,
    "start_time": "2024-08-31T00:32:26.793Z"
   },
   {
    "duration": 716,
    "start_time": "2024-08-31T00:32:26.818Z"
   },
   {
    "duration": 3,
    "start_time": "2024-08-31T00:32:27.535Z"
   },
   {
    "duration": 2,
    "start_time": "2024-08-31T00:32:27.540Z"
   },
   {
    "duration": 2,
    "start_time": "2024-08-31T00:32:27.543Z"
   },
   {
    "duration": 2,
    "start_time": "2024-08-31T00:32:27.547Z"
   },
   {
    "duration": 390,
    "start_time": "2024-08-31T00:32:59.250Z"
   },
   {
    "duration": 268,
    "start_time": "2024-08-31T00:33:27.699Z"
   },
   {
    "duration": 11,
    "start_time": "2024-08-31T00:34:11.771Z"
   },
   {
    "duration": 504,
    "start_time": "2024-08-31T00:34:20.415Z"
   },
   {
    "duration": 13,
    "start_time": "2024-08-31T00:36:20.690Z"
   },
   {
    "duration": 6,
    "start_time": "2024-08-31T00:37:40.202Z"
   },
   {
    "duration": 10,
    "start_time": "2024-08-31T00:37:45.618Z"
   },
   {
    "duration": 11,
    "start_time": "2024-08-31T00:38:26.335Z"
   },
   {
    "duration": 384,
    "start_time": "2024-08-31T00:40:40.529Z"
   },
   {
    "duration": 8,
    "start_time": "2024-08-31T00:41:32.515Z"
   },
   {
    "duration": 7,
    "start_time": "2024-08-31T00:41:40.886Z"
   },
   {
    "duration": 10,
    "start_time": "2024-08-31T00:41:41.683Z"
   },
   {
    "duration": 22,
    "start_time": "2024-08-31T00:41:42.297Z"
   },
   {
    "duration": 821,
    "start_time": "2024-08-31T00:41:48.875Z"
   },
   {
    "duration": 160,
    "start_time": "2024-08-31T00:41:49.698Z"
   },
   {
    "duration": 16,
    "start_time": "2024-08-31T00:41:49.862Z"
   },
   {
    "duration": 68,
    "start_time": "2024-08-31T00:41:49.879Z"
   },
   {
    "duration": 19,
    "start_time": "2024-08-31T00:41:49.949Z"
   },
   {
    "duration": 12,
    "start_time": "2024-08-31T00:41:49.970Z"
   },
   {
    "duration": 57,
    "start_time": "2024-08-31T00:41:49.984Z"
   },
   {
    "duration": 14,
    "start_time": "2024-08-31T00:41:50.043Z"
   },
   {
    "duration": 9,
    "start_time": "2024-08-31T00:41:50.060Z"
   },
   {
    "duration": 3,
    "start_time": "2024-08-31T00:41:50.070Z"
   },
   {
    "duration": 8,
    "start_time": "2024-08-31T00:41:50.075Z"
   },
   {
    "duration": 35,
    "start_time": "2024-08-31T00:41:50.085Z"
   },
   {
    "duration": 47,
    "start_time": "2024-08-31T00:41:50.122Z"
   },
   {
    "duration": 18,
    "start_time": "2024-08-31T00:41:50.171Z"
   },
   {
    "duration": 22,
    "start_time": "2024-08-31T00:41:50.191Z"
   },
   {
    "duration": 25,
    "start_time": "2024-08-31T00:41:50.214Z"
   },
   {
    "duration": 8,
    "start_time": "2024-08-31T00:41:50.241Z"
   },
   {
    "duration": 15,
    "start_time": "2024-08-31T00:41:50.250Z"
   },
   {
    "duration": 9,
    "start_time": "2024-08-31T00:41:50.267Z"
   },
   {
    "duration": 5,
    "start_time": "2024-08-31T00:41:50.309Z"
   },
   {
    "duration": 4,
    "start_time": "2024-08-31T00:41:50.315Z"
   },
   {
    "duration": 4,
    "start_time": "2024-08-31T00:41:50.320Z"
   },
   {
    "duration": 4,
    "start_time": "2024-08-31T00:41:50.325Z"
   },
   {
    "duration": 5,
    "start_time": "2024-08-31T00:41:50.330Z"
   },
   {
    "duration": 10,
    "start_time": "2024-08-31T00:41:50.336Z"
   },
   {
    "duration": 10,
    "start_time": "2024-08-31T00:41:50.348Z"
   },
   {
    "duration": 77,
    "start_time": "2024-08-31T00:41:50.363Z"
   },
   {
    "duration": 8,
    "start_time": "2024-08-31T00:41:50.442Z"
   },
   {
    "duration": 77,
    "start_time": "2024-08-31T00:41:50.452Z"
   },
   {
    "duration": 7,
    "start_time": "2024-08-31T00:41:50.531Z"
   },
   {
    "duration": 35,
    "start_time": "2024-08-31T00:41:50.539Z"
   },
   {
    "duration": 9,
    "start_time": "2024-08-31T00:41:50.576Z"
   },
   {
    "duration": 25,
    "start_time": "2024-08-31T00:41:50.586Z"
   },
   {
    "duration": 29,
    "start_time": "2024-08-31T00:41:50.612Z"
   },
   {
    "duration": 22,
    "start_time": "2024-08-31T00:41:50.643Z"
   },
   {
    "duration": 2,
    "start_time": "2024-08-31T00:41:50.667Z"
   },
   {
    "duration": 10,
    "start_time": "2024-08-31T00:41:50.671Z"
   },
   {
    "duration": 38,
    "start_time": "2024-08-31T00:41:50.682Z"
   },
   {
    "duration": 14,
    "start_time": "2024-08-31T00:41:50.722Z"
   },
   {
    "duration": 15,
    "start_time": "2024-08-31T00:41:50.737Z"
   },
   {
    "duration": 10,
    "start_time": "2024-08-31T00:41:50.753Z"
   },
   {
    "duration": 21,
    "start_time": "2024-08-31T00:41:50.764Z"
   },
   {
    "duration": 37,
    "start_time": "2024-08-31T00:41:50.786Z"
   },
   {
    "duration": 17,
    "start_time": "2024-08-31T00:41:50.825Z"
   },
   {
    "duration": 5,
    "start_time": "2024-08-31T00:41:50.844Z"
   },
   {
    "duration": 4,
    "start_time": "2024-08-31T00:41:50.850Z"
   },
   {
    "duration": 68,
    "start_time": "2024-08-31T00:41:50.856Z"
   },
   {
    "duration": 15,
    "start_time": "2024-08-31T00:41:50.926Z"
   },
   {
    "duration": 362,
    "start_time": "2024-08-31T00:41:50.943Z"
   },
   {
    "duration": 279,
    "start_time": "2024-08-31T00:41:51.308Z"
   },
   {
    "duration": 27,
    "start_time": "2024-08-31T00:41:51.589Z"
   },
   {
    "duration": 513,
    "start_time": "2024-08-31T00:41:51.617Z"
   },
   {
    "duration": 13,
    "start_time": "2024-08-31T00:41:52.132Z"
   },
   {
    "duration": 10,
    "start_time": "2024-08-31T00:41:52.147Z"
   },
   {
    "duration": 10,
    "start_time": "2024-08-31T00:41:52.158Z"
   },
   {
    "duration": 2,
    "start_time": "2024-08-31T00:41:52.169Z"
   },
   {
    "duration": 4,
    "start_time": "2024-08-31T00:41:52.174Z"
   },
   {
    "duration": 8,
    "start_time": "2024-08-31T00:42:05.921Z"
   },
   {
    "duration": 128,
    "start_time": "2024-08-31T00:42:15.836Z"
   },
   {
    "duration": 12,
    "start_time": "2024-08-31T00:42:32.441Z"
   },
   {
    "duration": 507,
    "start_time": "2024-08-31T00:44:03.458Z"
   },
   {
    "duration": 361,
    "start_time": "2024-08-31T00:44:19.272Z"
   },
   {
    "duration": 311,
    "start_time": "2024-08-31T00:44:38.034Z"
   },
   {
    "duration": 385,
    "start_time": "2024-08-31T00:46:23.601Z"
   },
   {
    "duration": 508,
    "start_time": "2024-08-31T00:46:44.463Z"
   },
   {
    "duration": 24,
    "start_time": "2024-08-31T00:48:05.121Z"
   },
   {
    "duration": 34,
    "start_time": "2024-08-31T00:48:34.698Z"
   },
   {
    "duration": 11,
    "start_time": "2024-08-31T00:49:48.589Z"
   },
   {
    "duration": 7,
    "start_time": "2024-08-31T00:52:11.892Z"
   },
   {
    "duration": 7,
    "start_time": "2024-08-31T01:04:20.041Z"
   },
   {
    "duration": 7,
    "start_time": "2024-08-31T01:04:45.338Z"
   },
   {
    "duration": 5,
    "start_time": "2024-08-31T01:05:22.575Z"
   },
   {
    "duration": 2,
    "start_time": "2024-08-31T01:08:14.898Z"
   },
   {
    "duration": 840,
    "start_time": "2024-08-31T01:08:21.837Z"
   },
   {
    "duration": 163,
    "start_time": "2024-08-31T01:08:22.679Z"
   },
   {
    "duration": 17,
    "start_time": "2024-08-31T01:08:22.844Z"
   },
   {
    "duration": 77,
    "start_time": "2024-08-31T01:08:22.863Z"
   },
   {
    "duration": 19,
    "start_time": "2024-08-31T01:08:22.943Z"
   },
   {
    "duration": 12,
    "start_time": "2024-08-31T01:08:22.963Z"
   },
   {
    "duration": 51,
    "start_time": "2024-08-31T01:08:22.976Z"
   },
   {
    "duration": 14,
    "start_time": "2024-08-31T01:08:23.030Z"
   },
   {
    "duration": 8,
    "start_time": "2024-08-31T01:08:23.045Z"
   },
   {
    "duration": 3,
    "start_time": "2024-08-31T01:08:23.055Z"
   },
   {
    "duration": 7,
    "start_time": "2024-08-31T01:08:23.060Z"
   },
   {
    "duration": 42,
    "start_time": "2024-08-31T01:08:23.069Z"
   },
   {
    "duration": 48,
    "start_time": "2024-08-31T01:08:23.112Z"
   },
   {
    "duration": 17,
    "start_time": "2024-08-31T01:08:23.164Z"
   },
   {
    "duration": 29,
    "start_time": "2024-08-31T01:08:23.183Z"
   },
   {
    "duration": 26,
    "start_time": "2024-08-31T01:08:23.213Z"
   },
   {
    "duration": 7,
    "start_time": "2024-08-31T01:08:23.241Z"
   },
   {
    "duration": 15,
    "start_time": "2024-08-31T01:08:23.249Z"
   },
   {
    "duration": 9,
    "start_time": "2024-08-31T01:08:23.266Z"
   },
   {
    "duration": 32,
    "start_time": "2024-08-31T01:08:23.277Z"
   },
   {
    "duration": 3,
    "start_time": "2024-08-31T01:08:23.311Z"
   },
   {
    "duration": 4,
    "start_time": "2024-08-31T01:08:23.315Z"
   },
   {
    "duration": 4,
    "start_time": "2024-08-31T01:08:23.321Z"
   },
   {
    "duration": 2,
    "start_time": "2024-08-31T01:08:23.327Z"
   },
   {
    "duration": 8,
    "start_time": "2024-08-31T01:08:23.333Z"
   },
   {
    "duration": 9,
    "start_time": "2024-08-31T01:08:23.343Z"
   },
   {
    "duration": 80,
    "start_time": "2024-08-31T01:08:23.354Z"
   },
   {
    "duration": 9,
    "start_time": "2024-08-31T01:08:23.436Z"
   },
   {
    "duration": 79,
    "start_time": "2024-08-31T01:08:23.447Z"
   },
   {
    "duration": 7,
    "start_time": "2024-08-31T01:08:23.528Z"
   },
   {
    "duration": 31,
    "start_time": "2024-08-31T01:08:23.537Z"
   },
   {
    "duration": 9,
    "start_time": "2024-08-31T01:08:23.571Z"
   },
   {
    "duration": 29,
    "start_time": "2024-08-31T01:08:23.581Z"
   },
   {
    "duration": 23,
    "start_time": "2024-08-31T01:08:23.611Z"
   },
   {
    "duration": 22,
    "start_time": "2024-08-31T01:08:23.636Z"
   },
   {
    "duration": 2,
    "start_time": "2024-08-31T01:08:23.660Z"
   },
   {
    "duration": 8,
    "start_time": "2024-08-31T01:08:23.664Z"
   },
   {
    "duration": 50,
    "start_time": "2024-08-31T01:08:23.674Z"
   },
   {
    "duration": 15,
    "start_time": "2024-08-31T01:08:23.725Z"
   },
   {
    "duration": 15,
    "start_time": "2024-08-31T01:08:23.742Z"
   },
   {
    "duration": 8,
    "start_time": "2024-08-31T01:08:23.762Z"
   },
   {
    "duration": 43,
    "start_time": "2024-08-31T01:08:23.772Z"
   },
   {
    "duration": 19,
    "start_time": "2024-08-31T01:08:23.817Z"
   },
   {
    "duration": 21,
    "start_time": "2024-08-31T01:08:23.837Z"
   },
   {
    "duration": 7,
    "start_time": "2024-08-31T01:08:23.860Z"
   },
   {
    "duration": 4,
    "start_time": "2024-08-31T01:08:23.868Z"
   },
   {
    "duration": 75,
    "start_time": "2024-08-31T01:08:23.874Z"
   },
   {
    "duration": 16,
    "start_time": "2024-08-31T01:08:23.951Z"
   },
   {
    "duration": 371,
    "start_time": "2024-08-31T01:08:23.969Z"
   },
   {
    "duration": 327,
    "start_time": "2024-08-31T01:08:24.343Z"
   },
   {
    "duration": 9,
    "start_time": "2024-08-31T01:08:24.672Z"
   },
   {
    "duration": 525,
    "start_time": "2024-08-31T01:08:24.684Z"
   },
   {
    "duration": 12,
    "start_time": "2024-08-31T01:08:25.212Z"
   },
   {
    "duration": 10,
    "start_time": "2024-08-31T01:08:25.226Z"
   },
   {
    "duration": 10,
    "start_time": "2024-08-31T01:08:25.237Z"
   },
   {
    "duration": 403,
    "start_time": "2024-08-31T01:08:25.249Z"
   },
   {
    "duration": 386,
    "start_time": "2024-08-31T01:08:25.654Z"
   },
   {
    "duration": 14,
    "start_time": "2024-08-31T01:08:26.042Z"
   },
   {
    "duration": 35,
    "start_time": "2024-08-31T01:08:26.057Z"
   },
   {
    "duration": 26,
    "start_time": "2024-08-31T01:08:26.093Z"
   },
   {
    "duration": 250,
    "start_time": "2024-08-31T01:08:26.121Z"
   },
   {
    "duration": 0,
    "start_time": "2024-08-31T01:08:26.374Z"
   },
   {
    "duration": 5,
    "start_time": "2024-08-31T01:10:39.839Z"
   },
   {
    "duration": 6,
    "start_time": "2024-08-31T01:13:16.521Z"
   },
   {
    "duration": 7,
    "start_time": "2024-08-31T01:14:10.973Z"
   },
   {
    "duration": 4,
    "start_time": "2024-08-31T01:14:12.446Z"
   },
   {
    "duration": 13,
    "start_time": "2024-08-31T01:16:03.984Z"
   },
   {
    "duration": 12,
    "start_time": "2024-08-31T01:16:08.931Z"
   },
   {
    "duration": 13,
    "start_time": "2024-08-31T01:16:22.381Z"
   },
   {
    "duration": 26,
    "start_time": "2024-08-31T01:17:54.976Z"
   },
   {
    "duration": 7,
    "start_time": "2024-08-31T01:23:59.417Z"
   },
   {
    "duration": 7,
    "start_time": "2024-08-31T01:24:17.916Z"
   },
   {
    "duration": 6,
    "start_time": "2024-08-31T01:24:21.598Z"
   },
   {
    "duration": 7,
    "start_time": "2024-08-31T01:25:17.539Z"
   },
   {
    "duration": 6,
    "start_time": "2024-08-31T01:25:32.870Z"
   },
   {
    "duration": 5,
    "start_time": "2024-08-31T01:27:10.315Z"
   },
   {
    "duration": 6,
    "start_time": "2024-08-31T01:30:43.504Z"
   },
   {
    "duration": 8,
    "start_time": "2024-08-31T01:30:58.787Z"
   },
   {
    "duration": 18,
    "start_time": "2024-08-31T01:31:13.229Z"
   },
   {
    "duration": 6,
    "start_time": "2024-08-31T01:31:19.828Z"
   },
   {
    "duration": 4,
    "start_time": "2024-08-31T01:31:20.627Z"
   },
   {
    "duration": 7,
    "start_time": "2024-08-31T01:31:39.262Z"
   },
   {
    "duration": 6,
    "start_time": "2024-08-31T01:32:17.072Z"
   },
   {
    "duration": 6,
    "start_time": "2024-08-31T01:32:19.236Z"
   },
   {
    "duration": 4,
    "start_time": "2024-08-31T01:32:19.581Z"
   },
   {
    "duration": 6,
    "start_time": "2024-08-31T01:38:51.822Z"
   },
   {
    "duration": 5,
    "start_time": "2024-08-31T01:40:10.880Z"
   },
   {
    "duration": 5,
    "start_time": "2024-08-31T01:42:42.016Z"
   },
   {
    "duration": 4,
    "start_time": "2024-08-31T01:42:50.226Z"
   },
   {
    "duration": 4,
    "start_time": "2024-08-31T01:43:06.635Z"
   },
   {
    "duration": 4,
    "start_time": "2024-08-31T01:43:55.174Z"
   },
   {
    "duration": 4,
    "start_time": "2024-08-31T01:44:13.759Z"
   },
   {
    "duration": 3,
    "start_time": "2024-08-31T01:44:41.034Z"
   },
   {
    "duration": 4,
    "start_time": "2024-08-31T01:44:47.628Z"
   },
   {
    "duration": 4,
    "start_time": "2024-08-31T01:44:55.278Z"
   },
   {
    "duration": 4,
    "start_time": "2024-08-31T01:45:07.045Z"
   },
   {
    "duration": 4,
    "start_time": "2024-08-31T01:45:11.084Z"
   },
   {
    "duration": 3,
    "start_time": "2024-08-31T01:45:23.076Z"
   },
   {
    "duration": 6,
    "start_time": "2024-08-31T01:45:26.513Z"
   },
   {
    "duration": 4,
    "start_time": "2024-08-31T01:45:34.115Z"
   },
   {
    "duration": 4,
    "start_time": "2024-08-31T01:45:36.713Z"
   },
   {
    "duration": 4,
    "start_time": "2024-08-31T01:45:41.165Z"
   },
   {
    "duration": 4,
    "start_time": "2024-08-31T01:47:07.632Z"
   },
   {
    "duration": 4,
    "start_time": "2024-08-31T01:47:12.868Z"
   },
   {
    "duration": 4,
    "start_time": "2024-08-31T01:47:32.057Z"
   },
   {
    "duration": 2637,
    "start_time": "2024-08-31T09:14:06.827Z"
   },
   {
    "duration": 407,
    "start_time": "2024-08-31T09:14:09.466Z"
   },
   {
    "duration": 16,
    "start_time": "2024-08-31T09:14:09.875Z"
   },
   {
    "duration": 91,
    "start_time": "2024-08-31T09:14:09.893Z"
   },
   {
    "duration": 18,
    "start_time": "2024-08-31T09:14:09.986Z"
   },
   {
    "duration": 28,
    "start_time": "2024-08-31T09:14:10.006Z"
   },
   {
    "duration": 36,
    "start_time": "2024-08-31T09:14:10.035Z"
   },
   {
    "duration": 14,
    "start_time": "2024-08-31T09:14:10.073Z"
   },
   {
    "duration": 8,
    "start_time": "2024-08-31T09:14:10.088Z"
   },
   {
    "duration": 2,
    "start_time": "2024-08-31T09:14:10.100Z"
   },
   {
    "duration": 32,
    "start_time": "2024-08-31T09:14:10.104Z"
   },
   {
    "duration": 12,
    "start_time": "2024-08-31T09:14:10.138Z"
   },
   {
    "duration": 47,
    "start_time": "2024-08-31T09:14:10.153Z"
   },
   {
    "duration": 35,
    "start_time": "2024-08-31T09:14:10.201Z"
   },
   {
    "duration": 8,
    "start_time": "2024-08-31T09:14:10.238Z"
   },
   {
    "duration": 26,
    "start_time": "2024-08-31T09:14:10.247Z"
   },
   {
    "duration": 7,
    "start_time": "2024-08-31T09:14:10.275Z"
   },
   {
    "duration": 15,
    "start_time": "2024-08-31T09:14:10.284Z"
   },
   {
    "duration": 10,
    "start_time": "2024-08-31T09:14:10.331Z"
   },
   {
    "duration": 4,
    "start_time": "2024-08-31T09:14:10.343Z"
   },
   {
    "duration": 2,
    "start_time": "2024-08-31T09:14:10.350Z"
   },
   {
    "duration": 4,
    "start_time": "2024-08-31T09:14:10.354Z"
   },
   {
    "duration": 4,
    "start_time": "2024-08-31T09:14:10.360Z"
   },
   {
    "duration": 4,
    "start_time": "2024-08-31T09:14:10.365Z"
   },
   {
    "duration": 11,
    "start_time": "2024-08-31T09:14:10.370Z"
   },
   {
    "duration": 10,
    "start_time": "2024-08-31T09:14:10.383Z"
   },
   {
    "duration": 40,
    "start_time": "2024-08-31T09:14:10.432Z"
   },
   {
    "duration": 10,
    "start_time": "2024-08-31T09:14:10.477Z"
   },
   {
    "duration": 85,
    "start_time": "2024-08-31T09:14:10.488Z"
   },
   {
    "duration": 8,
    "start_time": "2024-08-31T09:14:10.574Z"
   },
   {
    "duration": 30,
    "start_time": "2024-08-31T09:14:10.584Z"
   },
   {
    "duration": 23,
    "start_time": "2024-08-31T09:14:10.615Z"
   },
   {
    "duration": 7,
    "start_time": "2024-08-31T09:14:10.640Z"
   },
   {
    "duration": 24,
    "start_time": "2024-08-31T09:14:10.648Z"
   },
   {
    "duration": 23,
    "start_time": "2024-08-31T09:14:10.673Z"
   },
   {
    "duration": 34,
    "start_time": "2024-08-31T09:14:10.697Z"
   },
   {
    "duration": 9,
    "start_time": "2024-08-31T09:14:10.732Z"
   },
   {
    "duration": 22,
    "start_time": "2024-08-31T09:14:10.742Z"
   },
   {
    "duration": 572,
    "start_time": "2024-08-31T09:14:10.766Z"
   },
   {
    "duration": 0,
    "start_time": "2024-08-31T09:14:11.339Z"
   },
   {
    "duration": 0,
    "start_time": "2024-08-31T09:14:11.340Z"
   },
   {
    "duration": 0,
    "start_time": "2024-08-31T09:14:11.342Z"
   },
   {
    "duration": 0,
    "start_time": "2024-08-31T09:14:11.343Z"
   },
   {
    "duration": 0,
    "start_time": "2024-08-31T09:14:11.344Z"
   },
   {
    "duration": 1,
    "start_time": "2024-08-31T09:14:11.345Z"
   },
   {
    "duration": 0,
    "start_time": "2024-08-31T09:14:11.347Z"
   },
   {
    "duration": 0,
    "start_time": "2024-08-31T09:14:11.349Z"
   },
   {
    "duration": 0,
    "start_time": "2024-08-31T09:14:11.350Z"
   },
   {
    "duration": 0,
    "start_time": "2024-08-31T09:14:11.351Z"
   },
   {
    "duration": 0,
    "start_time": "2024-08-31T09:14:11.353Z"
   },
   {
    "duration": 0,
    "start_time": "2024-08-31T09:14:11.354Z"
   },
   {
    "duration": 0,
    "start_time": "2024-08-31T09:14:11.355Z"
   },
   {
    "duration": 0,
    "start_time": "2024-08-31T09:14:11.357Z"
   },
   {
    "duration": 0,
    "start_time": "2024-08-31T09:14:11.358Z"
   },
   {
    "duration": 0,
    "start_time": "2024-08-31T09:14:11.359Z"
   },
   {
    "duration": 0,
    "start_time": "2024-08-31T09:14:11.360Z"
   },
   {
    "duration": 0,
    "start_time": "2024-08-31T09:14:11.361Z"
   },
   {
    "duration": 0,
    "start_time": "2024-08-31T09:14:11.362Z"
   },
   {
    "duration": 0,
    "start_time": "2024-08-31T09:14:11.364Z"
   },
   {
    "duration": 0,
    "start_time": "2024-08-31T09:14:11.365Z"
   },
   {
    "duration": 0,
    "start_time": "2024-08-31T09:14:11.366Z"
   },
   {
    "duration": 0,
    "start_time": "2024-08-31T09:14:11.367Z"
   },
   {
    "duration": 0,
    "start_time": "2024-08-31T09:14:11.368Z"
   },
   {
    "duration": 0,
    "start_time": "2024-08-31T09:14:11.369Z"
   },
   {
    "duration": 0,
    "start_time": "2024-08-31T09:14:11.370Z"
   },
   {
    "duration": 0,
    "start_time": "2024-08-31T09:14:11.372Z"
   },
   {
    "duration": 0,
    "start_time": "2024-08-31T09:14:11.373Z"
   },
   {
    "duration": 0,
    "start_time": "2024-08-31T09:14:11.374Z"
   },
   {
    "duration": 0,
    "start_time": "2024-08-31T09:14:11.375Z"
   },
   {
    "duration": 0,
    "start_time": "2024-08-31T09:14:11.434Z"
   },
   {
    "duration": 0,
    "start_time": "2024-08-31T09:14:11.435Z"
   },
   {
    "duration": 0,
    "start_time": "2024-08-31T09:14:11.437Z"
   },
   {
    "duration": 26,
    "start_time": "2024-08-31T09:14:21.398Z"
   },
   {
    "duration": 28,
    "start_time": "2024-08-31T09:14:25.364Z"
   },
   {
    "duration": 14,
    "start_time": "2024-08-31T09:14:25.394Z"
   },
   {
    "duration": 17,
    "start_time": "2024-08-31T09:14:25.410Z"
   },
   {
    "duration": 8,
    "start_time": "2024-08-31T09:14:25.429Z"
   },
   {
    "duration": 17,
    "start_time": "2024-08-31T09:14:25.440Z"
   },
   {
    "duration": 17,
    "start_time": "2024-08-31T09:14:25.458Z"
   },
   {
    "duration": 18,
    "start_time": "2024-08-31T09:14:25.476Z"
   },
   {
    "duration": 5,
    "start_time": "2024-08-31T09:14:25.496Z"
   },
   {
    "duration": 32,
    "start_time": "2024-08-31T09:14:25.502Z"
   },
   {
    "duration": 45,
    "start_time": "2024-08-31T09:14:25.535Z"
   },
   {
    "duration": 15,
    "start_time": "2024-08-31T09:14:25.582Z"
   },
   {
    "duration": 385,
    "start_time": "2024-08-31T09:14:25.599Z"
   },
   {
    "duration": 272,
    "start_time": "2024-08-31T09:14:25.986Z"
   },
   {
    "duration": 9,
    "start_time": "2024-08-31T09:14:26.261Z"
   },
   {
    "duration": 916,
    "start_time": "2024-08-31T09:14:26.272Z"
   },
   {
    "duration": 14,
    "start_time": "2024-08-31T09:14:27.190Z"
   },
   {
    "duration": 25,
    "start_time": "2024-08-31T09:14:27.206Z"
   },
   {
    "duration": 9,
    "start_time": "2024-08-31T09:14:27.233Z"
   },
   {
    "duration": 323,
    "start_time": "2024-08-31T09:14:27.243Z"
   },
   {
    "duration": 343,
    "start_time": "2024-08-31T09:14:27.568Z"
   },
   {
    "duration": 25,
    "start_time": "2024-08-31T09:14:27.914Z"
   },
   {
    "duration": 10,
    "start_time": "2024-08-31T09:14:27.943Z"
   },
   {
    "duration": 6,
    "start_time": "2024-08-31T09:14:27.954Z"
   },
   {
    "duration": 5,
    "start_time": "2024-08-31T09:14:27.961Z"
   },
   {
    "duration": 4,
    "start_time": "2024-08-31T09:14:27.968Z"
   },
   {
    "duration": 6,
    "start_time": "2024-08-31T09:14:27.973Z"
   },
   {
    "duration": 3,
    "start_time": "2024-08-31T09:14:27.982Z"
   },
   {
    "duration": 45,
    "start_time": "2024-08-31T09:14:27.987Z"
   },
   {
    "duration": 14,
    "start_time": "2024-08-31T09:14:28.034Z"
   },
   {
    "duration": 19,
    "start_time": "2024-08-31T09:14:28.050Z"
   },
   {
    "duration": 6,
    "start_time": "2024-08-31T09:14:28.071Z"
   },
   {
    "duration": 5,
    "start_time": "2024-08-31T09:14:28.079Z"
   },
   {
    "duration": 6,
    "start_time": "2024-08-31T09:14:28.085Z"
   },
   {
    "duration": 39,
    "start_time": "2024-08-31T09:14:28.093Z"
   },
   {
    "duration": 14,
    "start_time": "2024-08-31T09:21:34.081Z"
   },
   {
    "duration": 4,
    "start_time": "2024-08-31T09:23:13.206Z"
   },
   {
    "duration": 4,
    "start_time": "2024-08-31T09:23:15.372Z"
   },
   {
    "duration": 4,
    "start_time": "2024-08-31T09:23:27.108Z"
   },
   {
    "duration": 2487,
    "start_time": "2024-08-31T13:06:44.652Z"
   },
   {
    "duration": 239,
    "start_time": "2024-08-31T13:06:48.771Z"
   },
   {
    "duration": 17,
    "start_time": "2024-08-31T13:06:50.168Z"
   },
   {
    "duration": 63,
    "start_time": "2024-08-31T13:06:50.675Z"
   },
   {
    "duration": 19,
    "start_time": "2024-08-31T13:06:51.432Z"
   },
   {
    "duration": 13,
    "start_time": "2024-08-31T13:06:51.908Z"
   },
   {
    "duration": 35,
    "start_time": "2024-08-31T13:06:52.378Z"
   },
   {
    "duration": 14,
    "start_time": "2024-08-31T13:18:11.544Z"
   },
   {
    "duration": 8,
    "start_time": "2024-08-31T13:18:12.058Z"
   },
   {
    "duration": 3,
    "start_time": "2024-08-31T13:18:15.206Z"
   },
   {
    "duration": 8,
    "start_time": "2024-08-31T13:18:15.494Z"
   },
   {
    "duration": 14,
    "start_time": "2024-08-31T13:18:15.880Z"
   },
   {
    "duration": 48,
    "start_time": "2024-08-31T13:18:16.320Z"
   },
   {
    "duration": 16,
    "start_time": "2024-08-31T13:18:18.136Z"
   },
   {
    "duration": 9,
    "start_time": "2024-08-31T13:18:18.541Z"
   },
   {
    "duration": 26,
    "start_time": "2024-08-31T13:18:19.835Z"
   },
   {
    "duration": 7,
    "start_time": "2024-08-31T13:18:20.221Z"
   },
   {
    "duration": 15,
    "start_time": "2024-08-31T13:18:25.410Z"
   },
   {
    "duration": 10,
    "start_time": "2024-08-31T13:18:25.818Z"
   },
   {
    "duration": 3,
    "start_time": "2024-08-31T13:18:27.495Z"
   },
   {
    "duration": 5,
    "start_time": "2024-08-31T13:21:54.868Z"
   },
   {
    "duration": 2,
    "start_time": "2024-08-31T13:21:55.262Z"
   },
   {
    "duration": 213,
    "start_time": "2024-08-31T13:22:01.969Z"
   },
   {
    "duration": 4,
    "start_time": "2024-08-31T13:22:03.054Z"
   },
   {
    "duration": 3,
    "start_time": "2024-08-31T13:22:21.535Z"
   },
   {
    "duration": 5,
    "start_time": "2024-08-31T13:22:21.899Z"
   },
   {
    "duration": 4,
    "start_time": "2024-08-31T13:22:22.732Z"
   },
   {
    "duration": 4,
    "start_time": "2024-08-31T13:23:01.638Z"
   },
   {
    "duration": 4,
    "start_time": "2024-08-31T13:23:02.040Z"
   },
   {
    "duration": 283,
    "start_time": "2024-08-31T13:23:03.309Z"
   },
   {
    "duration": 822,
    "start_time": "2024-08-31T13:28:34.974Z"
   },
   {
    "duration": 160,
    "start_time": "2024-08-31T13:28:35.798Z"
   },
   {
    "duration": 19,
    "start_time": "2024-08-31T13:28:35.961Z"
   },
   {
    "duration": 61,
    "start_time": "2024-08-31T13:28:35.983Z"
   },
   {
    "duration": 19,
    "start_time": "2024-08-31T13:28:36.046Z"
   },
   {
    "duration": 11,
    "start_time": "2024-08-31T13:28:36.067Z"
   },
   {
    "duration": 54,
    "start_time": "2024-08-31T13:28:36.080Z"
   },
   {
    "duration": 15,
    "start_time": "2024-08-31T13:28:36.135Z"
   },
   {
    "duration": 8,
    "start_time": "2024-08-31T13:28:36.152Z"
   },
   {
    "duration": 5,
    "start_time": "2024-08-31T13:28:36.164Z"
   },
   {
    "duration": 10,
    "start_time": "2024-08-31T13:28:36.171Z"
   },
   {
    "duration": 34,
    "start_time": "2024-08-31T13:28:36.183Z"
   },
   {
    "duration": 47,
    "start_time": "2024-08-31T13:28:36.218Z"
   },
   {
    "duration": 15,
    "start_time": "2024-08-31T13:28:36.267Z"
   },
   {
    "duration": 32,
    "start_time": "2024-08-31T13:28:36.284Z"
   },
   {
    "duration": 26,
    "start_time": "2024-08-31T13:28:36.318Z"
   },
   {
    "duration": 6,
    "start_time": "2024-08-31T13:28:36.346Z"
   },
   {
    "duration": 13,
    "start_time": "2024-08-31T13:28:36.354Z"
   },
   {
    "duration": 43,
    "start_time": "2024-08-31T13:28:36.370Z"
   },
   {
    "duration": 5,
    "start_time": "2024-08-31T13:28:36.415Z"
   },
   {
    "duration": 4,
    "start_time": "2024-08-31T13:28:36.421Z"
   },
   {
    "duration": 4,
    "start_time": "2024-08-31T13:28:36.426Z"
   },
   {
    "duration": 3,
    "start_time": "2024-08-31T13:28:36.432Z"
   },
   {
    "duration": 9,
    "start_time": "2024-08-31T13:28:36.437Z"
   },
   {
    "duration": 11,
    "start_time": "2024-08-31T13:28:36.447Z"
   },
   {
    "duration": 74,
    "start_time": "2024-08-31T13:28:36.460Z"
   },
   {
    "duration": 10,
    "start_time": "2024-08-31T13:28:36.536Z"
   },
   {
    "duration": 74,
    "start_time": "2024-08-31T13:28:36.550Z"
   },
   {
    "duration": 8,
    "start_time": "2024-08-31T13:28:36.626Z"
   },
   {
    "duration": 31,
    "start_time": "2024-08-31T13:28:36.635Z"
   },
   {
    "duration": 8,
    "start_time": "2024-08-31T13:28:36.668Z"
   },
   {
    "duration": 7,
    "start_time": "2024-08-31T13:28:36.708Z"
   },
   {
    "duration": 23,
    "start_time": "2024-08-31T13:28:36.717Z"
   },
   {
    "duration": 22,
    "start_time": "2024-08-31T13:28:36.741Z"
   },
   {
    "duration": 2,
    "start_time": "2024-08-31T13:28:36.765Z"
   },
   {
    "duration": 9,
    "start_time": "2024-08-31T13:28:36.769Z"
   },
   {
    "duration": 22,
    "start_time": "2024-08-31T13:28:36.808Z"
   },
   {
    "duration": 25,
    "start_time": "2024-08-31T13:28:36.832Z"
   },
   {
    "duration": 14,
    "start_time": "2024-08-31T13:28:36.859Z"
   },
   {
    "duration": 35,
    "start_time": "2024-08-31T13:28:36.875Z"
   },
   {
    "duration": 8,
    "start_time": "2024-08-31T13:28:36.912Z"
   },
   {
    "duration": 19,
    "start_time": "2024-08-31T13:28:36.921Z"
   },
   {
    "duration": 19,
    "start_time": "2024-08-31T13:28:36.941Z"
   },
   {
    "duration": 18,
    "start_time": "2024-08-31T13:28:36.961Z"
   },
   {
    "duration": 31,
    "start_time": "2024-08-31T13:28:36.981Z"
   },
   {
    "duration": 4,
    "start_time": "2024-08-31T13:28:37.014Z"
   },
   {
    "duration": 44,
    "start_time": "2024-08-31T13:28:37.019Z"
   },
   {
    "duration": 16,
    "start_time": "2024-08-31T13:28:37.065Z"
   },
   {
    "duration": 372,
    "start_time": "2024-08-31T13:28:37.082Z"
   },
   {
    "duration": 324,
    "start_time": "2024-08-31T13:28:37.457Z"
   },
   {
    "duration": 10,
    "start_time": "2024-08-31T13:28:37.783Z"
   },
   {
    "duration": 530,
    "start_time": "2024-08-31T13:28:37.794Z"
   },
   {
    "duration": 13,
    "start_time": "2024-08-31T13:28:38.327Z"
   },
   {
    "duration": 9,
    "start_time": "2024-08-31T13:28:38.341Z"
   },
   {
    "duration": 9,
    "start_time": "2024-08-31T13:28:38.352Z"
   },
   {
    "duration": 373,
    "start_time": "2024-08-31T13:28:38.363Z"
   },
   {
    "duration": 320,
    "start_time": "2024-08-31T13:28:38.738Z"
   },
   {
    "duration": 14,
    "start_time": "2024-08-31T13:28:39.060Z"
   },
   {
    "duration": 12,
    "start_time": "2024-08-31T13:28:39.076Z"
   },
   {
    "duration": 19,
    "start_time": "2024-08-31T13:28:39.090Z"
   },
   {
    "duration": 7,
    "start_time": "2024-08-31T13:28:39.110Z"
   },
   {
    "duration": 4,
    "start_time": "2024-08-31T13:28:39.119Z"
   },
   {
    "duration": 4,
    "start_time": "2024-08-31T13:28:39.125Z"
   },
   {
    "duration": 6,
    "start_time": "2024-08-31T13:28:39.131Z"
   },
   {
    "duration": 6,
    "start_time": "2024-08-31T13:28:39.139Z"
   },
   {
    "duration": 12,
    "start_time": "2024-08-31T13:28:39.146Z"
   },
   {
    "duration": 11,
    "start_time": "2024-08-31T13:28:39.160Z"
   },
   {
    "duration": 51,
    "start_time": "2024-08-31T13:28:39.173Z"
   },
   {
    "duration": 6,
    "start_time": "2024-08-31T13:28:39.226Z"
   },
   {
    "duration": 5,
    "start_time": "2024-08-31T13:28:39.233Z"
   },
   {
    "duration": 7,
    "start_time": "2024-08-31T13:28:39.239Z"
   },
   {
    "duration": 5,
    "start_time": "2024-08-31T13:28:39.248Z"
   },
   {
    "duration": 4,
    "start_time": "2024-08-31T13:29:37.648Z"
   },
   {
    "duration": 4,
    "start_time": "2024-08-31T13:29:38.299Z"
   },
   {
    "duration": 3,
    "start_time": "2024-08-31T13:29:39.286Z"
   },
   {
    "duration": 4,
    "start_time": "2024-08-31T13:29:39.796Z"
   },
   {
    "duration": 9,
    "start_time": "2024-08-31T13:29:40.956Z"
   },
   {
    "duration": 4,
    "start_time": "2024-08-31T13:29:51.073Z"
   },
   {
    "duration": 6,
    "start_time": "2024-08-31T13:29:51.342Z"
   },
   {
    "duration": 507,
    "start_time": "2024-08-31T13:29:51.935Z"
   },
   {
    "duration": 0,
    "start_time": "2024-08-31T13:29:52.444Z"
   },
   {
    "duration": 4,
    "start_time": "2024-08-31T13:29:58.417Z"
   },
   {
    "duration": 10,
    "start_time": "2024-08-31T13:29:59.479Z"
   },
   {
    "duration": 4,
    "start_time": "2024-08-31T13:31:27.044Z"
   },
   {
    "duration": 5,
    "start_time": "2024-08-31T13:31:27.418Z"
   },
   {
    "duration": 34,
    "start_time": "2024-08-31T13:31:28.305Z"
   },
   {
    "duration": 3,
    "start_time": "2024-08-31T13:31:28.898Z"
   },
   {
    "duration": 860,
    "start_time": "2024-08-31T13:31:39.929Z"
   },
   {
    "duration": 154,
    "start_time": "2024-08-31T13:31:40.792Z"
   },
   {
    "duration": 17,
    "start_time": "2024-08-31T13:31:40.947Z"
   },
   {
    "duration": 66,
    "start_time": "2024-08-31T13:31:40.967Z"
   },
   {
    "duration": 18,
    "start_time": "2024-08-31T13:31:41.035Z"
   },
   {
    "duration": 13,
    "start_time": "2024-08-31T13:31:41.055Z"
   },
   {
    "duration": 54,
    "start_time": "2024-08-31T13:31:41.070Z"
   },
   {
    "duration": 14,
    "start_time": "2024-08-31T13:31:41.126Z"
   },
   {
    "duration": 8,
    "start_time": "2024-08-31T13:31:41.141Z"
   },
   {
    "duration": 3,
    "start_time": "2024-08-31T13:31:41.152Z"
   },
   {
    "duration": 8,
    "start_time": "2024-08-31T13:31:41.157Z"
   },
   {
    "duration": 43,
    "start_time": "2024-08-31T13:31:41.167Z"
   },
   {
    "duration": 47,
    "start_time": "2024-08-31T13:31:41.211Z"
   },
   {
    "duration": 16,
    "start_time": "2024-08-31T13:31:41.259Z"
   },
   {
    "duration": 8,
    "start_time": "2024-08-31T13:31:41.277Z"
   },
   {
    "duration": 46,
    "start_time": "2024-08-31T13:31:41.286Z"
   },
   {
    "duration": 7,
    "start_time": "2024-08-31T13:31:41.333Z"
   },
   {
    "duration": 14,
    "start_time": "2024-08-31T13:31:41.342Z"
   },
   {
    "duration": 10,
    "start_time": "2024-08-31T13:31:41.357Z"
   },
   {
    "duration": 4,
    "start_time": "2024-08-31T13:31:41.369Z"
   },
   {
    "duration": 36,
    "start_time": "2024-08-31T13:31:41.374Z"
   },
   {
    "duration": 3,
    "start_time": "2024-08-31T13:31:41.412Z"
   },
   {
    "duration": 3,
    "start_time": "2024-08-31T13:31:41.417Z"
   },
   {
    "duration": 9,
    "start_time": "2024-08-31T13:31:41.421Z"
   },
   {
    "duration": 9,
    "start_time": "2024-08-31T13:31:41.432Z"
   },
   {
    "duration": 66,
    "start_time": "2024-08-31T13:31:41.444Z"
   },
   {
    "duration": 9,
    "start_time": "2024-08-31T13:31:41.511Z"
   },
   {
    "duration": 59,
    "start_time": "2024-08-31T13:31:41.525Z"
   },
   {
    "duration": 28,
    "start_time": "2024-08-31T13:31:41.586Z"
   },
   {
    "duration": 31,
    "start_time": "2024-08-31T13:31:41.616Z"
   },
   {
    "duration": 15,
    "start_time": "2024-08-31T13:31:41.649Z"
   },
   {
    "duration": 8,
    "start_time": "2024-08-31T13:31:41.667Z"
   },
   {
    "duration": 43,
    "start_time": "2024-08-31T13:31:41.676Z"
   },
   {
    "duration": 21,
    "start_time": "2024-08-31T13:31:41.721Z"
   },
   {
    "duration": 3,
    "start_time": "2024-08-31T13:31:41.744Z"
   },
   {
    "duration": 8,
    "start_time": "2024-08-31T13:31:41.749Z"
   },
   {
    "duration": 21,
    "start_time": "2024-08-31T13:31:41.758Z"
   },
   {
    "duration": 51,
    "start_time": "2024-08-31T13:31:41.781Z"
   },
   {
    "duration": 14,
    "start_time": "2024-08-31T13:31:41.834Z"
   },
   {
    "duration": 16,
    "start_time": "2024-08-31T13:31:41.850Z"
   },
   {
    "duration": 10,
    "start_time": "2024-08-31T13:31:41.867Z"
   },
   {
    "duration": 47,
    "start_time": "2024-08-31T13:31:41.878Z"
   },
   {
    "duration": 17,
    "start_time": "2024-08-31T13:31:41.926Z"
   },
   {
    "duration": 18,
    "start_time": "2024-08-31T13:31:41.945Z"
   },
   {
    "duration": 6,
    "start_time": "2024-08-31T13:31:41.965Z"
   },
   {
    "duration": 4,
    "start_time": "2024-08-31T13:31:41.972Z"
   },
   {
    "duration": 68,
    "start_time": "2024-08-31T13:31:41.977Z"
   },
   {
    "duration": 16,
    "start_time": "2024-08-31T13:31:42.046Z"
   },
   {
    "duration": 371,
    "start_time": "2024-08-31T13:31:42.063Z"
   },
   {
    "duration": 331,
    "start_time": "2024-08-31T13:31:42.435Z"
   },
   {
    "duration": 9,
    "start_time": "2024-08-31T13:31:42.768Z"
   },
   {
    "duration": 537,
    "start_time": "2024-08-31T13:31:42.779Z"
   },
   {
    "duration": 13,
    "start_time": "2024-08-31T13:31:43.318Z"
   },
   {
    "duration": 9,
    "start_time": "2024-08-31T13:31:43.333Z"
   },
   {
    "duration": 10,
    "start_time": "2024-08-31T13:31:43.343Z"
   },
   {
    "duration": 370,
    "start_time": "2024-08-31T13:31:43.354Z"
   },
   {
    "duration": 328,
    "start_time": "2024-08-31T13:31:43.727Z"
   },
   {
    "duration": 15,
    "start_time": "2024-08-31T13:31:44.057Z"
   },
   {
    "duration": 10,
    "start_time": "2024-08-31T13:31:44.074Z"
   },
   {
    "duration": 27,
    "start_time": "2024-08-31T13:31:44.086Z"
   },
   {
    "duration": 5,
    "start_time": "2024-08-31T13:31:44.114Z"
   },
   {
    "duration": 5,
    "start_time": "2024-08-31T13:31:44.121Z"
   },
   {
    "duration": 5,
    "start_time": "2024-08-31T13:31:44.128Z"
   },
   {
    "duration": 4,
    "start_time": "2024-08-31T13:31:44.136Z"
   },
   {
    "duration": 5,
    "start_time": "2024-08-31T13:31:44.142Z"
   },
   {
    "duration": 12,
    "start_time": "2024-08-31T13:31:44.148Z"
   },
   {
    "duration": 49,
    "start_time": "2024-08-31T13:31:44.162Z"
   },
   {
    "duration": 19,
    "start_time": "2024-08-31T13:31:44.213Z"
   },
   {
    "duration": 7,
    "start_time": "2024-08-31T13:31:44.234Z"
   },
   {
    "duration": 5,
    "start_time": "2024-08-31T13:31:44.243Z"
   },
   {
    "duration": 7,
    "start_time": "2024-08-31T13:31:44.250Z"
   },
   {
    "duration": 4,
    "start_time": "2024-08-31T13:31:44.258Z"
   },
   {
    "duration": 14,
    "start_time": "2024-08-31T13:33:59.963Z"
   },
   {
    "duration": 423,
    "start_time": "2024-08-31T13:40:46.059Z"
   },
   {
    "duration": 14,
    "start_time": "2024-08-31T13:42:29.462Z"
   },
   {
    "duration": 13,
    "start_time": "2024-08-31T13:43:25.545Z"
   },
   {
    "duration": 17,
    "start_time": "2024-08-31T13:44:16.432Z"
   },
   {
    "duration": 16,
    "start_time": "2024-08-31T13:46:14.737Z"
   },
   {
    "duration": 17,
    "start_time": "2024-08-31T13:47:33.195Z"
   },
   {
    "duration": 25,
    "start_time": "2024-08-31T13:48:04.419Z"
   },
   {
    "duration": 4,
    "start_time": "2024-08-31T14:10:22.953Z"
   },
   {
    "duration": 25,
    "start_time": "2024-08-31T14:10:23.705Z"
   },
   {
    "duration": 3,
    "start_time": "2024-08-31T14:10:44.902Z"
   },
   {
    "duration": 20,
    "start_time": "2024-08-31T14:10:45.271Z"
   },
   {
    "duration": 4,
    "start_time": "2024-08-31T14:11:16.649Z"
   },
   {
    "duration": 4,
    "start_time": "2024-08-31T14:16:40.368Z"
   },
   {
    "duration": 19,
    "start_time": "2024-08-31T14:16:40.701Z"
   },
   {
    "duration": 20,
    "start_time": "2024-08-31T14:59:12.981Z"
   },
   {
    "duration": 22,
    "start_time": "2024-08-31T15:05:18.456Z"
   },
   {
    "duration": 24,
    "start_time": "2024-08-31T15:07:34.332Z"
   },
   {
    "duration": 4,
    "start_time": "2024-08-31T15:08:04.239Z"
   },
   {
    "duration": 26,
    "start_time": "2024-08-31T15:08:23.445Z"
   },
   {
    "duration": 22,
    "start_time": "2024-08-31T15:11:03.349Z"
   },
   {
    "duration": 12,
    "start_time": "2024-08-31T16:06:00.449Z"
   },
   {
    "duration": 478,
    "start_time": "2024-08-31T16:10:38.542Z"
   },
   {
    "duration": 26,
    "start_time": "2024-08-31T16:10:54.653Z"
   },
   {
    "duration": 265,
    "start_time": "2024-08-31T16:11:02.236Z"
   },
   {
    "duration": 14,
    "start_time": "2024-08-31T16:14:45.142Z"
   },
   {
    "duration": 20,
    "start_time": "2024-08-31T16:19:16.647Z"
   },
   {
    "duration": 14,
    "start_time": "2024-08-31T16:19:28.920Z"
   },
   {
    "duration": 13,
    "start_time": "2024-08-31T16:19:50.879Z"
   },
   {
    "duration": 15,
    "start_time": "2024-08-31T16:20:19.401Z"
   },
   {
    "duration": 315,
    "start_time": "2024-08-31T16:25:59.848Z"
   },
   {
    "duration": 2487,
    "start_time": "2024-08-31T21:36:41.077Z"
   },
   {
    "duration": 220,
    "start_time": "2024-08-31T21:36:43.566Z"
   },
   {
    "duration": 18,
    "start_time": "2024-08-31T21:36:43.787Z"
   },
   {
    "duration": 62,
    "start_time": "2024-08-31T21:36:43.806Z"
   },
   {
    "duration": 20,
    "start_time": "2024-08-31T21:36:43.871Z"
   },
   {
    "duration": 20,
    "start_time": "2024-08-31T21:36:43.893Z"
   },
   {
    "duration": 35,
    "start_time": "2024-08-31T21:36:43.915Z"
   },
   {
    "duration": 14,
    "start_time": "2024-08-31T21:36:43.952Z"
   },
   {
    "duration": 8,
    "start_time": "2024-08-31T21:36:43.967Z"
   },
   {
    "duration": 4,
    "start_time": "2024-08-31T21:36:43.977Z"
   },
   {
    "duration": 34,
    "start_time": "2024-08-31T21:36:43.982Z"
   },
   {
    "duration": 13,
    "start_time": "2024-08-31T21:36:44.018Z"
   },
   {
    "duration": 49,
    "start_time": "2024-08-31T21:36:44.033Z"
   },
   {
    "duration": 33,
    "start_time": "2024-08-31T21:36:44.085Z"
   },
   {
    "duration": 8,
    "start_time": "2024-08-31T21:36:44.120Z"
   },
   {
    "duration": 27,
    "start_time": "2024-08-31T21:36:44.129Z"
   },
   {
    "duration": 8,
    "start_time": "2024-08-31T21:36:44.158Z"
   },
   {
    "duration": 47,
    "start_time": "2024-08-31T21:36:44.167Z"
   },
   {
    "duration": 9,
    "start_time": "2024-08-31T21:36:44.216Z"
   },
   {
    "duration": 4,
    "start_time": "2024-08-31T21:36:44.227Z"
   },
   {
    "duration": 4,
    "start_time": "2024-08-31T21:36:44.233Z"
   },
   {
    "duration": 4,
    "start_time": "2024-08-31T21:36:44.238Z"
   },
   {
    "duration": 4,
    "start_time": "2024-08-31T21:36:44.244Z"
   },
   {
    "duration": 10,
    "start_time": "2024-08-31T21:36:44.250Z"
   },
   {
    "duration": 11,
    "start_time": "2024-08-31T21:36:44.261Z"
   },
   {
    "duration": 78,
    "start_time": "2024-08-31T21:36:44.273Z"
   },
   {
    "duration": 9,
    "start_time": "2024-08-31T21:36:44.353Z"
   },
   {
    "duration": 95,
    "start_time": "2024-08-31T21:36:44.364Z"
   },
   {
    "duration": 8,
    "start_time": "2024-08-31T21:36:44.462Z"
   },
   {
    "duration": 43,
    "start_time": "2024-08-31T21:36:44.472Z"
   },
   {
    "duration": 9,
    "start_time": "2024-08-31T21:36:44.517Z"
   },
   {
    "duration": 6,
    "start_time": "2024-08-31T21:36:44.528Z"
   },
   {
    "duration": 23,
    "start_time": "2024-08-31T21:36:44.536Z"
   },
   {
    "duration": 23,
    "start_time": "2024-08-31T21:36:44.561Z"
   },
   {
    "duration": 28,
    "start_time": "2024-08-31T21:36:44.585Z"
   },
   {
    "duration": 9,
    "start_time": "2024-08-31T21:36:44.615Z"
   },
   {
    "duration": 3,
    "start_time": "2024-08-31T21:36:44.626Z"
   },
   {
    "duration": 24,
    "start_time": "2024-08-31T21:36:44.631Z"
   },
   {
    "duration": 62,
    "start_time": "2024-08-31T21:36:44.657Z"
   },
   {
    "duration": 17,
    "start_time": "2024-08-31T21:36:44.721Z"
   },
   {
    "duration": 15,
    "start_time": "2024-08-31T21:36:44.743Z"
   },
   {
    "duration": 9,
    "start_time": "2024-08-31T21:36:44.760Z"
   },
   {
    "duration": 42,
    "start_time": "2024-08-31T21:36:44.771Z"
   },
   {
    "duration": 21,
    "start_time": "2024-08-31T21:36:44.815Z"
   },
   {
    "duration": 20,
    "start_time": "2024-08-31T21:36:44.838Z"
   },
   {
    "duration": 6,
    "start_time": "2024-08-31T21:36:44.859Z"
   },
   {
    "duration": 4,
    "start_time": "2024-08-31T21:36:44.867Z"
   },
   {
    "duration": 906,
    "start_time": "2024-08-31T21:36:44.873Z"
   },
   {
    "duration": 0,
    "start_time": "2024-08-31T21:36:45.781Z"
   },
   {
    "duration": 0,
    "start_time": "2024-08-31T21:36:45.782Z"
   },
   {
    "duration": 0,
    "start_time": "2024-08-31T21:36:45.783Z"
   },
   {
    "duration": 0,
    "start_time": "2024-08-31T21:36:45.785Z"
   },
   {
    "duration": 0,
    "start_time": "2024-08-31T21:36:45.786Z"
   },
   {
    "duration": 0,
    "start_time": "2024-08-31T21:36:45.788Z"
   },
   {
    "duration": 0,
    "start_time": "2024-08-31T21:36:45.789Z"
   },
   {
    "duration": 0,
    "start_time": "2024-08-31T21:36:45.791Z"
   },
   {
    "duration": 0,
    "start_time": "2024-08-31T21:36:45.812Z"
   },
   {
    "duration": 0,
    "start_time": "2024-08-31T21:36:45.813Z"
   },
   {
    "duration": 0,
    "start_time": "2024-08-31T21:36:45.814Z"
   },
   {
    "duration": 0,
    "start_time": "2024-08-31T21:36:45.816Z"
   },
   {
    "duration": 0,
    "start_time": "2024-08-31T21:36:45.817Z"
   },
   {
    "duration": 0,
    "start_time": "2024-08-31T21:36:45.818Z"
   },
   {
    "duration": 0,
    "start_time": "2024-08-31T21:36:45.821Z"
   },
   {
    "duration": 0,
    "start_time": "2024-08-31T21:36:45.822Z"
   },
   {
    "duration": 0,
    "start_time": "2024-08-31T21:36:45.824Z"
   },
   {
    "duration": 0,
    "start_time": "2024-08-31T21:36:45.825Z"
   },
   {
    "duration": 0,
    "start_time": "2024-08-31T21:36:45.827Z"
   },
   {
    "duration": 0,
    "start_time": "2024-08-31T21:36:45.828Z"
   },
   {
    "duration": 0,
    "start_time": "2024-08-31T21:36:45.829Z"
   },
   {
    "duration": 0,
    "start_time": "2024-08-31T21:36:45.831Z"
   },
   {
    "duration": 0,
    "start_time": "2024-08-31T21:36:45.832Z"
   },
   {
    "duration": 0,
    "start_time": "2024-08-31T21:36:45.834Z"
   },
   {
    "duration": 0,
    "start_time": "2024-08-31T21:36:45.835Z"
   },
   {
    "duration": 0,
    "start_time": "2024-08-31T21:36:45.836Z"
   },
   {
    "duration": 0,
    "start_time": "2024-08-31T21:36:45.838Z"
   },
   {
    "duration": 12,
    "start_time": "2024-08-31T21:40:51.578Z"
   },
   {
    "duration": 12,
    "start_time": "2024-08-31T21:40:56.086Z"
   },
   {
    "duration": 8,
    "start_time": "2024-08-31T21:40:58.266Z"
   },
   {
    "duration": 838,
    "start_time": "2024-08-31T22:01:53.353Z"
   },
   {
    "duration": 155,
    "start_time": "2024-08-31T22:01:54.192Z"
   },
   {
    "duration": 19,
    "start_time": "2024-08-31T22:01:54.348Z"
   },
   {
    "duration": 61,
    "start_time": "2024-08-31T22:01:54.369Z"
   },
   {
    "duration": 19,
    "start_time": "2024-08-31T22:01:54.432Z"
   },
   {
    "duration": 12,
    "start_time": "2024-08-31T22:01:54.453Z"
   },
   {
    "duration": 60,
    "start_time": "2024-08-31T22:01:54.466Z"
   },
   {
    "duration": 14,
    "start_time": "2024-08-31T22:01:54.527Z"
   },
   {
    "duration": 8,
    "start_time": "2024-08-31T22:01:54.543Z"
   },
   {
    "duration": 3,
    "start_time": "2024-08-31T22:01:54.555Z"
   },
   {
    "duration": 8,
    "start_time": "2024-08-31T22:01:54.559Z"
   },
   {
    "duration": 45,
    "start_time": "2024-08-31T22:01:54.568Z"
   },
   {
    "duration": 50,
    "start_time": "2024-08-31T22:01:54.615Z"
   },
   {
    "duration": 16,
    "start_time": "2024-08-31T22:01:54.667Z"
   },
   {
    "duration": 30,
    "start_time": "2024-08-31T22:01:54.685Z"
   },
   {
    "duration": 29,
    "start_time": "2024-08-31T22:01:54.719Z"
   },
   {
    "duration": 7,
    "start_time": "2024-08-31T22:01:54.750Z"
   },
   {
    "duration": 13,
    "start_time": "2024-08-31T22:01:54.759Z"
   },
   {
    "duration": 8,
    "start_time": "2024-08-31T22:01:54.774Z"
   },
   {
    "duration": 31,
    "start_time": "2024-08-31T22:01:54.784Z"
   },
   {
    "duration": 5,
    "start_time": "2024-08-31T22:01:54.816Z"
   },
   {
    "duration": 8,
    "start_time": "2024-08-31T22:01:54.822Z"
   },
   {
    "duration": 5,
    "start_time": "2024-08-31T22:01:54.832Z"
   },
   {
    "duration": 11,
    "start_time": "2024-08-31T22:01:54.838Z"
   },
   {
    "duration": 12,
    "start_time": "2024-08-31T22:01:54.851Z"
   },
   {
    "duration": 63,
    "start_time": "2024-08-31T22:01:54.865Z"
   },
   {
    "duration": 11,
    "start_time": "2024-08-31T22:01:54.930Z"
   },
   {
    "duration": 80,
    "start_time": "2024-08-31T22:01:54.946Z"
   },
   {
    "duration": 8,
    "start_time": "2024-08-31T22:01:55.028Z"
   },
   {
    "duration": 30,
    "start_time": "2024-08-31T22:01:55.038Z"
   },
   {
    "duration": 9,
    "start_time": "2024-08-31T22:01:55.069Z"
   },
   {
    "duration": 7,
    "start_time": "2024-08-31T22:01:55.080Z"
   },
   {
    "duration": 28,
    "start_time": "2024-08-31T22:01:55.112Z"
   },
   {
    "duration": 21,
    "start_time": "2024-08-31T22:01:55.142Z"
   },
   {
    "duration": 3,
    "start_time": "2024-08-31T22:01:55.165Z"
   },
   {
    "duration": 8,
    "start_time": "2024-08-31T22:01:55.169Z"
   },
   {
    "duration": 33,
    "start_time": "2024-08-31T22:01:55.179Z"
   },
   {
    "duration": 25,
    "start_time": "2024-08-31T22:01:55.215Z"
   },
   {
    "duration": 27,
    "start_time": "2024-08-31T22:01:55.243Z"
   },
   {
    "duration": 14,
    "start_time": "2024-08-31T22:01:55.272Z"
   },
   {
    "duration": 38,
    "start_time": "2024-08-31T22:01:55.287Z"
   },
   {
    "duration": 8,
    "start_time": "2024-08-31T22:01:55.326Z"
   },
   {
    "duration": 18,
    "start_time": "2024-08-31T22:01:55.336Z"
   },
   {
    "duration": 16,
    "start_time": "2024-08-31T22:01:55.356Z"
   },
   {
    "duration": 48,
    "start_time": "2024-08-31T22:01:55.374Z"
   },
   {
    "duration": 6,
    "start_time": "2024-08-31T22:01:55.423Z"
   },
   {
    "duration": 3,
    "start_time": "2024-08-31T22:01:55.431Z"
   },
   {
    "duration": 12,
    "start_time": "2024-08-31T22:01:55.436Z"
   },
   {
    "duration": 7,
    "start_time": "2024-08-31T22:01:55.449Z"
   },
   {
    "duration": 4,
    "start_time": "2024-08-31T22:01:55.460Z"
   },
   {
    "duration": 0,
    "start_time": "2024-08-31T22:01:55.466Z"
   },
   {
    "duration": 0,
    "start_time": "2024-08-31T22:01:55.467Z"
   },
   {
    "duration": 0,
    "start_time": "2024-08-31T22:01:55.469Z"
   },
   {
    "duration": 0,
    "start_time": "2024-08-31T22:01:55.470Z"
   },
   {
    "duration": 0,
    "start_time": "2024-08-31T22:01:55.472Z"
   },
   {
    "duration": 0,
    "start_time": "2024-08-31T22:01:55.473Z"
   },
   {
    "duration": 0,
    "start_time": "2024-08-31T22:01:55.474Z"
   },
   {
    "duration": 0,
    "start_time": "2024-08-31T22:01:55.475Z"
   },
   {
    "duration": 0,
    "start_time": "2024-08-31T22:01:55.476Z"
   },
   {
    "duration": 0,
    "start_time": "2024-08-31T22:01:55.477Z"
   },
   {
    "duration": 0,
    "start_time": "2024-08-31T22:01:55.477Z"
   },
   {
    "duration": 0,
    "start_time": "2024-08-31T22:01:55.478Z"
   },
   {
    "duration": 0,
    "start_time": "2024-08-31T22:01:55.478Z"
   },
   {
    "duration": 0,
    "start_time": "2024-08-31T22:01:55.511Z"
   },
   {
    "duration": 0,
    "start_time": "2024-08-31T22:01:55.512Z"
   },
   {
    "duration": 0,
    "start_time": "2024-08-31T22:01:55.513Z"
   },
   {
    "duration": 0,
    "start_time": "2024-08-31T22:01:55.514Z"
   },
   {
    "duration": 0,
    "start_time": "2024-08-31T22:01:55.515Z"
   },
   {
    "duration": 0,
    "start_time": "2024-08-31T22:01:55.516Z"
   },
   {
    "duration": 0,
    "start_time": "2024-08-31T22:01:55.517Z"
   },
   {
    "duration": 0,
    "start_time": "2024-08-31T22:01:55.518Z"
   },
   {
    "duration": 0,
    "start_time": "2024-08-31T22:01:55.519Z"
   },
   {
    "duration": 0,
    "start_time": "2024-08-31T22:01:55.520Z"
   },
   {
    "duration": 0,
    "start_time": "2024-08-31T22:01:55.521Z"
   },
   {
    "duration": 0,
    "start_time": "2024-08-31T22:01:55.522Z"
   },
   {
    "duration": 0,
    "start_time": "2024-08-31T22:01:55.523Z"
   },
   {
    "duration": 0,
    "start_time": "2024-08-31T22:01:55.524Z"
   },
   {
    "duration": 8,
    "start_time": "2024-08-31T22:05:06.863Z"
   },
   {
    "duration": 18,
    "start_time": "2024-08-31T22:05:26.813Z"
   },
   {
    "duration": 8,
    "start_time": "2024-08-31T22:16:04.600Z"
   },
   {
    "duration": 22,
    "start_time": "2024-08-31T22:16:08.023Z"
   },
   {
    "duration": 800,
    "start_time": "2024-08-31T22:16:18.536Z"
   },
   {
    "duration": 5,
    "start_time": "2024-08-31T22:17:12.518Z"
   },
   {
    "duration": 44,
    "start_time": "2024-08-31T22:23:13.446Z"
   },
   {
    "duration": 81,
    "start_time": "2024-08-31T22:28:32.501Z"
   },
   {
    "duration": 81,
    "start_time": "2024-08-31T22:29:48.827Z"
   },
   {
    "duration": 54,
    "start_time": "2024-08-31T22:30:25.478Z"
   },
   {
    "duration": 50,
    "start_time": "2024-08-31T22:31:05.657Z"
   },
   {
    "duration": 51,
    "start_time": "2024-08-31T22:31:41.401Z"
   },
   {
    "duration": 83,
    "start_time": "2024-08-31T22:32:11.487Z"
   },
   {
    "duration": 76,
    "start_time": "2024-08-31T22:32:37.184Z"
   },
   {
    "duration": 15,
    "start_time": "2024-08-31T22:44:52.162Z"
   },
   {
    "duration": 348,
    "start_time": "2024-08-31T22:44:53.099Z"
   },
   {
    "duration": 261,
    "start_time": "2024-08-31T22:50:40.715Z"
   },
   {
    "duration": 248,
    "start_time": "2024-08-31T22:53:34.735Z"
   },
   {
    "duration": 12,
    "start_time": "2024-08-31T23:03:53.373Z"
   },
   {
    "duration": 10,
    "start_time": "2024-08-31T23:10:12.622Z"
   },
   {
    "duration": 383,
    "start_time": "2024-08-31T23:10:37.916Z"
   },
   {
    "duration": 132,
    "start_time": "2024-08-31T23:21:21.854Z"
   },
   {
    "duration": 17,
    "start_time": "2024-08-31T23:21:48.970Z"
   },
   {
    "duration": 285,
    "start_time": "2024-08-31T23:22:09.288Z"
   },
   {
    "duration": 642,
    "start_time": "2024-08-31T23:22:47.767Z"
   },
   {
    "duration": 67,
    "start_time": "2024-08-31T23:24:03.663Z"
   },
   {
    "duration": 312,
    "start_time": "2024-08-31T23:24:15.541Z"
   },
   {
    "duration": 4,
    "start_time": "2024-08-31T23:34:28.799Z"
   },
   {
    "duration": 4,
    "start_time": "2024-08-31T23:34:43.170Z"
   },
   {
    "duration": 57,
    "start_time": "2024-08-31T23:35:04.677Z"
   },
   {
    "duration": 13,
    "start_time": "2024-08-31T23:38:20.387Z"
   },
   {
    "duration": 8,
    "start_time": "2024-08-31T23:38:29.832Z"
   },
   {
    "duration": 9,
    "start_time": "2024-08-31T23:38:46.749Z"
   },
   {
    "duration": 28,
    "start_time": "2024-08-31T23:39:14.726Z"
   },
   {
    "duration": 7,
    "start_time": "2024-08-31T23:40:49.562Z"
   },
   {
    "duration": 158,
    "start_time": "2024-08-31T23:41:11.999Z"
   },
   {
    "duration": 41,
    "start_time": "2024-08-31T23:41:21.831Z"
   },
   {
    "duration": 12,
    "start_time": "2024-09-01T00:05:19.191Z"
   },
   {
    "duration": 8,
    "start_time": "2024-09-01T00:06:25.945Z"
   },
   {
    "duration": 13,
    "start_time": "2024-09-01T00:11:38.214Z"
   },
   {
    "duration": 11,
    "start_time": "2024-09-01T00:13:04.569Z"
   },
   {
    "duration": 9,
    "start_time": "2024-09-01T00:14:34.708Z"
   },
   {
    "duration": 9,
    "start_time": "2024-09-01T00:14:43.762Z"
   },
   {
    "duration": 255,
    "start_time": "2024-09-01T00:17:57.035Z"
   },
   {
    "duration": 8,
    "start_time": "2024-09-01T00:21:15.227Z"
   },
   {
    "duration": 15,
    "start_time": "2024-09-01T00:21:26.093Z"
   },
   {
    "duration": 14,
    "start_time": "2024-09-01T00:24:19.053Z"
   },
   {
    "duration": 11,
    "start_time": "2024-09-01T00:25:34.943Z"
   },
   {
    "duration": 181,
    "start_time": "2024-09-01T00:32:56.184Z"
   },
   {
    "duration": 871,
    "start_time": "2024-09-01T00:36:57.731Z"
   },
   {
    "duration": 162,
    "start_time": "2024-09-01T00:36:58.604Z"
   },
   {
    "duration": 16,
    "start_time": "2024-09-01T00:36:58.768Z"
   },
   {
    "duration": 69,
    "start_time": "2024-09-01T00:36:58.786Z"
   },
   {
    "duration": 19,
    "start_time": "2024-09-01T00:36:58.857Z"
   },
   {
    "duration": 12,
    "start_time": "2024-09-01T00:36:58.878Z"
   },
   {
    "duration": 55,
    "start_time": "2024-09-01T00:36:58.892Z"
   },
   {
    "duration": 13,
    "start_time": "2024-09-01T00:36:58.950Z"
   },
   {
    "duration": 8,
    "start_time": "2024-09-01T00:36:58.965Z"
   },
   {
    "duration": 3,
    "start_time": "2024-09-01T00:36:58.976Z"
   },
   {
    "duration": 31,
    "start_time": "2024-09-01T00:36:58.981Z"
   },
   {
    "duration": 13,
    "start_time": "2024-09-01T00:36:59.014Z"
   },
   {
    "duration": 50,
    "start_time": "2024-09-01T00:36:59.029Z"
   },
   {
    "duration": 32,
    "start_time": "2024-09-01T00:36:59.081Z"
   },
   {
    "duration": 8,
    "start_time": "2024-09-01T00:36:59.115Z"
   },
   {
    "duration": 27,
    "start_time": "2024-09-01T00:36:59.125Z"
   },
   {
    "duration": 7,
    "start_time": "2024-09-01T00:36:59.155Z"
   },
   {
    "duration": 14,
    "start_time": "2024-09-01T00:36:59.164Z"
   },
   {
    "duration": 10,
    "start_time": "2024-09-01T00:36:59.212Z"
   },
   {
    "duration": 4,
    "start_time": "2024-09-01T00:36:59.226Z"
   },
   {
    "duration": 5,
    "start_time": "2024-09-01T00:36:59.231Z"
   },
   {
    "duration": 4,
    "start_time": "2024-09-01T00:36:59.237Z"
   },
   {
    "duration": 4,
    "start_time": "2024-09-01T00:36:59.242Z"
   },
   {
    "duration": 10,
    "start_time": "2024-09-01T00:36:59.247Z"
   },
   {
    "duration": 11,
    "start_time": "2024-09-01T00:36:59.259Z"
   },
   {
    "duration": 72,
    "start_time": "2024-09-01T00:36:59.271Z"
   },
   {
    "duration": 8,
    "start_time": "2024-09-01T00:36:59.345Z"
   },
   {
    "duration": 86,
    "start_time": "2024-09-01T00:36:59.358Z"
   },
   {
    "duration": 7,
    "start_time": "2024-09-01T00:36:59.446Z"
   },
   {
    "duration": 32,
    "start_time": "2024-09-01T00:36:59.456Z"
   },
   {
    "duration": 29,
    "start_time": "2024-09-01T00:36:59.490Z"
   },
   {
    "duration": 7,
    "start_time": "2024-09-01T00:36:59.520Z"
   },
   {
    "duration": 23,
    "start_time": "2024-09-01T00:36:59.529Z"
   },
   {
    "duration": 22,
    "start_time": "2024-09-01T00:36:59.554Z"
   },
   {
    "duration": 3,
    "start_time": "2024-09-01T00:36:59.578Z"
   },
   {
    "duration": 36,
    "start_time": "2024-09-01T00:36:59.582Z"
   },
   {
    "duration": 3,
    "start_time": "2024-09-01T00:36:59.619Z"
   },
   {
    "duration": 24,
    "start_time": "2024-09-01T00:36:59.624Z"
   },
   {
    "duration": 27,
    "start_time": "2024-09-01T00:36:59.650Z"
   },
   {
    "duration": 39,
    "start_time": "2024-09-01T00:36:59.679Z"
   },
   {
    "duration": 19,
    "start_time": "2024-09-01T00:36:59.719Z"
   },
   {
    "duration": 10,
    "start_time": "2024-09-01T00:36:59.740Z"
   },
   {
    "duration": 18,
    "start_time": "2024-09-01T00:36:59.752Z"
   },
   {
    "duration": 44,
    "start_time": "2024-09-01T00:36:59.771Z"
   },
   {
    "duration": 19,
    "start_time": "2024-09-01T00:36:59.816Z"
   },
   {
    "duration": 5,
    "start_time": "2024-09-01T00:36:59.837Z"
   },
   {
    "duration": 4,
    "start_time": "2024-09-01T00:36:59.844Z"
   },
   {
    "duration": 13,
    "start_time": "2024-09-01T00:36:59.849Z"
   },
   {
    "duration": 8,
    "start_time": "2024-09-01T00:36:59.864Z"
   },
   {
    "duration": 44,
    "start_time": "2024-09-01T00:36:59.873Z"
   },
   {
    "duration": 17,
    "start_time": "2024-09-01T00:36:59.919Z"
   },
   {
    "duration": 88,
    "start_time": "2024-09-01T00:36:59.938Z"
   },
   {
    "duration": 16,
    "start_time": "2024-09-01T00:37:00.028Z"
   },
   {
    "duration": 365,
    "start_time": "2024-09-01T00:37:00.046Z"
   },
   {
    "duration": 17,
    "start_time": "2024-09-01T00:37:00.414Z"
   },
   {
    "duration": 349,
    "start_time": "2024-09-01T00:37:00.433Z"
   },
   {
    "duration": 27,
    "start_time": "2024-09-01T00:37:00.785Z"
   },
   {
    "duration": 9,
    "start_time": "2024-09-01T00:37:00.813Z"
   },
   {
    "duration": 280,
    "start_time": "2024-09-01T00:37:00.825Z"
   },
   {
    "duration": 5,
    "start_time": "2024-09-01T00:37:01.107Z"
   },
   {
    "duration": 10,
    "start_time": "2024-09-01T00:37:01.114Z"
   },
   {
    "duration": 820,
    "start_time": "2024-09-01T00:37:01.126Z"
   },
   {
    "duration": 0,
    "start_time": "2024-09-01T00:37:01.948Z"
   },
   {
    "duration": 0,
    "start_time": "2024-09-01T00:37:01.950Z"
   },
   {
    "duration": 0,
    "start_time": "2024-09-01T00:37:01.951Z"
   },
   {
    "duration": 0,
    "start_time": "2024-09-01T00:37:01.953Z"
   },
   {
    "duration": 0,
    "start_time": "2024-09-01T00:37:01.954Z"
   },
   {
    "duration": 0,
    "start_time": "2024-09-01T00:37:01.956Z"
   },
   {
    "duration": 0,
    "start_time": "2024-09-01T00:37:01.957Z"
   },
   {
    "duration": 0,
    "start_time": "2024-09-01T00:37:01.958Z"
   },
   {
    "duration": 0,
    "start_time": "2024-09-01T00:37:01.960Z"
   },
   {
    "duration": 0,
    "start_time": "2024-09-01T00:37:01.961Z"
   },
   {
    "duration": 0,
    "start_time": "2024-09-01T00:37:01.962Z"
   },
   {
    "duration": 0,
    "start_time": "2024-09-01T00:37:01.963Z"
   },
   {
    "duration": 0,
    "start_time": "2024-09-01T00:37:01.965Z"
   },
   {
    "duration": 0,
    "start_time": "2024-09-01T00:37:01.966Z"
   },
   {
    "duration": 0,
    "start_time": "2024-09-01T00:37:01.967Z"
   },
   {
    "duration": 0,
    "start_time": "2024-09-01T00:37:01.968Z"
   },
   {
    "duration": 0,
    "start_time": "2024-09-01T00:37:01.969Z"
   },
   {
    "duration": 2,
    "start_time": "2024-09-01T00:37:21.570Z"
   },
   {
    "duration": 153,
    "start_time": "2024-09-01T00:37:21.576Z"
   },
   {
    "duration": 16,
    "start_time": "2024-09-01T00:37:21.731Z"
   },
   {
    "duration": 74,
    "start_time": "2024-09-01T00:37:21.748Z"
   },
   {
    "duration": 20,
    "start_time": "2024-09-01T00:37:21.824Z"
   },
   {
    "duration": 12,
    "start_time": "2024-09-01T00:37:21.846Z"
   },
   {
    "duration": 58,
    "start_time": "2024-09-01T00:37:21.860Z"
   },
   {
    "duration": 15,
    "start_time": "2024-09-01T00:37:21.920Z"
   },
   {
    "duration": 8,
    "start_time": "2024-09-01T00:37:21.937Z"
   },
   {
    "duration": 3,
    "start_time": "2024-09-01T00:37:21.947Z"
   },
   {
    "duration": 8,
    "start_time": "2024-09-01T00:37:21.953Z"
   },
   {
    "duration": 14,
    "start_time": "2024-09-01T00:37:21.962Z"
   },
   {
    "duration": 78,
    "start_time": "2024-09-01T00:37:21.977Z"
   },
   {
    "duration": 17,
    "start_time": "2024-09-01T00:37:22.057Z"
   },
   {
    "duration": 8,
    "start_time": "2024-09-01T00:37:22.075Z"
   },
   {
    "duration": 47,
    "start_time": "2024-09-01T00:37:22.085Z"
   },
   {
    "duration": 8,
    "start_time": "2024-09-01T00:37:22.135Z"
   },
   {
    "duration": 15,
    "start_time": "2024-09-01T00:37:22.144Z"
   },
   {
    "duration": 9,
    "start_time": "2024-09-01T00:37:22.160Z"
   },
   {
    "duration": 4,
    "start_time": "2024-09-01T00:37:22.171Z"
   },
   {
    "duration": 35,
    "start_time": "2024-09-01T00:37:22.177Z"
   },
   {
    "duration": 4,
    "start_time": "2024-09-01T00:37:22.214Z"
   },
   {
    "duration": 3,
    "start_time": "2024-09-01T00:37:22.220Z"
   },
   {
    "duration": 9,
    "start_time": "2024-09-01T00:37:22.225Z"
   },
   {
    "duration": 10,
    "start_time": "2024-09-01T00:37:22.236Z"
   },
   {
    "duration": 65,
    "start_time": "2024-09-01T00:37:22.248Z"
   },
   {
    "duration": 10,
    "start_time": "2024-09-01T00:37:22.316Z"
   },
   {
    "duration": 61,
    "start_time": "2024-09-01T00:37:22.327Z"
   },
   {
    "duration": 8,
    "start_time": "2024-09-01T00:37:22.411Z"
   },
   {
    "duration": 28,
    "start_time": "2024-09-01T00:37:22.421Z"
   },
   {
    "duration": 10,
    "start_time": "2024-09-01T00:37:22.451Z"
   },
   {
    "duration": 8,
    "start_time": "2024-09-01T00:37:22.462Z"
   },
   {
    "duration": 47,
    "start_time": "2024-09-01T00:37:22.473Z"
   },
   {
    "duration": 19,
    "start_time": "2024-09-01T00:37:22.521Z"
   },
   {
    "duration": 2,
    "start_time": "2024-09-01T00:37:22.542Z"
   },
   {
    "duration": 8,
    "start_time": "2024-09-01T00:37:22.546Z"
   },
   {
    "duration": 4,
    "start_time": "2024-09-01T00:37:22.555Z"
   },
   {
    "duration": 21,
    "start_time": "2024-09-01T00:37:22.560Z"
   },
   {
    "duration": 49,
    "start_time": "2024-09-01T00:37:22.583Z"
   },
   {
    "duration": 14,
    "start_time": "2024-09-01T00:37:22.634Z"
   },
   {
    "duration": 15,
    "start_time": "2024-09-01T00:37:22.650Z"
   },
   {
    "duration": 9,
    "start_time": "2024-09-01T00:37:22.666Z"
   },
   {
    "duration": 46,
    "start_time": "2024-09-01T00:37:22.677Z"
   },
   {
    "duration": 17,
    "start_time": "2024-09-01T00:37:22.725Z"
   },
   {
    "duration": 19,
    "start_time": "2024-09-01T00:37:22.743Z"
   },
   {
    "duration": 6,
    "start_time": "2024-09-01T00:37:22.763Z"
   },
   {
    "duration": 4,
    "start_time": "2024-09-01T00:37:22.771Z"
   },
   {
    "duration": 42,
    "start_time": "2024-09-01T00:37:22.776Z"
   },
   {
    "duration": 8,
    "start_time": "2024-09-01T00:37:22.820Z"
   },
   {
    "duration": 7,
    "start_time": "2024-09-01T00:37:22.830Z"
   },
   {
    "duration": 18,
    "start_time": "2024-09-01T00:37:22.839Z"
   },
   {
    "duration": 95,
    "start_time": "2024-09-01T00:37:22.859Z"
   },
   {
    "duration": 16,
    "start_time": "2024-09-01T00:37:22.955Z"
   },
   {
    "duration": 386,
    "start_time": "2024-09-01T00:37:22.972Z"
   },
   {
    "duration": 16,
    "start_time": "2024-09-01T00:37:23.359Z"
   },
   {
    "duration": 295,
    "start_time": "2024-09-01T00:37:23.377Z"
   },
   {
    "duration": 14,
    "start_time": "2024-09-01T00:37:23.674Z"
   },
   {
    "duration": 26,
    "start_time": "2024-09-01T00:37:23.689Z"
   },
   {
    "duration": 285,
    "start_time": "2024-09-01T00:37:23.717Z"
   },
   {
    "duration": 3,
    "start_time": "2024-09-01T00:37:24.011Z"
   },
   {
    "duration": 11,
    "start_time": "2024-09-01T00:37:24.015Z"
   },
   {
    "duration": 185,
    "start_time": "2024-09-01T00:37:24.028Z"
   },
   {
    "duration": 0,
    "start_time": "2024-09-01T00:37:24.215Z"
   },
   {
    "duration": 0,
    "start_time": "2024-09-01T00:37:24.216Z"
   },
   {
    "duration": 9,
    "start_time": "2024-09-01T00:37:29.540Z"
   },
   {
    "duration": 313,
    "start_time": "2024-09-01T00:37:30.140Z"
   },
   {
    "duration": 259,
    "start_time": "2024-09-01T00:38:09.502Z"
   },
   {
    "duration": 11,
    "start_time": "2024-09-01T00:38:24.744Z"
   },
   {
    "duration": 175,
    "start_time": "2024-09-01T00:38:25.662Z"
   },
   {
    "duration": 348,
    "start_time": "2024-09-01T00:39:36.198Z"
   },
   {
    "duration": 449,
    "start_time": "2024-09-01T00:46:49.067Z"
   },
   {
    "duration": 172,
    "start_time": "2024-09-01T00:47:18.866Z"
   },
   {
    "duration": 172,
    "start_time": "2024-09-01T00:47:51.359Z"
   },
   {
    "duration": 175,
    "start_time": "2024-09-01T00:48:05.101Z"
   },
   {
    "duration": 178,
    "start_time": "2024-09-01T00:49:35.656Z"
   },
   {
    "duration": 16,
    "start_time": "2024-09-01T00:52:30.688Z"
   },
   {
    "duration": 12,
    "start_time": "2024-09-01T00:52:41.936Z"
   },
   {
    "duration": 301,
    "start_time": "2024-09-01T00:52:44.236Z"
   },
   {
    "duration": 324,
    "start_time": "2024-09-01T00:53:37.761Z"
   },
   {
    "duration": 268,
    "start_time": "2024-09-01T00:54:18.309Z"
   },
   {
    "duration": 281,
    "start_time": "2024-09-01T00:58:31.990Z"
   },
   {
    "duration": 257,
    "start_time": "2024-09-01T00:58:39.974Z"
   },
   {
    "duration": 10,
    "start_time": "2024-09-01T01:02:14.157Z"
   },
   {
    "duration": 251,
    "start_time": "2024-09-01T01:11:24.120Z"
   },
   {
    "duration": 250,
    "start_time": "2024-09-01T01:12:31.025Z"
   },
   {
    "duration": 269,
    "start_time": "2024-09-01T01:12:41.795Z"
   },
   {
    "duration": 265,
    "start_time": "2024-09-01T01:13:57.068Z"
   },
   {
    "duration": 237,
    "start_time": "2024-09-01T01:14:20.132Z"
   },
   {
    "duration": 249,
    "start_time": "2024-09-01T01:28:30.827Z"
   },
   {
    "duration": 4,
    "start_time": "2024-09-01T01:39:35.461Z"
   },
   {
    "duration": 267,
    "start_time": "2024-09-01T01:40:35.311Z"
   },
   {
    "duration": 224,
    "start_time": "2024-09-01T01:44:30.762Z"
   },
   {
    "duration": 5,
    "start_time": "2024-09-01T01:45:47.048Z"
   },
   {
    "duration": 407,
    "start_time": "2024-09-01T01:48:07.780Z"
   },
   {
    "duration": 251,
    "start_time": "2024-09-01T01:48:25.423Z"
   },
   {
    "duration": 267,
    "start_time": "2024-09-01T01:48:26.428Z"
   },
   {
    "duration": 9,
    "start_time": "2024-09-01T01:49:14.346Z"
   },
   {
    "duration": 4,
    "start_time": "2024-09-01T01:50:26.792Z"
   },
   {
    "duration": 7,
    "start_time": "2024-09-01T01:52:34.037Z"
   },
   {
    "duration": 12,
    "start_time": "2024-09-01T02:03:03.900Z"
   },
   {
    "duration": 131,
    "start_time": "2024-09-01T02:03:04.523Z"
   },
   {
    "duration": 15,
    "start_time": "2024-09-01T02:03:08.815Z"
   },
   {
    "duration": 13,
    "start_time": "2024-09-01T02:03:18.064Z"
   },
   {
    "duration": 5,
    "start_time": "2024-09-01T02:11:13.409Z"
   },
   {
    "duration": 3,
    "start_time": "2024-09-01T02:12:57.793Z"
   },
   {
    "duration": 17,
    "start_time": "2024-09-01T02:17:25.669Z"
   },
   {
    "duration": 229,
    "start_time": "2024-09-01T02:17:59.890Z"
   },
   {
    "duration": 15,
    "start_time": "2024-09-01T02:18:04.080Z"
   },
   {
    "duration": 16,
    "start_time": "2024-09-01T02:21:28.502Z"
   },
   {
    "duration": 5,
    "start_time": "2024-09-01T02:29:28.068Z"
   },
   {
    "duration": 25,
    "start_time": "2024-09-01T02:31:20.009Z"
   },
   {
    "duration": 8,
    "start_time": "2024-09-01T02:32:00.018Z"
   },
   {
    "duration": 11,
    "start_time": "2024-09-01T02:34:49.482Z"
   },
   {
    "duration": 143,
    "start_time": "2024-09-01T02:35:03.079Z"
   },
   {
    "duration": 9,
    "start_time": "2024-09-01T02:35:09.124Z"
   },
   {
    "duration": 9,
    "start_time": "2024-09-01T02:35:56.588Z"
   },
   {
    "duration": 9,
    "start_time": "2024-09-01T02:36:12.873Z"
   },
   {
    "duration": 46,
    "start_time": "2024-09-01T02:39:13.153Z"
   },
   {
    "duration": 6,
    "start_time": "2024-09-01T02:39:34.010Z"
   },
   {
    "duration": 8,
    "start_time": "2024-09-01T02:42:12.230Z"
   },
   {
    "duration": 5,
    "start_time": "2024-09-01T02:42:42.417Z"
   },
   {
    "duration": 4,
    "start_time": "2024-09-01T02:43:19.881Z"
   },
   {
    "duration": 4,
    "start_time": "2024-09-01T02:44:00.208Z"
   },
   {
    "duration": 13,
    "start_time": "2024-09-01T02:50:02.081Z"
   },
   {
    "duration": 25,
    "start_time": "2024-09-01T02:50:11.677Z"
   },
   {
    "duration": 7,
    "start_time": "2024-09-01T02:50:13.449Z"
   },
   {
    "duration": 6,
    "start_time": "2024-09-01T02:50:18.808Z"
   },
   {
    "duration": 7,
    "start_time": "2024-09-01T02:50:22.129Z"
   },
   {
    "duration": 4,
    "start_time": "2024-09-01T02:50:25.125Z"
   },
   {
    "duration": 27,
    "start_time": "2024-09-01T02:53:06.575Z"
   },
   {
    "duration": 8,
    "start_time": "2024-09-01T02:53:12.230Z"
   },
   {
    "duration": 5,
    "start_time": "2024-09-01T02:53:12.507Z"
   },
   {
    "duration": 7,
    "start_time": "2024-09-01T02:53:14.552Z"
   },
   {
    "duration": 4,
    "start_time": "2024-09-01T02:53:15.697Z"
   },
   {
    "duration": 947,
    "start_time": "2024-09-01T04:58:20.284Z"
   },
   {
    "duration": 331,
    "start_time": "2024-09-01T04:58:21.233Z"
   },
   {
    "duration": 76,
    "start_time": "2024-09-01T04:58:21.566Z"
   },
   {
    "duration": 189,
    "start_time": "2024-09-01T04:58:21.645Z"
   },
   {
    "duration": 20,
    "start_time": "2024-09-01T04:58:21.836Z"
   },
   {
    "duration": 12,
    "start_time": "2024-09-01T04:58:21.858Z"
   },
   {
    "duration": 94,
    "start_time": "2024-09-01T04:58:21.871Z"
   },
   {
    "duration": 65,
    "start_time": "2024-09-01T04:58:21.967Z"
   },
   {
    "duration": 11,
    "start_time": "2024-09-01T04:58:22.034Z"
   },
   {
    "duration": 4,
    "start_time": "2024-09-01T04:58:22.049Z"
   },
   {
    "duration": 9,
    "start_time": "2024-09-01T04:58:22.055Z"
   },
   {
    "duration": 72,
    "start_time": "2024-09-01T04:58:22.066Z"
   },
   {
    "duration": 50,
    "start_time": "2024-09-01T04:58:22.140Z"
   },
   {
    "duration": 45,
    "start_time": "2024-09-01T04:58:22.192Z"
   },
   {
    "duration": 9,
    "start_time": "2024-09-01T04:58:22.239Z"
   },
   {
    "duration": 27,
    "start_time": "2024-09-01T04:58:22.249Z"
   },
   {
    "duration": 8,
    "start_time": "2024-09-01T04:58:22.278Z"
   },
   {
    "duration": 15,
    "start_time": "2024-09-01T04:58:22.288Z"
   },
   {
    "duration": 10,
    "start_time": "2024-09-01T04:58:22.332Z"
   },
   {
    "duration": 4,
    "start_time": "2024-09-01T04:58:22.343Z"
   },
   {
    "duration": 4,
    "start_time": "2024-09-01T04:58:22.349Z"
   },
   {
    "duration": 4,
    "start_time": "2024-09-01T04:58:22.354Z"
   },
   {
    "duration": 4,
    "start_time": "2024-09-01T04:58:22.359Z"
   },
   {
    "duration": 9,
    "start_time": "2024-09-01T04:58:22.365Z"
   },
   {
    "duration": 11,
    "start_time": "2024-09-01T04:58:22.376Z"
   },
   {
    "duration": 85,
    "start_time": "2024-09-01T04:58:22.388Z"
   },
   {
    "duration": 11,
    "start_time": "2024-09-01T04:58:22.475Z"
   },
   {
    "duration": 78,
    "start_time": "2024-09-01T04:58:22.492Z"
   },
   {
    "duration": 7,
    "start_time": "2024-09-01T04:58:22.572Z"
   },
   {
    "duration": 30,
    "start_time": "2024-09-01T04:58:22.581Z"
   },
   {
    "duration": 10,
    "start_time": "2024-09-01T04:58:22.631Z"
   },
   {
    "duration": 8,
    "start_time": "2024-09-01T04:58:22.642Z"
   },
   {
    "duration": 25,
    "start_time": "2024-09-01T04:58:22.654Z"
   },
   {
    "duration": 52,
    "start_time": "2024-09-01T04:58:22.681Z"
   },
   {
    "duration": 3,
    "start_time": "2024-09-01T04:58:22.735Z"
   },
   {
    "duration": 8,
    "start_time": "2024-09-01T04:58:22.740Z"
   },
   {
    "duration": 3,
    "start_time": "2024-09-01T04:58:22.750Z"
   },
   {
    "duration": 25,
    "start_time": "2024-09-01T04:58:22.754Z"
   },
   {
    "duration": 56,
    "start_time": "2024-09-01T04:58:22.780Z"
   },
   {
    "duration": 14,
    "start_time": "2024-09-01T04:58:22.837Z"
   },
   {
    "duration": 16,
    "start_time": "2024-09-01T04:58:22.853Z"
   },
   {
    "duration": 9,
    "start_time": "2024-09-01T04:58:22.871Z"
   },
   {
    "duration": 18,
    "start_time": "2024-09-01T04:58:22.882Z"
   },
   {
    "duration": 44,
    "start_time": "2024-09-01T04:58:22.902Z"
   },
   {
    "duration": 19,
    "start_time": "2024-09-01T04:58:22.947Z"
   },
   {
    "duration": 6,
    "start_time": "2024-09-01T04:58:22.968Z"
   },
   {
    "duration": 4,
    "start_time": "2024-09-01T04:58:22.976Z"
   },
   {
    "duration": 13,
    "start_time": "2024-09-01T04:58:22.981Z"
   },
   {
    "duration": 40,
    "start_time": "2024-09-01T04:58:22.995Z"
   },
   {
    "duration": 8,
    "start_time": "2024-09-01T04:58:23.037Z"
   },
   {
    "duration": 19,
    "start_time": "2024-09-01T04:58:23.047Z"
   },
   {
    "duration": 95,
    "start_time": "2024-09-01T04:58:23.068Z"
   },
   {
    "duration": 17,
    "start_time": "2024-09-01T04:58:23.165Z"
   },
   {
    "duration": 849,
    "start_time": "2024-09-01T04:58:23.184Z"
   },
   {
    "duration": 0,
    "start_time": "2024-09-01T04:58:24.034Z"
   },
   {
    "duration": 0,
    "start_time": "2024-09-01T04:58:24.036Z"
   },
   {
    "duration": 0,
    "start_time": "2024-09-01T04:58:24.037Z"
   },
   {
    "duration": 0,
    "start_time": "2024-09-01T04:58:24.037Z"
   },
   {
    "duration": 0,
    "start_time": "2024-09-01T04:58:24.038Z"
   },
   {
    "duration": 0,
    "start_time": "2024-09-01T04:58:24.039Z"
   },
   {
    "duration": 0,
    "start_time": "2024-09-01T04:58:24.040Z"
   },
   {
    "duration": 0,
    "start_time": "2024-09-01T04:58:24.041Z"
   },
   {
    "duration": 0,
    "start_time": "2024-09-01T04:58:24.042Z"
   },
   {
    "duration": 0,
    "start_time": "2024-09-01T04:58:24.044Z"
   },
   {
    "duration": 0,
    "start_time": "2024-09-01T04:58:24.045Z"
   },
   {
    "duration": 0,
    "start_time": "2024-09-01T04:58:24.046Z"
   },
   {
    "duration": 0,
    "start_time": "2024-09-01T04:58:24.048Z"
   },
   {
    "duration": 0,
    "start_time": "2024-09-01T04:58:24.049Z"
   },
   {
    "duration": 0,
    "start_time": "2024-09-01T04:58:24.050Z"
   },
   {
    "duration": 0,
    "start_time": "2024-09-01T04:58:24.051Z"
   },
   {
    "duration": 0,
    "start_time": "2024-09-01T04:58:24.052Z"
   },
   {
    "duration": 0,
    "start_time": "2024-09-01T04:58:24.053Z"
   },
   {
    "duration": 0,
    "start_time": "2024-09-01T04:58:24.054Z"
   },
   {
    "duration": 0,
    "start_time": "2024-09-01T04:58:24.055Z"
   },
   {
    "duration": 0,
    "start_time": "2024-09-01T04:58:24.056Z"
   },
   {
    "duration": 0,
    "start_time": "2024-09-01T04:58:24.057Z"
   },
   {
    "duration": 0,
    "start_time": "2024-09-01T04:58:24.058Z"
   },
   {
    "duration": 0,
    "start_time": "2024-09-01T04:58:24.059Z"
   },
   {
    "duration": 0,
    "start_time": "2024-09-01T04:58:24.060Z"
   },
   {
    "duration": 0,
    "start_time": "2024-09-01T04:58:24.061Z"
   },
   {
    "duration": 3,
    "start_time": "2024-09-01T05:09:04.765Z"
   },
   {
    "duration": 167,
    "start_time": "2024-09-01T05:09:04.771Z"
   },
   {
    "duration": 16,
    "start_time": "2024-09-01T05:09:04.940Z"
   },
   {
    "duration": 63,
    "start_time": "2024-09-01T05:09:04.957Z"
   },
   {
    "duration": 27,
    "start_time": "2024-09-01T05:09:05.022Z"
   },
   {
    "duration": 12,
    "start_time": "2024-09-01T05:09:05.051Z"
   },
   {
    "duration": 33,
    "start_time": "2024-09-01T05:09:05.065Z"
   },
   {
    "duration": 34,
    "start_time": "2024-09-01T05:09:05.100Z"
   },
   {
    "duration": 8,
    "start_time": "2024-09-01T05:09:05.135Z"
   },
   {
    "duration": 3,
    "start_time": "2024-09-01T05:09:05.145Z"
   },
   {
    "duration": 8,
    "start_time": "2024-09-01T05:09:05.151Z"
   },
   {
    "duration": 13,
    "start_time": "2024-09-01T05:09:05.162Z"
   },
   {
    "duration": 71,
    "start_time": "2024-09-01T05:09:05.176Z"
   },
   {
    "duration": 17,
    "start_time": "2024-09-01T05:09:05.249Z"
   },
   {
    "duration": 8,
    "start_time": "2024-09-01T05:09:05.267Z"
   },
   {
    "duration": 24,
    "start_time": "2024-09-01T05:09:05.277Z"
   },
   {
    "duration": 33,
    "start_time": "2024-09-01T05:09:05.303Z"
   },
   {
    "duration": 16,
    "start_time": "2024-09-01T05:09:05.339Z"
   },
   {
    "duration": 9,
    "start_time": "2024-09-01T05:09:05.356Z"
   },
   {
    "duration": 5,
    "start_time": "2024-09-01T05:09:05.366Z"
   },
   {
    "duration": 4,
    "start_time": "2024-09-01T05:09:05.372Z"
   },
   {
    "duration": 4,
    "start_time": "2024-09-01T05:09:05.378Z"
   },
   {
    "duration": 3,
    "start_time": "2024-09-01T05:09:05.384Z"
   },
   {
    "duration": 50,
    "start_time": "2024-09-01T05:09:05.389Z"
   },
   {
    "duration": 10,
    "start_time": "2024-09-01T05:09:05.441Z"
   },
   {
    "duration": 37,
    "start_time": "2024-09-01T05:09:05.453Z"
   },
   {
    "duration": 10,
    "start_time": "2024-09-01T05:09:05.491Z"
   },
   {
    "duration": 84,
    "start_time": "2024-09-01T05:09:05.503Z"
   },
   {
    "duration": 7,
    "start_time": "2024-09-01T05:09:05.592Z"
   },
   {
    "duration": 50,
    "start_time": "2024-09-01T05:09:05.601Z"
   },
   {
    "duration": 9,
    "start_time": "2024-09-01T05:09:05.653Z"
   },
   {
    "duration": 8,
    "start_time": "2024-09-01T05:09:05.663Z"
   },
   {
    "duration": 22,
    "start_time": "2024-09-01T05:09:05.672Z"
   },
   {
    "duration": 39,
    "start_time": "2024-09-01T05:09:05.696Z"
   },
   {
    "duration": 3,
    "start_time": "2024-09-01T05:09:05.737Z"
   },
   {
    "duration": 8,
    "start_time": "2024-09-01T05:09:05.742Z"
   },
   {
    "duration": 3,
    "start_time": "2024-09-01T05:09:05.752Z"
   },
   {
    "duration": 22,
    "start_time": "2024-09-01T05:09:05.757Z"
   },
   {
    "duration": 57,
    "start_time": "2024-09-01T05:09:05.781Z"
   },
   {
    "duration": 14,
    "start_time": "2024-09-01T05:09:05.840Z"
   },
   {
    "duration": 15,
    "start_time": "2024-09-01T05:09:05.855Z"
   },
   {
    "duration": 9,
    "start_time": "2024-09-01T05:09:05.872Z"
   },
   {
    "duration": 19,
    "start_time": "2024-09-01T05:09:05.882Z"
   },
   {
    "duration": 47,
    "start_time": "2024-09-01T05:09:05.903Z"
   },
   {
    "duration": 21,
    "start_time": "2024-09-01T05:09:05.952Z"
   },
   {
    "duration": 7,
    "start_time": "2024-09-01T05:09:05.975Z"
   },
   {
    "duration": 5,
    "start_time": "2024-09-01T05:09:05.985Z"
   },
   {
    "duration": 15,
    "start_time": "2024-09-01T05:09:05.992Z"
   },
   {
    "duration": 7,
    "start_time": "2024-09-01T05:09:06.032Z"
   },
   {
    "duration": 8,
    "start_time": "2024-09-01T05:09:06.041Z"
   },
   {
    "duration": 17,
    "start_time": "2024-09-01T05:09:06.051Z"
   },
   {
    "duration": 93,
    "start_time": "2024-09-01T05:09:06.069Z"
   },
   {
    "duration": 19,
    "start_time": "2024-09-01T05:09:06.163Z"
   },
   {
    "duration": 188,
    "start_time": "2024-09-01T05:09:06.183Z"
   },
   {
    "duration": 258,
    "start_time": "2024-09-01T05:09:21.343Z"
   },
   {
    "duration": 15,
    "start_time": "2024-09-01T05:09:41.505Z"
   },
   {
    "duration": 10,
    "start_time": "2024-09-01T05:09:41.523Z"
   },
   {
    "duration": 296,
    "start_time": "2024-09-01T05:09:41.535Z"
   },
   {
    "duration": 11,
    "start_time": "2024-09-01T05:09:41.834Z"
   },
   {
    "duration": 333,
    "start_time": "2024-09-01T05:09:41.847Z"
   },
   {
    "duration": 251,
    "start_time": "2024-09-01T05:09:42.182Z"
   },
   {
    "duration": 285,
    "start_time": "2024-09-01T05:09:42.435Z"
   },
   {
    "duration": 17,
    "start_time": "2024-09-01T05:09:42.721Z"
   },
   {
    "duration": 10,
    "start_time": "2024-09-01T05:09:42.740Z"
   },
   {
    "duration": 187,
    "start_time": "2024-09-01T05:09:42.754Z"
   },
   {
    "duration": 0,
    "start_time": "2024-09-01T05:09:42.942Z"
   },
   {
    "duration": 0,
    "start_time": "2024-09-01T05:09:42.944Z"
   },
   {
    "duration": 0,
    "start_time": "2024-09-01T05:09:42.945Z"
   },
   {
    "duration": 0,
    "start_time": "2024-09-01T05:09:42.946Z"
   },
   {
    "duration": 0,
    "start_time": "2024-09-01T05:09:42.947Z"
   },
   {
    "duration": 0,
    "start_time": "2024-09-01T05:09:42.948Z"
   },
   {
    "duration": 0,
    "start_time": "2024-09-01T05:09:42.949Z"
   },
   {
    "duration": 0,
    "start_time": "2024-09-01T05:09:42.950Z"
   },
   {
    "duration": 0,
    "start_time": "2024-09-01T05:09:42.951Z"
   },
   {
    "duration": 0,
    "start_time": "2024-09-01T05:09:42.952Z"
   },
   {
    "duration": 0,
    "start_time": "2024-09-01T05:09:42.953Z"
   },
   {
    "duration": 0,
    "start_time": "2024-09-01T05:09:42.955Z"
   },
   {
    "duration": 0,
    "start_time": "2024-09-01T05:09:42.956Z"
   },
   {
    "duration": 1,
    "start_time": "2024-09-01T05:09:42.957Z"
   },
   {
    "duration": 0,
    "start_time": "2024-09-01T05:09:42.959Z"
   },
   {
    "duration": 265,
    "start_time": "2024-09-01T05:11:29.782Z"
   },
   {
    "duration": 275,
    "start_time": "2024-09-01T05:11:30.049Z"
   },
   {
    "duration": 10,
    "start_time": "2024-09-01T05:11:30.331Z"
   },
   {
    "duration": 14,
    "start_time": "2024-09-01T05:11:30.343Z"
   },
   {
    "duration": 14,
    "start_time": "2024-09-01T05:11:30.359Z"
   },
   {
    "duration": 8,
    "start_time": "2024-09-01T05:11:30.374Z"
   },
   {
    "duration": 8,
    "start_time": "2024-09-01T05:11:30.385Z"
   },
   {
    "duration": 40,
    "start_time": "2024-09-01T05:11:30.395Z"
   },
   {
    "duration": 6,
    "start_time": "2024-09-01T05:11:30.436Z"
   },
   {
    "duration": 4,
    "start_time": "2024-09-01T05:11:30.444Z"
   },
   {
    "duration": 25,
    "start_time": "2024-09-01T05:11:30.450Z"
   },
   {
    "duration": 7,
    "start_time": "2024-09-01T05:11:30.476Z"
   },
   {
    "duration": 4,
    "start_time": "2024-09-01T05:11:30.485Z"
   },
   {
    "duration": 41,
    "start_time": "2024-09-01T05:11:30.491Z"
   },
   {
    "duration": 5,
    "start_time": "2024-09-01T05:11:30.533Z"
   },
   {
    "duration": 195,
    "start_time": "2024-09-01T05:11:59.240Z"
   },
   {
    "duration": 169,
    "start_time": "2024-09-01T14:23:01.913Z"
   },
   {
    "duration": 11,
    "start_time": "2024-09-01T14:23:48.337Z"
   },
   {
    "duration": 2588,
    "start_time": "2024-09-01T14:23:55.586Z"
   },
   {
    "duration": 237,
    "start_time": "2024-09-01T14:23:58.176Z"
   },
   {
    "duration": 16,
    "start_time": "2024-09-01T14:23:58.415Z"
   },
   {
    "duration": 60,
    "start_time": "2024-09-01T14:23:58.434Z"
   },
   {
    "duration": 19,
    "start_time": "2024-09-01T14:23:58.496Z"
   },
   {
    "duration": 26,
    "start_time": "2024-09-01T14:23:58.516Z"
   },
   {
    "duration": 35,
    "start_time": "2024-09-01T14:23:58.544Z"
   },
   {
    "duration": 14,
    "start_time": "2024-09-01T14:23:58.580Z"
   },
   {
    "duration": 8,
    "start_time": "2024-09-01T14:23:58.595Z"
   },
   {
    "duration": 3,
    "start_time": "2024-09-01T14:23:58.631Z"
   },
   {
    "duration": 8,
    "start_time": "2024-09-01T14:23:58.636Z"
   },
   {
    "duration": 13,
    "start_time": "2024-09-01T14:23:58.645Z"
   },
   {
    "duration": 47,
    "start_time": "2024-09-01T14:23:58.660Z"
   },
   {
    "duration": 37,
    "start_time": "2024-09-01T14:23:58.708Z"
   },
   {
    "duration": 8,
    "start_time": "2024-09-01T14:23:58.747Z"
   },
   {
    "duration": 27,
    "start_time": "2024-09-01T14:23:58.757Z"
   },
   {
    "duration": 8,
    "start_time": "2024-09-01T14:23:58.786Z"
   },
   {
    "duration": 46,
    "start_time": "2024-09-01T14:23:58.796Z"
   },
   {
    "duration": 9,
    "start_time": "2024-09-01T14:23:58.844Z"
   },
   {
    "duration": 4,
    "start_time": "2024-09-01T14:23:58.855Z"
   },
   {
    "duration": 5,
    "start_time": "2024-09-01T14:23:58.861Z"
   },
   {
    "duration": 4,
    "start_time": "2024-09-01T14:23:58.869Z"
   },
   {
    "duration": 5,
    "start_time": "2024-09-01T14:23:58.874Z"
   },
   {
    "duration": 10,
    "start_time": "2024-09-01T14:23:58.881Z"
   },
   {
    "duration": 46,
    "start_time": "2024-09-01T14:23:58.894Z"
   },
   {
    "duration": 38,
    "start_time": "2024-09-01T14:23:58.942Z"
   },
   {
    "duration": 10,
    "start_time": "2024-09-01T14:23:58.981Z"
   },
   {
    "duration": 82,
    "start_time": "2024-09-01T14:23:58.996Z"
   },
   {
    "duration": 8,
    "start_time": "2024-09-01T14:23:59.080Z"
   },
   {
    "duration": 43,
    "start_time": "2024-09-01T14:23:59.089Z"
   },
   {
    "duration": 8,
    "start_time": "2024-09-01T14:23:59.134Z"
   },
   {
    "duration": 7,
    "start_time": "2024-09-01T14:23:59.144Z"
   },
   {
    "duration": 22,
    "start_time": "2024-09-01T14:23:59.153Z"
   },
   {
    "duration": 22,
    "start_time": "2024-09-01T14:23:59.177Z"
   },
   {
    "duration": 2,
    "start_time": "2024-09-01T14:23:59.232Z"
   },
   {
    "duration": 9,
    "start_time": "2024-09-01T14:23:59.235Z"
   },
   {
    "duration": 3,
    "start_time": "2024-09-01T14:23:59.246Z"
   },
   {
    "duration": 23,
    "start_time": "2024-09-01T14:23:59.250Z"
   },
   {
    "duration": 27,
    "start_time": "2024-09-01T14:23:59.275Z"
   },
   {
    "duration": 15,
    "start_time": "2024-09-01T14:23:59.331Z"
   },
   {
    "duration": 16,
    "start_time": "2024-09-01T14:23:59.347Z"
   },
   {
    "duration": 9,
    "start_time": "2024-09-01T14:23:59.364Z"
   },
   {
    "duration": 19,
    "start_time": "2024-09-01T14:23:59.375Z"
   },
   {
    "duration": 42,
    "start_time": "2024-09-01T14:23:59.396Z"
   },
   {
    "duration": 19,
    "start_time": "2024-09-01T14:23:59.440Z"
   },
   {
    "duration": 6,
    "start_time": "2024-09-01T14:23:59.461Z"
   },
   {
    "duration": 3,
    "start_time": "2024-09-01T14:23:59.469Z"
   },
   {
    "duration": 15,
    "start_time": "2024-09-01T14:23:59.474Z"
   },
   {
    "duration": 7,
    "start_time": "2024-09-01T14:23:59.491Z"
   },
   {
    "duration": 39,
    "start_time": "2024-09-01T14:23:59.499Z"
   },
   {
    "duration": 17,
    "start_time": "2024-09-01T14:23:59.539Z"
   },
   {
    "duration": 79,
    "start_time": "2024-09-01T14:23:59.559Z"
   },
   {
    "duration": 16,
    "start_time": "2024-09-01T14:23:59.640Z"
   },
   {
    "duration": 856,
    "start_time": "2024-09-01T14:23:59.657Z"
   },
   {
    "duration": 0,
    "start_time": "2024-09-01T14:24:00.515Z"
   },
   {
    "duration": 0,
    "start_time": "2024-09-01T14:24:00.516Z"
   },
   {
    "duration": 0,
    "start_time": "2024-09-01T14:24:00.517Z"
   },
   {
    "duration": 0,
    "start_time": "2024-09-01T14:24:00.518Z"
   },
   {
    "duration": 0,
    "start_time": "2024-09-01T14:24:00.519Z"
   },
   {
    "duration": 0,
    "start_time": "2024-09-01T14:24:00.533Z"
   },
   {
    "duration": 0,
    "start_time": "2024-09-01T14:24:00.534Z"
   },
   {
    "duration": 0,
    "start_time": "2024-09-01T14:24:00.535Z"
   },
   {
    "duration": 0,
    "start_time": "2024-09-01T14:24:00.536Z"
   },
   {
    "duration": 0,
    "start_time": "2024-09-01T14:24:00.537Z"
   },
   {
    "duration": 0,
    "start_time": "2024-09-01T14:24:00.538Z"
   },
   {
    "duration": 0,
    "start_time": "2024-09-01T14:24:00.539Z"
   },
   {
    "duration": 0,
    "start_time": "2024-09-01T14:24:00.540Z"
   },
   {
    "duration": 0,
    "start_time": "2024-09-01T14:24:00.541Z"
   },
   {
    "duration": 0,
    "start_time": "2024-09-01T14:24:00.542Z"
   },
   {
    "duration": 0,
    "start_time": "2024-09-01T14:24:00.543Z"
   },
   {
    "duration": 0,
    "start_time": "2024-09-01T14:24:00.544Z"
   },
   {
    "duration": 0,
    "start_time": "2024-09-01T14:24:00.545Z"
   },
   {
    "duration": 0,
    "start_time": "2024-09-01T14:24:00.546Z"
   },
   {
    "duration": 0,
    "start_time": "2024-09-01T14:24:00.547Z"
   },
   {
    "duration": 0,
    "start_time": "2024-09-01T14:24:00.548Z"
   },
   {
    "duration": 0,
    "start_time": "2024-09-01T14:24:00.550Z"
   },
   {
    "duration": 0,
    "start_time": "2024-09-01T14:24:00.551Z"
   },
   {
    "duration": 0,
    "start_time": "2024-09-01T14:24:00.552Z"
   },
   {
    "duration": 0,
    "start_time": "2024-09-01T14:24:00.553Z"
   },
   {
    "duration": 0,
    "start_time": "2024-09-01T14:24:00.554Z"
   },
   {
    "duration": 0,
    "start_time": "2024-09-01T14:24:00.555Z"
   },
   {
    "duration": 0,
    "start_time": "2024-09-01T14:24:00.556Z"
   },
   {
    "duration": 3341,
    "start_time": "2024-09-01T14:24:41.482Z"
   },
   {
    "duration": 18,
    "start_time": "2024-09-01T14:25:18.662Z"
   },
   {
    "duration": 3408,
    "start_time": "2024-09-01T14:25:25.684Z"
   },
   {
    "duration": 259,
    "start_time": "2024-09-01T14:25:34.033Z"
   },
   {
    "duration": 3485,
    "start_time": "2024-09-01T14:25:58.001Z"
   },
   {
    "duration": 470,
    "start_time": "2024-09-01T14:28:38.195Z"
   },
   {
    "duration": 3587,
    "start_time": "2024-09-01T14:28:38.745Z"
   },
   {
    "duration": 28,
    "start_time": "2024-09-01T14:28:44.944Z"
   },
   {
    "duration": 29,
    "start_time": "2024-09-01T14:28:55.157Z"
   },
   {
    "duration": 28,
    "start_time": "2024-09-01T14:29:20.356Z"
   },
   {
    "duration": 3627,
    "start_time": "2024-09-01T14:29:42.414Z"
   },
   {
    "duration": 11,
    "start_time": "2024-09-01T14:29:55.736Z"
   },
   {
    "duration": 4,
    "start_time": "2024-09-01T14:30:28.894Z"
   },
   {
    "duration": 16,
    "start_time": "2024-09-01T14:32:25.891Z"
   },
   {
    "duration": 366,
    "start_time": "2024-09-01T14:32:47.098Z"
   },
   {
    "duration": 243,
    "start_time": "2024-09-01T14:33:56.564Z"
   },
   {
    "duration": 272,
    "start_time": "2024-09-01T14:34:13.503Z"
   },
   {
    "duration": 14,
    "start_time": "2024-09-01T14:34:24.455Z"
   },
   {
    "duration": 11,
    "start_time": "2024-09-01T14:34:26.730Z"
   },
   {
    "duration": 242,
    "start_time": "2024-09-01T14:34:31.169Z"
   },
   {
    "duration": 318,
    "start_time": "2024-09-01T14:34:43.909Z"
   },
   {
    "duration": 18,
    "start_time": "2024-09-01T14:35:07.241Z"
   },
   {
    "duration": 12,
    "start_time": "2024-09-01T14:35:20.958Z"
   },
   {
    "duration": 16,
    "start_time": "2024-09-01T14:37:03.643Z"
   },
   {
    "duration": 10,
    "start_time": "2024-09-01T14:37:36.302Z"
   },
   {
    "duration": 312,
    "start_time": "2024-09-01T14:37:50.643Z"
   },
   {
    "duration": 193,
    "start_time": "2024-09-01T14:37:59.138Z"
   },
   {
    "duration": 274,
    "start_time": "2024-09-01T14:38:05.294Z"
   },
   {
    "duration": 13,
    "start_time": "2024-09-01T14:38:30.411Z"
   },
   {
    "duration": 372,
    "start_time": "2024-09-01T14:38:48.790Z"
   },
   {
    "duration": 263,
    "start_time": "2024-09-01T14:39:11.925Z"
   },
   {
    "duration": 269,
    "start_time": "2024-09-01T14:39:17.764Z"
   },
   {
    "duration": 10,
    "start_time": "2024-09-01T14:44:06.106Z"
   },
   {
    "duration": 16,
    "start_time": "2024-09-01T14:44:17.185Z"
   },
   {
    "duration": 14,
    "start_time": "2024-09-01T14:44:17.673Z"
   },
   {
    "duration": 868,
    "start_time": "2024-09-01T15:00:25.452Z"
   },
   {
    "duration": 160,
    "start_time": "2024-09-01T15:00:26.322Z"
   },
   {
    "duration": 16,
    "start_time": "2024-09-01T15:00:26.484Z"
   },
   {
    "duration": 61,
    "start_time": "2024-09-01T15:00:26.502Z"
   },
   {
    "duration": 19,
    "start_time": "2024-09-01T15:00:26.565Z"
   },
   {
    "duration": 12,
    "start_time": "2024-09-01T15:00:26.586Z"
   },
   {
    "duration": 54,
    "start_time": "2024-09-01T15:00:26.600Z"
   },
   {
    "duration": 13,
    "start_time": "2024-09-01T15:00:26.655Z"
   },
   {
    "duration": 8,
    "start_time": "2024-09-01T15:00:26.669Z"
   },
   {
    "duration": 3,
    "start_time": "2024-09-01T15:00:26.680Z"
   },
   {
    "duration": 8,
    "start_time": "2024-09-01T15:00:26.685Z"
   },
   {
    "duration": 43,
    "start_time": "2024-09-01T15:00:26.694Z"
   },
   {
    "duration": 47,
    "start_time": "2024-09-01T15:00:26.738Z"
   },
   {
    "duration": 16,
    "start_time": "2024-09-01T15:00:26.787Z"
   },
   {
    "duration": 27,
    "start_time": "2024-09-01T15:00:26.805Z"
   },
   {
    "duration": 25,
    "start_time": "2024-09-01T15:00:26.833Z"
   },
   {
    "duration": 7,
    "start_time": "2024-09-01T15:00:26.861Z"
   },
   {
    "duration": 14,
    "start_time": "2024-09-01T15:00:26.870Z"
   },
   {
    "duration": 9,
    "start_time": "2024-09-01T15:00:26.886Z"
   },
   {
    "duration": 35,
    "start_time": "2024-09-01T15:00:26.896Z"
   },
   {
    "duration": 3,
    "start_time": "2024-09-01T15:00:26.933Z"
   },
   {
    "duration": 4,
    "start_time": "2024-09-01T15:00:26.938Z"
   },
   {
    "duration": 4,
    "start_time": "2024-09-01T15:00:26.944Z"
   },
   {
    "duration": 9,
    "start_time": "2024-09-01T15:00:26.950Z"
   },
   {
    "duration": 10,
    "start_time": "2024-09-01T15:00:26.962Z"
   },
   {
    "duration": 65,
    "start_time": "2024-09-01T15:00:26.973Z"
   },
   {
    "duration": 9,
    "start_time": "2024-09-01T15:00:27.040Z"
   },
   {
    "duration": 77,
    "start_time": "2024-09-01T15:00:27.055Z"
   },
   {
    "duration": 7,
    "start_time": "2024-09-01T15:00:27.134Z"
   },
   {
    "duration": 34,
    "start_time": "2024-09-01T15:00:27.143Z"
   },
   {
    "duration": 11,
    "start_time": "2024-09-01T15:00:27.179Z"
   },
   {
    "duration": 7,
    "start_time": "2024-09-01T15:00:27.192Z"
   },
   {
    "duration": 52,
    "start_time": "2024-09-01T15:00:27.200Z"
   },
   {
    "duration": 22,
    "start_time": "2024-09-01T15:00:27.254Z"
   },
   {
    "duration": 4,
    "start_time": "2024-09-01T15:00:27.278Z"
   },
   {
    "duration": 12,
    "start_time": "2024-09-01T15:00:27.283Z"
   },
   {
    "duration": 3,
    "start_time": "2024-09-01T15:00:27.296Z"
   },
   {
    "duration": 44,
    "start_time": "2024-09-01T15:00:27.301Z"
   },
   {
    "duration": 27,
    "start_time": "2024-09-01T15:00:27.347Z"
   },
   {
    "duration": 14,
    "start_time": "2024-09-01T15:00:27.376Z"
   },
   {
    "duration": 40,
    "start_time": "2024-09-01T15:00:27.392Z"
   },
   {
    "duration": 8,
    "start_time": "2024-09-01T15:00:27.434Z"
   },
   {
    "duration": 18,
    "start_time": "2024-09-01T15:00:27.444Z"
   },
   {
    "duration": 19,
    "start_time": "2024-09-01T15:00:27.463Z"
   },
   {
    "duration": 18,
    "start_time": "2024-09-01T15:00:27.483Z"
   },
   {
    "duration": 30,
    "start_time": "2024-09-01T15:00:27.503Z"
   },
   {
    "duration": 4,
    "start_time": "2024-09-01T15:00:27.536Z"
   },
   {
    "duration": 12,
    "start_time": "2024-09-01T15:00:27.541Z"
   },
   {
    "duration": 7,
    "start_time": "2024-09-01T15:00:27.555Z"
   },
   {
    "duration": 7,
    "start_time": "2024-09-01T15:00:27.564Z"
   },
   {
    "duration": 18,
    "start_time": "2024-09-01T15:00:27.572Z"
   },
   {
    "duration": 114,
    "start_time": "2024-09-01T15:00:27.592Z"
   },
   {
    "duration": 8,
    "start_time": "2024-09-01T15:00:27.708Z"
   },
   {
    "duration": 23,
    "start_time": "2024-09-01T15:00:27.718Z"
   },
   {
    "duration": 341,
    "start_time": "2024-09-01T15:00:27.743Z"
   },
   {
    "duration": 319,
    "start_time": "2024-09-01T15:00:28.085Z"
   },
   {
    "duration": 13,
    "start_time": "2024-09-01T15:00:28.406Z"
   },
   {
    "duration": 9,
    "start_time": "2024-09-01T15:00:28.431Z"
   },
   {
    "duration": 288,
    "start_time": "2024-09-01T15:00:28.442Z"
   },
   {
    "duration": 11,
    "start_time": "2024-09-01T15:00:28.732Z"
   },
   {
    "duration": 329,
    "start_time": "2024-09-01T15:00:28.745Z"
   },
   {
    "duration": 233,
    "start_time": "2024-09-01T15:00:29.076Z"
   },
   {
    "duration": 206,
    "start_time": "2024-09-01T15:00:29.332Z"
   },
   {
    "duration": 279,
    "start_time": "2024-09-01T15:00:29.540Z"
   },
   {
    "duration": 18,
    "start_time": "2024-09-01T15:00:29.821Z"
   },
   {
    "duration": 12,
    "start_time": "2024-09-01T15:00:29.840Z"
   },
   {
    "duration": 339,
    "start_time": "2024-09-01T15:00:29.853Z"
   },
   {
    "duration": 279,
    "start_time": "2024-09-01T15:00:30.194Z"
   },
   {
    "duration": 271,
    "start_time": "2024-09-01T15:00:30.474Z"
   },
   {
    "duration": 11,
    "start_time": "2024-09-01T15:00:30.747Z"
   },
   {
    "duration": 16,
    "start_time": "2024-09-01T15:00:30.761Z"
   },
   {
    "duration": 13,
    "start_time": "2024-09-01T15:00:30.779Z"
   },
   {
    "duration": 8,
    "start_time": "2024-09-01T15:00:30.793Z"
   },
   {
    "duration": 35,
    "start_time": "2024-09-01T15:00:30.802Z"
   },
   {
    "duration": 5,
    "start_time": "2024-09-01T15:00:30.839Z"
   },
   {
    "duration": 5,
    "start_time": "2024-09-01T15:00:30.845Z"
   },
   {
    "duration": 5,
    "start_time": "2024-09-01T15:00:30.851Z"
   },
   {
    "duration": 27,
    "start_time": "2024-09-01T15:00:30.857Z"
   },
   {
    "duration": 5,
    "start_time": "2024-09-01T15:00:30.886Z"
   },
   {
    "duration": 38,
    "start_time": "2024-09-01T15:00:30.893Z"
   },
   {
    "duration": 6,
    "start_time": "2024-09-01T15:00:30.933Z"
   },
   {
    "duration": 3,
    "start_time": "2024-09-01T15:00:30.945Z"
   },
   {
    "duration": 330,
    "start_time": "2024-09-01T15:10:36.766Z"
   },
   {
    "duration": 15,
    "start_time": "2024-09-01T15:38:18.146Z"
   },
   {
    "duration": 12,
    "start_time": "2024-09-01T15:38:44.426Z"
   },
   {
    "duration": 26,
    "start_time": "2024-09-01T15:39:08.554Z"
   },
   {
    "duration": 27,
    "start_time": "2024-09-01T15:39:26.359Z"
   },
   {
    "duration": 298,
    "start_time": "2024-09-01T15:39:31.034Z"
   },
   {
    "duration": 26,
    "start_time": "2024-09-01T15:39:34.512Z"
   },
   {
    "duration": 26,
    "start_time": "2024-09-01T15:40:18.925Z"
   },
   {
    "duration": 8,
    "start_time": "2024-09-01T15:40:24.670Z"
   },
   {
    "duration": 5,
    "start_time": "2024-09-01T15:40:31.823Z"
   },
   {
    "duration": 7,
    "start_time": "2024-09-01T15:40:54.328Z"
   },
   {
    "duration": 817,
    "start_time": "2024-09-01T15:51:12.000Z"
   },
   {
    "duration": 160,
    "start_time": "2024-09-01T15:51:12.820Z"
   },
   {
    "duration": 16,
    "start_time": "2024-09-01T15:51:12.982Z"
   },
   {
    "duration": 60,
    "start_time": "2024-09-01T15:51:13.001Z"
   },
   {
    "duration": 19,
    "start_time": "2024-09-01T15:51:13.063Z"
   },
   {
    "duration": 12,
    "start_time": "2024-09-01T15:51:13.084Z"
   },
   {
    "duration": 53,
    "start_time": "2024-09-01T15:51:13.098Z"
   },
   {
    "duration": 13,
    "start_time": "2024-09-01T15:51:13.153Z"
   },
   {
    "duration": 11,
    "start_time": "2024-09-01T15:51:13.168Z"
   },
   {
    "duration": 8,
    "start_time": "2024-09-01T15:51:13.183Z"
   },
   {
    "duration": 11,
    "start_time": "2024-09-01T15:51:13.194Z"
   },
   {
    "duration": 35,
    "start_time": "2024-09-01T15:51:13.207Z"
   },
   {
    "duration": 47,
    "start_time": "2024-09-01T15:51:13.244Z"
   },
   {
    "duration": 16,
    "start_time": "2024-09-01T15:51:13.293Z"
   },
   {
    "duration": 23,
    "start_time": "2024-09-01T15:51:13.310Z"
   },
   {
    "duration": 26,
    "start_time": "2024-09-01T15:51:13.335Z"
   },
   {
    "duration": 8,
    "start_time": "2024-09-01T15:51:13.362Z"
   },
   {
    "duration": 15,
    "start_time": "2024-09-01T15:51:13.371Z"
   },
   {
    "duration": 8,
    "start_time": "2024-09-01T15:51:13.388Z"
   },
   {
    "duration": 4,
    "start_time": "2024-09-01T15:51:13.431Z"
   },
   {
    "duration": 4,
    "start_time": "2024-09-01T15:51:13.437Z"
   },
   {
    "duration": 4,
    "start_time": "2024-09-01T15:51:13.442Z"
   },
   {
    "duration": 3,
    "start_time": "2024-09-01T15:51:13.448Z"
   },
   {
    "duration": 8,
    "start_time": "2024-09-01T15:51:13.453Z"
   },
   {
    "duration": 10,
    "start_time": "2024-09-01T15:51:13.463Z"
   },
   {
    "duration": 69,
    "start_time": "2024-09-01T15:51:13.475Z"
   },
   {
    "duration": 9,
    "start_time": "2024-09-01T15:51:13.546Z"
   },
   {
    "duration": 77,
    "start_time": "2024-09-01T15:51:13.559Z"
   },
   {
    "duration": 7,
    "start_time": "2024-09-01T15:51:13.638Z"
   },
   {
    "duration": 31,
    "start_time": "2024-09-01T15:51:13.647Z"
   },
   {
    "duration": 9,
    "start_time": "2024-09-01T15:51:13.680Z"
   },
   {
    "duration": 6,
    "start_time": "2024-09-01T15:51:13.691Z"
   },
   {
    "duration": 44,
    "start_time": "2024-09-01T15:51:13.699Z"
   },
   {
    "duration": 21,
    "start_time": "2024-09-01T15:51:13.746Z"
   },
   {
    "duration": 2,
    "start_time": "2024-09-01T15:51:13.769Z"
   },
   {
    "duration": 9,
    "start_time": "2024-09-01T15:51:13.773Z"
   },
   {
    "duration": 2,
    "start_time": "2024-09-01T15:51:13.785Z"
   },
   {
    "duration": 52,
    "start_time": "2024-09-01T15:51:13.789Z"
   },
   {
    "duration": 26,
    "start_time": "2024-09-01T15:51:13.843Z"
   },
   {
    "duration": 13,
    "start_time": "2024-09-01T15:51:13.871Z"
   },
   {
    "duration": 15,
    "start_time": "2024-09-01T15:51:13.886Z"
   },
   {
    "duration": 35,
    "start_time": "2024-09-01T15:51:13.903Z"
   },
   {
    "duration": 18,
    "start_time": "2024-09-01T15:51:13.941Z"
   },
   {
    "duration": 19,
    "start_time": "2024-09-01T15:51:13.961Z"
   },
   {
    "duration": 18,
    "start_time": "2024-09-01T15:51:13.982Z"
   },
   {
    "duration": 36,
    "start_time": "2024-09-01T15:51:14.002Z"
   },
   {
    "duration": 4,
    "start_time": "2024-09-01T15:51:14.040Z"
   },
   {
    "duration": 13,
    "start_time": "2024-09-01T15:51:14.046Z"
   },
   {
    "duration": 8,
    "start_time": "2024-09-01T15:51:14.060Z"
   },
   {
    "duration": 7,
    "start_time": "2024-09-01T15:51:14.070Z"
   },
   {
    "duration": 19,
    "start_time": "2024-09-01T15:51:14.079Z"
   },
   {
    "duration": 99,
    "start_time": "2024-09-01T15:51:14.099Z"
   },
   {
    "duration": 8,
    "start_time": "2024-09-01T15:51:14.200Z"
   },
   {
    "duration": 27,
    "start_time": "2024-09-01T15:51:14.210Z"
   },
   {
    "duration": 342,
    "start_time": "2024-09-01T15:51:14.239Z"
   },
   {
    "duration": 322,
    "start_time": "2024-09-01T15:51:14.583Z"
   },
   {
    "duration": 25,
    "start_time": "2024-09-01T15:51:14.906Z"
   },
   {
    "duration": 8,
    "start_time": "2024-09-01T15:51:14.933Z"
   },
   {
    "duration": 278,
    "start_time": "2024-09-01T15:51:14.943Z"
   },
   {
    "duration": 16,
    "start_time": "2024-09-01T15:51:15.223Z"
   },
   {
    "duration": 333,
    "start_time": "2024-09-01T15:51:15.241Z"
   },
   {
    "duration": 234,
    "start_time": "2024-09-01T15:51:15.577Z"
   },
   {
    "duration": 218,
    "start_time": "2024-09-01T15:51:15.813Z"
   },
   {
    "duration": 285,
    "start_time": "2024-09-01T15:51:16.033Z"
   },
   {
    "duration": 19,
    "start_time": "2024-09-01T15:51:16.319Z"
   },
   {
    "duration": 11,
    "start_time": "2024-09-01T15:51:16.339Z"
   },
   {
    "duration": 338,
    "start_time": "2024-09-01T15:51:16.351Z"
   },
   {
    "duration": 274,
    "start_time": "2024-09-01T15:51:16.691Z"
   },
   {
    "duration": 253,
    "start_time": "2024-09-01T15:51:16.967Z"
   },
   {
    "duration": 16,
    "start_time": "2024-09-01T15:51:17.222Z"
   },
   {
    "duration": 15,
    "start_time": "2024-09-01T15:51:17.240Z"
   },
   {
    "duration": 14,
    "start_time": "2024-09-01T15:51:17.256Z"
   },
   {
    "duration": 7,
    "start_time": "2024-09-01T15:51:17.272Z"
   },
   {
    "duration": 8,
    "start_time": "2024-09-01T15:51:17.280Z"
   },
   {
    "duration": 43,
    "start_time": "2024-09-01T15:51:17.290Z"
   },
   {
    "duration": 6,
    "start_time": "2024-09-01T15:51:17.335Z"
   },
   {
    "duration": 4,
    "start_time": "2024-09-01T15:51:17.343Z"
   },
   {
    "duration": 27,
    "start_time": "2024-09-01T15:51:17.351Z"
   },
   {
    "duration": 7,
    "start_time": "2024-09-01T15:51:17.380Z"
   },
   {
    "duration": 4,
    "start_time": "2024-09-01T15:51:17.389Z"
   },
   {
    "duration": 39,
    "start_time": "2024-09-01T15:51:17.395Z"
   },
   {
    "duration": 4,
    "start_time": "2024-09-01T15:51:17.439Z"
   }
  ],
  "kernelspec": {
   "name": "python3",
   "display_name": "Python 3",
   "language": "python"
  },
  "language_info": {
   "name": "python",
   "version": "3.10.4",
   "mimetype": "text/x-python",
   "codemirror_mode": {
    "name": "ipython",
    "version": 3
   },
   "pygments_lexer": "ipython3",
   "nbconvert_exporter": "python",
   "file_extension": ".py"
  },
  "toc": {
   "base_numbering": 1,
   "nav_menu": {},
   "number_sections": true,
   "sideBar": true,
   "skip_h1_title": false,
   "title_cell": "Table of Contents",
   "title_sidebar": "Contents",
   "toc_cell": false,
   "toc_position": {
    "height": "calc(100% - 180px)",
    "left": "10px",
    "top": "150px",
    "width": "252.6px"
   },
   "toc_section_display": true,
   "toc_window_display": true
  }
 },
 "nbformat": 4,
 "nbformat_minor": 2
}